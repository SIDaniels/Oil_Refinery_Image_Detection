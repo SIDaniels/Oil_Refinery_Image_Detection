{
  "cells": [
    {
      "cell_type": "code",
      "execution_count": 1,
      "metadata": {
        "id": "MGFdhtFSHMop"
      },
      "outputs": [],
      "source": [
        "import tensorflow as tf\n",
        "from tensorflow import keras\n",
        "from tensorflow.keras import layers\n",
        "from tensorflow.keras.applications import resnet\n",
        "from tensorflow.keras.applications.resnet50 import preprocess_input\n",
        "\n",
        "import glob\n",
        "\n",
        "#need to get \n",
        "import os\n",
        "import shutil\n",
        "\n",
        "from tensorflow.keras.applications.resnet import preprocess_input\n",
        "from tensorflow.keras.applications.resnet import ResNet152\n",
        "\n",
        "from keras.applications.resnet import ResNet50\n",
        "from keras.models import Model\n",
        "import keras\n",
        "\n",
        "import tensorflow.keras.applications.densenet as Densenet\n",
        "from tensorflow.keras.applications.densenet import preprocess_input\n",
        "\n",
        "from keras.layers import Activation, Dropout, Flatten, Dense, GlobalMaxPooling2D, GlobalAveragePooling2D\n",
        "from keras.models import Sequential,Model,load_model\n",
        "\n",
        "from keras.layers import Conv2D, MaxPooling2D, Flatten, Dense, Dropout, InputLayer\n",
        "from keras.models import Sequential\n",
        "from keras import optimizers\n",
        "\n",
        "import numpy as np\n",
        "import pandas as pd \n",
        "\n",
        "import matplotlib.pyplot as plt\n",
        "from keras.callbacks import EarlyStopping"
      ]
    },
    {
      "cell_type": "code",
      "execution_count": 5,
      "metadata": {
        "colab": {
          "base_uri": "https://localhost:8080/"
        },
        "id": "YS_9P3Dbp8Uz",
        "outputId": "51b6bbb8-2fd7-467c-8b29-bd571087a204"
      },
      "outputs": [
        {
          "name": "stdout",
          "output_type": "stream",
          "text": [
            "Wed Dec  7 22:47:48 2022       \n",
            "+-----------------------------------------------------------------------------+\n",
            "| NVIDIA-SMI 460.32.03    Driver Version: 460.32.03    CUDA Version: 11.2     |\n",
            "|-------------------------------+----------------------+----------------------+\n",
            "| GPU  Name        Persistence-M| Bus-Id        Disp.A | Volatile Uncorr. ECC |\n",
            "| Fan  Temp  Perf  Pwr:Usage/Cap|         Memory-Usage | GPU-Util  Compute M. |\n",
            "|                               |                      |               MIG M. |\n",
            "|===============================+======================+======================|\n",
            "|   0  Tesla T4            Off  | 00000000:00:04.0 Off |                    0 |\n",
            "| N/A   39C    P0    26W /  70W |      0MiB / 15109MiB |      0%      Default |\n",
            "|                               |                      |                  N/A |\n",
            "+-------------------------------+----------------------+----------------------+\n",
            "                                                                               \n",
            "+-----------------------------------------------------------------------------+\n",
            "| Processes:                                                                  |\n",
            "|  GPU   GI   CI        PID   Type   Process name                  GPU Memory |\n",
            "|        ID   ID                                                   Usage      |\n",
            "|=============================================================================|\n",
            "|  No running processes found                                                 |\n",
            "+-----------------------------------------------------------------------------+\n"
          ]
        }
      ],
      "source": [
        "gpu_info = !nvidia-smi\n",
        "gpu_info = '\\n'.join(gpu_info)\n",
        "if gpu_info.find('failed') >= 0:\n",
        "  print('Not connected to a GPU')\n",
        "else:\n",
        "  print(gpu_info)"
      ]
    },
    {
      "cell_type": "markdown",
      "metadata": {
        "id": "Cs_CpnxRSjg1"
      },
      "source": [
        "## Trying Random Oversampling\n",
        "\n",
        "\n"
      ]
    },
    {
      "cell_type": "code",
      "execution_count": 112,
      "metadata": {
        "id": "r9qDkw-AFT4K"
      },
      "outputs": [],
      "source": [
        "!mkdir ./OGNetDevelopmentData-2/train_ROS\n",
        "!mkdir ./OGNetDevelopmentData-2/train_ROS/class_0\n",
        "!mkdir ./OGNetDevelopmentData-2/train_ROS/class_1"
      ]
    },
    {
      "cell_type": "code",
      "execution_count": null,
      "metadata": {
        "id": "jvneqXDDuWAf"
      },
      "outputs": [],
      "source": [
        "#https://stackoverflow.com/questions/59952200/move-a-random-sample-of-files-from-one-folder-to-another\n",
        "import os\n",
        "import random\n",
        "import shutil"
      ]
    },
    {
      "cell_type": "code",
      "execution_count": 113,
      "metadata": {
        "id": "kjHRRHFZSipN"
      },
      "outputs": [],
      "source": [
        "source = '/content/OGNetDevelopmentData-2/train_images/class_1'\n",
        "dest = './OGNetDevelopmentData-2/train_ROS/class_1'\n",
        "#files = os.listdir(source)\n",
        "\n",
        "filenames = random.choices(os.listdir(source), k=2320) #have to do random.sample because I can get them to go into the folder otherwise\n",
        "\n",
        "#https://stackoverflow.com/questions/67308631/is-it-possible-to-make-multiple-copies-of-a-file-using-shutil-copy - this is not working perfectly\n",
        "\n",
        "#oversampling of training positive set\n",
        "i = 0\n",
        "for file_name in filenames:\n",
        "    shutil.copy(os.path.join(source,file_name), os.path.join(dest, f\"{i}_1.png\"))\n",
        "    i += 1\n"
      ]
    },
    {
      "cell_type": "code",
      "execution_count": 114,
      "metadata": {
        "id": "PntSuNAP_Xgl"
      },
      "outputs": [],
      "source": [
        " # Source path with original set of images\n",
        "source = \"/content/OGNetDevelopmentData-2/train_images/class_0/*_0.png\"\n",
        "  \n",
        "# Destination path for \n",
        "destination = \"/content/OGNetDevelopmentData-2/train_ROS/class_0\"\n",
        "files = glob.glob(source)\n",
        "\n",
        "# Copy normal images to destination folder\n",
        "\n",
        "for f in files:\n",
        "  shutil.copy(f, destination)"
      ]
    },
    {
      "cell_type": "code",
      "execution_count": null,
      "metadata": {
        "colab": {
          "base_uri": "https://localhost:8080/"
        },
        "id": "UlCuda7Fsp8_",
        "outputId": "e3f53ab1-3710-4a38-8dec-fcac38f949b2"
      },
      "outputs": [
        {
          "data": {
            "text/plain": [
              "2320"
            ]
          },
          "execution_count": 91,
          "metadata": {},
          "output_type": "execute_result"
        }
      ],
      "source": [
        "len(filenames)"
      ]
    },
    {
      "cell_type": "code",
      "execution_count": 162,
      "metadata": {
        "colab": {
          "base_uri": "https://localhost:8080/"
        },
        "id": "vBzcxHHcoHBx",
        "outputId": "59b656f5-89c9-4863-da8b-2a7321f87ffc"
      },
      "outputs": [
        {
          "name": "stdout",
          "output_type": "stream",
          "text": [
            "2320\n"
          ]
        }
      ],
      "source": [
        "!ls /content/OGNetDevelopmentData-2/train_ROS/class_1 | wc -l #close enough for now"
      ]
    },
    {
      "cell_type": "code",
      "execution_count": 163,
      "metadata": {
        "colab": {
          "base_uri": "https://localhost:8080/"
        },
        "id": "P2YnvJLlJxqq",
        "outputId": "439b5a74-a328-4955-fbdc-7eaa364ffc82"
      },
      "outputs": [
        {
          "name": "stdout",
          "output_type": "stream",
          "text": [
            "5525\n"
          ]
        }
      ],
      "source": [
        "!ls /content/OGNetDevelopmentData-2/train_ROS/class_0 | wc -l "
      ]
    },
    {
      "cell_type": "code",
      "execution_count": 164,
      "metadata": {
        "id": "gRYHsYZ3-6QY"
      },
      "outputs": [],
      "source": [
        "batch_size = 64\n",
        "img_height = 500\n",
        "img_width = 500"
      ]
    },
    {
      "cell_type": "code",
      "execution_count": 165,
      "metadata": {
        "colab": {
          "base_uri": "https://localhost:8080/"
        },
        "id": "e3VDwIqz-6QZ",
        "outputId": "0b2c7c99-2a93-4889-e8d6-1eb2770a57d2"
      },
      "outputs": [
        {
          "name": "stdout",
          "output_type": "stream",
          "text": [
            "Found 7845 files belonging to 2 classes.\n"
          ]
        }
      ],
      "source": [
        "#this is not a dataframe, it's some sort of an object that points to where the data lives (behaving more like generator)\n",
        "#https://www.tensorflow.org/tutorials/images/classification\n",
        "train_ds_f = tf.keras.utils.image_dataset_from_directory(\n",
        "  '/content/OGNetDevelopmentData-2/train_ROS',\n",
        "  #validation_split=0.2,\n",
        "  #subset=\"training\",\n",
        "  seed=123,\n",
        "  image_size=(img_height, img_width),\n",
        "  batch_size=batch_size)"
      ]
    },
    {
      "cell_type": "code",
      "execution_count": 134,
      "metadata": {
        "colab": {
          "base_uri": "https://localhost:8080/",
          "height": 489
        },
        "id": "GnHO8RW5Q5eb",
        "outputId": "db7adbbb-d639-42c6-c449-d3fa4fbf2374"
      },
      "outputs": [
        {
          "ename": "NameError",
          "evalue": "ignored",
          "output_type": "error",
          "traceback": [
            "\u001b[0;31m---------------------------------------------------------------------------\u001b[0m",
            "\u001b[0;31mNameError\u001b[0m                                 Traceback (most recent call last)",
            "\u001b[0;32m<ipython-input-134-3c62994a1e82>\u001b[0m in \u001b[0;36m<module>\u001b[0;34m\u001b[0m\n\u001b[1;32m      6\u001b[0m     \u001b[0max\u001b[0m \u001b[0;34m=\u001b[0m \u001b[0mplt\u001b[0m\u001b[0;34m.\u001b[0m\u001b[0msubplot\u001b[0m\u001b[0;34m(\u001b[0m\u001b[0;36m4\u001b[0m\u001b[0;34m,\u001b[0m \u001b[0;36m4\u001b[0m\u001b[0;34m,\u001b[0m \u001b[0mi\u001b[0m \u001b[0;34m+\u001b[0m \u001b[0;36m1\u001b[0m\u001b[0;34m)\u001b[0m\u001b[0;34m\u001b[0m\u001b[0;34m\u001b[0m\u001b[0m\n\u001b[1;32m      7\u001b[0m     \u001b[0mplt\u001b[0m\u001b[0;34m.\u001b[0m\u001b[0mimshow\u001b[0m\u001b[0;34m(\u001b[0m\u001b[0mimages\u001b[0m\u001b[0;34m[\u001b[0m\u001b[0mi\u001b[0m\u001b[0;34m]\u001b[0m\u001b[0;34m.\u001b[0m\u001b[0mnumpy\u001b[0m\u001b[0;34m(\u001b[0m\u001b[0;34m)\u001b[0m\u001b[0;34m.\u001b[0m\u001b[0mastype\u001b[0m\u001b[0;34m(\u001b[0m\u001b[0;34m\"uint8\"\u001b[0m\u001b[0;34m)\u001b[0m\u001b[0;34m)\u001b[0m\u001b[0;34m\u001b[0m\u001b[0;34m\u001b[0m\u001b[0m\n\u001b[0;32m----> 8\u001b[0;31m     \u001b[0mplt\u001b[0m\u001b[0;34m.\u001b[0m\u001b[0mtitle\u001b[0m\u001b[0;34m(\u001b[0m\u001b[0mclass_names\u001b[0m\u001b[0;34m[\u001b[0m\u001b[0mlabels\u001b[0m\u001b[0;34m[\u001b[0m\u001b[0mi\u001b[0m\u001b[0;34m]\u001b[0m\u001b[0;34m]\u001b[0m\u001b[0;34m)\u001b[0m\u001b[0;34m\u001b[0m\u001b[0;34m\u001b[0m\u001b[0m\n\u001b[0m\u001b[1;32m      9\u001b[0m     \u001b[0mplt\u001b[0m\u001b[0;34m.\u001b[0m\u001b[0maxis\u001b[0m\u001b[0;34m(\u001b[0m\u001b[0;34m\"off\"\u001b[0m\u001b[0;34m)\u001b[0m\u001b[0;34m\u001b[0m\u001b[0;34m\u001b[0m\u001b[0m\n",
            "\u001b[0;31mNameError\u001b[0m: name 'class_names' is not defined"
          ]
        },
        {
          "data": {
            "image/png": "[encoded data removed]",
            "text/plain": [
              "<Figure size 1440x1440 with 1 Axes>"
            ]
          },
          "metadata": {
            "needs_background": "light"
          },
          "output_type": "display_data"
        }
      ],
      "source": [
        "#need to ask about this code below:\n",
        "plt.figure(figsize=(20, 20))\n",
        "for images, labels in train_ds_f.take(1):\n",
        "  for i in range(16):\n",
        "    x=images\n",
        "    ax = plt.subplot(4, 4, i + 1)\n",
        "    plt.imshow(images[i].numpy().astype(\"uint8\"))\n",
        "    plt.title(class_names[labels[i]])\n",
        "    plt.axis(\"off\")"
      ]
    },
    {
      "cell_type": "code",
      "execution_count": 166,
      "metadata": {
        "colab": {
          "base_uri": "https://localhost:8080/"
        },
        "id": "_Ey5DIfK-6QZ",
        "outputId": "b8d3c25e-64fa-40ff-a526-7cea5a3a00ff"
      },
      "outputs": [
        {
          "name": "stdout",
          "output_type": "stream",
          "text": [
            "Found 708 files belonging to 2 classes.\n"
          ]
        }
      ],
      "source": [
        "#this is not a dataframe, it's some sort of an object that points to where the data lives (behaving more like generator)\n",
        "#https://www.tensorflow.org/tutorials/images/classification\n",
        "val_ds_f = tf.keras.utils.image_dataset_from_directory(\n",
        "  '/content/OGNetDevelopmentData-2/val_images',\n",
        "  #validation_split=0.2,\n",
        "  #subset=\"training\",\n",
        "  seed=123,\n",
        "  image_size=(img_height, img_width),\n",
        "  batch_size=batch_size)"
      ]
    },
    {
      "cell_type": "code",
      "execution_count": 167,
      "metadata": {
        "colab": {
          "base_uri": "https://localhost:8080/"
        },
        "id": "DPeH10e--6QZ",
        "outputId": "92ea7431-303e-444f-fad6-1f8faa4803a8"
      },
      "outputs": [
        {
          "name": "stdout",
          "output_type": "stream",
          "text": [
            "Found 704 files belonging to 2 classes.\n"
          ]
        }
      ],
      "source": [
        "#this is not a dataframe, it's some sort of an object that points to where the data lives (behaving more like generator)\n",
        "#https://www.tensorflow.org/tutorials/images/classification\n",
        "test_ds_f = tf.keras.utils.image_dataset_from_directory(\n",
        "  '/content/OGNetDevelopmentData-2/test_images',\n",
        "  #validation_split=0.2,\n",
        "  #subset=\"training\",\n",
        "  seed=123,\n",
        "  image_size=(img_height, img_width),\n",
        "  batch_size=batch_size)"
      ]
    },
    {
      "cell_type": "code",
      "execution_count": 168,
      "metadata": {
        "id": "LYnqbhXq-6QZ"
      },
      "outputs": [],
      "source": [
        "size=(224,224)"
      ]
    },
    {
      "cell_type": "code",
      "execution_count": 169,
      "metadata": {
        "id": "U525ugI5-6QZ"
      },
      "outputs": [],
      "source": [
        "#from tensorflow\n",
        "from tensorflow.image import resize\n",
        "train_ds_f = train_ds_f.map(lambda x, y: (tf.image.resize(x, size), y))\n",
        "val_ds_f = val_ds_f.map(lambda x, y: (tf.image.resize(x, size), y))\n",
        "test_ds_f = test_ds_f.map(lambda x, y: (tf.image.resize(x, size), y))\n"
      ]
    },
    {
      "cell_type": "code",
      "execution_count": 170,
      "metadata": {
        "id": "kCLlun5Y-6QZ"
      },
      "outputs": [],
      "source": [
        "#https://www.tensorflow.org/tutorials/images/classification\n",
        "AUTOTUNE = tf.data.AUTOTUNE\n",
        "\n",
        "train_ds_prefetch_f = train_ds_f.cache().prefetch(buffer_size=AUTOTUNE)\n",
        "val_ds_prefetch_f = val_ds_f.cache().prefetch(buffer_size=AUTOTUNE)\n",
        "test_ds_prefetch_f = test_ds_f.cache().prefetch(buffer_size=AUTOTUNE)"
      ]
    },
    {
      "cell_type": "markdown",
      "metadata": {
        "id": "PVY_MspJONoO"
      },
      "source": [
        "### ResNets50 (w/Random oversampling)"
      ]
    },
    {
      "cell_type": "code",
      "execution_count": 171,
      "metadata": {
        "id": "tap7wcsQ-6QZ"
      },
      "outputs": [],
      "source": [
        "resnet_preproc_layer = tf.keras.applications.resnet50.preprocess_input\n",
        "resnet_train_ds_f = train_ds_prefetch_f.map(lambda x, y: (resnet_preproc_layer(x), y))\n",
        "resnet_val_ds_f =val_ds_prefetch_f.map(lambda x, y: (resnet_preproc_layer(x), y))\n",
        "resnet_test_ds_f = test_ds_prefetch_f.map(lambda x, y: (resnet_preproc_layer(x), y))"
      ]
    },
    {
      "cell_type": "code",
      "execution_count": 172,
      "metadata": {
        "id": "OgmHMFLT-6QZ"
      },
      "outputs": [],
      "source": [
        "normalization_layer = layers.Rescaling(1./224)\n",
        "normalized_train_ds_f = resnet_train_ds_f.map(lambda x, y: (normalization_layer(x), y))\n",
        "normalized_val_ds_f =resnet_val_ds_f.map(lambda x, y: (normalization_layer(x), y))\n",
        "normalized_test_ds_f = resnet_test_ds_f.map(lambda x, y: (normalization_layer(x), y))"
      ]
    },
    {
      "cell_type": "code",
      "execution_count": null,
      "metadata": {
        "id": "R58Uk0muDUDR"
      },
      "outputs": [],
      "source": [
        "data_augmentation_adam = keras.Sequential(\n",
        "    [keras.layers.RandomFlip(\"horizontal\"), keras.layers.RandomRotation(0.1),]\n",
        ")"
      ]
    },
    {
      "cell_type": "code",
      "execution_count": null,
      "metadata": {
        "id": "LS8ug_XADUDS"
      },
      "outputs": [],
      "source": [
        "resnet_train_ds_f_aug_adam = train_ds_prefetch_f.map(lambda x, y: (data_augmentation_adam(x), y))\n"
      ]
    },
    {
      "cell_type": "code",
      "execution_count": null,
      "metadata": {
        "id": "1ctRuAUUDUDS"
      },
      "outputs": [],
      "source": [
        "resnet_train_ds_f_aug_adam = resnet_train_ds_f_aug_adam.map(lambda x, y: (resnet_preproc_layer(x), y))\n",
        "normalized_train_ds_f_aug_adam = resnet_train_ds_f_aug_adam.map(lambda x, y: (normalization_layer(x), y))"
      ]
    },
    {
      "cell_type": "code",
      "execution_count": null,
      "metadata": {
        "colab": {
          "base_uri": "https://localhost:8080/"
        },
        "id": "e31rMf6eCq9S",
        "outputId": "2cd1148d-bd3c-4f1a-cdb5-8db8835d0db3"
      },
      "outputs": [
        {
          "name": "stdout",
          "output_type": "stream",
          "text": [
            "Downloading data from https://storage.googleapis.com/tensorflow/keras-applications/resnet/resnet50_weights_tf_dim_ordering_tf_kernels_notop.h5\n",
            "94765736/94765736 [==============================] - 0s 0us/step\n"
          ]
        }
      ],
      "source": [
        "restnet = ResNet50(include_top=False, weights='imagenet', input_shape=(224,224,3))\n",
        "\n",
        "output = restnet.layers[-1].output #how does layer work if output isn't defined yet?\n",
        "output = keras.layers.Flatten()(output)\n",
        "restnet = Model(restnet.input, output)\n",
        "\n",
        "for layer in restnet.layers:\n",
        "    layer.trainable = False"
      ]
    },
    {
      "cell_type": "code",
      "execution_count": null,
      "metadata": {
        "id": "_NcpC3U6Cq9S"
      },
      "outputs": [],
      "source": [
        "model = Sequential()\n",
        "model.add(restnet)\n",
        "model.add(Dense(1, activation='sigmoid'))"
      ]
    },
    {
      "cell_type": "code",
      "execution_count": null,
      "metadata": {
        "id": "cG3mbHke-6Qa"
      },
      "outputs": [],
      "source": [
        "model.compile(loss='binary_crossentropy',\n",
        "              optimizer=keras.optimizers.Adam(),\n",
        "              metrics=[keras.metrics.BinaryAccuracy(), keras.metrics.Recall(), keras.metrics.Precision()])"
      ]
    },
    {
      "cell_type": "code",
      "execution_count": null,
      "metadata": {
        "colab": {
          "base_uri": "https://localhost:8080/"
        },
        "id": "eH0YRCcK-6Qa",
        "outputId": "c03e0ad8-8b79-4de1-a0fd-dfb184c526eb"
      },
      "outputs": [
        {
          "name": "stdout",
          "output_type": "stream",
          "text": [
            "Epoch 1/30\n",
            "246/246 [==============================] - 162s 590ms/step - loss: 0.6654 - binary_accuracy: 0.7289 - recall: 0.4172 - precision: 0.5554 - val_loss: 0.0949 - val_binary_accuracy: 0.9788 - val_recall: 0.0000e+00 - val_precision: 0.0000e+00\n",
            "Epoch 2/30\n",
            "246/246 [==============================] - 61s 247ms/step - loss: 0.4946 - binary_accuracy: 0.7665 - recall: 0.5009 - precision: 0.6329 - val_loss: 0.0965 - val_binary_accuracy: 0.9760 - val_recall: 0.0000e+00 - val_precision: 0.0000e+00\n",
            "Epoch 3/30\n",
            "246/246 [==============================] - 59s 241ms/step - loss: 0.4537 - binary_accuracy: 0.7871 - recall: 0.5500 - precision: 0.6709 - val_loss: 0.0903 - val_binary_accuracy: 0.9760 - val_recall: 0.0000e+00 - val_precision: 0.0000e+00\n",
            "Epoch 4/30\n",
            "246/246 [==============================] - 59s 239ms/step - loss: 0.4521 - binary_accuracy: 0.7927 - recall: 0.5642 - precision: 0.6804 - val_loss: 0.0901 - val_binary_accuracy: 0.9788 - val_recall: 0.0667 - val_precision: 0.5000\n",
            "Epoch 5/30\n",
            "246/246 [==============================] - 60s 245ms/step - loss: 0.4249 - binary_accuracy: 0.8087 - recall: 0.6009 - precision: 0.7080 - val_loss: 0.1506 - val_binary_accuracy: 0.9477 - val_recall: 0.2667 - val_precision: 0.1333\n",
            "Epoch 6/30\n",
            "246/246 [==============================] - 59s 238ms/step - loss: 0.4178 - binary_accuracy: 0.8116 - recall: 0.6112 - precision: 0.7111 - val_loss: 0.0959 - val_binary_accuracy: 0.9718 - val_recall: 0.2000 - val_precision: 0.2727\n",
            "Epoch 7/30\n",
            "246/246 [==============================] - 58s 236ms/step - loss: 0.4110 - binary_accuracy: 0.8167 - recall: 0.6203 - precision: 0.7209 - val_loss: 0.1447 - val_binary_accuracy: 0.9506 - val_recall: 0.3333 - val_precision: 0.1667\n",
            "Epoch 8/30\n",
            "246/246 [==============================] - 59s 241ms/step - loss: 0.3841 - binary_accuracy: 0.8260 - recall: 0.6422 - precision: 0.7358 - val_loss: 0.1077 - val_binary_accuracy: 0.9675 - val_recall: 0.2667 - val_precision: 0.2500\n",
            "Epoch 9/30\n",
            "246/246 [==============================] - 58s 235ms/step - loss: 0.3961 - binary_accuracy: 0.8201 - recall: 0.6353 - precision: 0.7229 - val_loss: 0.0909 - val_binary_accuracy: 0.9774 - val_recall: 0.1333 - val_precision: 0.4000\n",
            "Epoch 10/30\n",
            "246/246 [==============================] - 58s 235ms/step - loss: 0.3864 - binary_accuracy: 0.8249 - recall: 0.6453 - precision: 0.7310 - val_loss: 0.1082 - val_binary_accuracy: 0.9661 - val_recall: 0.2667 - val_precision: 0.2353\n",
            "Epoch 11/30\n",
            "246/246 [==============================] - 60s 243ms/step - loss: 0.3942 - binary_accuracy: 0.8259 - recall: 0.6543 - precision: 0.7291 - val_loss: 0.1145 - val_binary_accuracy: 0.9633 - val_recall: 0.2667 - val_precision: 0.2105\n",
            "Epoch 12/30\n",
            "246/246 [==============================] - 58s 236ms/step - loss: 0.3636 - binary_accuracy: 0.8407 - recall: 0.6789 - precision: 0.7572 - val_loss: 0.1265 - val_binary_accuracy: 0.9534 - val_recall: 0.3333 - val_precision: 0.1786\n",
            "Epoch 13/30\n",
            "246/246 [==============================] - 58s 237ms/step - loss: 0.3687 - binary_accuracy: 0.8358 - recall: 0.6698 - precision: 0.7486 - val_loss: 0.1232 - val_binary_accuracy: 0.9548 - val_recall: 0.3333 - val_precision: 0.1852\n",
            "Epoch 14/30\n",
            "246/246 [==============================] - 58s 235ms/step - loss: 0.4002 - binary_accuracy: 0.8245 - recall: 0.6569 - precision: 0.7240 - val_loss: 0.1169 - val_binary_accuracy: 0.9590 - val_recall: 0.3333 - val_precision: 0.2083\n",
            "Epoch 15/30\n",
            "246/246 [==============================] - 58s 234ms/step - loss: 0.3606 - binary_accuracy: 0.8404 - recall: 0.6750 - precision: 0.7587 - val_loss: 0.1184 - val_binary_accuracy: 0.9619 - val_recall: 0.3333 - val_precision: 0.2273\n",
            "Epoch 16/30\n",
            "246/246 [==============================] - 57s 233ms/step - loss: 0.3468 - binary_accuracy: 0.8435 - recall: 0.6862 - precision: 0.7610 - val_loss: 0.0965 - val_binary_accuracy: 0.9703 - val_recall: 0.2667 - val_precision: 0.2857\n",
            "Epoch 17/30\n",
            "246/246 [==============================] - 58s 237ms/step - loss: 0.3473 - binary_accuracy: 0.8431 - recall: 0.6841 - precision: 0.7612 - val_loss: 0.1500 - val_binary_accuracy: 0.9449 - val_recall: 0.3333 - val_precision: 0.1471\n",
            "Epoch 18/30\n",
            "246/246 [==============================] - 58s 234ms/step - loss: 0.3318 - binary_accuracy: 0.8548 - recall: 0.7026 - precision: 0.7840 - val_loss: 0.1173 - val_binary_accuracy: 0.9633 - val_recall: 0.3333 - val_precision: 0.2381\n",
            "Epoch 19/30\n",
            "246/246 [==============================] - 58s 234ms/step - loss: 0.3414 - binary_accuracy: 0.8498 - recall: 0.6970 - precision: 0.7729 - val_loss: 0.1186 - val_binary_accuracy: 0.9605 - val_recall: 0.3333 - val_precision: 0.2174\n",
            "Epoch 20/30\n",
            "246/246 [==============================] - 55s 225ms/step - loss: 0.3376 - binary_accuracy: 0.8486 - recall: 0.7000 - precision: 0.7675 - val_loss: 0.1174 - val_binary_accuracy: 0.9590 - val_recall: 0.3333 - val_precision: 0.2083\n",
            "Epoch 21/30\n",
            "246/246 [==============================] - 56s 228ms/step - loss: 0.3353 - binary_accuracy: 0.8539 - recall: 0.7138 - precision: 0.7746 - val_loss: 0.1341 - val_binary_accuracy: 0.9506 - val_recall: 0.3333 - val_precision: 0.1667\n",
            "Epoch 22/30\n",
            "246/246 [==============================] - 57s 231ms/step - loss: 0.3354 - binary_accuracy: 0.8520 - recall: 0.7065 - precision: 0.7735 - val_loss: 0.0910 - val_binary_accuracy: 0.9718 - val_recall: 0.2667 - val_precision: 0.3077\n",
            "Epoch 23/30\n",
            "246/246 [==============================] - 56s 229ms/step - loss: 0.3292 - binary_accuracy: 0.8529 - recall: 0.7047 - precision: 0.7771 - val_loss: 0.0898 - val_binary_accuracy: 0.9746 - val_recall: 0.2667 - val_precision: 0.3636\n",
            "Epoch 24/30\n",
            "246/246 [==============================] - 56s 227ms/step - loss: 0.3479 - binary_accuracy: 0.8533 - recall: 0.7134 - precision: 0.7730 - val_loss: 0.1765 - val_binary_accuracy: 0.9237 - val_recall: 0.4000 - val_precision: 0.1176\n",
            "Epoch 25/30\n",
            "246/246 [==============================] - 57s 232ms/step - loss: 0.3293 - binary_accuracy: 0.8620 - recall: 0.7263 - precision: 0.7900 - val_loss: 0.0958 - val_binary_accuracy: 0.9675 - val_recall: 0.2667 - val_precision: 0.2500\n",
            "Epoch 26/30\n",
            "246/246 [==============================] - 57s 232ms/step - loss: 0.3096 - binary_accuracy: 0.8668 - recall: 0.7345 - precision: 0.7989 - val_loss: 0.2765 - val_binary_accuracy: 0.8912 - val_recall: 0.5333 - val_precision: 0.1026\n",
            "Epoch 27/30\n",
            "246/246 [==============================] - 58s 236ms/step - loss: 0.3280 - binary_accuracy: 0.8562 - recall: 0.7228 - precision: 0.7757 - val_loss: 0.0935 - val_binary_accuracy: 0.9703 - val_recall: 0.3333 - val_precision: 0.3125\n",
            "Epoch 28/30\n",
            "246/246 [==============================] - 59s 239ms/step - loss: 0.3252 - binary_accuracy: 0.8608 - recall: 0.7233 - precision: 0.7885 - val_loss: 0.1029 - val_binary_accuracy: 0.9675 - val_recall: 0.3333 - val_precision: 0.2778\n",
            "Epoch 29/30\n",
            "246/246 [==============================] - 58s 234ms/step - loss: 0.3088 - binary_accuracy: 0.8625 - recall: 0.7310 - precision: 0.7885 - val_loss: 0.1115 - val_binary_accuracy: 0.9633 - val_recall: 0.3333 - val_precision: 0.2381\n",
            "Epoch 30/30\n",
            "246/246 [==============================] - 58s 233ms/step - loss: 0.3068 - binary_accuracy: 0.8673 - recall: 0.7379 - precision: 0.7981 - val_loss: 0.1244 - val_binary_accuracy: 0.9576 - val_recall: 0.3333 - val_precision: 0.2000\n"
          ]
        },
        {
          "data": {
            "text/plain": [
              "<keras.callbacks.History at 0x7faea052dc70>"
            ]
          },
          "execution_count": 70,
          "metadata": {},
          "output_type": "execute_result"
        }
      ],
      "source": [
        "model.fit(normalized_train_ds_f_aug_adam,\n",
        "                    epochs=30, \n",
        "                    validation_data=normalized_val_ds_f) #not great performance"
      ]
    },
    {
      "cell_type": "code",
      "execution_count": null,
      "metadata": {
        "colab": {
          "base_uri": "https://localhost:8080/"
        },
        "id": "I3VczH0G-ulv",
        "outputId": "f628629c-731a-494d-af5f-702e3542de6e"
      },
      "outputs": [
        {
          "name": "stdout",
          "output_type": "stream",
          "text": [
            "23/23 [==============================] - 3s 116ms/step - loss: 0.1244 - binary_accuracy: 0.9576 - recall: 0.3333 - precision: 0.2000\n"
          ]
        },
        {
          "data": {
            "text/plain": [
              "[0.12437561899423599,\n",
              " 0.9576271176338196,\n",
              " 0.3333333432674408,\n",
              " 0.20000000298023224]"
            ]
          },
          "execution_count": 71,
          "metadata": {},
          "output_type": "execute_result"
        }
      ],
      "source": [
        "model.evaluate(normalized_val_ds_f)"
      ]
    },
    {
      "cell_type": "code",
      "execution_count": null,
      "metadata": {
        "colab": {
          "base_uri": "https://localhost:8080/"
        },
        "id": "3H4IiCUBQWoi",
        "outputId": "c2c97c53-9b8e-40db-ef9b-46756cdf007c"
      },
      "outputs": [
        {
          "name": "stderr",
          "output_type": "stream",
          "text": [
            "WARNING:absl:Found untraced functions such as _jit_compiled_convolution_op, _jit_compiled_convolution_op, _jit_compiled_convolution_op, _jit_compiled_convolution_op, _jit_compiled_convolution_op while saving (showing 5 of 53). These functions will not be directly callable after loading.\n"
          ]
        }
      ],
      "source": [
        "model.save('/content/gdrive/MyDrive/resnet_v1')\n",
        "model.save('/content/gdrive/MyDrive/resnet_v1.h5')"
      ]
    },
    {
      "cell_type": "code",
      "execution_count": null,
      "metadata": {
        "id": "-C-vNDVWROiw"
      },
      "outputs": [],
      "source": [
        "ROS_model=load_model('/content/gdrive/MyDrive/resnet_v1.h5')"
      ]
    },
    {
      "cell_type": "code",
      "execution_count": null,
      "metadata": {
        "id": "tOSrmQuR-6Qa"
      },
      "outputs": [],
      "source": [
        "es2 = EarlyStopping(monitor='val_recall', mode='max', verbose=1, patience=6, restore_best_weights= True)"
      ]
    },
    {
      "cell_type": "code",
      "execution_count": null,
      "metadata": {
        "colab": {
          "base_uri": "https://localhost:8080/"
        },
        "id": "PpnVP3HdRVHU",
        "outputId": "2a0198cc-dcec-4088-b2b6-a960009b76b5"
      },
      "outputs": [
        {
          "name": "stdout",
          "output_type": "stream",
          "text": [
            "Epoch 1/30\n",
            "246/246 [==============================] - 61s 230ms/step - loss: 0.3336 - binary_accuracy: 0.8656 - recall: 0.7466 - precision: 0.7880 - val_loss: 0.2452 - val_binary_accuracy: 0.9040 - val_recall: 0.4000 - val_precision: 0.0923\n",
            "Epoch 2/30\n",
            "246/246 [==============================] - 58s 236ms/step - loss: 0.3322 - binary_accuracy: 0.8628 - recall: 0.7474 - precision: 0.7797 - val_loss: 0.1120 - val_binary_accuracy: 0.9633 - val_recall: 0.3333 - val_precision: 0.2381\n",
            "Epoch 3/30\n",
            "246/246 [==============================] - 57s 232ms/step - loss: 0.3367 - binary_accuracy: 0.8650 - recall: 0.7478 - precision: 0.7854 - val_loss: 0.1027 - val_binary_accuracy: 0.9661 - val_recall: 0.3333 - val_precision: 0.2632\n",
            "Epoch 4/30\n",
            "246/246 [==============================] - 65s 264ms/step - loss: 0.3513 - binary_accuracy: 0.8590 - recall: 0.7362 - precision: 0.7757 - val_loss: 0.2133 - val_binary_accuracy: 0.9167 - val_recall: 0.4000 - val_precision: 0.1071\n",
            "Epoch 5/30\n",
            "246/246 [==============================] - 62s 251ms/step - loss: 0.3081 - binary_accuracy: 0.8691 - recall: 0.7565 - precision: 0.7916 - val_loss: 0.2518 - val_binary_accuracy: 0.9011 - val_recall: 0.4000 - val_precision: 0.0896\n",
            "Epoch 6/30\n",
            "246/246 [==============================] - 66s 269ms/step - loss: 0.2907 - binary_accuracy: 0.8822 - recall: 0.7802 - precision: 0.8138 - val_loss: 0.1621 - val_binary_accuracy: 0.9350 - val_recall: 0.4000 - val_precision: 0.1395\n",
            "Epoch 7/30\n",
            "245/246 [============================>.] - ETA: 0s - loss: 0.3082 - binary_accuracy: 0.8721 - recall: 0.7554 - precision: 0.8006Restoring model weights from the end of the best epoch: 1.\n",
            "246/246 [==============================] - 60s 243ms/step - loss: 0.3083 - binary_accuracy: 0.8720 - recall: 0.7556 - precision: 0.8005 - val_loss: 0.1255 - val_binary_accuracy: 0.9520 - val_recall: 0.3333 - val_precision: 0.1724\n",
            "Epoch 7: early stopping\n"
          ]
        }
      ],
      "source": [
        "history=ROS_model.fit(normalized_train_ds_f_aug_adam,\n",
        "                    epochs=30, \n",
        "                    validation_data=normalized_val_ds_f, callbacks=[es2]) #trying early stopping to catch decent performance before deteriorates"
      ]
    },
    {
      "cell_type": "code",
      "execution_count": null,
      "metadata": {
        "colab": {
          "base_uri": "https://localhost:8080/"
        },
        "id": "wK4oOibqiXge",
        "outputId": "41eb9da2-dfb2-4397-f571-99f81151f872"
      },
      "outputs": [
        {
          "name": "stderr",
          "output_type": "stream",
          "text": [
            "WARNING:absl:Found untraced functions such as _jit_compiled_convolution_op, _jit_compiled_convolution_op, _jit_compiled_convolution_op, _jit_compiled_convolution_op, _jit_compiled_convolution_op while saving (showing 5 of 53). These functions will not be directly callable after loading.\n"
          ]
        }
      ],
      "source": [
        "ROS_model.save('/content/gdrive/MyDrive/resnet_v2')\n",
        "ROS_model.save('/content/gdrive/MyDrive/resnet_v2.h5')"
      ]
    },
    {
      "cell_type": "code",
      "execution_count": null,
      "metadata": {
        "id": "UNMIhDnihlXM"
      },
      "outputs": [],
      "source": [
        "ROS_model.compile(loss='binary_crossentropy',\n",
        "              optimizer=keras.optimizers.Adam(learning_rate=0.0001),\n",
        "              metrics=[keras.metrics.BinaryAccuracy(), keras.metrics.Recall(), keras.metrics.Precision()])"
      ]
    },
    {
      "cell_type": "code",
      "execution_count": null,
      "metadata": {
        "id": "sbjRKitGjPoD"
      },
      "outputs": [],
      "source": [
        "es3 = EarlyStopping(monitor='val_recall_1', mode='max', verbose=1, patience=6, restore_best_weights= True) #make sure to have it restore best weights"
      ]
    },
    {
      "cell_type": "code",
      "execution_count": null,
      "metadata": {
        "colab": {
          "base_uri": "https://localhost:8080/"
        },
        "id": "lSsgSxLehfog",
        "outputId": "7a14a5fe-9841-4690-a46f-4bd02bdd8729"
      },
      "outputs": [
        {
          "name": "stdout",
          "output_type": "stream",
          "text": [
            "Epoch 1/30\n",
            "246/246 [==============================] - 57s 230ms/step - loss: 0.2229 - binary_accuracy: 0.9076 - recall_1: 0.8125 - precision_1: 0.8667 - val_loss: 0.2290 - val_binary_accuracy: 0.9068 - val_recall_1: 0.4000 - val_precision_1: 0.0952\n",
            "Epoch 2/30\n",
            "246/246 [==============================] - 56s 228ms/step - loss: 0.2160 - binary_accuracy: 0.9089 - recall_1: 0.8220 - precision_1: 0.8633 - val_loss: 0.2544 - val_binary_accuracy: 0.9025 - val_recall_1: 0.4667 - val_precision_1: 0.1029\n",
            "Epoch 3/30\n",
            "246/246 [==============================] - 56s 227ms/step - loss: 0.2182 - binary_accuracy: 0.9067 - recall_1: 0.8177 - precision_1: 0.8599 - val_loss: 0.2201 - val_binary_accuracy: 0.9096 - val_recall_1: 0.4000 - val_precision_1: 0.0984\n",
            "Epoch 4/30\n",
            "246/246 [==============================] - 56s 229ms/step - loss: 0.2137 - binary_accuracy: 0.9140 - recall_1: 0.8341 - precision_1: 0.8697 - val_loss: 0.2063 - val_binary_accuracy: 0.9181 - val_recall_1: 0.4000 - val_precision_1: 0.1091\n",
            "Epoch 5/30\n",
            "246/246 [==============================] - 57s 232ms/step - loss: 0.2162 - binary_accuracy: 0.9133 - recall_1: 0.8280 - precision_1: 0.8724 - val_loss: 0.2400 - val_binary_accuracy: 0.9054 - val_recall_1: 0.4000 - val_precision_1: 0.0938\n",
            "Epoch 6/30\n",
            "246/246 [==============================] - 56s 228ms/step - loss: 0.2155 - binary_accuracy: 0.9141 - recall_1: 0.8353 - precision_1: 0.8691 - val_loss: 0.2172 - val_binary_accuracy: 0.9124 - val_recall_1: 0.4000 - val_precision_1: 0.1017\n",
            "Epoch 7/30\n",
            "246/246 [==============================] - 57s 229ms/step - loss: 0.2182 - binary_accuracy: 0.9098 - recall_1: 0.8233 - precision_1: 0.8650 - val_loss: 0.2320 - val_binary_accuracy: 0.9068 - val_recall_1: 0.4000 - val_precision_1: 0.0952\n",
            "Epoch 8/30\n",
            "245/246 [============================>.] - ETA: 0s - loss: 0.2188 - binary_accuracy: 0.9088 - recall_1: 0.8214 - precision_1: 0.8635Restoring model weights from the end of the best epoch: 2.\n",
            "246/246 [==============================] - 62s 253ms/step - loss: 0.2187 - binary_accuracy: 0.9089 - recall_1: 0.8216 - precision_1: 0.8636 - val_loss: 0.2054 - val_binary_accuracy: 0.9153 - val_recall_1: 0.4000 - val_precision_1: 0.1053\n",
            "Epoch 8: early stopping\n"
          ]
        }
      ],
      "source": [
        "history=ROS_model.fit(normalized_train_ds_f_aug_adam,\n",
        "                    epochs=30, \n",
        "                    validation_data=normalized_val_ds_f, callbacks=[es3]) "
      ]
    },
    {
      "cell_type": "code",
      "execution_count": null,
      "metadata": {
        "id": "R1u7Ep9ynQNI"
      },
      "outputs": [],
      "source": [
        "ROS_model.save('/content/gdrive/MyDrive/resnet_v3')\n",
        "ROS_model.save('/content/gdrive/MyDrive/resnet_v3.h5')"
      ]
    },
    {
      "cell_type": "code",
      "execution_count": null,
      "metadata": {
        "colab": {
          "base_uri": "https://localhost:8080/"
        },
        "id": "ggj9EO4Arwcz",
        "outputId": "2faf0693-b98e-4733-cba5-e5ca8abb89a7"
      },
      "outputs": [
        {
          "data": {
            "text/plain": [
              "array([0, 2])"
            ]
          },
          "execution_count": 111,
          "metadata": {},
          "output_type": "execute_result"
        }
      ],
      "source": [
        "index_array"
      ]
    },
    {
      "cell_type": "code",
      "execution_count": null,
      "metadata": {
        "id": "EwyAcJh9E9cz"
      },
      "outputs": [],
      "source": [
        "y_actual = np.concatenate([y for x, y in normalized_val_ds_des], axis=0)"
      ]
    },
    {
      "cell_type": "code",
      "execution_count": null,
      "metadata": {
        "colab": {
          "base_uri": "https://localhost:8080/"
        },
        "id": "PgFWN5PIE9c0",
        "outputId": "a41e8658-3c4a-4e60-f79e-bc42e0b19edd"
      },
      "outputs": [
        {
          "data": {
            "text/plain": [
              "(708,)"
            ]
          },
          "execution_count": 114,
          "metadata": {},
          "output_type": "execute_result"
        }
      ],
      "source": [
        "y_actual.shape"
      ]
    },
    {
      "cell_type": "code",
      "execution_count": null,
      "metadata": {
        "colab": {
          "base_uri": "https://localhost:8080/"
        },
        "id": "oWDetrdZE9c0",
        "outputId": "c870d030-df5d-41b0-c077-b510bffd848a"
      },
      "outputs": [
        {
          "data": {
            "text/plain": [
              "array([0, 1], dtype=int32)"
            ]
          },
          "execution_count": 115,
          "metadata": {},
          "output_type": "execute_result"
        }
      ],
      "source": [
        "np.unique(y_actual)"
      ]
    },
    {
      "cell_type": "code",
      "execution_count": null,
      "metadata": {
        "colab": {
          "base_uri": "https://localhost:8080/"
        },
        "id": "3-IblbaHE9c0",
        "outputId": "9951e268-ec0a-49c1-d567-6031bec3cd38"
      },
      "outputs": [
        {
          "name": "stdout",
          "output_type": "stream",
          "text": [
            "12/12 [==============================] - 4s 174ms/step\n"
          ]
        }
      ],
      "source": [
        "y_prob=full_model.predict(normalized_val_ds_des)"
      ]
    },
    {
      "cell_type": "code",
      "execution_count": null,
      "metadata": {
        "colab": {
          "base_uri": "https://localhost:8080/"
        },
        "id": "UxdxC5JME9c0",
        "outputId": "7afff2aa-eada-4e84-ed30-b3a76b5c1e69"
      },
      "outputs": [
        {
          "data": {
            "text/plain": [
              "(708, 1)"
            ]
          },
          "execution_count": 103,
          "metadata": {},
          "output_type": "execute_result"
        }
      ],
      "source": [
        "y_prob.shape"
      ]
    },
    {
      "cell_type": "code",
      "execution_count": null,
      "metadata": {
        "colab": {
          "base_uri": "https://localhost:8080/"
        },
        "id": "1obuonyPE9c0",
        "outputId": "f0052323-7061-4d16-cbe8-82e16d26cea9"
      },
      "outputs": [
        {
          "data": {
            "text/plain": [
              "TensorShape([708, 1])"
            ]
          },
          "execution_count": 119,
          "metadata": {},
          "output_type": "execute_result"
        }
      ],
      "source": [
        "y_predict = tf.greater(y_prob, .5) #pick threshold for the probability \n",
        "y_predict.shape"
      ]
    },
    {
      "cell_type": "code",
      "execution_count": null,
      "metadata": {
        "colab": {
          "base_uri": "https://localhost:8080/"
        },
        "id": "YOKmJXziE9c0",
        "outputId": "68909ae6-0972-41f2-f987-90a9f32a1216"
      },
      "outputs": [
        {
          "data": {
            "text/plain": [
              "array([False,  True])"
            ]
          },
          "execution_count": 120,
          "metadata": {},
          "output_type": "execute_result"
        }
      ],
      "source": [
        "np.unique(y_predict) "
      ]
    },
    {
      "cell_type": "code",
      "execution_count": null,
      "metadata": {
        "colab": {
          "base_uri": "https://localhost:8080/",
          "height": 279
        },
        "id": "azZO1SqgE9c1",
        "outputId": "63f8cdf5-c760-4d25-887d-ae63e948106f"
      },
      "outputs": [
        {
          "data": {
            "image/png": "[encoded data removed]",
            "text/plain": [
              "<Figure size 432x288 with 2 Axes>"
            ]
          },
          "metadata": {
            "needs_background": "light"
          },
          "output_type": "display_data"
        }
      ],
      "source": [
        "from sklearn.metrics import confusion_matrix, ConfusionMatrixDisplay, plot_confusion_matrix\n",
        "#class_names = val_ds.class_names\n",
        "#plt.rcParams.update({'font.size': 16})\n",
        "con_matrix = confusion_matrix(y_actual, y_predict)\n",
        "disp = ConfusionMatrixDisplay.from_predictions(y_actual,y_predict,\n",
        "                               #display_labels=class_names, xticks_rotation = 'vertical'\n",
        "                               )\n"
      ]
    },
    {
      "cell_type": "code",
      "execution_count": null,
      "metadata": {
        "colab": {
          "base_uri": "https://localhost:8080/",
          "height": 282
        },
        "id": "xvybMFIY1o4y",
        "outputId": "f5ed396a-d292-4ebe-e610-962562b41e3d"
      },
      "outputs": [
        {
          "data": {
            "text/plain": [
              "<matplotlib.axes._subplots.AxesSubplot at 0x7efa8307e910>"
            ]
          },
          "execution_count": 124,
          "metadata": {},
          "output_type": "execute_result"
        },
        {
          "data": {
            "image/png": "[encoded data removed]",
            "text/plain": [
              "<Figure size 432x288 with 2 Axes>"
            ]
          },
          "metadata": {
            "needs_background": "light"
          },
          "output_type": "display_data"
        }
      ],
      "source": [
        "import seaborn as sns\n",
        "cm_normalized = con_matrix.astype('float') / con_matrix.sum(axis=1)[:, np.newaxis]\n",
        "sns.heatmap(cm_normalized, annot=True, linewidths = 0.01)\n"
      ]
    },
    {
      "cell_type": "code",
      "execution_count": null,
      "metadata": {
        "colab": {
          "base_uri": "https://localhost:8080/"
        },
        "id": "jCsPf7EKVLXr",
        "outputId": "c01855f8-87c6-4a0e-9e79-09fdaa19d521"
      },
      "outputs": [
        {
          "name": "stdout",
          "output_type": "stream",
          "text": [
            "23/23 [==============================] - 3s 113ms/step - loss: 0.2544 - binary_accuracy: 0.9025 - recall_1: 0.4667 - precision_1: 0.1029\n"
          ]
        },
        {
          "data": {
            "text/plain": [
              "[0.25442758202552795,\n",
              " 0.9025423526763916,\n",
              " 0.46666666865348816,\n",
              " 0.10294117778539658]"
            ]
          },
          "execution_count": 96,
          "metadata": {},
          "output_type": "execute_result"
        }
      ],
      "source": [
        "ROS_model.evaluate(normalized_val_ds_f)"
      ]
    },
    {
      "cell_type": "code",
      "execution_count": null,
      "metadata": {
        "id": "KZPoc_T0nWkP"
      },
      "outputs": [],
      "source": [
        "data_augmentation = keras.Sequential(\n",
        "    [keras.layers.RandomFlip(\"horizontal_and_vertical\"), keras.layers.RandomRotation(0.5),\n",
        "     keras.layers.RandomContrast((0.2,0.2))]\n",
        ")"
      ]
    },
    {
      "cell_type": "code",
      "execution_count": null,
      "metadata": {
        "colab": {
          "base_uri": "https://localhost:8080/",
          "height": 398
        },
        "id": "z4WTxSa0tx2T",
        "outputId": "34de0fd1-1e5a-49a4-a8a3-f1070b2a8558"
      },
      "outputs": [
        {
          "ename": "NameError",
          "evalue": "ignored",
          "output_type": "error",
          "traceback": [
            "\u001b[0;31m---------------------------------------------------------------------------\u001b[0m",
            "\u001b[0;31mNameError\u001b[0m                                 Traceback (most recent call last)",
            "\u001b[0;32m<ipython-input-213-90c81f67d62a>\u001b[0m in \u001b[0;36m<module>\u001b[0;34m\u001b[0m\n\u001b[0;32m----> 1\u001b[0;31m \u001b[0mresnet_train_ds_aug\u001b[0m \u001b[0;34m=\u001b[0m \u001b[0mtrain_ds_prefetch_f\u001b[0m\u001b[0;34m.\u001b[0m\u001b[0mmap\u001b[0m\u001b[0;34m(\u001b[0m\u001b[0;32mlambda\u001b[0m \u001b[0mx\u001b[0m\u001b[0;34m,\u001b[0m \u001b[0my\u001b[0m\u001b[0;34m:\u001b[0m \u001b[0;34m(\u001b[0m\u001b[0mdata_augmentation\u001b[0m\u001b[0;34m(\u001b[0m\u001b[0mx\u001b[0m\u001b[0;34m)\u001b[0m\u001b[0;34m,\u001b[0m \u001b[0my\u001b[0m\u001b[0;34m)\u001b[0m\u001b[0;34m)\u001b[0m\u001b[0;34m\u001b[0m\u001b[0;34m\u001b[0m\u001b[0m\n\u001b[0m",
            "\u001b[0;32m/usr/local/lib/python3.8/dist-packages/tensorflow/python/data/ops/dataset_ops.py\u001b[0m in \u001b[0;36mmap\u001b[0;34m(self, map_func, num_parallel_calls, deterministic, name)\u001b[0m\n\u001b[1;32m   2046\u001b[0m         warnings.warn(\"The `deterministic` argument has no effect unless the \"\n\u001b[1;32m   2047\u001b[0m                       \"`num_parallel_calls` argument is specified.\")\n\u001b[0;32m-> 2048\u001b[0;31m       \u001b[0;32mreturn\u001b[0m \u001b[0mMapDataset\u001b[0m\u001b[0;34m(\u001b[0m\u001b[0mself\u001b[0m\u001b[0;34m,\u001b[0m \u001b[0mmap_func\u001b[0m\u001b[0;34m,\u001b[0m \u001b[0mpreserve_cardinality\u001b[0m\u001b[0;34m=\u001b[0m\u001b[0;32mTrue\u001b[0m\u001b[0;34m,\u001b[0m \u001b[0mname\u001b[0m\u001b[0;34m=\u001b[0m\u001b[0mname\u001b[0m\u001b[0;34m)\u001b[0m\u001b[0;34m\u001b[0m\u001b[0;34m\u001b[0m\u001b[0m\n\u001b[0m\u001b[1;32m   2049\u001b[0m     \u001b[0;32melse\u001b[0m\u001b[0;34m:\u001b[0m\u001b[0;34m\u001b[0m\u001b[0;34m\u001b[0m\u001b[0m\n\u001b[1;32m   2050\u001b[0m       return ParallelMapDataset(\n",
            "\u001b[0;32m/usr/local/lib/python3.8/dist-packages/tensorflow/python/data/ops/dataset_ops.py\u001b[0m in \u001b[0;36m__init__\u001b[0;34m(self, input_dataset, map_func, use_inter_op_parallelism, preserve_cardinality, use_legacy_function, name)\u001b[0m\n\u001b[1;32m   5241\u001b[0m     \u001b[0mself\u001b[0m\u001b[0;34m.\u001b[0m\u001b[0m_use_inter_op_parallelism\u001b[0m \u001b[0;34m=\u001b[0m \u001b[0muse_inter_op_parallelism\u001b[0m\u001b[0;34m\u001b[0m\u001b[0;34m\u001b[0m\u001b[0m\n\u001b[1;32m   5242\u001b[0m     \u001b[0mself\u001b[0m\u001b[0;34m.\u001b[0m\u001b[0m_preserve_cardinality\u001b[0m \u001b[0;34m=\u001b[0m \u001b[0mpreserve_cardinality\u001b[0m\u001b[0;34m\u001b[0m\u001b[0;34m\u001b[0m\u001b[0m\n\u001b[0;32m-> 5243\u001b[0;31m     self._map_func = structured_function.StructuredFunctionWrapper(\n\u001b[0m\u001b[1;32m   5244\u001b[0m         \u001b[0mmap_func\u001b[0m\u001b[0;34m,\u001b[0m\u001b[0;34m\u001b[0m\u001b[0;34m\u001b[0m\u001b[0m\n\u001b[1;32m   5245\u001b[0m         \u001b[0mself\u001b[0m\u001b[0;34m.\u001b[0m\u001b[0m_transformation_name\u001b[0m\u001b[0;34m(\u001b[0m\u001b[0;34m)\u001b[0m\u001b[0;34m,\u001b[0m\u001b[0;34m\u001b[0m\u001b[0;34m\u001b[0m\u001b[0m\n",
            "\u001b[0;32m/usr/local/lib/python3.8/dist-packages/tensorflow/python/data/ops/structured_function.py\u001b[0m in \u001b[0;36m__init__\u001b[0;34m(self, func, transformation_name, dataset, input_classes, input_shapes, input_types, input_structure, add_to_graph, use_legacy_function, defun_kwargs)\u001b[0m\n\u001b[1;32m    269\u001b[0m         \u001b[0mfn_factory\u001b[0m \u001b[0;34m=\u001b[0m \u001b[0mtrace_tf_function\u001b[0m\u001b[0;34m(\u001b[0m\u001b[0mdefun_kwargs\u001b[0m\u001b[0;34m)\u001b[0m\u001b[0;34m\u001b[0m\u001b[0;34m\u001b[0m\u001b[0m\n\u001b[1;32m    270\u001b[0m \u001b[0;34m\u001b[0m\u001b[0m\n\u001b[0;32m--> 271\u001b[0;31m     \u001b[0mself\u001b[0m\u001b[0;34m.\u001b[0m\u001b[0m_function\u001b[0m \u001b[0;34m=\u001b[0m \u001b[0mfn_factory\u001b[0m\u001b[0;34m(\u001b[0m\u001b[0;34m)\u001b[0m\u001b[0;34m\u001b[0m\u001b[0;34m\u001b[0m\u001b[0m\n\u001b[0m\u001b[1;32m    272\u001b[0m     \u001b[0;31m# There is no graph to add in eager mode.\u001b[0m\u001b[0;34m\u001b[0m\u001b[0;34m\u001b[0m\u001b[0;34m\u001b[0m\u001b[0m\n\u001b[1;32m    273\u001b[0m     \u001b[0madd_to_graph\u001b[0m \u001b[0;34m&=\u001b[0m \u001b[0;32mnot\u001b[0m \u001b[0mcontext\u001b[0m\u001b[0;34m.\u001b[0m\u001b[0mexecuting_eagerly\u001b[0m\u001b[0;34m(\u001b[0m\u001b[0;34m)\u001b[0m\u001b[0;34m\u001b[0m\u001b[0;34m\u001b[0m\u001b[0m\n",
            "\u001b[0;32m/usr/local/lib/python3.8/dist-packages/tensorflow/python/eager/function.py\u001b[0m in \u001b[0;36mget_concrete_function\u001b[0;34m(self, *args, **kwargs)\u001b[0m\n\u001b[1;32m   2565\u001b[0m          \u001b[0;32mor\u001b[0m\u001b[0;31m \u001b[0m\u001b[0;31m`\u001b[0m\u001b[0mtf\u001b[0m\u001b[0;34m.\u001b[0m\u001b[0mTensor\u001b[0m\u001b[0;31m`\u001b[0m \u001b[0;32mor\u001b[0m\u001b[0;31m \u001b[0m\u001b[0;31m`\u001b[0m\u001b[0mtf\u001b[0m\u001b[0;34m.\u001b[0m\u001b[0mTensorSpec\u001b[0m\u001b[0;31m`\u001b[0m\u001b[0;34m.\u001b[0m\u001b[0;34m\u001b[0m\u001b[0;34m\u001b[0m\u001b[0m\n\u001b[1;32m   2566\u001b[0m     \"\"\"\n\u001b[0;32m-> 2567\u001b[0;31m     graph_function = self._get_concrete_function_garbage_collected(\n\u001b[0m\u001b[1;32m   2568\u001b[0m         *args, **kwargs)\n\u001b[1;32m   2569\u001b[0m     \u001b[0mgraph_function\u001b[0m\u001b[0;34m.\u001b[0m\u001b[0m_garbage_collector\u001b[0m\u001b[0;34m.\u001b[0m\u001b[0mrelease\u001b[0m\u001b[0;34m(\u001b[0m\u001b[0;34m)\u001b[0m  \u001b[0;31m# pylint: disable=protected-access\u001b[0m\u001b[0;34m\u001b[0m\u001b[0;34m\u001b[0m\u001b[0m\n",
            "\u001b[0;32m/usr/local/lib/python3.8/dist-packages/tensorflow/python/eager/function.py\u001b[0m in \u001b[0;36m_get_concrete_function_garbage_collected\u001b[0;34m(self, *args, **kwargs)\u001b[0m\n\u001b[1;32m   2531\u001b[0m       \u001b[0margs\u001b[0m\u001b[0;34m,\u001b[0m \u001b[0mkwargs\u001b[0m \u001b[0;34m=\u001b[0m \u001b[0;32mNone\u001b[0m\u001b[0;34m,\u001b[0m \u001b[0;32mNone\u001b[0m\u001b[0;34m\u001b[0m\u001b[0;34m\u001b[0m\u001b[0m\n\u001b[1;32m   2532\u001b[0m     \u001b[0;32mwith\u001b[0m \u001b[0mself\u001b[0m\u001b[0;34m.\u001b[0m\u001b[0m_lock\u001b[0m\u001b[0;34m:\u001b[0m\u001b[0;34m\u001b[0m\u001b[0;34m\u001b[0m\u001b[0m\n\u001b[0;32m-> 2533\u001b[0;31m       \u001b[0mgraph_function\u001b[0m\u001b[0;34m,\u001b[0m \u001b[0m_\u001b[0m \u001b[0;34m=\u001b[0m \u001b[0mself\u001b[0m\u001b[0;34m.\u001b[0m\u001b[0m_maybe_define_function\u001b[0m\u001b[0;34m(\u001b[0m\u001b[0margs\u001b[0m\u001b[0;34m,\u001b[0m \u001b[0mkwargs\u001b[0m\u001b[0;34m)\u001b[0m\u001b[0;34m\u001b[0m\u001b[0;34m\u001b[0m\u001b[0m\n\u001b[0m\u001b[1;32m   2534\u001b[0m       \u001b[0mseen_names\u001b[0m \u001b[0;34m=\u001b[0m \u001b[0mset\u001b[0m\u001b[0;34m(\u001b[0m\u001b[0;34m)\u001b[0m\u001b[0;34m\u001b[0m\u001b[0;34m\u001b[0m\u001b[0m\n\u001b[1;32m   2535\u001b[0m       captured = object_identity.ObjectIdentitySet(\n",
            "\u001b[0;32m/usr/local/lib/python3.8/dist-packages/tensorflow/python/eager/function.py\u001b[0m in \u001b[0;36m_maybe_define_function\u001b[0;34m(self, args, kwargs)\u001b[0m\n\u001b[1;32m   2709\u001b[0m             \u001b[0;34m(\u001b[0m\u001b[0margs\u001b[0m\u001b[0;34m,\u001b[0m \u001b[0mkwargs\u001b[0m\u001b[0;34m)\u001b[0m \u001b[0;34m=\u001b[0m \u001b[0mcache_key\u001b[0m\u001b[0;34m.\u001b[0m\u001b[0m_placeholder_value\u001b[0m\u001b[0;34m(\u001b[0m\u001b[0;34m)\u001b[0m  \u001b[0;31m# pylint: disable=protected-access\u001b[0m\u001b[0;34m\u001b[0m\u001b[0;34m\u001b[0m\u001b[0m\n\u001b[1;32m   2710\u001b[0m \u001b[0;34m\u001b[0m\u001b[0m\n\u001b[0;32m-> 2711\u001b[0;31m           \u001b[0mgraph_function\u001b[0m \u001b[0;34m=\u001b[0m \u001b[0mself\u001b[0m\u001b[0;34m.\u001b[0m\u001b[0m_create_graph_function\u001b[0m\u001b[0;34m(\u001b[0m\u001b[0margs\u001b[0m\u001b[0;34m,\u001b[0m \u001b[0mkwargs\u001b[0m\u001b[0;34m)\u001b[0m\u001b[0;34m\u001b[0m\u001b[0;34m\u001b[0m\u001b[0m\n\u001b[0m\u001b[1;32m   2712\u001b[0m           self._function_cache.add(cache_key, cache_key_deletion_observer,\n\u001b[1;32m   2713\u001b[0m                                    graph_function)\n",
            "\u001b[0;32m/usr/local/lib/python3.8/dist-packages/tensorflow/python/eager/function.py\u001b[0m in \u001b[0;36m_create_graph_function\u001b[0;34m(self, args, kwargs)\u001b[0m\n\u001b[1;32m   2625\u001b[0m     \u001b[0marg_names\u001b[0m \u001b[0;34m=\u001b[0m \u001b[0mbase_arg_names\u001b[0m \u001b[0;34m+\u001b[0m \u001b[0mmissing_arg_names\u001b[0m\u001b[0;34m\u001b[0m\u001b[0;34m\u001b[0m\u001b[0m\n\u001b[1;32m   2626\u001b[0m     graph_function = ConcreteFunction(\n\u001b[0;32m-> 2627\u001b[0;31m         func_graph_module.func_graph_from_py_func(\n\u001b[0m\u001b[1;32m   2628\u001b[0m             \u001b[0mself\u001b[0m\u001b[0;34m.\u001b[0m\u001b[0m_name\u001b[0m\u001b[0;34m,\u001b[0m\u001b[0;34m\u001b[0m\u001b[0;34m\u001b[0m\u001b[0m\n\u001b[1;32m   2629\u001b[0m             \u001b[0mself\u001b[0m\u001b[0;34m.\u001b[0m\u001b[0m_python_function\u001b[0m\u001b[0;34m,\u001b[0m\u001b[0;34m\u001b[0m\u001b[0;34m\u001b[0m\u001b[0m\n",
            "\u001b[0;32m/usr/local/lib/python3.8/dist-packages/tensorflow/python/framework/func_graph.py\u001b[0m in \u001b[0;36mfunc_graph_from_py_func\u001b[0;34m(name, python_func, args, kwargs, signature, func_graph, autograph, autograph_options, add_control_dependencies, arg_names, op_return_value, collections, capture_by_value, acd_record_initial_resource_uses)\u001b[0m\n\u001b[1;32m   1139\u001b[0m         \u001b[0m_\u001b[0m\u001b[0;34m,\u001b[0m \u001b[0moriginal_func\u001b[0m \u001b[0;34m=\u001b[0m \u001b[0mtf_decorator\u001b[0m\u001b[0;34m.\u001b[0m\u001b[0munwrap\u001b[0m\u001b[0;34m(\u001b[0m\u001b[0mpython_func\u001b[0m\u001b[0;34m)\u001b[0m\u001b[0;34m\u001b[0m\u001b[0;34m\u001b[0m\u001b[0m\n\u001b[1;32m   1140\u001b[0m \u001b[0;34m\u001b[0m\u001b[0m\n\u001b[0;32m-> 1141\u001b[0;31m       \u001b[0mfunc_outputs\u001b[0m \u001b[0;34m=\u001b[0m \u001b[0mpython_func\u001b[0m\u001b[0;34m(\u001b[0m\u001b[0;34m*\u001b[0m\u001b[0mfunc_args\u001b[0m\u001b[0;34m,\u001b[0m \u001b[0;34m**\u001b[0m\u001b[0mfunc_kwargs\u001b[0m\u001b[0;34m)\u001b[0m\u001b[0;34m\u001b[0m\u001b[0;34m\u001b[0m\u001b[0m\n\u001b[0m\u001b[1;32m   1142\u001b[0m \u001b[0;34m\u001b[0m\u001b[0m\n\u001b[1;32m   1143\u001b[0m       \u001b[0;31m# invariant: `func_outputs` contains only Tensors, CompositeTensors,\u001b[0m\u001b[0;34m\u001b[0m\u001b[0;34m\u001b[0m\u001b[0;34m\u001b[0m\u001b[0m\n",
            "\u001b[0;32m/usr/local/lib/python3.8/dist-packages/tensorflow/python/data/ops/structured_function.py\u001b[0m in \u001b[0;36mwrapped_fn\u001b[0;34m(*args)\u001b[0m\n\u001b[1;32m    246\u001b[0m           attributes=defun_kwargs)\n\u001b[1;32m    247\u001b[0m       \u001b[0;32mdef\u001b[0m \u001b[0mwrapped_fn\u001b[0m\u001b[0;34m(\u001b[0m\u001b[0;34m*\u001b[0m\u001b[0margs\u001b[0m\u001b[0;34m)\u001b[0m\u001b[0;34m:\u001b[0m  \u001b[0;31m# pylint: disable=missing-docstring\u001b[0m\u001b[0;34m\u001b[0m\u001b[0;34m\u001b[0m\u001b[0m\n\u001b[0;32m--> 248\u001b[0;31m         \u001b[0mret\u001b[0m \u001b[0;34m=\u001b[0m \u001b[0mwrapper_helper\u001b[0m\u001b[0;34m(\u001b[0m\u001b[0;34m*\u001b[0m\u001b[0margs\u001b[0m\u001b[0;34m)\u001b[0m\u001b[0;34m\u001b[0m\u001b[0;34m\u001b[0m\u001b[0m\n\u001b[0m\u001b[1;32m    249\u001b[0m         \u001b[0mret\u001b[0m \u001b[0;34m=\u001b[0m \u001b[0mstructure\u001b[0m\u001b[0;34m.\u001b[0m\u001b[0mto_tensor_list\u001b[0m\u001b[0;34m(\u001b[0m\u001b[0mself\u001b[0m\u001b[0;34m.\u001b[0m\u001b[0m_output_structure\u001b[0m\u001b[0;34m,\u001b[0m \u001b[0mret\u001b[0m\u001b[0;34m)\u001b[0m\u001b[0;34m\u001b[0m\u001b[0;34m\u001b[0m\u001b[0m\n\u001b[1;32m    250\u001b[0m         \u001b[0;32mreturn\u001b[0m \u001b[0;34m[\u001b[0m\u001b[0mops\u001b[0m\u001b[0;34m.\u001b[0m\u001b[0mconvert_to_tensor\u001b[0m\u001b[0;34m(\u001b[0m\u001b[0mt\u001b[0m\u001b[0;34m)\u001b[0m \u001b[0;32mfor\u001b[0m \u001b[0mt\u001b[0m \u001b[0;32min\u001b[0m \u001b[0mret\u001b[0m\u001b[0;34m]\u001b[0m\u001b[0;34m\u001b[0m\u001b[0;34m\u001b[0m\u001b[0m\n",
            "\u001b[0;32m/usr/local/lib/python3.8/dist-packages/tensorflow/python/data/ops/structured_function.py\u001b[0m in \u001b[0;36mwrapper_helper\u001b[0;34m(*args)\u001b[0m\n\u001b[1;32m    175\u001b[0m       \u001b[0;32mif\u001b[0m \u001b[0;32mnot\u001b[0m \u001b[0m_should_unpack\u001b[0m\u001b[0;34m(\u001b[0m\u001b[0mnested_args\u001b[0m\u001b[0;34m)\u001b[0m\u001b[0;34m:\u001b[0m\u001b[0;34m\u001b[0m\u001b[0;34m\u001b[0m\u001b[0m\n\u001b[1;32m    176\u001b[0m         \u001b[0mnested_args\u001b[0m \u001b[0;34m=\u001b[0m \u001b[0;34m(\u001b[0m\u001b[0mnested_args\u001b[0m\u001b[0;34m,\u001b[0m\u001b[0;34m)\u001b[0m\u001b[0;34m\u001b[0m\u001b[0;34m\u001b[0m\u001b[0m\n\u001b[0;32m--> 177\u001b[0;31m       \u001b[0mret\u001b[0m \u001b[0;34m=\u001b[0m \u001b[0mautograph\u001b[0m\u001b[0;34m.\u001b[0m\u001b[0mtf_convert\u001b[0m\u001b[0;34m(\u001b[0m\u001b[0mself\u001b[0m\u001b[0;34m.\u001b[0m\u001b[0m_func\u001b[0m\u001b[0;34m,\u001b[0m \u001b[0mag_ctx\u001b[0m\u001b[0;34m)\u001b[0m\u001b[0;34m(\u001b[0m\u001b[0;34m*\u001b[0m\u001b[0mnested_args\u001b[0m\u001b[0;34m)\u001b[0m\u001b[0;34m\u001b[0m\u001b[0;34m\u001b[0m\u001b[0m\n\u001b[0m\u001b[1;32m    178\u001b[0m       \u001b[0;32mif\u001b[0m \u001b[0m_should_pack\u001b[0m\u001b[0;34m(\u001b[0m\u001b[0mret\u001b[0m\u001b[0;34m)\u001b[0m\u001b[0;34m:\u001b[0m\u001b[0;34m\u001b[0m\u001b[0;34m\u001b[0m\u001b[0m\n\u001b[1;32m    179\u001b[0m         \u001b[0mret\u001b[0m \u001b[0;34m=\u001b[0m \u001b[0mtuple\u001b[0m\u001b[0;34m(\u001b[0m\u001b[0mret\u001b[0m\u001b[0;34m)\u001b[0m\u001b[0;34m\u001b[0m\u001b[0;34m\u001b[0m\u001b[0m\n",
            "\u001b[0;32m/usr/local/lib/python3.8/dist-packages/tensorflow/python/autograph/impl/api.py\u001b[0m in \u001b[0;36mwrapper\u001b[0;34m(*args, **kwargs)\u001b[0m\n\u001b[1;32m    690\u001b[0m       \u001b[0;32mexcept\u001b[0m \u001b[0mException\u001b[0m \u001b[0;32mas\u001b[0m \u001b[0me\u001b[0m\u001b[0;34m:\u001b[0m  \u001b[0;31m# pylint:disable=broad-except\u001b[0m\u001b[0;34m\u001b[0m\u001b[0;34m\u001b[0m\u001b[0m\n\u001b[1;32m    691\u001b[0m         \u001b[0;32mif\u001b[0m \u001b[0mhasattr\u001b[0m\u001b[0;34m(\u001b[0m\u001b[0me\u001b[0m\u001b[0;34m,\u001b[0m \u001b[0;34m'ag_error_metadata'\u001b[0m\u001b[0;34m)\u001b[0m\u001b[0;34m:\u001b[0m\u001b[0;34m\u001b[0m\u001b[0;34m\u001b[0m\u001b[0m\n\u001b[0;32m--> 692\u001b[0;31m           \u001b[0;32mraise\u001b[0m \u001b[0me\u001b[0m\u001b[0;34m.\u001b[0m\u001b[0mag_error_metadata\u001b[0m\u001b[0;34m.\u001b[0m\u001b[0mto_exception\u001b[0m\u001b[0;34m(\u001b[0m\u001b[0me\u001b[0m\u001b[0;34m)\u001b[0m\u001b[0;34m\u001b[0m\u001b[0;34m\u001b[0m\u001b[0m\n\u001b[0m\u001b[1;32m    693\u001b[0m         \u001b[0;32melse\u001b[0m\u001b[0;34m:\u001b[0m\u001b[0;34m\u001b[0m\u001b[0;34m\u001b[0m\u001b[0m\n\u001b[1;32m    694\u001b[0m           \u001b[0;32mraise\u001b[0m\u001b[0;34m\u001b[0m\u001b[0;34m\u001b[0m\u001b[0m\n",
            "\u001b[0;32m/usr/local/lib/python3.8/dist-packages/tensorflow/python/autograph/impl/api.py\u001b[0m in \u001b[0;36mwrapper\u001b[0;34m(*args, **kwargs)\u001b[0m\n\u001b[1;32m    687\u001b[0m       \u001b[0;32mtry\u001b[0m\u001b[0;34m:\u001b[0m\u001b[0;34m\u001b[0m\u001b[0;34m\u001b[0m\u001b[0m\n\u001b[1;32m    688\u001b[0m         \u001b[0;32mwith\u001b[0m \u001b[0mconversion_ctx\u001b[0m\u001b[0;34m:\u001b[0m\u001b[0;34m\u001b[0m\u001b[0;34m\u001b[0m\u001b[0m\n\u001b[0;32m--> 689\u001b[0;31m           \u001b[0;32mreturn\u001b[0m \u001b[0mconverted_call\u001b[0m\u001b[0;34m(\u001b[0m\u001b[0mf\u001b[0m\u001b[0;34m,\u001b[0m \u001b[0margs\u001b[0m\u001b[0;34m,\u001b[0m \u001b[0mkwargs\u001b[0m\u001b[0;34m,\u001b[0m \u001b[0moptions\u001b[0m\u001b[0;34m=\u001b[0m\u001b[0moptions\u001b[0m\u001b[0;34m)\u001b[0m\u001b[0;34m\u001b[0m\u001b[0;34m\u001b[0m\u001b[0m\n\u001b[0m\u001b[1;32m    690\u001b[0m       \u001b[0;32mexcept\u001b[0m \u001b[0mException\u001b[0m \u001b[0;32mas\u001b[0m \u001b[0me\u001b[0m\u001b[0;34m:\u001b[0m  \u001b[0;31m# pylint:disable=broad-except\u001b[0m\u001b[0;34m\u001b[0m\u001b[0;34m\u001b[0m\u001b[0m\n\u001b[1;32m    691\u001b[0m         \u001b[0;32mif\u001b[0m \u001b[0mhasattr\u001b[0m\u001b[0;34m(\u001b[0m\u001b[0me\u001b[0m\u001b[0;34m,\u001b[0m \u001b[0;34m'ag_error_metadata'\u001b[0m\u001b[0;34m)\u001b[0m\u001b[0;34m:\u001b[0m\u001b[0;34m\u001b[0m\u001b[0;34m\u001b[0m\u001b[0m\n",
            "\u001b[0;32m/usr/local/lib/python3.8/dist-packages/tensorflow/python/autograph/impl/api.py\u001b[0m in \u001b[0;36mconverted_call\u001b[0;34m(f, args, kwargs, caller_fn_scope, options)\u001b[0m\n\u001b[1;32m    437\u001b[0m     \u001b[0;32mtry\u001b[0m\u001b[0;34m:\u001b[0m\u001b[0;34m\u001b[0m\u001b[0;34m\u001b[0m\u001b[0m\n\u001b[1;32m    438\u001b[0m       \u001b[0;32mif\u001b[0m \u001b[0mkwargs\u001b[0m \u001b[0;32mis\u001b[0m \u001b[0;32mnot\u001b[0m \u001b[0;32mNone\u001b[0m\u001b[0;34m:\u001b[0m\u001b[0;34m\u001b[0m\u001b[0;34m\u001b[0m\u001b[0m\n\u001b[0;32m--> 439\u001b[0;31m         \u001b[0mresult\u001b[0m \u001b[0;34m=\u001b[0m \u001b[0mconverted_f\u001b[0m\u001b[0;34m(\u001b[0m\u001b[0;34m*\u001b[0m\u001b[0meffective_args\u001b[0m\u001b[0;34m,\u001b[0m \u001b[0;34m**\u001b[0m\u001b[0mkwargs\u001b[0m\u001b[0;34m)\u001b[0m\u001b[0;34m\u001b[0m\u001b[0;34m\u001b[0m\u001b[0m\n\u001b[0m\u001b[1;32m    440\u001b[0m       \u001b[0;32melse\u001b[0m\u001b[0;34m:\u001b[0m\u001b[0;34m\u001b[0m\u001b[0;34m\u001b[0m\u001b[0m\n\u001b[1;32m    441\u001b[0m         \u001b[0mresult\u001b[0m \u001b[0;34m=\u001b[0m \u001b[0mconverted_f\u001b[0m\u001b[0;34m(\u001b[0m\u001b[0;34m*\u001b[0m\u001b[0meffective_args\u001b[0m\u001b[0;34m)\u001b[0m\u001b[0;34m\u001b[0m\u001b[0;34m\u001b[0m\u001b[0m\n",
            "\u001b[0;32m/tmp/__autograph_generated_filewmtye7a4.py\u001b[0m in \u001b[0;36m<lambda>\u001b[0;34m(x, y)\u001b[0m\n\u001b[1;32m      3\u001b[0m \u001b[0;34m\u001b[0m\u001b[0m\n\u001b[1;32m      4\u001b[0m     \u001b[0;32mdef\u001b[0m \u001b[0minner_factory\u001b[0m\u001b[0;34m(\u001b[0m\u001b[0mag__\u001b[0m\u001b[0;34m)\u001b[0m\u001b[0;34m:\u001b[0m\u001b[0;34m\u001b[0m\u001b[0;34m\u001b[0m\u001b[0m\n\u001b[0;32m----> 5\u001b[0;31m         \u001b[0mtf__lam\u001b[0m \u001b[0;34m=\u001b[0m \u001b[0;34m(\u001b[0m\u001b[0;32mlambda\u001b[0m \u001b[0mx\u001b[0m\u001b[0;34m,\u001b[0m \u001b[0my\u001b[0m\u001b[0;34m:\u001b[0m \u001b[0mag__\u001b[0m\u001b[0;34m.\u001b[0m\u001b[0mwith_function_scope\u001b[0m\u001b[0;34m(\u001b[0m\u001b[0;34m(\u001b[0m\u001b[0;32mlambda\u001b[0m \u001b[0mlscope\u001b[0m\u001b[0;34m:\u001b[0m \u001b[0;34m(\u001b[0m\u001b[0mag__\u001b[0m\u001b[0;34m.\u001b[0m\u001b[0mconverted_call\u001b[0m\u001b[0;34m(\u001b[0m\u001b[0mdata_augmentation\u001b[0m\u001b[0;34m,\u001b[0m \u001b[0;34m(\u001b[0m\u001b[0mx\u001b[0m\u001b[0;34m,\u001b[0m\u001b[0;34m)\u001b[0m\u001b[0;34m,\u001b[0m \u001b[0;32mNone\u001b[0m\u001b[0;34m,\u001b[0m \u001b[0mlscope\u001b[0m\u001b[0;34m)\u001b[0m\u001b[0;34m,\u001b[0m \u001b[0my\u001b[0m\u001b[0;34m)\u001b[0m\u001b[0;34m)\u001b[0m\u001b[0;34m,\u001b[0m \u001b[0;34m'lscope'\u001b[0m\u001b[0;34m,\u001b[0m \u001b[0mag__\u001b[0m\u001b[0;34m.\u001b[0m\u001b[0mSTD\u001b[0m\u001b[0;34m)\u001b[0m\u001b[0;34m)\u001b[0m\u001b[0;34m\u001b[0m\u001b[0;34m\u001b[0m\u001b[0m\n\u001b[0m\u001b[1;32m      6\u001b[0m         \u001b[0;32mreturn\u001b[0m \u001b[0mtf__lam\u001b[0m\u001b[0;34m\u001b[0m\u001b[0;34m\u001b[0m\u001b[0m\n\u001b[1;32m      7\u001b[0m     \u001b[0;32mreturn\u001b[0m \u001b[0minner_factory\u001b[0m\u001b[0;34m\u001b[0m\u001b[0;34m\u001b[0m\u001b[0m\n",
            "\u001b[0;32m/usr/local/lib/python3.8/dist-packages/tensorflow/python/autograph/core/function_wrappers.py\u001b[0m in \u001b[0;36mwith_function_scope\u001b[0;34m(thunk, scope_name, options)\u001b[0m\n\u001b[1;32m    111\u001b[0m   \u001b[0;34m\"\"\"Inline version of the FunctionScope context manager.\"\"\"\u001b[0m\u001b[0;34m\u001b[0m\u001b[0;34m\u001b[0m\u001b[0m\n\u001b[1;32m    112\u001b[0m   \u001b[0;32mwith\u001b[0m \u001b[0mFunctionScope\u001b[0m\u001b[0;34m(\u001b[0m\u001b[0;34m'lambda_'\u001b[0m\u001b[0;34m,\u001b[0m \u001b[0mscope_name\u001b[0m\u001b[0;34m,\u001b[0m \u001b[0moptions\u001b[0m\u001b[0;34m)\u001b[0m \u001b[0;32mas\u001b[0m \u001b[0mscope\u001b[0m\u001b[0;34m:\u001b[0m\u001b[0;34m\u001b[0m\u001b[0;34m\u001b[0m\u001b[0m\n\u001b[0;32m--> 113\u001b[0;31m     \u001b[0;32mreturn\u001b[0m \u001b[0mthunk\u001b[0m\u001b[0;34m(\u001b[0m\u001b[0mscope\u001b[0m\u001b[0;34m)\u001b[0m\u001b[0;34m\u001b[0m\u001b[0;34m\u001b[0m\u001b[0m\n\u001b[0m",
            "\u001b[0;32m/tmp/__autograph_generated_filewmtye7a4.py\u001b[0m in \u001b[0;36m<lambda>\u001b[0;34m(lscope)\u001b[0m\n\u001b[1;32m      3\u001b[0m \u001b[0;34m\u001b[0m\u001b[0m\n\u001b[1;32m      4\u001b[0m     \u001b[0;32mdef\u001b[0m \u001b[0minner_factory\u001b[0m\u001b[0;34m(\u001b[0m\u001b[0mag__\u001b[0m\u001b[0;34m)\u001b[0m\u001b[0;34m:\u001b[0m\u001b[0;34m\u001b[0m\u001b[0;34m\u001b[0m\u001b[0m\n\u001b[0;32m----> 5\u001b[0;31m         \u001b[0mtf__lam\u001b[0m \u001b[0;34m=\u001b[0m \u001b[0;34m(\u001b[0m\u001b[0;32mlambda\u001b[0m \u001b[0mx\u001b[0m\u001b[0;34m,\u001b[0m \u001b[0my\u001b[0m\u001b[0;34m:\u001b[0m \u001b[0mag__\u001b[0m\u001b[0;34m.\u001b[0m\u001b[0mwith_function_scope\u001b[0m\u001b[0;34m(\u001b[0m\u001b[0;34m(\u001b[0m\u001b[0;32mlambda\u001b[0m \u001b[0mlscope\u001b[0m\u001b[0;34m:\u001b[0m \u001b[0;34m(\u001b[0m\u001b[0mag__\u001b[0m\u001b[0;34m.\u001b[0m\u001b[0mconverted_call\u001b[0m\u001b[0;34m(\u001b[0m\u001b[0mdata_augmentation\u001b[0m\u001b[0;34m,\u001b[0m \u001b[0;34m(\u001b[0m\u001b[0mx\u001b[0m\u001b[0;34m,\u001b[0m\u001b[0;34m)\u001b[0m\u001b[0;34m,\u001b[0m \u001b[0;32mNone\u001b[0m\u001b[0;34m,\u001b[0m \u001b[0mlscope\u001b[0m\u001b[0;34m)\u001b[0m\u001b[0;34m,\u001b[0m \u001b[0my\u001b[0m\u001b[0;34m)\u001b[0m\u001b[0;34m)\u001b[0m\u001b[0;34m,\u001b[0m \u001b[0;34m'lscope'\u001b[0m\u001b[0;34m,\u001b[0m \u001b[0mag__\u001b[0m\u001b[0;34m.\u001b[0m\u001b[0mSTD\u001b[0m\u001b[0;34m)\u001b[0m\u001b[0;34m)\u001b[0m\u001b[0;34m\u001b[0m\u001b[0;34m\u001b[0m\u001b[0m\n\u001b[0m\u001b[1;32m      6\u001b[0m         \u001b[0;32mreturn\u001b[0m \u001b[0mtf__lam\u001b[0m\u001b[0;34m\u001b[0m\u001b[0;34m\u001b[0m\u001b[0m\n\u001b[1;32m      7\u001b[0m     \u001b[0;32mreturn\u001b[0m \u001b[0minner_factory\u001b[0m\u001b[0;34m\u001b[0m\u001b[0;34m\u001b[0m\u001b[0m\n",
            "\u001b[0;31mNameError\u001b[0m: in user code:\n\n    File \"<ipython-input-213-90c81f67d62a>\", line 1, in None  *\n        lambda x, y: (data_augmentation(x), y)\n\n    NameError: name 'data_augmentation' is not defined\n"
          ]
        }
      ],
      "source": [
        "resnet_train_ds_aug = train_ds_prefetch_f.map(lambda x, y: (data_augmentation(x), y))\n"
      ]
    },
    {
      "cell_type": "code",
      "execution_count": null,
      "metadata": {
        "id": "hVFx6xqatx2U"
      },
      "outputs": [],
      "source": [
        "resnet_train_ds_aug= resnet_train_ds_aug.map(lambda x, y: (resnet_preproc_layer(x), y))\n",
        "normalized_train_ds_aug = resnet_train_ds_aug.map(lambda x, y: (normalization_layer(x), y))"
      ]
    },
    {
      "cell_type": "code",
      "execution_count": null,
      "metadata": {
        "id": "YqXUxtOSuaLt"
      },
      "outputs": [],
      "source": [
        "es4 = EarlyStopping(monitor='val_recall_2', mode='max', verbose=1, patience=6, restore_best_weights= True)"
      ]
    },
    {
      "cell_type": "code",
      "execution_count": null,
      "metadata": {
        "id": "84YJYtOxuaX6"
      },
      "outputs": [],
      "source": [
        "model.compile(loss='binary_crossentropy',\n",
        "              optimizer=keras.optimizers.Adam(),\n",
        "              metrics=[keras.metrics.BinaryAccuracy(), keras.metrics.Recall(), keras.metrics.Precision()])"
      ]
    },
    {
      "cell_type": "code",
      "execution_count": null,
      "metadata": {
        "colab": {
          "base_uri": "https://localhost:8080/"
        },
        "id": "gRYSNJZwuaX7",
        "outputId": "e26d7c1a-b11c-43de-aba7-022269d4153e"
      },
      "outputs": [
        {
          "name": "stdout",
          "output_type": "stream",
          "text": [
            "Epoch 1/30\n",
            "246/246 [==============================] - 31s 126ms/step - loss: 0.1438 - binary_accuracy: 0.9440 - recall_2: 0.8961 - precision_2: 0.9130 - val_loss: 0.1652 - val_binary_accuracy: 0.9421 - val_recall_2: 0.4000 - val_precision_2: 0.1579\n",
            "Epoch 2/30\n",
            "246/246 [==============================] - 28s 111ms/step - loss: 0.1447 - binary_accuracy: 0.9431 - recall_2: 0.8927 - precision_2: 0.9131 - val_loss: 0.1926 - val_binary_accuracy: 0.9294 - val_recall_2: 0.4000 - val_precision_2: 0.1277\n",
            "Epoch 3/30\n",
            "246/246 [==============================] - 28s 114ms/step - loss: 0.1234 - binary_accuracy: 0.9550 - recall_2: 0.9216 - precision_2: 0.9259 - val_loss: 0.2225 - val_binary_accuracy: 0.9124 - val_recall_2: 0.4667 - val_precision_2: 0.1148\n",
            "Epoch 4/30\n",
            "246/246 [==============================] - 28s 111ms/step - loss: 0.1127 - binary_accuracy: 0.9592 - recall_2: 0.9241 - precision_2: 0.9371 - val_loss: 0.2510 - val_binary_accuracy: 0.9011 - val_recall_2: 0.5333 - val_precision_2: 0.1127\n",
            "Epoch 5/30\n",
            "246/246 [==============================] - 28s 114ms/step - loss: 0.1040 - binary_accuracy: 0.9646 - recall_2: 0.9332 - precision_2: 0.9462 - val_loss: 0.2748 - val_binary_accuracy: 0.8927 - val_recall_2: 0.6000 - val_precision_2: 0.1139\n",
            "Epoch 6/30\n",
            "246/246 [==============================] - 27s 111ms/step - loss: 0.0974 - binary_accuracy: 0.9675 - recall_2: 0.9405 - precision_2: 0.9491 - val_loss: 0.2760 - val_binary_accuracy: 0.8927 - val_recall_2: 0.6000 - val_precision_2: 0.1139\n",
            "Epoch 7/30\n",
            "246/246 [==============================] - 28s 114ms/step - loss: 0.0914 - binary_accuracy: 0.9686 - recall_2: 0.9440 - precision_2: 0.9497 - val_loss: 0.2609 - val_binary_accuracy: 0.8997 - val_recall_2: 0.5333 - val_precision_2: 0.1111\n",
            "Epoch 8/30\n",
            "246/246 [==============================] - 28s 113ms/step - loss: 0.0851 - binary_accuracy: 0.9717 - recall_2: 0.9491 - precision_2: 0.9549 - val_loss: 0.2399 - val_binary_accuracy: 0.9082 - val_recall_2: 0.4667 - val_precision_2: 0.1094\n",
            "Epoch 9/30\n",
            "246/246 [==============================] - 28s 112ms/step - loss: 0.0790 - binary_accuracy: 0.9741 - recall_2: 0.9526 - precision_2: 0.9596 - val_loss: 0.2215 - val_binary_accuracy: 0.9124 - val_recall_2: 0.4000 - val_precision_2: 0.1017\n",
            "Epoch 10/30\n",
            "246/246 [==============================] - 27s 111ms/step - loss: 0.0737 - binary_accuracy: 0.9765 - recall_2: 0.9578 - precision_2: 0.9627 - val_loss: 0.2096 - val_binary_accuracy: 0.9195 - val_recall_2: 0.4000 - val_precision_2: 0.1111\n",
            "Epoch 11/30\n",
            "245/246 [============================>.] - ETA: 0s - loss: 0.0691 - binary_accuracy: 0.9791 - recall_2: 0.9638 - precision_2: 0.9654Restoring model weights from the end of the best epoch: 5.\n",
            "246/246 [==============================] - 27s 111ms/step - loss: 0.0691 - binary_accuracy: 0.9791 - recall_2: 0.9638 - precision_2: 0.9655 - val_loss: 0.2028 - val_binary_accuracy: 0.9223 - val_recall_2: 0.4000 - val_precision_2: 0.1154\n",
            "Epoch 11: early stopping\n"
          ]
        }
      ],
      "source": [
        "history_2 = model.fit(normalized_train_ds_aug,\n",
        "                    epochs=30, \n",
        "                    validation_data=normalized_val_ds_f, callbacks= [es4])"
      ]
    },
    {
      "cell_type": "code",
      "execution_count": null,
      "metadata": {
        "colab": {
          "base_uri": "https://localhost:8080/"
        },
        "id": "tBLH_p9Fx-Vp",
        "outputId": "43e5d14a-9a86-46e8-c482-30e593bed109"
      },
      "outputs": [
        {
          "name": "stderr",
          "output_type": "stream",
          "text": [
            "WARNING:absl:Found untraced functions such as _jit_compiled_convolution_op, _jit_compiled_convolution_op, _jit_compiled_convolution_op, _jit_compiled_convolution_op, _jit_compiled_convolution_op while saving (showing 5 of 53). These functions will not be directly callable after loading.\n"
          ]
        }
      ],
      "source": [
        "ROS_model.save('/content/gdrive/MyDrive/resnet_more_aug_1')\n",
        "ROS_model.save('/content/gdrive/MyDrive/resnet_more_aug_1.h5')"
      ]
    },
    {
      "cell_type": "code",
      "execution_count": 178,
      "metadata": {
        "id": "tZxIDJ7Zgzef"
      },
      "outputs": [],
      "source": [
        "data_augmentation_v2 = keras.Sequential(\n",
        "    [keras.layers.RandomFlip(\"horizontal_and_vertical\"), keras.layers.RandomRotation(0.2), keras.layers.RandomContrast(0.2)]\n",
        ")"
      ]
    },
    {
      "cell_type": "code",
      "execution_count": 179,
      "metadata": {
        "id": "ENLgdWt8gzef"
      },
      "outputs": [],
      "source": [
        "resnet_train_ds_aug_v2 = train_ds_prefetch_f.map(lambda x, y: (data_augmentation_v2(x), y))\n"
      ]
    },
    {
      "cell_type": "code",
      "execution_count": 180,
      "metadata": {
        "id": "ueBkwCqngzef"
      },
      "outputs": [],
      "source": [
        "resnet_train_ds_aug_v2 = resnet_train_ds_aug_v2.map(lambda x, y: (resnet_preproc_layer(x), y))\n",
        "normalized_train_ds_aug_v2 = resnet_train_ds_aug_v2.map(lambda x, y: (normalization_layer(x), y))"
      ]
    },
    {
      "cell_type": "code",
      "execution_count": null,
      "metadata": {
        "id": "b4j_k2hyhXNY"
      },
      "outputs": [],
      "source": [
        "es6 = EarlyStopping(monitor='val_recall_5', mode='max', verbose=1, patience=10, restore_best_weights=True)"
      ]
    },
    {
      "cell_type": "code",
      "execution_count": 161,
      "metadata": {
        "colab": {
          "base_uri": "https://localhost:8080/",
          "height": 329
        },
        "id": "f5VfgjCzgzef",
        "outputId": "70666a54-b7f6-401d-f371-6943cf0972eb"
      },
      "outputs": [
        {
          "name": "stdout",
          "output_type": "stream",
          "text": [
            "Epoch 1/30\n"
          ]
        },
        {
          "ename": "TypeError",
          "evalue": "ignored",
          "output_type": "error",
          "traceback": [
            "\u001b[0;31m---------------------------------------------------------------------------\u001b[0m",
            "\u001b[0;31mTypeError\u001b[0m                                 Traceback (most recent call last)",
            "\u001b[0;32m<ipython-input-161-f1c5d430dd3d>\u001b[0m in \u001b[0;36m<module>\u001b[0;34m\u001b[0m\n\u001b[0;32m----> 1\u001b[0;31m \u001b[0mhistory_resnet_aug_v2\u001b[0m \u001b[0;34m=\u001b[0m \u001b[0mmodel\u001b[0m\u001b[0;34m.\u001b[0m\u001b[0mfit\u001b[0m\u001b[0;34m(\u001b[0m\u001b[0mnormalized_train_ds_aug_v2\u001b[0m\u001b[0;34m,\u001b[0m \u001b[0mepochs\u001b[0m\u001b[0;34m=\u001b[0m\u001b[0;36m30\u001b[0m\u001b[0;34m,\u001b[0m \u001b[0mvalidation_data\u001b[0m\u001b[0;34m=\u001b[0m\u001b[0mnormalized_val_ds_f\u001b[0m\u001b[0;34m)\u001b[0m\u001b[0;34m\u001b[0m\u001b[0;34m\u001b[0m\u001b[0m\n\u001b[0m",
            "\u001b[0;32m/usr/local/lib/python3.8/dist-packages/keras/utils/traceback_utils.py\u001b[0m in \u001b[0;36merror_handler\u001b[0;34m(*args, **kwargs)\u001b[0m\n\u001b[1;32m     65\u001b[0m     \u001b[0;32mexcept\u001b[0m \u001b[0mException\u001b[0m \u001b[0;32mas\u001b[0m \u001b[0me\u001b[0m\u001b[0;34m:\u001b[0m  \u001b[0;31m# pylint: disable=broad-except\u001b[0m\u001b[0;34m\u001b[0m\u001b[0;34m\u001b[0m\u001b[0m\n\u001b[1;32m     66\u001b[0m       \u001b[0mfiltered_tb\u001b[0m \u001b[0;34m=\u001b[0m \u001b[0m_process_traceback_frames\u001b[0m\u001b[0;34m(\u001b[0m\u001b[0me\u001b[0m\u001b[0;34m.\u001b[0m\u001b[0m__traceback__\u001b[0m\u001b[0;34m)\u001b[0m\u001b[0;34m\u001b[0m\u001b[0;34m\u001b[0m\u001b[0m\n\u001b[0;32m---> 67\u001b[0;31m       \u001b[0;32mraise\u001b[0m \u001b[0me\u001b[0m\u001b[0;34m.\u001b[0m\u001b[0mwith_traceback\u001b[0m\u001b[0;34m(\u001b[0m\u001b[0mfiltered_tb\u001b[0m\u001b[0;34m)\u001b[0m \u001b[0;32mfrom\u001b[0m \u001b[0;32mNone\u001b[0m\u001b[0;34m\u001b[0m\u001b[0;34m\u001b[0m\u001b[0m\n\u001b[0m\u001b[1;32m     68\u001b[0m     \u001b[0;32mfinally\u001b[0m\u001b[0;34m:\u001b[0m\u001b[0;34m\u001b[0m\u001b[0;34m\u001b[0m\u001b[0m\n\u001b[1;32m     69\u001b[0m       \u001b[0;32mdel\u001b[0m \u001b[0mfiltered_tb\u001b[0m\u001b[0;34m\u001b[0m\u001b[0;34m\u001b[0m\u001b[0m\n",
            "\u001b[0;32m/usr/local/lib/python3.8/dist-packages/tensorflow/python/eager/def_function.py\u001b[0m in \u001b[0;36m_call\u001b[0;34m(self, *args, **kwds)\u001b[0m\n\u001b[1;32m    945\u001b[0m       \u001b[0;31m# In this case we have created variables on the first call, so we run the\u001b[0m\u001b[0;34m\u001b[0m\u001b[0;34m\u001b[0m\u001b[0;34m\u001b[0m\u001b[0m\n\u001b[1;32m    946\u001b[0m       \u001b[0;31m# defunned version which is guaranteed to never create variables.\u001b[0m\u001b[0;34m\u001b[0m\u001b[0;34m\u001b[0m\u001b[0;34m\u001b[0m\u001b[0m\n\u001b[0;32m--> 947\u001b[0;31m       \u001b[0;32mreturn\u001b[0m \u001b[0mself\u001b[0m\u001b[0;34m.\u001b[0m\u001b[0m_stateless_fn\u001b[0m\u001b[0;34m(\u001b[0m\u001b[0;34m*\u001b[0m\u001b[0margs\u001b[0m\u001b[0;34m,\u001b[0m \u001b[0;34m**\u001b[0m\u001b[0mkwds\u001b[0m\u001b[0;34m)\u001b[0m  \u001b[0;31m# pylint: disable=not-callable\u001b[0m\u001b[0;34m\u001b[0m\u001b[0;34m\u001b[0m\u001b[0m\n\u001b[0m\u001b[1;32m    948\u001b[0m     \u001b[0;32melif\u001b[0m \u001b[0mself\u001b[0m\u001b[0;34m.\u001b[0m\u001b[0m_stateful_fn\u001b[0m \u001b[0;32mis\u001b[0m \u001b[0;32mnot\u001b[0m \u001b[0;32mNone\u001b[0m\u001b[0;34m:\u001b[0m\u001b[0;34m\u001b[0m\u001b[0;34m\u001b[0m\u001b[0m\n\u001b[1;32m    949\u001b[0m       \u001b[0;31m# Release the lock early so that multiple threads can perform the call\u001b[0m\u001b[0;34m\u001b[0m\u001b[0;34m\u001b[0m\u001b[0;34m\u001b[0m\u001b[0m\n",
            "\u001b[0;31mTypeError\u001b[0m: 'NoneType' object is not callable"
          ]
        }
      ],
      "source": [
        "history_resnet_aug_v2 = model.fit(normalized_train_ds_aug_v2, epochs=30, validation_data=normalized_val_ds_f, callbacks=[es6])"
      ]
    },
    {
      "cell_type": "markdown",
      "metadata": {
        "id": "LS6HxrKy8Dyn"
      },
      "source": [
        "### ResNet152 (w/Random oversampling)"
      ]
    },
    {
      "cell_type": "code",
      "execution_count": 174,
      "metadata": {
        "id": "YsRHMSzY8CzW"
      },
      "outputs": [],
      "source": [
        "restnet = ResNet152(include_top=False, weights='imagenet', input_shape=(224,224,3))\n",
        "\n",
        "output = restnet.layers[-1].output \n",
        "output = keras.layers.Flatten()(output)\n",
        "restnet = Model(restnet.input, output)\n",
        "\n",
        "for layer in restnet.layers:\n",
        "    layer.trainable = False"
      ]
    },
    {
      "cell_type": "code",
      "execution_count": 175,
      "metadata": {
        "id": "AryNq5WX8CzX"
      },
      "outputs": [],
      "source": [
        "model = Sequential()\n",
        "model.add(restnet)\n",
        "model.add(Dense(1, activation='sigmoid'))"
      ]
    },
    {
      "cell_type": "code",
      "execution_count": 176,
      "metadata": {
        "id": "TFcWDOgt8CzX"
      },
      "outputs": [],
      "source": [
        "model.compile(loss='binary_crossentropy',\n",
        "              optimizer=keras.optimizers.Adam(),\n",
        "              metrics=[keras.metrics.BinaryAccuracy(), keras.metrics.Recall(), keras.metrics.Precision()])"
      ]
    },
    {
      "cell_type": "code",
      "execution_count": 182,
      "metadata": {
        "colab": {
          "base_uri": "https://localhost:8080/",
          "height": 505
        },
        "id": "rQqNGeRJ8CzX",
        "outputId": "51ac8ced-ac5a-4eb9-92f0-062347d44caf"
      },
      "outputs": [
        {
          "name": "stdout",
          "output_type": "stream",
          "text": [
            "Epoch 1/5\n",
            "123/123 [==============================] - 57s 463ms/step - loss: 0.0250 - binary_accuracy: 0.9967 - recall_5: 0.9940 - precision_5: 0.9948 - val_loss: 0.5249 - val_binary_accuracy: 0.9788 - val_recall_5: 0.0000e+00 - val_precision_5: 0.0000e+00\n",
            "Epoch 2/5\n",
            "123/123 [==============================] - 59s 477ms/step - loss: 0.0233 - binary_accuracy: 0.9971 - recall_5: 0.9948 - precision_5: 0.9953 - val_loss: 0.5364 - val_binary_accuracy: 0.9788 - val_recall_5: 0.0000e+00 - val_precision_5: 0.0000e+00\n",
            "Epoch 3/5\n",
            "123/123 [==============================] - 60s 486ms/step - loss: 0.0263 - binary_accuracy: 0.9971 - recall_5: 0.9944 - precision_5: 0.9957 - val_loss: 0.5800 - val_binary_accuracy: 0.9788 - val_recall_5: 0.0000e+00 - val_precision_5: 0.0000e+00\n",
            "Epoch 4/5\n",
            "118/123 [===========================>..] - ETA: 2s - loss: 0.0264 - binary_accuracy: 0.9964 - recall_5: 0.9938 - precision_5: 0.9942"
          ]
        },
        {
          "ename": "KeyboardInterrupt",
          "evalue": "ignored",
          "output_type": "error",
          "traceback": [
            "\u001b[0;31m---------------------------------------------------------------------------\u001b[0m",
            "\u001b[0;31mKeyboardInterrupt\u001b[0m                         Traceback (most recent call last)",
            "\u001b[0;32m<ipython-input-182-3e93379be8b6>\u001b[0m in \u001b[0;36m<module>\u001b[0;34m\u001b[0m\n\u001b[0;32m----> 1\u001b[0;31m repeat_history3 = model.fit(resnet_train_ds_aug_v2,\n\u001b[0m\u001b[1;32m      2\u001b[0m                     \u001b[0mepochs\u001b[0m\u001b[0;34m=\u001b[0m\u001b[0;36m5\u001b[0m\u001b[0;34m,\u001b[0m\u001b[0;34m\u001b[0m\u001b[0;34m\u001b[0m\u001b[0m\n\u001b[1;32m      3\u001b[0m                     validation_data=normalized_val_ds_f) \n",
            "\u001b[0;32m/usr/local/lib/python3.8/dist-packages/keras/utils/traceback_utils.py\u001b[0m in \u001b[0;36merror_handler\u001b[0;34m(*args, **kwargs)\u001b[0m\n\u001b[1;32m     62\u001b[0m     \u001b[0mfiltered_tb\u001b[0m \u001b[0;34m=\u001b[0m \u001b[0;32mNone\u001b[0m\u001b[0;34m\u001b[0m\u001b[0;34m\u001b[0m\u001b[0m\n\u001b[1;32m     63\u001b[0m     \u001b[0;32mtry\u001b[0m\u001b[0;34m:\u001b[0m\u001b[0;34m\u001b[0m\u001b[0;34m\u001b[0m\u001b[0m\n\u001b[0;32m---> 64\u001b[0;31m       \u001b[0;32mreturn\u001b[0m \u001b[0mfn\u001b[0m\u001b[0;34m(\u001b[0m\u001b[0;34m*\u001b[0m\u001b[0margs\u001b[0m\u001b[0;34m,\u001b[0m \u001b[0;34m**\u001b[0m\u001b[0mkwargs\u001b[0m\u001b[0;34m)\u001b[0m\u001b[0;34m\u001b[0m\u001b[0;34m\u001b[0m\u001b[0m\n\u001b[0m\u001b[1;32m     65\u001b[0m     \u001b[0;32mexcept\u001b[0m \u001b[0mException\u001b[0m \u001b[0;32mas\u001b[0m \u001b[0me\u001b[0m\u001b[0;34m:\u001b[0m  \u001b[0;31m# pylint: disable=broad-except\u001b[0m\u001b[0;34m\u001b[0m\u001b[0;34m\u001b[0m\u001b[0m\n\u001b[1;32m     66\u001b[0m       \u001b[0mfiltered_tb\u001b[0m \u001b[0;34m=\u001b[0m \u001b[0m_process_traceback_frames\u001b[0m\u001b[0;34m(\u001b[0m\u001b[0me\u001b[0m\u001b[0;34m.\u001b[0m\u001b[0m__traceback__\u001b[0m\u001b[0;34m)\u001b[0m\u001b[0;34m\u001b[0m\u001b[0;34m\u001b[0m\u001b[0m\n",
            "\u001b[0;32m/usr/local/lib/python3.8/dist-packages/keras/engine/training.py\u001b[0m in \u001b[0;36mfit\u001b[0;34m(self, x, y, batch_size, epochs, verbose, callbacks, validation_split, validation_data, shuffle, class_weight, sample_weight, initial_epoch, steps_per_epoch, validation_steps, validation_batch_size, validation_freq, max_queue_size, workers, use_multiprocessing)\u001b[0m\n\u001b[1;32m   1407\u001b[0m                 _r=1):\n\u001b[1;32m   1408\u001b[0m               \u001b[0mcallbacks\u001b[0m\u001b[0;34m.\u001b[0m\u001b[0mon_train_batch_begin\u001b[0m\u001b[0;34m(\u001b[0m\u001b[0mstep\u001b[0m\u001b[0;34m)\u001b[0m\u001b[0;34m\u001b[0m\u001b[0;34m\u001b[0m\u001b[0m\n\u001b[0;32m-> 1409\u001b[0;31m               \u001b[0mtmp_logs\u001b[0m \u001b[0;34m=\u001b[0m \u001b[0mself\u001b[0m\u001b[0;34m.\u001b[0m\u001b[0mtrain_function\u001b[0m\u001b[0;34m(\u001b[0m\u001b[0miterator\u001b[0m\u001b[0;34m)\u001b[0m\u001b[0;34m\u001b[0m\u001b[0;34m\u001b[0m\u001b[0m\n\u001b[0m\u001b[1;32m   1410\u001b[0m               \u001b[0;32mif\u001b[0m \u001b[0mdata_handler\u001b[0m\u001b[0;34m.\u001b[0m\u001b[0mshould_sync\u001b[0m\u001b[0;34m:\u001b[0m\u001b[0;34m\u001b[0m\u001b[0;34m\u001b[0m\u001b[0m\n\u001b[1;32m   1411\u001b[0m                 \u001b[0mcontext\u001b[0m\u001b[0;34m.\u001b[0m\u001b[0masync_wait\u001b[0m\u001b[0;34m(\u001b[0m\u001b[0;34m)\u001b[0m\u001b[0;34m\u001b[0m\u001b[0;34m\u001b[0m\u001b[0m\n",
            "\u001b[0;32m/usr/local/lib/python3.8/dist-packages/tensorflow/python/util/traceback_utils.py\u001b[0m in \u001b[0;36merror_handler\u001b[0;34m(*args, **kwargs)\u001b[0m\n\u001b[1;32m    148\u001b[0m     \u001b[0mfiltered_tb\u001b[0m \u001b[0;34m=\u001b[0m \u001b[0;32mNone\u001b[0m\u001b[0;34m\u001b[0m\u001b[0;34m\u001b[0m\u001b[0m\n\u001b[1;32m    149\u001b[0m     \u001b[0;32mtry\u001b[0m\u001b[0;34m:\u001b[0m\u001b[0;34m\u001b[0m\u001b[0;34m\u001b[0m\u001b[0m\n\u001b[0;32m--> 150\u001b[0;31m       \u001b[0;32mreturn\u001b[0m \u001b[0mfn\u001b[0m\u001b[0;34m(\u001b[0m\u001b[0;34m*\u001b[0m\u001b[0margs\u001b[0m\u001b[0;34m,\u001b[0m \u001b[0;34m**\u001b[0m\u001b[0mkwargs\u001b[0m\u001b[0;34m)\u001b[0m\u001b[0;34m\u001b[0m\u001b[0;34m\u001b[0m\u001b[0m\n\u001b[0m\u001b[1;32m    151\u001b[0m     \u001b[0;32mexcept\u001b[0m \u001b[0mException\u001b[0m \u001b[0;32mas\u001b[0m \u001b[0me\u001b[0m\u001b[0;34m:\u001b[0m\u001b[0;34m\u001b[0m\u001b[0;34m\u001b[0m\u001b[0m\n\u001b[1;32m    152\u001b[0m       \u001b[0mfiltered_tb\u001b[0m \u001b[0;34m=\u001b[0m \u001b[0m_process_traceback_frames\u001b[0m\u001b[0;34m(\u001b[0m\u001b[0me\u001b[0m\u001b[0;34m.\u001b[0m\u001b[0m__traceback__\u001b[0m\u001b[0;34m)\u001b[0m\u001b[0;34m\u001b[0m\u001b[0;34m\u001b[0m\u001b[0m\n",
            "\u001b[0;32m/usr/local/lib/python3.8/dist-packages/tensorflow/python/eager/def_function.py\u001b[0m in \u001b[0;36m__call__\u001b[0;34m(self, *args, **kwds)\u001b[0m\n\u001b[1;32m    913\u001b[0m \u001b[0;34m\u001b[0m\u001b[0m\n\u001b[1;32m    914\u001b[0m       \u001b[0;32mwith\u001b[0m \u001b[0mOptionalXlaContext\u001b[0m\u001b[0;34m(\u001b[0m\u001b[0mself\u001b[0m\u001b[0;34m.\u001b[0m\u001b[0m_jit_compile\u001b[0m\u001b[0;34m)\u001b[0m\u001b[0;34m:\u001b[0m\u001b[0;34m\u001b[0m\u001b[0;34m\u001b[0m\u001b[0m\n\u001b[0;32m--> 915\u001b[0;31m         \u001b[0mresult\u001b[0m \u001b[0;34m=\u001b[0m \u001b[0mself\u001b[0m\u001b[0;34m.\u001b[0m\u001b[0m_call\u001b[0m\u001b[0;34m(\u001b[0m\u001b[0;34m*\u001b[0m\u001b[0margs\u001b[0m\u001b[0;34m,\u001b[0m \u001b[0;34m**\u001b[0m\u001b[0mkwds\u001b[0m\u001b[0;34m)\u001b[0m\u001b[0;34m\u001b[0m\u001b[0;34m\u001b[0m\u001b[0m\n\u001b[0m\u001b[1;32m    916\u001b[0m \u001b[0;34m\u001b[0m\u001b[0m\n\u001b[1;32m    917\u001b[0m       \u001b[0mnew_tracing_count\u001b[0m \u001b[0;34m=\u001b[0m \u001b[0mself\u001b[0m\u001b[0;34m.\u001b[0m\u001b[0mexperimental_get_tracing_count\u001b[0m\u001b[0;34m(\u001b[0m\u001b[0;34m)\u001b[0m\u001b[0;34m\u001b[0m\u001b[0;34m\u001b[0m\u001b[0m\n",
            "\u001b[0;32m/usr/local/lib/python3.8/dist-packages/tensorflow/python/eager/def_function.py\u001b[0m in \u001b[0;36m_call\u001b[0;34m(self, *args, **kwds)\u001b[0m\n\u001b[1;32m    945\u001b[0m       \u001b[0;31m# In this case we have created variables on the first call, so we run the\u001b[0m\u001b[0;34m\u001b[0m\u001b[0;34m\u001b[0m\u001b[0;34m\u001b[0m\u001b[0m\n\u001b[1;32m    946\u001b[0m       \u001b[0;31m# defunned version which is guaranteed to never create variables.\u001b[0m\u001b[0;34m\u001b[0m\u001b[0;34m\u001b[0m\u001b[0;34m\u001b[0m\u001b[0m\n\u001b[0;32m--> 947\u001b[0;31m       \u001b[0;32mreturn\u001b[0m \u001b[0mself\u001b[0m\u001b[0;34m.\u001b[0m\u001b[0m_stateless_fn\u001b[0m\u001b[0;34m(\u001b[0m\u001b[0;34m*\u001b[0m\u001b[0margs\u001b[0m\u001b[0;34m,\u001b[0m \u001b[0;34m**\u001b[0m\u001b[0mkwds\u001b[0m\u001b[0;34m)\u001b[0m  \u001b[0;31m# pylint: disable=not-callable\u001b[0m\u001b[0;34m\u001b[0m\u001b[0;34m\u001b[0m\u001b[0m\n\u001b[0m\u001b[1;32m    948\u001b[0m     \u001b[0;32melif\u001b[0m \u001b[0mself\u001b[0m\u001b[0;34m.\u001b[0m\u001b[0m_stateful_fn\u001b[0m \u001b[0;32mis\u001b[0m \u001b[0;32mnot\u001b[0m \u001b[0;32mNone\u001b[0m\u001b[0;34m:\u001b[0m\u001b[0;34m\u001b[0m\u001b[0;34m\u001b[0m\u001b[0m\n\u001b[1;32m    949\u001b[0m       \u001b[0;31m# Release the lock early so that multiple threads can perform the call\u001b[0m\u001b[0;34m\u001b[0m\u001b[0;34m\u001b[0m\u001b[0;34m\u001b[0m\u001b[0m\n",
            "\u001b[0;32m/usr/local/lib/python3.8/dist-packages/tensorflow/python/eager/function.py\u001b[0m in \u001b[0;36m__call__\u001b[0;34m(self, *args, **kwargs)\u001b[0m\n\u001b[1;32m   2451\u001b[0m       (graph_function,\n\u001b[1;32m   2452\u001b[0m        filtered_flat_args) = self._maybe_define_function(args, kwargs)\n\u001b[0;32m-> 2453\u001b[0;31m     return graph_function._call_flat(\n\u001b[0m\u001b[1;32m   2454\u001b[0m         filtered_flat_args, captured_inputs=graph_function.captured_inputs)  # pylint: disable=protected-access\n\u001b[1;32m   2455\u001b[0m \u001b[0;34m\u001b[0m\u001b[0m\n",
            "\u001b[0;32m/usr/local/lib/python3.8/dist-packages/tensorflow/python/eager/function.py\u001b[0m in \u001b[0;36m_call_flat\u001b[0;34m(self, args, captured_inputs, cancellation_manager)\u001b[0m\n\u001b[1;32m   1858\u001b[0m         and executing_eagerly):\n\u001b[1;32m   1859\u001b[0m       \u001b[0;31m# No tape is watching; skip to running the function.\u001b[0m\u001b[0;34m\u001b[0m\u001b[0;34m\u001b[0m\u001b[0;34m\u001b[0m\u001b[0m\n\u001b[0;32m-> 1860\u001b[0;31m       return self._build_call_outputs(self._inference_function.call(\n\u001b[0m\u001b[1;32m   1861\u001b[0m           ctx, args, cancellation_manager=cancellation_manager))\n\u001b[1;32m   1862\u001b[0m     forward_backward = self._select_forward_and_backward_functions(\n",
            "\u001b[0;32m/usr/local/lib/python3.8/dist-packages/tensorflow/python/eager/function.py\u001b[0m in \u001b[0;36mcall\u001b[0;34m(self, ctx, args, cancellation_manager)\u001b[0m\n\u001b[1;32m    495\u001b[0m       \u001b[0;32mwith\u001b[0m \u001b[0m_InterpolateFunctionError\u001b[0m\u001b[0;34m(\u001b[0m\u001b[0mself\u001b[0m\u001b[0;34m)\u001b[0m\u001b[0;34m:\u001b[0m\u001b[0;34m\u001b[0m\u001b[0;34m\u001b[0m\u001b[0m\n\u001b[1;32m    496\u001b[0m         \u001b[0;32mif\u001b[0m \u001b[0mcancellation_manager\u001b[0m \u001b[0;32mis\u001b[0m \u001b[0;32mNone\u001b[0m\u001b[0;34m:\u001b[0m\u001b[0;34m\u001b[0m\u001b[0;34m\u001b[0m\u001b[0m\n\u001b[0;32m--> 497\u001b[0;31m           outputs = execute.execute(\n\u001b[0m\u001b[1;32m    498\u001b[0m               \u001b[0mstr\u001b[0m\u001b[0;34m(\u001b[0m\u001b[0mself\u001b[0m\u001b[0;34m.\u001b[0m\u001b[0msignature\u001b[0m\u001b[0;34m.\u001b[0m\u001b[0mname\u001b[0m\u001b[0;34m)\u001b[0m\u001b[0;34m,\u001b[0m\u001b[0;34m\u001b[0m\u001b[0;34m\u001b[0m\u001b[0m\n\u001b[1;32m    499\u001b[0m               \u001b[0mnum_outputs\u001b[0m\u001b[0;34m=\u001b[0m\u001b[0mself\u001b[0m\u001b[0;34m.\u001b[0m\u001b[0m_num_outputs\u001b[0m\u001b[0;34m,\u001b[0m\u001b[0;34m\u001b[0m\u001b[0;34m\u001b[0m\u001b[0m\n",
            "\u001b[0;32m/usr/local/lib/python3.8/dist-packages/tensorflow/python/eager/execute.py\u001b[0m in \u001b[0;36mquick_execute\u001b[0;34m(op_name, num_outputs, inputs, attrs, ctx, name)\u001b[0m\n\u001b[1;32m     52\u001b[0m   \u001b[0;32mtry\u001b[0m\u001b[0;34m:\u001b[0m\u001b[0;34m\u001b[0m\u001b[0;34m\u001b[0m\u001b[0m\n\u001b[1;32m     53\u001b[0m     \u001b[0mctx\u001b[0m\u001b[0;34m.\u001b[0m\u001b[0mensure_initialized\u001b[0m\u001b[0;34m(\u001b[0m\u001b[0;34m)\u001b[0m\u001b[0;34m\u001b[0m\u001b[0;34m\u001b[0m\u001b[0m\n\u001b[0;32m---> 54\u001b[0;31m     tensors = pywrap_tfe.TFE_Py_Execute(ctx._handle, device_name, op_name,\n\u001b[0m\u001b[1;32m     55\u001b[0m                                         inputs, attrs, num_outputs)\n\u001b[1;32m     56\u001b[0m   \u001b[0;32mexcept\u001b[0m \u001b[0mcore\u001b[0m\u001b[0;34m.\u001b[0m\u001b[0m_NotOkStatusException\u001b[0m \u001b[0;32mas\u001b[0m \u001b[0me\u001b[0m\u001b[0;34m:\u001b[0m\u001b[0;34m\u001b[0m\u001b[0;34m\u001b[0m\u001b[0m\n",
            "\u001b[0;31mKeyboardInterrupt\u001b[0m: "
          ]
        }
      ],
      "source": [
        "repeat_history3 = model.fit(resnet_train_ds_aug_v2,\n",
        "                    epochs=5, \n",
        "                    validation_data=normalized_val_ds_f) "
      ]
    },
    {
      "cell_type": "markdown",
      "metadata": {
        "id": "bGW71o7aAMYG"
      },
      "source": [
        "### Xception (w/Random oversampling)"
      ]
    },
    {
      "cell_type": "code",
      "execution_count": 183,
      "metadata": {
        "id": "Rdzu0YxhAiGH"
      },
      "outputs": [],
      "source": [
        "xcept_train_ds_aug_v2 = train_ds_prefetch_f.map(lambda x, y: (data_augmentation_v2(x), y))\n"
      ]
    },
    {
      "cell_type": "code",
      "execution_count": 184,
      "metadata": {
        "id": "ELAfGHHVAiGH"
      },
      "outputs": [],
      "source": [
        "xcept_train_ds_aug_v2 = xcept_train_ds_aug_v2.map(lambda x, y: (xcept_preproc_layer(x), y))\n",
        "normalized_train_ds_aug_v2 = xcept_train_ds_aug_v2.map(lambda x, y: (normalization_layer(x), y))"
      ]
    },
    {
      "cell_type": "code",
      "execution_count": 185,
      "metadata": {
        "id": "n1ZXI-yZAYCJ"
      },
      "outputs": [],
      "source": [
        "base_model = keras.applications.Xception(include_top=False,\n",
        "    weights=\"imagenet\",\n",
        "    input_shape=(224,224,3))\n",
        "\n",
        "for layer in base_model.layers: \n",
        "    layer.trainable = False"
      ]
    },
    {
      "cell_type": "code",
      "execution_count": 186,
      "metadata": {
        "id": "ftD_L8J_AYCK"
      },
      "outputs": [],
      "source": [
        "full_model = Sequential()\n",
        "full_model.add(base_model)\n",
        "full_model.add(Flatten())\n",
        "full_model.add(Dense(1, activation='sigmoid'))"
      ]
    },
    {
      "cell_type": "code",
      "execution_count": 187,
      "metadata": {
        "id": "4L8BiHo6AYCK"
      },
      "outputs": [],
      "source": [
        "full_model.compile(optimizer=keras.optimizers.Adam(), loss='binary_crossentropy', metrics = [keras.metrics.BinaryAccuracy(),keras.metrics.Recall(), keras.metrics.Precision()])"
      ]
    },
    {
      "cell_type": "code",
      "execution_count": 188,
      "metadata": {
        "id": "T2vQndlAAYCK"
      },
      "outputs": [],
      "source": [
        "xcept_preproc_layer = tf.keras.applications.xception.preprocess_input\n",
        "xcept_train_ds = train_ds_prefetch_f.map(lambda x, y: (xcept_preproc_layer(x), y))\n",
        "xcept_val_ds =val_ds_prefetch_f.map(lambda x, y: (xcept_preproc_layer(x), y))\n",
        "xcept_test_ds = test_ds_prefetch_f.map(lambda x, y: (xcept_preproc_layer(x), y))"
      ]
    },
    {
      "cell_type": "code",
      "execution_count": 189,
      "metadata": {
        "id": "sH22_ZtEAYCK"
      },
      "outputs": [],
      "source": [
        "normalization_layer = layers.Rescaling(1./224, offset=-1)\n",
        "normalized_train_ds_xc = xcept_train_ds.map(lambda x, y: (normalization_layer(x), y))\n",
        "normalized_val_ds_xc =xcept_val_ds.map(lambda x, y: (normalization_layer(x), y))\n",
        "normalized_test_ds_xc = xcept_test_ds.map(lambda x, y: (normalization_layer(x), y))"
      ]
    },
    {
      "cell_type": "code",
      "execution_count": 191,
      "metadata": {
        "colab": {
          "base_uri": "https://localhost:8080/",
          "height": 575
        },
        "id": "EMvtPvwiAYCK",
        "outputId": "8c8dc1a4-7a0f-4747-adf0-a4ca84489b3b"
      },
      "outputs": [
        {
          "name": "stdout",
          "output_type": "stream",
          "text": [
            "Epoch 1/10\n",
            "123/123 [==============================] - 36s 289ms/step - loss: 0.5297 - binary_accuracy: 0.7342 - recall_6: 0.2565 - precision_6: 0.6230 - val_loss: 2.4233 - val_binary_accuracy: 0.0212 - val_recall_6: 1.0000 - val_precision_6: 0.0212\n",
            "Epoch 2/10\n",
            "123/123 [==============================] - 34s 276ms/step - loss: 0.4424 - binary_accuracy: 0.7881 - recall_6: 0.4254 - precision_6: 0.7500 - val_loss: 2.6650 - val_binary_accuracy: 0.0212 - val_recall_6: 1.0000 - val_precision_6: 0.0212\n",
            "Epoch 3/10\n",
            "123/123 [==============================] - 34s 279ms/step - loss: 0.3990 - binary_accuracy: 0.8178 - recall_6: 0.5272 - precision_6: 0.7865 - val_loss: 2.8468 - val_binary_accuracy: 0.0212 - val_recall_6: 1.0000 - val_precision_6: 0.0212\n",
            "Epoch 4/10\n",
            "123/123 [==============================] - 35s 281ms/step - loss: 0.3691 - binary_accuracy: 0.8388 - recall_6: 0.5953 - precision_6: 0.8090 - val_loss: 2.9130 - val_binary_accuracy: 0.0212 - val_recall_6: 1.0000 - val_precision_6: 0.0212\n",
            "Epoch 5/10\n",
            "123/123 [==============================] - 37s 297ms/step - loss: 0.3461 - binary_accuracy: 0.8540 - recall_6: 0.6435 - precision_6: 0.8244 - val_loss: 2.8823 - val_binary_accuracy: 0.0212 - val_recall_6: 1.0000 - val_precision_6: 0.0212\n",
            "Epoch 6/10\n",
            " 70/123 [================>.............] - ETA: 13s - loss: 0.3370 - binary_accuracy: 0.8549 - recall_6: 0.6465 - precision_6: 0.8247"
          ]
        },
        {
          "ename": "KeyboardInterrupt",
          "evalue": "ignored",
          "output_type": "error",
          "traceback": [
            "\u001b[0;31m---------------------------------------------------------------------------\u001b[0m",
            "\u001b[0;31mKeyboardInterrupt\u001b[0m                         Traceback (most recent call last)",
            "\u001b[0;32m<ipython-input-191-9cfe395f89bc>\u001b[0m in \u001b[0;36m<module>\u001b[0;34m\u001b[0m\n\u001b[0;32m----> 1\u001b[0;31m history_xcept_2 = full_model.fit(normalized_train_ds_aug_v2, \n\u001b[0m\u001b[1;32m      2\u001b[0m                     \u001b[0mepochs\u001b[0m\u001b[0;34m=\u001b[0m\u001b[0;36m10\u001b[0m\u001b[0;34m,\u001b[0m\u001b[0;34m\u001b[0m\u001b[0;34m\u001b[0m\u001b[0m\n\u001b[1;32m      3\u001b[0m                     validation_data=normalized_val_ds_xc) \n",
            "\u001b[0;32m/usr/local/lib/python3.8/dist-packages/keras/utils/traceback_utils.py\u001b[0m in \u001b[0;36merror_handler\u001b[0;34m(*args, **kwargs)\u001b[0m\n\u001b[1;32m     62\u001b[0m     \u001b[0mfiltered_tb\u001b[0m \u001b[0;34m=\u001b[0m \u001b[0;32mNone\u001b[0m\u001b[0;34m\u001b[0m\u001b[0;34m\u001b[0m\u001b[0m\n\u001b[1;32m     63\u001b[0m     \u001b[0;32mtry\u001b[0m\u001b[0;34m:\u001b[0m\u001b[0;34m\u001b[0m\u001b[0;34m\u001b[0m\u001b[0m\n\u001b[0;32m---> 64\u001b[0;31m       \u001b[0;32mreturn\u001b[0m \u001b[0mfn\u001b[0m\u001b[0;34m(\u001b[0m\u001b[0;34m*\u001b[0m\u001b[0margs\u001b[0m\u001b[0;34m,\u001b[0m \u001b[0;34m**\u001b[0m\u001b[0mkwargs\u001b[0m\u001b[0;34m)\u001b[0m\u001b[0;34m\u001b[0m\u001b[0;34m\u001b[0m\u001b[0m\n\u001b[0m\u001b[1;32m     65\u001b[0m     \u001b[0;32mexcept\u001b[0m \u001b[0mException\u001b[0m \u001b[0;32mas\u001b[0m \u001b[0me\u001b[0m\u001b[0;34m:\u001b[0m  \u001b[0;31m# pylint: disable=broad-except\u001b[0m\u001b[0;34m\u001b[0m\u001b[0;34m\u001b[0m\u001b[0m\n\u001b[1;32m     66\u001b[0m       \u001b[0mfiltered_tb\u001b[0m \u001b[0;34m=\u001b[0m \u001b[0m_process_traceback_frames\u001b[0m\u001b[0;34m(\u001b[0m\u001b[0me\u001b[0m\u001b[0;34m.\u001b[0m\u001b[0m__traceback__\u001b[0m\u001b[0;34m)\u001b[0m\u001b[0;34m\u001b[0m\u001b[0;34m\u001b[0m\u001b[0m\n",
            "\u001b[0;32m/usr/local/lib/python3.8/dist-packages/keras/engine/training.py\u001b[0m in \u001b[0;36mfit\u001b[0;34m(self, x, y, batch_size, epochs, verbose, callbacks, validation_split, validation_data, shuffle, class_weight, sample_weight, initial_epoch, steps_per_epoch, validation_steps, validation_batch_size, validation_freq, max_queue_size, workers, use_multiprocessing)\u001b[0m\n\u001b[1;32m   1407\u001b[0m                 _r=1):\n\u001b[1;32m   1408\u001b[0m               \u001b[0mcallbacks\u001b[0m\u001b[0;34m.\u001b[0m\u001b[0mon_train_batch_begin\u001b[0m\u001b[0;34m(\u001b[0m\u001b[0mstep\u001b[0m\u001b[0;34m)\u001b[0m\u001b[0;34m\u001b[0m\u001b[0;34m\u001b[0m\u001b[0m\n\u001b[0;32m-> 1409\u001b[0;31m               \u001b[0mtmp_logs\u001b[0m \u001b[0;34m=\u001b[0m \u001b[0mself\u001b[0m\u001b[0;34m.\u001b[0m\u001b[0mtrain_function\u001b[0m\u001b[0;34m(\u001b[0m\u001b[0miterator\u001b[0m\u001b[0;34m)\u001b[0m\u001b[0;34m\u001b[0m\u001b[0;34m\u001b[0m\u001b[0m\n\u001b[0m\u001b[1;32m   1410\u001b[0m               \u001b[0;32mif\u001b[0m \u001b[0mdata_handler\u001b[0m\u001b[0;34m.\u001b[0m\u001b[0mshould_sync\u001b[0m\u001b[0;34m:\u001b[0m\u001b[0;34m\u001b[0m\u001b[0;34m\u001b[0m\u001b[0m\n\u001b[1;32m   1411\u001b[0m                 \u001b[0mcontext\u001b[0m\u001b[0;34m.\u001b[0m\u001b[0masync_wait\u001b[0m\u001b[0;34m(\u001b[0m\u001b[0;34m)\u001b[0m\u001b[0;34m\u001b[0m\u001b[0;34m\u001b[0m\u001b[0m\n",
            "\u001b[0;32m/usr/local/lib/python3.8/dist-packages/tensorflow/python/util/traceback_utils.py\u001b[0m in \u001b[0;36merror_handler\u001b[0;34m(*args, **kwargs)\u001b[0m\n\u001b[1;32m    148\u001b[0m     \u001b[0mfiltered_tb\u001b[0m \u001b[0;34m=\u001b[0m \u001b[0;32mNone\u001b[0m\u001b[0;34m\u001b[0m\u001b[0;34m\u001b[0m\u001b[0m\n\u001b[1;32m    149\u001b[0m     \u001b[0;32mtry\u001b[0m\u001b[0;34m:\u001b[0m\u001b[0;34m\u001b[0m\u001b[0;34m\u001b[0m\u001b[0m\n\u001b[0;32m--> 150\u001b[0;31m       \u001b[0;32mreturn\u001b[0m \u001b[0mfn\u001b[0m\u001b[0;34m(\u001b[0m\u001b[0;34m*\u001b[0m\u001b[0margs\u001b[0m\u001b[0;34m,\u001b[0m \u001b[0;34m**\u001b[0m\u001b[0mkwargs\u001b[0m\u001b[0;34m)\u001b[0m\u001b[0;34m\u001b[0m\u001b[0;34m\u001b[0m\u001b[0m\n\u001b[0m\u001b[1;32m    151\u001b[0m     \u001b[0;32mexcept\u001b[0m \u001b[0mException\u001b[0m \u001b[0;32mas\u001b[0m \u001b[0me\u001b[0m\u001b[0;34m:\u001b[0m\u001b[0;34m\u001b[0m\u001b[0;34m\u001b[0m\u001b[0m\n\u001b[1;32m    152\u001b[0m       \u001b[0mfiltered_tb\u001b[0m \u001b[0;34m=\u001b[0m \u001b[0m_process_traceback_frames\u001b[0m\u001b[0;34m(\u001b[0m\u001b[0me\u001b[0m\u001b[0;34m.\u001b[0m\u001b[0m__traceback__\u001b[0m\u001b[0;34m)\u001b[0m\u001b[0;34m\u001b[0m\u001b[0;34m\u001b[0m\u001b[0m\n",
            "\u001b[0;32m/usr/local/lib/python3.8/dist-packages/tensorflow/python/eager/def_function.py\u001b[0m in \u001b[0;36m__call__\u001b[0;34m(self, *args, **kwds)\u001b[0m\n\u001b[1;32m    913\u001b[0m \u001b[0;34m\u001b[0m\u001b[0m\n\u001b[1;32m    914\u001b[0m       \u001b[0;32mwith\u001b[0m \u001b[0mOptionalXlaContext\u001b[0m\u001b[0;34m(\u001b[0m\u001b[0mself\u001b[0m\u001b[0;34m.\u001b[0m\u001b[0m_jit_compile\u001b[0m\u001b[0;34m)\u001b[0m\u001b[0;34m:\u001b[0m\u001b[0;34m\u001b[0m\u001b[0;34m\u001b[0m\u001b[0m\n\u001b[0;32m--> 915\u001b[0;31m         \u001b[0mresult\u001b[0m \u001b[0;34m=\u001b[0m \u001b[0mself\u001b[0m\u001b[0;34m.\u001b[0m\u001b[0m_call\u001b[0m\u001b[0;34m(\u001b[0m\u001b[0;34m*\u001b[0m\u001b[0margs\u001b[0m\u001b[0;34m,\u001b[0m \u001b[0;34m**\u001b[0m\u001b[0mkwds\u001b[0m\u001b[0;34m)\u001b[0m\u001b[0;34m\u001b[0m\u001b[0;34m\u001b[0m\u001b[0m\n\u001b[0m\u001b[1;32m    916\u001b[0m \u001b[0;34m\u001b[0m\u001b[0m\n\u001b[1;32m    917\u001b[0m       \u001b[0mnew_tracing_count\u001b[0m \u001b[0;34m=\u001b[0m \u001b[0mself\u001b[0m\u001b[0;34m.\u001b[0m\u001b[0mexperimental_get_tracing_count\u001b[0m\u001b[0;34m(\u001b[0m\u001b[0;34m)\u001b[0m\u001b[0;34m\u001b[0m\u001b[0;34m\u001b[0m\u001b[0m\n",
            "\u001b[0;32m/usr/local/lib/python3.8/dist-packages/tensorflow/python/eager/def_function.py\u001b[0m in \u001b[0;36m_call\u001b[0;34m(self, *args, **kwds)\u001b[0m\n\u001b[1;32m    945\u001b[0m       \u001b[0;31m# In this case we have created variables on the first call, so we run the\u001b[0m\u001b[0;34m\u001b[0m\u001b[0;34m\u001b[0m\u001b[0;34m\u001b[0m\u001b[0m\n\u001b[1;32m    946\u001b[0m       \u001b[0;31m# defunned version which is guaranteed to never create variables.\u001b[0m\u001b[0;34m\u001b[0m\u001b[0;34m\u001b[0m\u001b[0;34m\u001b[0m\u001b[0m\n\u001b[0;32m--> 947\u001b[0;31m       \u001b[0;32mreturn\u001b[0m \u001b[0mself\u001b[0m\u001b[0;34m.\u001b[0m\u001b[0m_stateless_fn\u001b[0m\u001b[0;34m(\u001b[0m\u001b[0;34m*\u001b[0m\u001b[0margs\u001b[0m\u001b[0;34m,\u001b[0m \u001b[0;34m**\u001b[0m\u001b[0mkwds\u001b[0m\u001b[0;34m)\u001b[0m  \u001b[0;31m# pylint: disable=not-callable\u001b[0m\u001b[0;34m\u001b[0m\u001b[0;34m\u001b[0m\u001b[0m\n\u001b[0m\u001b[1;32m    948\u001b[0m     \u001b[0;32melif\u001b[0m \u001b[0mself\u001b[0m\u001b[0;34m.\u001b[0m\u001b[0m_stateful_fn\u001b[0m \u001b[0;32mis\u001b[0m \u001b[0;32mnot\u001b[0m \u001b[0;32mNone\u001b[0m\u001b[0;34m:\u001b[0m\u001b[0;34m\u001b[0m\u001b[0;34m\u001b[0m\u001b[0m\n\u001b[1;32m    949\u001b[0m       \u001b[0;31m# Release the lock early so that multiple threads can perform the call\u001b[0m\u001b[0;34m\u001b[0m\u001b[0;34m\u001b[0m\u001b[0;34m\u001b[0m\u001b[0m\n",
            "\u001b[0;32m/usr/local/lib/python3.8/dist-packages/tensorflow/python/eager/function.py\u001b[0m in \u001b[0;36m__call__\u001b[0;34m(self, *args, **kwargs)\u001b[0m\n\u001b[1;32m   2451\u001b[0m       (graph_function,\n\u001b[1;32m   2452\u001b[0m        filtered_flat_args) = self._maybe_define_function(args, kwargs)\n\u001b[0;32m-> 2453\u001b[0;31m     return graph_function._call_flat(\n\u001b[0m\u001b[1;32m   2454\u001b[0m         filtered_flat_args, captured_inputs=graph_function.captured_inputs)  # pylint: disable=protected-access\n\u001b[1;32m   2455\u001b[0m \u001b[0;34m\u001b[0m\u001b[0m\n",
            "\u001b[0;32m/usr/local/lib/python3.8/dist-packages/tensorflow/python/eager/function.py\u001b[0m in \u001b[0;36m_call_flat\u001b[0;34m(self, args, captured_inputs, cancellation_manager)\u001b[0m\n\u001b[1;32m   1858\u001b[0m         and executing_eagerly):\n\u001b[1;32m   1859\u001b[0m       \u001b[0;31m# No tape is watching; skip to running the function.\u001b[0m\u001b[0;34m\u001b[0m\u001b[0;34m\u001b[0m\u001b[0;34m\u001b[0m\u001b[0m\n\u001b[0;32m-> 1860\u001b[0;31m       return self._build_call_outputs(self._inference_function.call(\n\u001b[0m\u001b[1;32m   1861\u001b[0m           ctx, args, cancellation_manager=cancellation_manager))\n\u001b[1;32m   1862\u001b[0m     forward_backward = self._select_forward_and_backward_functions(\n",
            "\u001b[0;32m/usr/local/lib/python3.8/dist-packages/tensorflow/python/eager/function.py\u001b[0m in \u001b[0;36mcall\u001b[0;34m(self, ctx, args, cancellation_manager)\u001b[0m\n\u001b[1;32m    495\u001b[0m       \u001b[0;32mwith\u001b[0m \u001b[0m_InterpolateFunctionError\u001b[0m\u001b[0;34m(\u001b[0m\u001b[0mself\u001b[0m\u001b[0;34m)\u001b[0m\u001b[0;34m:\u001b[0m\u001b[0;34m\u001b[0m\u001b[0;34m\u001b[0m\u001b[0m\n\u001b[1;32m    496\u001b[0m         \u001b[0;32mif\u001b[0m \u001b[0mcancellation_manager\u001b[0m \u001b[0;32mis\u001b[0m \u001b[0;32mNone\u001b[0m\u001b[0;34m:\u001b[0m\u001b[0;34m\u001b[0m\u001b[0;34m\u001b[0m\u001b[0m\n\u001b[0;32m--> 497\u001b[0;31m           outputs = execute.execute(\n\u001b[0m\u001b[1;32m    498\u001b[0m               \u001b[0mstr\u001b[0m\u001b[0;34m(\u001b[0m\u001b[0mself\u001b[0m\u001b[0;34m.\u001b[0m\u001b[0msignature\u001b[0m\u001b[0;34m.\u001b[0m\u001b[0mname\u001b[0m\u001b[0;34m)\u001b[0m\u001b[0;34m,\u001b[0m\u001b[0;34m\u001b[0m\u001b[0;34m\u001b[0m\u001b[0m\n\u001b[1;32m    499\u001b[0m               \u001b[0mnum_outputs\u001b[0m\u001b[0;34m=\u001b[0m\u001b[0mself\u001b[0m\u001b[0;34m.\u001b[0m\u001b[0m_num_outputs\u001b[0m\u001b[0;34m,\u001b[0m\u001b[0;34m\u001b[0m\u001b[0;34m\u001b[0m\u001b[0m\n",
            "\u001b[0;32m/usr/local/lib/python3.8/dist-packages/tensorflow/python/eager/execute.py\u001b[0m in \u001b[0;36mquick_execute\u001b[0;34m(op_name, num_outputs, inputs, attrs, ctx, name)\u001b[0m\n\u001b[1;32m     52\u001b[0m   \u001b[0;32mtry\u001b[0m\u001b[0;34m:\u001b[0m\u001b[0;34m\u001b[0m\u001b[0;34m\u001b[0m\u001b[0m\n\u001b[1;32m     53\u001b[0m     \u001b[0mctx\u001b[0m\u001b[0;34m.\u001b[0m\u001b[0mensure_initialized\u001b[0m\u001b[0;34m(\u001b[0m\u001b[0;34m)\u001b[0m\u001b[0;34m\u001b[0m\u001b[0;34m\u001b[0m\u001b[0m\n\u001b[0;32m---> 54\u001b[0;31m     tensors = pywrap_tfe.TFE_Py_Execute(ctx._handle, device_name, op_name,\n\u001b[0m\u001b[1;32m     55\u001b[0m                                         inputs, attrs, num_outputs)\n\u001b[1;32m     56\u001b[0m   \u001b[0;32mexcept\u001b[0m \u001b[0mcore\u001b[0m\u001b[0;34m.\u001b[0m\u001b[0m_NotOkStatusException\u001b[0m \u001b[0;32mas\u001b[0m \u001b[0me\u001b[0m\u001b[0;34m:\u001b[0m\u001b[0;34m\u001b[0m\u001b[0;34m\u001b[0m\u001b[0m\n",
            "\u001b[0;31mKeyboardInterrupt\u001b[0m: "
          ]
        }
      ],
      "source": [
        "history_xcept_2 = full_model.fit(normalized_train_ds_aug_v2, \n",
        "                    epochs=10, \n",
        "                    validation_data=normalized_val_ds_xc) "
      ]
    },
    {
      "cell_type": "markdown",
      "metadata": {
        "id": "RSpBKGpvOUy3"
      },
      "source": [
        "### DenseNet (w/Random oversampling)"
      ]
    },
    {
      "cell_type": "code",
      "execution_count": null,
      "metadata": {
        "id": "u1c3Ogb0PzGZ"
      },
      "outputs": [],
      "source": [
        "#https://www.tensorflow.org/tutorials/images/classification\n",
        "AUTOTUNE = tf.data.AUTOTUNE\n",
        "\n",
        "train_ds_prefetch_f = train_ds_f.cache().prefetch(buffer_size=AUTOTUNE)\n",
        "val_ds_prefetch_f = val_ds_f.cache().prefetch(buffer_size=AUTOTUNE)\n",
        "test_ds_prefetch_f = test_ds_f.cache().prefetch(buffer_size=AUTOTUNE)"
      ]
    },
    {
      "cell_type": "code",
      "execution_count": null,
      "metadata": {
        "id": "X7BZPJM8O--l"
      },
      "outputs": [],
      "source": [
        "desnet_preproc_layer = tf.keras.applications.densenet.preprocess_input\n",
        "desnet_train_ds = train_ds_prefetch_f.map(lambda x, y: (desnet_preproc_layer(x), y))\n",
        "desnet_val_ds =val_ds_prefetch_f.map(lambda x, y: (desnet_preproc_layer(x), y))\n",
        "desnet_test_ds = test_ds_prefetch_f.map(lambda x, y: (desnet_preproc_layer(x), y))"
      ]
    },
    {
      "cell_type": "code",
      "execution_count": null,
      "metadata": {
        "id": "m1APZ4H5O--l"
      },
      "outputs": [],
      "source": [
        "normalization_layer = layers.Rescaling(1./224, offset=-1)\n",
        "normalized_train_ds_des = desnet_train_ds.map(lambda x, y: (normalization_layer(x), y))\n",
        "normalized_val_ds_des =desnet_val_ds.map(lambda x, y: (normalization_layer(x), y))\n",
        "normalized_test_ds_des = desnet_test_ds.map(lambda x, y: (normalization_layer(x), y))"
      ]
    },
    {
      "cell_type": "code",
      "execution_count": null,
      "metadata": {
        "id": "vJskLAmSOuAe"
      },
      "outputs": [],
      "source": [
        "densenet_model= tf.keras.applications.DenseNet121(\n",
        "    include_top=False,\n",
        "    weights=\"imagenet\",\n",
        "    input_shape=(224,224,3))\n",
        "\n",
        "for layer in densenet_model.layers: \n",
        "    layer.trainable = False"
      ]
    },
    {
      "cell_type": "code",
      "execution_count": null,
      "metadata": {
        "id": "QIz3N7LwOuAe"
      },
      "outputs": [],
      "source": [
        "full_model = Sequential()\n",
        "full_model.add(densenet_model)\n",
        "full_model.add(Flatten())\n",
        "full_model.add(Dense(1,activation='sigmoid'))"
      ]
    },
    {
      "cell_type": "code",
      "execution_count": null,
      "metadata": {
        "colab": {
          "base_uri": "https://localhost:8080/"
        },
        "id": "jtOjcP0hOuAf",
        "outputId": "98a2b40b-7153-4133-fa67-5c52742d2b42"
      },
      "outputs": [
        {
          "name": "stdout",
          "output_type": "stream",
          "text": [
            "Model: \"sequential_10\"\n",
            "_________________________________________________________________\n",
            " Layer (type)                Output Shape              Param #   \n",
            "=================================================================\n",
            " densenet121 (Functional)    (None, 7, 7, 1024)        7037504   \n",
            "                                                                 \n",
            " flatten_5 (Flatten)         (None, 50176)             0         \n",
            "                                                                 \n",
            " dense_5 (Dense)             (None, 1)                 50177     \n",
            "                                                                 \n",
            "=================================================================\n",
            "Total params: 7,087,681\n",
            "Trainable params: 50,177\n",
            "Non-trainable params: 7,037,504\n",
            "_________________________________________________________________\n"
          ]
        }
      ],
      "source": [
        "full_model.summary()"
      ]
    },
    {
      "cell_type": "code",
      "execution_count": null,
      "metadata": {
        "id": "Jsl5eyLwOuAf"
      },
      "outputs": [],
      "source": [
        "full_model.compile(optimizer='Adam', loss='binary_crossentropy', metrics = [keras.metrics.BinaryAccuracy(),keras.metrics.Recall(), keras.metrics.Precision()])"
      ]
    },
    {
      "cell_type": "code",
      "execution_count": null,
      "metadata": {
        "id": "-wE7Mp3I2Jts"
      },
      "outputs": [],
      "source": [
        "es3 = EarlyStopping(monitor='val_recall', mode='max', verbose=1, patience=6, restore_best_weights=True)"
      ]
    },
    {
      "cell_type": "code",
      "execution_count": null,
      "metadata": {
        "colab": {
          "base_uri": "https://localhost:8080/",
          "height": 436
        },
        "id": "eowQVJ53OuAf",
        "outputId": "7e7e9c53-e0db-4f36-b5b0-cdd1e2798510"
      },
      "outputs": [
        {
          "name": "stdout",
          "output_type": "stream",
          "text": [
            "Epoch 1/10\n",
            "123/123 [==============================] - 27s 222ms/step - loss: 0.2957 - binary_accuracy: 0.8783 - recall: 0.7026 - precision: 0.8602 - val_loss: 0.1126 - val_binary_accuracy: 0.9746 - val_recall: 0.3333 - val_precision: 0.3846\n",
            "Epoch 2/10\n",
            " 31/123 [======>.......................] - ETA: 18s - loss: 0.2874 - binary_accuracy: 0.8831 - recall: 0.6991 - precision: 0.8643"
          ]
        },
        {
          "ename": "KeyboardInterrupt",
          "evalue": "ignored",
          "output_type": "error",
          "traceback": [
            "\u001b[0;31m---------------------------------------------------------------------------\u001b[0m",
            "\u001b[0;31mKeyboardInterrupt\u001b[0m                         Traceback (most recent call last)",
            "\u001b[0;32m<ipython-input-20-441e34429cbf>\u001b[0m in \u001b[0;36m<module>\u001b[0;34m\u001b[0m\n\u001b[0;32m----> 1\u001b[0;31m history_dense_1 = full_model.fit(normalized_train_ds_des,\n\u001b[0m\u001b[1;32m      2\u001b[0m                     \u001b[0mepochs\u001b[0m\u001b[0;34m=\u001b[0m\u001b[0;36m10\u001b[0m\u001b[0;34m,\u001b[0m\u001b[0;34m\u001b[0m\u001b[0;34m\u001b[0m\u001b[0m\n\u001b[1;32m      3\u001b[0m                     validation_data=normalized_val_ds_des, callbacks=[es3]) \n",
            "\u001b[0;32m/usr/local/lib/python3.8/dist-packages/keras/utils/traceback_utils.py\u001b[0m in \u001b[0;36merror_handler\u001b[0;34m(*args, **kwargs)\u001b[0m\n\u001b[1;32m     62\u001b[0m     \u001b[0mfiltered_tb\u001b[0m \u001b[0;34m=\u001b[0m \u001b[0;32mNone\u001b[0m\u001b[0;34m\u001b[0m\u001b[0;34m\u001b[0m\u001b[0m\n\u001b[1;32m     63\u001b[0m     \u001b[0;32mtry\u001b[0m\u001b[0;34m:\u001b[0m\u001b[0;34m\u001b[0m\u001b[0;34m\u001b[0m\u001b[0m\n\u001b[0;32m---> 64\u001b[0;31m       \u001b[0;32mreturn\u001b[0m \u001b[0mfn\u001b[0m\u001b[0;34m(\u001b[0m\u001b[0;34m*\u001b[0m\u001b[0margs\u001b[0m\u001b[0;34m,\u001b[0m \u001b[0;34m**\u001b[0m\u001b[0mkwargs\u001b[0m\u001b[0;34m)\u001b[0m\u001b[0;34m\u001b[0m\u001b[0;34m\u001b[0m\u001b[0m\n\u001b[0m\u001b[1;32m     65\u001b[0m     \u001b[0;32mexcept\u001b[0m \u001b[0mException\u001b[0m \u001b[0;32mas\u001b[0m \u001b[0me\u001b[0m\u001b[0;34m:\u001b[0m  \u001b[0;31m# pylint: disable=broad-except\u001b[0m\u001b[0;34m\u001b[0m\u001b[0;34m\u001b[0m\u001b[0m\n\u001b[1;32m     66\u001b[0m       \u001b[0mfiltered_tb\u001b[0m \u001b[0;34m=\u001b[0m \u001b[0m_process_traceback_frames\u001b[0m\u001b[0;34m(\u001b[0m\u001b[0me\u001b[0m\u001b[0;34m.\u001b[0m\u001b[0m__traceback__\u001b[0m\u001b[0;34m)\u001b[0m\u001b[0;34m\u001b[0m\u001b[0;34m\u001b[0m\u001b[0m\n",
            "\u001b[0;32m/usr/local/lib/python3.8/dist-packages/keras/engine/training.py\u001b[0m in \u001b[0;36mfit\u001b[0;34m(self, x, y, batch_size, epochs, verbose, callbacks, validation_split, validation_data, shuffle, class_weight, sample_weight, initial_epoch, steps_per_epoch, validation_steps, validation_batch_size, validation_freq, max_queue_size, workers, use_multiprocessing)\u001b[0m\n\u001b[1;32m   1407\u001b[0m                 _r=1):\n\u001b[1;32m   1408\u001b[0m               \u001b[0mcallbacks\u001b[0m\u001b[0;34m.\u001b[0m\u001b[0mon_train_batch_begin\u001b[0m\u001b[0;34m(\u001b[0m\u001b[0mstep\u001b[0m\u001b[0;34m)\u001b[0m\u001b[0;34m\u001b[0m\u001b[0;34m\u001b[0m\u001b[0m\n\u001b[0;32m-> 1409\u001b[0;31m               \u001b[0mtmp_logs\u001b[0m \u001b[0;34m=\u001b[0m \u001b[0mself\u001b[0m\u001b[0;34m.\u001b[0m\u001b[0mtrain_function\u001b[0m\u001b[0;34m(\u001b[0m\u001b[0miterator\u001b[0m\u001b[0;34m)\u001b[0m\u001b[0;34m\u001b[0m\u001b[0;34m\u001b[0m\u001b[0m\n\u001b[0m\u001b[1;32m   1410\u001b[0m               \u001b[0;32mif\u001b[0m \u001b[0mdata_handler\u001b[0m\u001b[0;34m.\u001b[0m\u001b[0mshould_sync\u001b[0m\u001b[0;34m:\u001b[0m\u001b[0;34m\u001b[0m\u001b[0;34m\u001b[0m\u001b[0m\n\u001b[1;32m   1411\u001b[0m                 \u001b[0mcontext\u001b[0m\u001b[0;34m.\u001b[0m\u001b[0masync_wait\u001b[0m\u001b[0;34m(\u001b[0m\u001b[0;34m)\u001b[0m\u001b[0;34m\u001b[0m\u001b[0;34m\u001b[0m\u001b[0m\n",
            "\u001b[0;32m/usr/local/lib/python3.8/dist-packages/tensorflow/python/util/traceback_utils.py\u001b[0m in \u001b[0;36merror_handler\u001b[0;34m(*args, **kwargs)\u001b[0m\n\u001b[1;32m    148\u001b[0m     \u001b[0mfiltered_tb\u001b[0m \u001b[0;34m=\u001b[0m \u001b[0;32mNone\u001b[0m\u001b[0;34m\u001b[0m\u001b[0;34m\u001b[0m\u001b[0m\n\u001b[1;32m    149\u001b[0m     \u001b[0;32mtry\u001b[0m\u001b[0;34m:\u001b[0m\u001b[0;34m\u001b[0m\u001b[0;34m\u001b[0m\u001b[0m\n\u001b[0;32m--> 150\u001b[0;31m       \u001b[0;32mreturn\u001b[0m \u001b[0mfn\u001b[0m\u001b[0;34m(\u001b[0m\u001b[0;34m*\u001b[0m\u001b[0margs\u001b[0m\u001b[0;34m,\u001b[0m \u001b[0;34m**\u001b[0m\u001b[0mkwargs\u001b[0m\u001b[0;34m)\u001b[0m\u001b[0;34m\u001b[0m\u001b[0;34m\u001b[0m\u001b[0m\n\u001b[0m\u001b[1;32m    151\u001b[0m     \u001b[0;32mexcept\u001b[0m \u001b[0mException\u001b[0m \u001b[0;32mas\u001b[0m \u001b[0me\u001b[0m\u001b[0;34m:\u001b[0m\u001b[0;34m\u001b[0m\u001b[0;34m\u001b[0m\u001b[0m\n\u001b[1;32m    152\u001b[0m       \u001b[0mfiltered_tb\u001b[0m \u001b[0;34m=\u001b[0m \u001b[0m_process_traceback_frames\u001b[0m\u001b[0;34m(\u001b[0m\u001b[0me\u001b[0m\u001b[0;34m.\u001b[0m\u001b[0m__traceback__\u001b[0m\u001b[0;34m)\u001b[0m\u001b[0;34m\u001b[0m\u001b[0;34m\u001b[0m\u001b[0m\n",
            "\u001b[0;32m/usr/local/lib/python3.8/dist-packages/tensorflow/python/eager/def_function.py\u001b[0m in \u001b[0;36m__call__\u001b[0;34m(self, *args, **kwds)\u001b[0m\n\u001b[1;32m    913\u001b[0m \u001b[0;34m\u001b[0m\u001b[0m\n\u001b[1;32m    914\u001b[0m       \u001b[0;32mwith\u001b[0m \u001b[0mOptionalXlaContext\u001b[0m\u001b[0;34m(\u001b[0m\u001b[0mself\u001b[0m\u001b[0;34m.\u001b[0m\u001b[0m_jit_compile\u001b[0m\u001b[0;34m)\u001b[0m\u001b[0;34m:\u001b[0m\u001b[0;34m\u001b[0m\u001b[0;34m\u001b[0m\u001b[0m\n\u001b[0;32m--> 915\u001b[0;31m         \u001b[0mresult\u001b[0m \u001b[0;34m=\u001b[0m \u001b[0mself\u001b[0m\u001b[0;34m.\u001b[0m\u001b[0m_call\u001b[0m\u001b[0;34m(\u001b[0m\u001b[0;34m*\u001b[0m\u001b[0margs\u001b[0m\u001b[0;34m,\u001b[0m \u001b[0;34m**\u001b[0m\u001b[0mkwds\u001b[0m\u001b[0;34m)\u001b[0m\u001b[0;34m\u001b[0m\u001b[0;34m\u001b[0m\u001b[0m\n\u001b[0m\u001b[1;32m    916\u001b[0m \u001b[0;34m\u001b[0m\u001b[0m\n\u001b[1;32m    917\u001b[0m       \u001b[0mnew_tracing_count\u001b[0m \u001b[0;34m=\u001b[0m \u001b[0mself\u001b[0m\u001b[0;34m.\u001b[0m\u001b[0mexperimental_get_tracing_count\u001b[0m\u001b[0;34m(\u001b[0m\u001b[0;34m)\u001b[0m\u001b[0;34m\u001b[0m\u001b[0;34m\u001b[0m\u001b[0m\n",
            "\u001b[0;32m/usr/local/lib/python3.8/dist-packages/tensorflow/python/eager/def_function.py\u001b[0m in \u001b[0;36m_call\u001b[0;34m(self, *args, **kwds)\u001b[0m\n\u001b[1;32m    945\u001b[0m       \u001b[0;31m# In this case we have created variables on the first call, so we run the\u001b[0m\u001b[0;34m\u001b[0m\u001b[0;34m\u001b[0m\u001b[0;34m\u001b[0m\u001b[0m\n\u001b[1;32m    946\u001b[0m       \u001b[0;31m# defunned version which is guaranteed to never create variables.\u001b[0m\u001b[0;34m\u001b[0m\u001b[0;34m\u001b[0m\u001b[0;34m\u001b[0m\u001b[0m\n\u001b[0;32m--> 947\u001b[0;31m       \u001b[0;32mreturn\u001b[0m \u001b[0mself\u001b[0m\u001b[0;34m.\u001b[0m\u001b[0m_stateless_fn\u001b[0m\u001b[0;34m(\u001b[0m\u001b[0;34m*\u001b[0m\u001b[0margs\u001b[0m\u001b[0;34m,\u001b[0m \u001b[0;34m**\u001b[0m\u001b[0mkwds\u001b[0m\u001b[0;34m)\u001b[0m  \u001b[0;31m# pylint: disable=not-callable\u001b[0m\u001b[0;34m\u001b[0m\u001b[0;34m\u001b[0m\u001b[0m\n\u001b[0m\u001b[1;32m    948\u001b[0m     \u001b[0;32melif\u001b[0m \u001b[0mself\u001b[0m\u001b[0;34m.\u001b[0m\u001b[0m_stateful_fn\u001b[0m \u001b[0;32mis\u001b[0m \u001b[0;32mnot\u001b[0m \u001b[0;32mNone\u001b[0m\u001b[0;34m:\u001b[0m\u001b[0;34m\u001b[0m\u001b[0;34m\u001b[0m\u001b[0m\n\u001b[1;32m    949\u001b[0m       \u001b[0;31m# Release the lock early so that multiple threads can perform the call\u001b[0m\u001b[0;34m\u001b[0m\u001b[0;34m\u001b[0m\u001b[0;34m\u001b[0m\u001b[0m\n",
            "\u001b[0;32m/usr/local/lib/python3.8/dist-packages/tensorflow/python/eager/function.py\u001b[0m in \u001b[0;36m__call__\u001b[0;34m(self, *args, **kwargs)\u001b[0m\n\u001b[1;32m   2451\u001b[0m       (graph_function,\n\u001b[1;32m   2452\u001b[0m        filtered_flat_args) = self._maybe_define_function(args, kwargs)\n\u001b[0;32m-> 2453\u001b[0;31m     return graph_function._call_flat(\n\u001b[0m\u001b[1;32m   2454\u001b[0m         filtered_flat_args, captured_inputs=graph_function.captured_inputs)  # pylint: disable=protected-access\n\u001b[1;32m   2455\u001b[0m \u001b[0;34m\u001b[0m\u001b[0m\n",
            "\u001b[0;32m/usr/local/lib/python3.8/dist-packages/tensorflow/python/eager/function.py\u001b[0m in \u001b[0;36m_call_flat\u001b[0;34m(self, args, captured_inputs, cancellation_manager)\u001b[0m\n\u001b[1;32m   1858\u001b[0m         and executing_eagerly):\n\u001b[1;32m   1859\u001b[0m       \u001b[0;31m# No tape is watching; skip to running the function.\u001b[0m\u001b[0;34m\u001b[0m\u001b[0;34m\u001b[0m\u001b[0;34m\u001b[0m\u001b[0m\n\u001b[0;32m-> 1860\u001b[0;31m       return self._build_call_outputs(self._inference_function.call(\n\u001b[0m\u001b[1;32m   1861\u001b[0m           ctx, args, cancellation_manager=cancellation_manager))\n\u001b[1;32m   1862\u001b[0m     forward_backward = self._select_forward_and_backward_functions(\n",
            "\u001b[0;32m/usr/local/lib/python3.8/dist-packages/tensorflow/python/eager/function.py\u001b[0m in \u001b[0;36mcall\u001b[0;34m(self, ctx, args, cancellation_manager)\u001b[0m\n\u001b[1;32m    495\u001b[0m       \u001b[0;32mwith\u001b[0m \u001b[0m_InterpolateFunctionError\u001b[0m\u001b[0;34m(\u001b[0m\u001b[0mself\u001b[0m\u001b[0;34m)\u001b[0m\u001b[0;34m:\u001b[0m\u001b[0;34m\u001b[0m\u001b[0;34m\u001b[0m\u001b[0m\n\u001b[1;32m    496\u001b[0m         \u001b[0;32mif\u001b[0m \u001b[0mcancellation_manager\u001b[0m \u001b[0;32mis\u001b[0m \u001b[0;32mNone\u001b[0m\u001b[0;34m:\u001b[0m\u001b[0;34m\u001b[0m\u001b[0;34m\u001b[0m\u001b[0m\n\u001b[0;32m--> 497\u001b[0;31m           outputs = execute.execute(\n\u001b[0m\u001b[1;32m    498\u001b[0m               \u001b[0mstr\u001b[0m\u001b[0;34m(\u001b[0m\u001b[0mself\u001b[0m\u001b[0;34m.\u001b[0m\u001b[0msignature\u001b[0m\u001b[0;34m.\u001b[0m\u001b[0mname\u001b[0m\u001b[0;34m)\u001b[0m\u001b[0;34m,\u001b[0m\u001b[0;34m\u001b[0m\u001b[0;34m\u001b[0m\u001b[0m\n\u001b[1;32m    499\u001b[0m               \u001b[0mnum_outputs\u001b[0m\u001b[0;34m=\u001b[0m\u001b[0mself\u001b[0m\u001b[0;34m.\u001b[0m\u001b[0m_num_outputs\u001b[0m\u001b[0;34m,\u001b[0m\u001b[0;34m\u001b[0m\u001b[0;34m\u001b[0m\u001b[0m\n",
            "\u001b[0;32m/usr/local/lib/python3.8/dist-packages/tensorflow/python/eager/execute.py\u001b[0m in \u001b[0;36mquick_execute\u001b[0;34m(op_name, num_outputs, inputs, attrs, ctx, name)\u001b[0m\n\u001b[1;32m     52\u001b[0m   \u001b[0;32mtry\u001b[0m\u001b[0;34m:\u001b[0m\u001b[0;34m\u001b[0m\u001b[0;34m\u001b[0m\u001b[0m\n\u001b[1;32m     53\u001b[0m     \u001b[0mctx\u001b[0m\u001b[0;34m.\u001b[0m\u001b[0mensure_initialized\u001b[0m\u001b[0;34m(\u001b[0m\u001b[0;34m)\u001b[0m\u001b[0;34m\u001b[0m\u001b[0;34m\u001b[0m\u001b[0m\n\u001b[0;32m---> 54\u001b[0;31m     tensors = pywrap_tfe.TFE_Py_Execute(ctx._handle, device_name, op_name,\n\u001b[0m\u001b[1;32m     55\u001b[0m                                         inputs, attrs, num_outputs)\n\u001b[1;32m     56\u001b[0m   \u001b[0;32mexcept\u001b[0m \u001b[0mcore\u001b[0m\u001b[0;34m.\u001b[0m\u001b[0m_NotOkStatusException\u001b[0m \u001b[0;32mas\u001b[0m \u001b[0me\u001b[0m\u001b[0;34m:\u001b[0m\u001b[0;34m\u001b[0m\u001b[0;34m\u001b[0m\u001b[0m\n",
            "\u001b[0;31mKeyboardInterrupt\u001b[0m: "
          ]
        }
      ],
      "source": [
        "history_dense_1 = full_model.fit(normalized_train_ds_des,\n",
        "                    epochs=10, \n",
        "                    validation_data=normalized_val_ds_des, callbacks=[es3]) "
      ]
    },
    {
      "cell_type": "code",
      "execution_count": null,
      "metadata": {
        "id": "3VVIQszDRfWq"
      },
      "outputs": [],
      "source": [
        "data_augmentation_adam = keras.Sequential(\n",
        "    [keras.layers.RandomFlip(\"horizontal\"), keras.layers.RandomRotation(0.1), keras.layers.RandomContrast(0.1)]\n",
        ")"
      ]
    },
    {
      "cell_type": "code",
      "execution_count": null,
      "metadata": {
        "id": "ZxW_zY0sOuAf"
      },
      "outputs": [],
      "source": [
        "desnet_train_ds_aug_adam = train_ds_prefetch_f.map(lambda x, y: (data_augmentation_adam(x), y))\n"
      ]
    },
    {
      "cell_type": "code",
      "execution_count": null,
      "metadata": {
        "id": "aBkSMK-sOuAf"
      },
      "outputs": [],
      "source": [
        "desnet_train_ds_aug_adam = desnet_train_ds_aug_adam.map(lambda x, y: (desnet_preproc_layer(x), y))\n",
        "normalized_train_ds_des_aug_adam = desnet_train_ds_aug_adam.map(lambda x, y: (normalization_layer(x), y))"
      ]
    },
    {
      "cell_type": "code",
      "execution_count": null,
      "metadata": {
        "colab": {
          "base_uri": "https://localhost:8080/"
        },
        "id": "gcJv--pVOuAf",
        "outputId": "a195654f-a172-4fd6-b803-646a6a13d409"
      },
      "outputs": [
        {
          "name": "stdout",
          "output_type": "stream",
          "text": [
            "Epoch 1/30\n",
            "123/123 [==============================] - 28s 226ms/step - loss: 0.1685 - binary_accuracy: 0.9485 - recall: 0.8970 - precision: 0.9265 - val_loss: 0.0940 - val_binary_accuracy: 0.9760 - val_recall: 0.4000 - val_precision: 0.4286\n",
            "Epoch 2/30\n",
            "123/123 [==============================] - 27s 219ms/step - loss: 0.1540 - binary_accuracy: 0.9584 - recall: 0.9216 - precision: 0.9369 - val_loss: 0.0922 - val_binary_accuracy: 0.9746 - val_recall: 0.4000 - val_precision: 0.4000\n",
            "Epoch 3/30\n",
            "123/123 [==============================] - 27s 221ms/step - loss: 0.1394 - binary_accuracy: 0.9649 - recall: 0.9405 - precision: 0.9409 - val_loss: 0.0882 - val_binary_accuracy: 0.9760 - val_recall: 0.4000 - val_precision: 0.4286\n",
            "Epoch 4/30\n",
            "123/123 [==============================] - 27s 220ms/step - loss: 0.1283 - binary_accuracy: 0.9703 - recall: 0.9534 - precision: 0.9465 - val_loss: 0.0844 - val_binary_accuracy: 0.9774 - val_recall: 0.4000 - val_precision: 0.4615\n",
            "Epoch 5/30\n",
            "123/123 [==============================] - 27s 217ms/step - loss: 0.1197 - binary_accuracy: 0.9744 - recall: 0.9629 - precision: 0.9510 - val_loss: 0.0824 - val_binary_accuracy: 0.9774 - val_recall: 0.4000 - val_precision: 0.4615\n",
            "Epoch 6/30\n",
            "123/123 [==============================] - 27s 220ms/step - loss: 0.1126 - binary_accuracy: 0.9755 - recall: 0.9642 - precision: 0.9535 - val_loss: 0.0829 - val_binary_accuracy: 0.9774 - val_recall: 0.4000 - val_precision: 0.4615\n",
            "Epoch 7/30\n",
            "123/123 [==============================] - ETA: 0s - loss: 0.1055 - binary_accuracy: 0.9767 - recall: 0.9655 - precision: 0.9560Restoring model weights from the end of the best epoch: 1.\n",
            "123/123 [==============================] - 27s 217ms/step - loss: 0.1055 - binary_accuracy: 0.9767 - recall: 0.9655 - precision: 0.9560 - val_loss: 0.0860 - val_binary_accuracy: 0.9760 - val_recall: 0.4000 - val_precision: 0.4286\n",
            "Epoch 7: early stopping\n"
          ]
        }
      ],
      "source": [
        "history_dense_1_aug = full_model.fit(normalized_train_ds_des_aug_adam,\n",
        "                    epochs=30, \n",
        "                    validation_data=normalized_val_ds_des, callbacks=[es3]) #if I included the callbacks here then I could've saed one of the versions w/recall + precision for val set?"
      ]
    },
    {
      "cell_type": "code",
      "execution_count": null,
      "metadata": {
        "colab": {
          "base_uri": "https://localhost:8080/"
        },
        "id": "Td4F02x68K02",
        "outputId": "95802ac3-6d2b-4311-82eb-2494e219d566"
      },
      "outputs": [
        {
          "name": "stdout",
          "output_type": "stream",
          "text": [
            "Epoch 1/30\n",
            "123/123 [==============================] - 27s 221ms/step - loss: 0.1536 - binary_accuracy: 0.9568 - recall: 0.9181 - precision: 0.9346 - val_loss: 0.0994 - val_binary_accuracy: 0.9746 - val_recall: 0.4000 - val_precision: 0.4000\n",
            "Epoch 2/30\n",
            "123/123 [==============================] - 27s 220ms/step - loss: 0.1361 - binary_accuracy: 0.9652 - recall: 0.9435 - precision: 0.9391 - val_loss: 0.0894 - val_binary_accuracy: 0.9760 - val_recall: 0.4000 - val_precision: 0.4286\n",
            "Epoch 3/30\n",
            "123/123 [==============================] - 26s 214ms/step - loss: 0.1238 - binary_accuracy: 0.9716 - recall: 0.9552 - precision: 0.9490 - val_loss: 0.0867 - val_binary_accuracy: 0.9774 - val_recall: 0.4000 - val_precision: 0.4615\n",
            "Epoch 4/30\n",
            "123/123 [==============================] - 26s 214ms/step - loss: 0.1134 - binary_accuracy: 0.9773 - recall: 0.9690 - precision: 0.9550 - val_loss: 0.0849 - val_binary_accuracy: 0.9774 - val_recall: 0.4000 - val_precision: 0.4615\n",
            "Epoch 5/30\n",
            "123/123 [==============================] - 27s 217ms/step - loss: 0.1049 - binary_accuracy: 0.9800 - recall: 0.9741 - precision: 0.9588 - val_loss: 0.0819 - val_binary_accuracy: 0.9802 - val_recall: 0.4000 - val_precision: 0.5455\n",
            "Epoch 6/30\n",
            "123/123 [==============================] - 27s 221ms/step - loss: 0.0982 - binary_accuracy: 0.9813 - recall: 0.9772 - precision: 0.9602 - val_loss: 0.0796 - val_binary_accuracy: 0.9802 - val_recall: 0.4000 - val_precision: 0.5455\n",
            "Epoch 7/30\n",
            "123/123 [==============================] - ETA: 0s - loss: 0.0928 - binary_accuracy: 0.9824 - recall: 0.9793 - precision: 0.9619Restoring model weights from the end of the best epoch: 1.\n",
            "123/123 [==============================] - 26s 214ms/step - loss: 0.0928 - binary_accuracy: 0.9824 - recall: 0.9793 - precision: 0.9619 - val_loss: 0.0791 - val_binary_accuracy: 0.9802 - val_recall: 0.4000 - val_precision: 0.5455\n",
            "Epoch 7: early stopping\n"
          ]
        }
      ],
      "source": [
        "history_dense_1_augv2 = full_model.fit(normalized_train_ds_des_aug_adam,\n",
        "                    epochs=30, \n",
        "                    validation_data=normalized_val_ds_des, callbacks=[es3]) #doing early stopping multiple times as it learned"
      ]
    },
    {
      "cell_type": "code",
      "execution_count": null,
      "metadata": {
        "id": "J9uBRxjk9rbM"
      },
      "outputs": [],
      "source": [
        "es4 = EarlyStopping(monitor='val_recall', mode='max', verbose=1, patience=10, restore_best_weights=True)"
      ]
    },
    {
      "cell_type": "code",
      "execution_count": null,
      "metadata": {
        "colab": {
          "base_uri": "https://localhost:8080/"
        },
        "id": "Vx9gZCvx9mNe",
        "outputId": "6e9156bd-a772-471e-fec8-b23f5030bc7a"
      },
      "outputs": [
        {
          "name": "stdout",
          "output_type": "stream",
          "text": [
            "Epoch 1/30\n",
            "123/123 [==============================] - 27s 217ms/step - loss: 0.1359 - binary_accuracy: 0.9658 - recall: 0.9409 - precision: 0.9434 - val_loss: 0.1123 - val_binary_accuracy: 0.9746 - val_recall: 0.5333 - val_precision: 0.4211\n",
            "Epoch 2/30\n",
            "123/123 [==============================] - 27s 218ms/step - loss: 0.1209 - binary_accuracy: 0.9741 - recall: 0.9634 - precision: 0.9499 - val_loss: 0.0941 - val_binary_accuracy: 0.9746 - val_recall: 0.4000 - val_precision: 0.4000\n",
            "Epoch 3/30\n",
            "123/123 [==============================] - 27s 216ms/step - loss: 0.1098 - binary_accuracy: 0.9771 - recall: 0.9703 - precision: 0.9530 - val_loss: 0.0861 - val_binary_accuracy: 0.9774 - val_recall: 0.4000 - val_precision: 0.4615\n",
            "Epoch 4/30\n",
            "123/123 [==============================] - 27s 221ms/step - loss: 0.1011 - binary_accuracy: 0.9811 - recall: 0.9776 - precision: 0.9594 - val_loss: 0.0832 - val_binary_accuracy: 0.9788 - val_recall: 0.3333 - val_precision: 0.5000\n",
            "Epoch 5/30\n",
            "123/123 [==============================] - 26s 214ms/step - loss: 0.0935 - binary_accuracy: 0.9841 - recall: 0.9815 - precision: 0.9652 - val_loss: 0.0819 - val_binary_accuracy: 0.9788 - val_recall: 0.3333 - val_precision: 0.5000\n",
            "Epoch 6/30\n",
            "123/123 [==============================] - 27s 215ms/step - loss: 0.0872 - binary_accuracy: 0.9853 - recall: 0.9853 - precision: 0.9658 - val_loss: 0.0799 - val_binary_accuracy: 0.9788 - val_recall: 0.3333 - val_precision: 0.5000\n",
            "Epoch 7/30\n",
            "123/123 [==============================] - 27s 220ms/step - loss: 0.0820 - binary_accuracy: 0.9869 - recall: 0.9875 - precision: 0.9687 - val_loss: 0.0781 - val_binary_accuracy: 0.9802 - val_recall: 0.3333 - val_precision: 0.5556\n",
            "Epoch 8/30\n",
            "123/123 [==============================] - 26s 212ms/step - loss: 0.0779 - binary_accuracy: 0.9876 - recall: 0.9871 - precision: 0.9716 - val_loss: 0.0774 - val_binary_accuracy: 0.9802 - val_recall: 0.3333 - val_precision: 0.5556\n",
            "Epoch 9/30\n",
            "123/123 [==============================] - 27s 217ms/step - loss: 0.0741 - binary_accuracy: 0.9881 - recall: 0.9866 - precision: 0.9736 - val_loss: 0.0785 - val_binary_accuracy: 0.9802 - val_recall: 0.3333 - val_precision: 0.5556\n",
            "Epoch 10/30\n",
            "123/123 [==============================] - 27s 220ms/step - loss: 0.0702 - binary_accuracy: 0.9894 - recall: 0.9892 - precision: 0.9754 - val_loss: 0.0816 - val_binary_accuracy: 0.9802 - val_recall: 0.4000 - val_precision: 0.5455\n",
            "Epoch 11/30\n",
            "123/123 [==============================] - ETA: 0s - loss: 0.0657 - binary_accuracy: 0.9907 - recall: 0.9901 - precision: 0.9787Restoring model weights from the end of the best epoch: 1.\n",
            "123/123 [==============================] - 27s 218ms/step - loss: 0.0657 - binary_accuracy: 0.9907 - recall: 0.9901 - precision: 0.9787 - val_loss: 0.0860 - val_binary_accuracy: 0.9802 - val_recall: 0.4000 - val_precision: 0.5455\n",
            "Epoch 11: early stopping\n"
          ]
        }
      ],
      "source": [
        "history_dense_1_augv3 = full_model.fit(normalized_train_ds_des_aug_adam,\n",
        "                    epochs=30, \n",
        "                    validation_data=normalized_val_ds_des, callbacks=[es4]) #early stopping on to of the last fit (history_dense_1_augv2), if I understand correctly"
      ]
    },
    {
      "cell_type": "code",
      "execution_count": null,
      "metadata": {
        "colab": {
          "base_uri": "https://localhost:8080/"
        },
        "id": "dr2jeeVVKPe3",
        "outputId": "ac4c71bf-8738-4712-c878-b27917fa1d8c"
      },
      "outputs": [
        {
          "name": "stderr",
          "output_type": "stream",
          "text": [
            "WARNING:absl:Found untraced functions such as _jit_compiled_convolution_op, _jit_compiled_convolution_op, _jit_compiled_convolution_op, _jit_compiled_convolution_op, _jit_compiled_convolution_op while saving (showing 5 of 120). These functions will not be directly callable after loading.\n"
          ]
        }
      ],
      "source": [
        "full_model.save('/content/gdrive/MyDrive/densenet_v1')\n",
        "full_model.save('/content/gdrive/MyDrive/densenet_v1.h5')\n",
        "full_model.save_weights('/content/gdrive/MyDrive/densenet_v1_checkpoint_weights')"
      ]
    },
    {
      "cell_type": "code",
      "execution_count": null,
      "metadata": {
        "id": "R3awvXIwKPe3"
      },
      "outputs": [],
      "source": [
        "\n",
        "ROS_d=load_model('/content/gdrive/MyDrive/densenet_v1')"
      ]
    },
    {
      "cell_type": "code",
      "execution_count": null,
      "metadata": {
        "id": "NY1MS5mbN8rj"
      },
      "outputs": [],
      "source": [
        "es5 = EarlyStopping(monitor='val_recall_1', mode='max', verbose=1, patience=10, restore_best_weights=True)"
      ]
    },
    {
      "cell_type": "code",
      "execution_count": null,
      "metadata": {
        "id": "92C4us3ONKlw"
      },
      "outputs": [],
      "source": [
        "ROS_d.compile(loss='binary_crossentropy',\n",
        "              optimizer=keras.optimizers.Adam(learning_rate=0.0001), #slower learning rate?\n",
        "              metrics=[keras.metrics.BinaryAccuracy(), keras.metrics.Recall(), keras.metrics.Precision()])"
      ]
    },
    {
      "cell_type": "code",
      "execution_count": null,
      "metadata": {
        "colab": {
          "base_uri": "https://localhost:8080/",
          "height": 575
        },
        "id": "iyK7gEhjKk9m",
        "outputId": "04f18460-afa3-4c62-830d-1a35f95727f8"
      },
      "outputs": [
        {
          "name": "stdout",
          "output_type": "stream",
          "text": [
            "Epoch 1/30\n",
            "123/123 [==============================] - 27s 221ms/step - loss: 0.1169 - binary_accuracy: 0.9802 - recall_1: 0.9797 - precision_1: 0.9546 - val_loss: 0.1279 - val_binary_accuracy: 0.9661 - val_recall_1: 0.5333 - val_precision_1: 0.3200\n",
            "Epoch 2/30\n",
            "123/123 [==============================] - 27s 220ms/step - loss: 0.1150 - binary_accuracy: 0.9818 - recall_1: 0.9815 - precision_1: 0.9579 - val_loss: 0.1272 - val_binary_accuracy: 0.9661 - val_recall_1: 0.5333 - val_precision_1: 0.3200\n",
            "Epoch 3/30\n",
            "123/123 [==============================] - 27s 218ms/step - loss: 0.1134 - binary_accuracy: 0.9824 - recall_1: 0.9836 - precision_1: 0.9580 - val_loss: 0.1263 - val_binary_accuracy: 0.9661 - val_recall_1: 0.5333 - val_precision_1: 0.3200\n",
            "Epoch 4/30\n",
            "123/123 [==============================] - 27s 221ms/step - loss: 0.1119 - binary_accuracy: 0.9825 - recall_1: 0.9836 - precision_1: 0.9584 - val_loss: 0.1254 - val_binary_accuracy: 0.9661 - val_recall_1: 0.5333 - val_precision_1: 0.3200\n",
            "Epoch 5/30\n",
            "123/123 [==============================] - 27s 218ms/step - loss: 0.1104 - binary_accuracy: 0.9832 - recall_1: 0.9853 - precision_1: 0.9589 - val_loss: 0.1245 - val_binary_accuracy: 0.9661 - val_recall_1: 0.5333 - val_precision_1: 0.3200\n",
            "Epoch 6/30\n",
            " 91/123 [=====================>........] - ETA: 6s - loss: 0.1099 - binary_accuracy: 0.9832 - recall_1: 0.9879 - precision_1: 0.9571"
          ]
        },
        {
          "ename": "KeyboardInterrupt",
          "evalue": "ignored",
          "output_type": "error",
          "traceback": [
            "\u001b[0;31m---------------------------------------------------------------------------\u001b[0m",
            "\u001b[0;31mKeyboardInterrupt\u001b[0m                         Traceback (most recent call last)",
            "\u001b[0;32m<ipython-input-46-7a0055a3337c>\u001b[0m in \u001b[0;36m<module>\u001b[0;34m\u001b[0m\n\u001b[0;32m----> 1\u001b[0;31m history_dense_1_augv4= ROS_d.fit(normalized_train_ds_des_aug_adam,\n\u001b[0m\u001b[1;32m      2\u001b[0m                                  \u001b[0mepochs\u001b[0m\u001b[0;34m=\u001b[0m\u001b[0;36m30\u001b[0m\u001b[0;34m,\u001b[0m\u001b[0;34m\u001b[0m\u001b[0;34m\u001b[0m\u001b[0m\n\u001b[1;32m      3\u001b[0m                                  validation_data=normalized_val_ds_des, callbacks=[es5])\n",
            "\u001b[0;32m/usr/local/lib/python3.8/dist-packages/keras/utils/traceback_utils.py\u001b[0m in \u001b[0;36merror_handler\u001b[0;34m(*args, **kwargs)\u001b[0m\n\u001b[1;32m     62\u001b[0m     \u001b[0mfiltered_tb\u001b[0m \u001b[0;34m=\u001b[0m \u001b[0;32mNone\u001b[0m\u001b[0;34m\u001b[0m\u001b[0;34m\u001b[0m\u001b[0m\n\u001b[1;32m     63\u001b[0m     \u001b[0;32mtry\u001b[0m\u001b[0;34m:\u001b[0m\u001b[0;34m\u001b[0m\u001b[0;34m\u001b[0m\u001b[0m\n\u001b[0;32m---> 64\u001b[0;31m       \u001b[0;32mreturn\u001b[0m \u001b[0mfn\u001b[0m\u001b[0;34m(\u001b[0m\u001b[0;34m*\u001b[0m\u001b[0margs\u001b[0m\u001b[0;34m,\u001b[0m \u001b[0;34m**\u001b[0m\u001b[0mkwargs\u001b[0m\u001b[0;34m)\u001b[0m\u001b[0;34m\u001b[0m\u001b[0;34m\u001b[0m\u001b[0m\n\u001b[0m\u001b[1;32m     65\u001b[0m     \u001b[0;32mexcept\u001b[0m \u001b[0mException\u001b[0m \u001b[0;32mas\u001b[0m \u001b[0me\u001b[0m\u001b[0;34m:\u001b[0m  \u001b[0;31m# pylint: disable=broad-except\u001b[0m\u001b[0;34m\u001b[0m\u001b[0;34m\u001b[0m\u001b[0m\n\u001b[1;32m     66\u001b[0m       \u001b[0mfiltered_tb\u001b[0m \u001b[0;34m=\u001b[0m \u001b[0m_process_traceback_frames\u001b[0m\u001b[0;34m(\u001b[0m\u001b[0me\u001b[0m\u001b[0;34m.\u001b[0m\u001b[0m__traceback__\u001b[0m\u001b[0;34m)\u001b[0m\u001b[0;34m\u001b[0m\u001b[0;34m\u001b[0m\u001b[0m\n",
            "\u001b[0;32m/usr/local/lib/python3.8/dist-packages/keras/engine/training.py\u001b[0m in \u001b[0;36mfit\u001b[0;34m(self, x, y, batch_size, epochs, verbose, callbacks, validation_split, validation_data, shuffle, class_weight, sample_weight, initial_epoch, steps_per_epoch, validation_steps, validation_batch_size, validation_freq, max_queue_size, workers, use_multiprocessing)\u001b[0m\n\u001b[1;32m   1407\u001b[0m                 _r=1):\n\u001b[1;32m   1408\u001b[0m               \u001b[0mcallbacks\u001b[0m\u001b[0;34m.\u001b[0m\u001b[0mon_train_batch_begin\u001b[0m\u001b[0;34m(\u001b[0m\u001b[0mstep\u001b[0m\u001b[0;34m)\u001b[0m\u001b[0;34m\u001b[0m\u001b[0;34m\u001b[0m\u001b[0m\n\u001b[0;32m-> 1409\u001b[0;31m               \u001b[0mtmp_logs\u001b[0m \u001b[0;34m=\u001b[0m \u001b[0mself\u001b[0m\u001b[0;34m.\u001b[0m\u001b[0mtrain_function\u001b[0m\u001b[0;34m(\u001b[0m\u001b[0miterator\u001b[0m\u001b[0;34m)\u001b[0m\u001b[0;34m\u001b[0m\u001b[0;34m\u001b[0m\u001b[0m\n\u001b[0m\u001b[1;32m   1410\u001b[0m               \u001b[0;32mif\u001b[0m \u001b[0mdata_handler\u001b[0m\u001b[0;34m.\u001b[0m\u001b[0mshould_sync\u001b[0m\u001b[0;34m:\u001b[0m\u001b[0;34m\u001b[0m\u001b[0;34m\u001b[0m\u001b[0m\n\u001b[1;32m   1411\u001b[0m                 \u001b[0mcontext\u001b[0m\u001b[0;34m.\u001b[0m\u001b[0masync_wait\u001b[0m\u001b[0;34m(\u001b[0m\u001b[0;34m)\u001b[0m\u001b[0;34m\u001b[0m\u001b[0;34m\u001b[0m\u001b[0m\n",
            "\u001b[0;32m/usr/local/lib/python3.8/dist-packages/tensorflow/python/util/traceback_utils.py\u001b[0m in \u001b[0;36merror_handler\u001b[0;34m(*args, **kwargs)\u001b[0m\n\u001b[1;32m    148\u001b[0m     \u001b[0mfiltered_tb\u001b[0m \u001b[0;34m=\u001b[0m \u001b[0;32mNone\u001b[0m\u001b[0;34m\u001b[0m\u001b[0;34m\u001b[0m\u001b[0m\n\u001b[1;32m    149\u001b[0m     \u001b[0;32mtry\u001b[0m\u001b[0;34m:\u001b[0m\u001b[0;34m\u001b[0m\u001b[0;34m\u001b[0m\u001b[0m\n\u001b[0;32m--> 150\u001b[0;31m       \u001b[0;32mreturn\u001b[0m \u001b[0mfn\u001b[0m\u001b[0;34m(\u001b[0m\u001b[0;34m*\u001b[0m\u001b[0margs\u001b[0m\u001b[0;34m,\u001b[0m \u001b[0;34m**\u001b[0m\u001b[0mkwargs\u001b[0m\u001b[0;34m)\u001b[0m\u001b[0;34m\u001b[0m\u001b[0;34m\u001b[0m\u001b[0m\n\u001b[0m\u001b[1;32m    151\u001b[0m     \u001b[0;32mexcept\u001b[0m \u001b[0mException\u001b[0m \u001b[0;32mas\u001b[0m \u001b[0me\u001b[0m\u001b[0;34m:\u001b[0m\u001b[0;34m\u001b[0m\u001b[0;34m\u001b[0m\u001b[0m\n\u001b[1;32m    152\u001b[0m       \u001b[0mfiltered_tb\u001b[0m \u001b[0;34m=\u001b[0m \u001b[0m_process_traceback_frames\u001b[0m\u001b[0;34m(\u001b[0m\u001b[0me\u001b[0m\u001b[0;34m.\u001b[0m\u001b[0m__traceback__\u001b[0m\u001b[0;34m)\u001b[0m\u001b[0;34m\u001b[0m\u001b[0;34m\u001b[0m\u001b[0m\n",
            "\u001b[0;32m/usr/local/lib/python3.8/dist-packages/tensorflow/python/eager/def_function.py\u001b[0m in \u001b[0;36m__call__\u001b[0;34m(self, *args, **kwds)\u001b[0m\n\u001b[1;32m    913\u001b[0m \u001b[0;34m\u001b[0m\u001b[0m\n\u001b[1;32m    914\u001b[0m       \u001b[0;32mwith\u001b[0m \u001b[0mOptionalXlaContext\u001b[0m\u001b[0;34m(\u001b[0m\u001b[0mself\u001b[0m\u001b[0;34m.\u001b[0m\u001b[0m_jit_compile\u001b[0m\u001b[0;34m)\u001b[0m\u001b[0;34m:\u001b[0m\u001b[0;34m\u001b[0m\u001b[0;34m\u001b[0m\u001b[0m\n\u001b[0;32m--> 915\u001b[0;31m         \u001b[0mresult\u001b[0m \u001b[0;34m=\u001b[0m \u001b[0mself\u001b[0m\u001b[0;34m.\u001b[0m\u001b[0m_call\u001b[0m\u001b[0;34m(\u001b[0m\u001b[0;34m*\u001b[0m\u001b[0margs\u001b[0m\u001b[0;34m,\u001b[0m \u001b[0;34m**\u001b[0m\u001b[0mkwds\u001b[0m\u001b[0;34m)\u001b[0m\u001b[0;34m\u001b[0m\u001b[0;34m\u001b[0m\u001b[0m\n\u001b[0m\u001b[1;32m    916\u001b[0m \u001b[0;34m\u001b[0m\u001b[0m\n\u001b[1;32m    917\u001b[0m       \u001b[0mnew_tracing_count\u001b[0m \u001b[0;34m=\u001b[0m \u001b[0mself\u001b[0m\u001b[0;34m.\u001b[0m\u001b[0mexperimental_get_tracing_count\u001b[0m\u001b[0;34m(\u001b[0m\u001b[0;34m)\u001b[0m\u001b[0;34m\u001b[0m\u001b[0;34m\u001b[0m\u001b[0m\n",
            "\u001b[0;32m/usr/local/lib/python3.8/dist-packages/tensorflow/python/eager/def_function.py\u001b[0m in \u001b[0;36m_call\u001b[0;34m(self, *args, **kwds)\u001b[0m\n\u001b[1;32m    945\u001b[0m       \u001b[0;31m# In this case we have created variables on the first call, so we run the\u001b[0m\u001b[0;34m\u001b[0m\u001b[0;34m\u001b[0m\u001b[0;34m\u001b[0m\u001b[0m\n\u001b[1;32m    946\u001b[0m       \u001b[0;31m# defunned version which is guaranteed to never create variables.\u001b[0m\u001b[0;34m\u001b[0m\u001b[0;34m\u001b[0m\u001b[0;34m\u001b[0m\u001b[0m\n\u001b[0;32m--> 947\u001b[0;31m       \u001b[0;32mreturn\u001b[0m \u001b[0mself\u001b[0m\u001b[0;34m.\u001b[0m\u001b[0m_stateless_fn\u001b[0m\u001b[0;34m(\u001b[0m\u001b[0;34m*\u001b[0m\u001b[0margs\u001b[0m\u001b[0;34m,\u001b[0m \u001b[0;34m**\u001b[0m\u001b[0mkwds\u001b[0m\u001b[0;34m)\u001b[0m  \u001b[0;31m# pylint: disable=not-callable\u001b[0m\u001b[0;34m\u001b[0m\u001b[0;34m\u001b[0m\u001b[0m\n\u001b[0m\u001b[1;32m    948\u001b[0m     \u001b[0;32melif\u001b[0m \u001b[0mself\u001b[0m\u001b[0;34m.\u001b[0m\u001b[0m_stateful_fn\u001b[0m \u001b[0;32mis\u001b[0m \u001b[0;32mnot\u001b[0m \u001b[0;32mNone\u001b[0m\u001b[0;34m:\u001b[0m\u001b[0;34m\u001b[0m\u001b[0;34m\u001b[0m\u001b[0m\n\u001b[1;32m    949\u001b[0m       \u001b[0;31m# Release the lock early so that multiple threads can perform the call\u001b[0m\u001b[0;34m\u001b[0m\u001b[0;34m\u001b[0m\u001b[0;34m\u001b[0m\u001b[0m\n",
            "\u001b[0;32m/usr/local/lib/python3.8/dist-packages/tensorflow/python/eager/function.py\u001b[0m in \u001b[0;36m__call__\u001b[0;34m(self, *args, **kwargs)\u001b[0m\n\u001b[1;32m   2451\u001b[0m       (graph_function,\n\u001b[1;32m   2452\u001b[0m        filtered_flat_args) = self._maybe_define_function(args, kwargs)\n\u001b[0;32m-> 2453\u001b[0;31m     return graph_function._call_flat(\n\u001b[0m\u001b[1;32m   2454\u001b[0m         filtered_flat_args, captured_inputs=graph_function.captured_inputs)  # pylint: disable=protected-access\n\u001b[1;32m   2455\u001b[0m \u001b[0;34m\u001b[0m\u001b[0m\n",
            "\u001b[0;32m/usr/local/lib/python3.8/dist-packages/tensorflow/python/eager/function.py\u001b[0m in \u001b[0;36m_call_flat\u001b[0;34m(self, args, captured_inputs, cancellation_manager)\u001b[0m\n\u001b[1;32m   1858\u001b[0m         and executing_eagerly):\n\u001b[1;32m   1859\u001b[0m       \u001b[0;31m# No tape is watching; skip to running the function.\u001b[0m\u001b[0;34m\u001b[0m\u001b[0;34m\u001b[0m\u001b[0;34m\u001b[0m\u001b[0m\n\u001b[0;32m-> 1860\u001b[0;31m       return self._build_call_outputs(self._inference_function.call(\n\u001b[0m\u001b[1;32m   1861\u001b[0m           ctx, args, cancellation_manager=cancellation_manager))\n\u001b[1;32m   1862\u001b[0m     forward_backward = self._select_forward_and_backward_functions(\n",
            "\u001b[0;32m/usr/local/lib/python3.8/dist-packages/tensorflow/python/eager/function.py\u001b[0m in \u001b[0;36mcall\u001b[0;34m(self, ctx, args, cancellation_manager)\u001b[0m\n\u001b[1;32m    495\u001b[0m       \u001b[0;32mwith\u001b[0m \u001b[0m_InterpolateFunctionError\u001b[0m\u001b[0;34m(\u001b[0m\u001b[0mself\u001b[0m\u001b[0;34m)\u001b[0m\u001b[0;34m:\u001b[0m\u001b[0;34m\u001b[0m\u001b[0;34m\u001b[0m\u001b[0m\n\u001b[1;32m    496\u001b[0m         \u001b[0;32mif\u001b[0m \u001b[0mcancellation_manager\u001b[0m \u001b[0;32mis\u001b[0m \u001b[0;32mNone\u001b[0m\u001b[0;34m:\u001b[0m\u001b[0;34m\u001b[0m\u001b[0;34m\u001b[0m\u001b[0m\n\u001b[0;32m--> 497\u001b[0;31m           outputs = execute.execute(\n\u001b[0m\u001b[1;32m    498\u001b[0m               \u001b[0mstr\u001b[0m\u001b[0;34m(\u001b[0m\u001b[0mself\u001b[0m\u001b[0;34m.\u001b[0m\u001b[0msignature\u001b[0m\u001b[0;34m.\u001b[0m\u001b[0mname\u001b[0m\u001b[0;34m)\u001b[0m\u001b[0;34m,\u001b[0m\u001b[0;34m\u001b[0m\u001b[0;34m\u001b[0m\u001b[0m\n\u001b[1;32m    499\u001b[0m               \u001b[0mnum_outputs\u001b[0m\u001b[0;34m=\u001b[0m\u001b[0mself\u001b[0m\u001b[0;34m.\u001b[0m\u001b[0m_num_outputs\u001b[0m\u001b[0;34m,\u001b[0m\u001b[0;34m\u001b[0m\u001b[0;34m\u001b[0m\u001b[0m\n",
            "\u001b[0;32m/usr/local/lib/python3.8/dist-packages/tensorflow/python/eager/execute.py\u001b[0m in \u001b[0;36mquick_execute\u001b[0;34m(op_name, num_outputs, inputs, attrs, ctx, name)\u001b[0m\n\u001b[1;32m     52\u001b[0m   \u001b[0;32mtry\u001b[0m\u001b[0;34m:\u001b[0m\u001b[0;34m\u001b[0m\u001b[0;34m\u001b[0m\u001b[0m\n\u001b[1;32m     53\u001b[0m     \u001b[0mctx\u001b[0m\u001b[0;34m.\u001b[0m\u001b[0mensure_initialized\u001b[0m\u001b[0;34m(\u001b[0m\u001b[0;34m)\u001b[0m\u001b[0;34m\u001b[0m\u001b[0;34m\u001b[0m\u001b[0m\n\u001b[0;32m---> 54\u001b[0;31m     tensors = pywrap_tfe.TFE_Py_Execute(ctx._handle, device_name, op_name,\n\u001b[0m\u001b[1;32m     55\u001b[0m                                         inputs, attrs, num_outputs)\n\u001b[1;32m     56\u001b[0m   \u001b[0;32mexcept\u001b[0m \u001b[0mcore\u001b[0m\u001b[0;34m.\u001b[0m\u001b[0m_NotOkStatusException\u001b[0m \u001b[0;32mas\u001b[0m \u001b[0me\u001b[0m\u001b[0;34m:\u001b[0m\u001b[0;34m\u001b[0m\u001b[0;34m\u001b[0m\u001b[0m\n",
            "\u001b[0;31mKeyboardInterrupt\u001b[0m: "
          ]
        }
      ],
      "source": [
        "history_dense_1_augv4= ROS_d.fit(normalized_train_ds_des_aug_adam,\n",
        "                                 epochs=30, \n",
        "                                 validation_data=normalized_val_ds_des, callbacks=[es5])"
      ]
    },
    {
      "cell_type": "code",
      "execution_count": null,
      "metadata": {
        "id": "-lW5K4KCPKzZ"
      },
      "outputs": [],
      "source": [
        "es6 = EarlyStopping(monitor='val_recall_4', mode='max', verbose=1, patience=10, restore_best_weights=True)"
      ]
    },
    {
      "cell_type": "code",
      "execution_count": null,
      "metadata": {
        "id": "MoUD9jZIPHn1"
      },
      "outputs": [],
      "source": [
        "data_augmentation_v2 = keras.Sequential(\n",
        "    [keras.layers.RandomFlip(\"horizontal_and_vertical\"), keras.layers.RandomRotation(0.2), keras.layers.RandomContrast(0.2)]\n",
        ")"
      ]
    },
    {
      "cell_type": "code",
      "execution_count": null,
      "metadata": {
        "id": "lHVX93yaPHn2"
      },
      "outputs": [],
      "source": [
        "desnet_train_ds_aug_v2 = train_ds_prefetch_f.map(lambda x, y: (data_augmentation_v2(x), y))\n"
      ]
    },
    {
      "cell_type": "code",
      "execution_count": null,
      "metadata": {
        "id": "NDZT5ISYPHn2"
      },
      "outputs": [],
      "source": [
        "desnet_train_ds_aug_v2 = desnet_train_ds_aug_v2.map(lambda x, y: (desnet_preproc_layer(x), y))\n",
        "normalized_train_ds_des_aug_v2 = desnet_train_ds_aug_v2.map(lambda x, y: (normalization_layer(x), y))"
      ]
    },
    {
      "cell_type": "code",
      "execution_count": null,
      "metadata": {
        "colab": {
          "base_uri": "https://localhost:8080/"
        },
        "id": "ULrTfnDzPHn2",
        "outputId": "7c30ecd7-790e-4eb1-933d-20c5e10dcd0e"
      },
      "outputs": [
        {
          "name": "stdout",
          "output_type": "stream",
          "text": [
            "Epoch 1/30\n",
            "123/123 [==============================] - 27s 219ms/step - loss: 0.3011 - binary_accuracy: 0.8786 - recall_4: 0.7056 - precision_4: 0.8589 - val_loss: 0.1001 - val_binary_accuracy: 0.9760 - val_recall_4: 0.2667 - val_precision_4: 0.4000\n",
            "Epoch 2/30\n",
            "123/123 [==============================] - 26s 207ms/step - loss: 0.2615 - binary_accuracy: 0.8984 - recall_4: 0.7621 - precision_4: 0.8783 - val_loss: 0.0882 - val_binary_accuracy: 0.9788 - val_recall_4: 0.3333 - val_precision_4: 0.5000\n",
            "Epoch 3/30\n",
            "123/123 [==============================] - 26s 208ms/step - loss: 0.2310 - binary_accuracy: 0.9152 - recall_4: 0.8086 - precision_4: 0.8946 - val_loss: 0.0861 - val_binary_accuracy: 0.9788 - val_recall_4: 0.4000 - val_precision_4: 0.5000\n",
            "Epoch 4/30\n",
            "123/123 [==============================] - 26s 210ms/step - loss: 0.2066 - binary_accuracy: 0.9293 - recall_4: 0.8435 - precision_4: 0.9107 - val_loss: 0.0866 - val_binary_accuracy: 0.9774 - val_recall_4: 0.4000 - val_precision_4: 0.4615\n",
            "Epoch 5/30\n",
            "123/123 [==============================] - 26s 209ms/step - loss: 0.1865 - binary_accuracy: 0.9401 - recall_4: 0.8698 - precision_4: 0.9231 - val_loss: 0.0874 - val_binary_accuracy: 0.9760 - val_recall_4: 0.4000 - val_precision_4: 0.4286\n",
            "Epoch 6/30\n",
            "123/123 [==============================] - 25s 205ms/step - loss: 0.1699 - binary_accuracy: 0.9484 - recall_4: 0.8931 - precision_4: 0.9296 - val_loss: 0.0879 - val_binary_accuracy: 0.9760 - val_recall_4: 0.4000 - val_precision_4: 0.4286\n",
            "Epoch 7/30\n",
            "123/123 [==============================] - 25s 205ms/step - loss: 0.1559 - binary_accuracy: 0.9563 - recall_4: 0.9129 - precision_4: 0.9376 - val_loss: 0.0883 - val_binary_accuracy: 0.9732 - val_recall_4: 0.4000 - val_precision_4: 0.3750\n",
            "Epoch 8/30\n",
            "123/123 [==============================] - 26s 212ms/step - loss: 0.1438 - binary_accuracy: 0.9610 - recall_4: 0.9267 - precision_4: 0.9405 - val_loss: 0.0885 - val_binary_accuracy: 0.9732 - val_recall_4: 0.4000 - val_precision_4: 0.3750\n",
            "Epoch 9/30\n",
            "123/123 [==============================] - 25s 205ms/step - loss: 0.1334 - binary_accuracy: 0.9689 - recall_4: 0.9470 - precision_4: 0.9478 - val_loss: 0.0886 - val_binary_accuracy: 0.9732 - val_recall_4: 0.4000 - val_precision_4: 0.3750\n",
            "Epoch 10/30\n",
            "123/123 [==============================] - 26s 213ms/step - loss: 0.1242 - binary_accuracy: 0.9734 - recall_4: 0.9560 - precision_4: 0.9540 - val_loss: 0.0887 - val_binary_accuracy: 0.9732 - val_recall_4: 0.4000 - val_precision_4: 0.3750\n",
            "Epoch 11/30\n",
            "123/123 [==============================] - 26s 207ms/step - loss: 0.1160 - binary_accuracy: 0.9765 - recall_4: 0.9647 - precision_4: 0.9564 - val_loss: 0.0888 - val_binary_accuracy: 0.9746 - val_recall_4: 0.4000 - val_precision_4: 0.4000\n",
            "Epoch 12/30\n",
            "123/123 [==============================] - 25s 205ms/step - loss: 0.1088 - binary_accuracy: 0.9791 - recall_4: 0.9690 - precision_4: 0.9607 - val_loss: 0.0889 - val_binary_accuracy: 0.9746 - val_recall_4: 0.4000 - val_precision_4: 0.4000\n",
            "Epoch 13/30\n",
            "123/123 [==============================] - ETA: 0s - loss: 0.1023 - binary_accuracy: 0.9808 - recall_4: 0.9733 - precision_4: 0.9621Restoring model weights from the end of the best epoch: 3.\n",
            "123/123 [==============================] - 26s 208ms/step - loss: 0.1023 - binary_accuracy: 0.9808 - recall_4: 0.9733 - precision_4: 0.9621 - val_loss: 0.0890 - val_binary_accuracy: 0.9746 - val_recall_4: 0.4000 - val_precision_4: 0.4000\n",
            "Epoch 13: early stopping\n"
          ]
        }
      ],
      "source": [
        "history_dense_1_augv5 = full_model.fit(normalized_train_ds_des_aug_v2,\n",
        "                    epochs=30, \n",
        "                    validation_data=normalized_val_ds_des, callbacks=[es6]) "
      ]
    },
    {
      "cell_type": "code",
      "execution_count": null,
      "metadata": {
        "colab": {
          "base_uri": "https://localhost:8080/"
        },
        "id": "Bly4VoAxRKVy",
        "outputId": "f22b51bd-2a26-46be-d7e8-7c7409261694"
      },
      "outputs": [
        {
          "name": "stderr",
          "output_type": "stream",
          "text": [
            "WARNING:absl:Found untraced functions such as _jit_compiled_convolution_op, _jit_compiled_convolution_op, _jit_compiled_convolution_op, _jit_compiled_convolution_op, _jit_compiled_convolution_op while saving (showing 5 of 120). These functions will not be directly callable after loading.\n"
          ]
        }
      ],
      "source": [
        "full_model.save('/content/gdrive/MyDrive/densenet_v2')\n",
        "full_model.save('/content/gdrive/MyDrive/densenet_v2.h5')\n",
        "full_model.save_weights('/content/gdrive/MyDrive/densenet_v2_checkpoint_weights')"
      ]
    },
    {
      "cell_type": "code",
      "execution_count": null,
      "metadata": {
        "colab": {
          "base_uri": "https://localhost:8080/"
        },
        "id": "5HXh-DwvRGtC",
        "outputId": "1667f1d0-6681-455a-e08d-595554e9af32"
      },
      "outputs": [
        {
          "name": "stdout",
          "output_type": "stream",
          "text": [
            "Epoch 1/30\n",
            "123/123 [==============================] - 27s 219ms/step - loss: 0.2077 - binary_accuracy: 0.9277 - recall_4: 0.8414 - precision_4: 0.9075 - val_loss: 0.1018 - val_binary_accuracy: 0.9746 - val_recall_4: 0.4667 - val_precision_4: 0.4118\n",
            "Epoch 2/30\n",
            "123/123 [==============================] - 25s 206ms/step - loss: 0.1793 - binary_accuracy: 0.9406 - recall_4: 0.8784 - precision_4: 0.9172 - val_loss: 0.1070 - val_binary_accuracy: 0.9746 - val_recall_4: 0.4667 - val_precision_4: 0.4118\n",
            "Epoch 3/30\n",
            "123/123 [==============================] - 25s 204ms/step - loss: 0.1599 - binary_accuracy: 0.9507 - recall_4: 0.9047 - precision_4: 0.9267 - val_loss: 0.0894 - val_binary_accuracy: 0.9732 - val_recall_4: 0.4000 - val_precision_4: 0.3750\n",
            "Epoch 4/30\n",
            "123/123 [==============================] - 26s 209ms/step - loss: 0.1467 - binary_accuracy: 0.9572 - recall_4: 0.9194 - precision_4: 0.9347 - val_loss: 0.0798 - val_binary_accuracy: 0.9788 - val_recall_4: 0.4000 - val_precision_4: 0.5000\n",
            "Epoch 5/30\n",
            "123/123 [==============================] - 26s 208ms/step - loss: 0.1341 - binary_accuracy: 0.9630 - recall_4: 0.9323 - precision_4: 0.9421 - val_loss: 0.0754 - val_binary_accuracy: 0.9816 - val_recall_4: 0.3333 - val_precision_4: 0.6250\n",
            "Epoch 6/30\n",
            "123/123 [==============================] - 25s 206ms/step - loss: 0.1234 - binary_accuracy: 0.9675 - recall_4: 0.9444 - precision_4: 0.9456 - val_loss: 0.0751 - val_binary_accuracy: 0.9816 - val_recall_4: 0.3333 - val_precision_4: 0.6250\n",
            "Epoch 7/30\n",
            "123/123 [==============================] - 26s 208ms/step - loss: 0.1138 - binary_accuracy: 0.9730 - recall_4: 0.9573 - precision_4: 0.9516 - val_loss: 0.0771 - val_binary_accuracy: 0.9802 - val_recall_4: 0.4000 - val_precision_4: 0.5455\n",
            "Epoch 8/30\n",
            "123/123 [==============================] - 26s 208ms/step - loss: 0.1049 - binary_accuracy: 0.9777 - recall_4: 0.9672 - precision_4: 0.9577 - val_loss: 0.0803 - val_binary_accuracy: 0.9802 - val_recall_4: 0.4000 - val_precision_4: 0.5455\n",
            "Epoch 9/30\n",
            "123/123 [==============================] - 25s 206ms/step - loss: 0.0973 - binary_accuracy: 0.9806 - recall_4: 0.9716 - precision_4: 0.9632 - val_loss: 0.0831 - val_binary_accuracy: 0.9802 - val_recall_4: 0.4000 - val_precision_4: 0.5455\n",
            "Epoch 10/30\n",
            "123/123 [==============================] - 25s 206ms/step - loss: 0.0910 - binary_accuracy: 0.9833 - recall_4: 0.9767 - precision_4: 0.9671 - val_loss: 0.0850 - val_binary_accuracy: 0.9746 - val_recall_4: 0.4000 - val_precision_4: 0.4000\n",
            "Epoch 11/30\n",
            "123/123 [==============================] - ETA: 0s - loss: 0.0857 - binary_accuracy: 0.9839 - recall_4: 0.9780 - precision_4: 0.9680Restoring model weights from the end of the best epoch: 1.\n",
            "123/123 [==============================] - 26s 211ms/step - loss: 0.0857 - binary_accuracy: 0.9839 - recall_4: 0.9780 - precision_4: 0.9680 - val_loss: 0.0864 - val_binary_accuracy: 0.9746 - val_recall_4: 0.4000 - val_precision_4: 0.4000\n",
            "Epoch 11: early stopping\n"
          ]
        }
      ],
      "source": [
        "history_dense_1_augv6 = full_model.fit(normalized_train_ds_des_aug_v2,\n",
        "                    epochs=30, \n",
        "                    validation_data=normalized_val_ds_des, callbacks=[es6]) "
      ]
    },
    {
      "cell_type": "code",
      "execution_count": null,
      "metadata": {
        "colab": {
          "base_uri": "https://localhost:8080/"
        },
        "id": "2b5IixUqSt4J",
        "outputId": "5e9c9e8e-b976-47e4-a41a-60de370c1752"
      },
      "outputs": [
        {
          "name": "stderr",
          "output_type": "stream",
          "text": [
            "WARNING:absl:Found untraced functions such as _jit_compiled_convolution_op, _jit_compiled_convolution_op, _jit_compiled_convolution_op, _jit_compiled_convolution_op, _jit_compiled_convolution_op while saving (showing 5 of 120). These functions will not be directly callable after loading.\n"
          ]
        }
      ],
      "source": [
        "full_model.save('/content/gdrive/MyDrive/densenet_v2_1')\n",
        "full_model.save('/content/gdrive/MyDrive/densenet_v2_1.h5')\n",
        "full_model.save_weights('/content/gdrive/MyDrive/densenet_v2_1_checkpoint_weights')"
      ]
    },
    {
      "cell_type": "code",
      "execution_count": null,
      "metadata": {
        "colab": {
          "base_uri": "https://localhost:8080/"
        },
        "id": "geIVebABS0x9",
        "outputId": "8c65ddc4-a0ff-4424-bd7e-0db98ec0966f"
      },
      "outputs": [
        {
          "data": {
            "text/plain": [
              "[0.3011213541030884,\n",
              " 0.26145026087760925,\n",
              " 0.23100131750106812,\n",
              " 0.20656104385852814,\n",
              " 0.18651993572711945,\n",
              " 0.1699010729789734,\n",
              " 0.15587347745895386,\n",
              " 0.14383774995803833,\n",
              " 0.1333751678466797,\n",
              " 0.1241849884390831,\n",
              " 0.11604289710521698,\n",
              " 0.1087769940495491,\n",
              " 0.10225246101617813]"
            ]
          },
          "execution_count": 183,
          "metadata": {},
          "output_type": "execute_result"
        }
      ],
      "source": [
        "history_dense_1_augv5.history['loss']"
      ]
    },
    {
      "cell_type": "code",
      "execution_count": null,
      "metadata": {
        "colab": {
          "base_uri": "https://localhost:8080/",
          "height": 495
        },
        "id": "jEcju8baS9ce",
        "outputId": "eba99486-d899-411a-a0d1-cb82c9b3ce94"
      },
      "outputs": [
        {
          "data": {
            "image/png": "[encoded data removed]",
            "text/plain": [
              "<Figure size 576x1152 with 1 Axes>"
            ]
          },
          "metadata": {
            "needs_background": "light"
          },
          "output_type": "display_data"
        }
      ],
      "source": [
        "#https://github.com/xamwood/Metis_Deep_Learning_Project/blob/main/deep_learning_model.ipynb\n",
        "plt.rcParams.update({'font.size': 18})\n",
        "\n",
        "loss = history_dense_1_augv5.history['loss'] + history_dense_1_augv6.history['loss']\n",
        "val_loss = history_dense_1_augv5.history['val_loss'] + history_dense_1_augv6.history['val_loss']\n",
        "\n",
        "plt.figure(figsize=(8, 16))\n",
        "plt.subplot(2, 1, 2)\n",
        "plt.plot(loss, label='Training Loss')\n",
        "plt.plot(val_loss, label='Validation Loss')\n",
        "plt.legend(loc='upper left')\n",
        "plt.ylabel('Cross Entropy')\n",
        "plt.ylim([0,.50])\n",
        "plt.title('Training and Validation Loss')\n",
        "plt.xlabel('epoch')\n",
        "plt.show()\n",
        "\n",
        "#unclear what caused this strange training behavior"
      ]
    },
    {
      "cell_type": "code",
      "execution_count": null,
      "metadata": {
        "colab": {
          "base_uri": "https://localhost:8080/",
          "height": 495
        },
        "id": "LUQuMum-S9cf",
        "outputId": "49a85d94-1709-4386-d69f-67b4106aaa49"
      },
      "outputs": [
        {
          "data": {
            "image/png": "[encoded data removed]",
            "text/plain": [
              "<Figure size 576x1152 with 1 Axes>"
            ]
          },
          "metadata": {
            "needs_background": "light"
          },
          "output_type": "display_data"
        }
      ],
      "source": [
        "recall = history_dense_1_augv5.history['recall_4'] + history_dense_1_augv6.history['recall_4']\n",
        "val_recall = history_dense_1_augv5.history['val_recall_4'] + history_dense_1_augv6.history['val_recall_4']\n",
        "\n",
        "plt.figure(figsize=(8, 16))\n",
        "plt.subplot(2, 1, 2)\n",
        "plt.plot(recall, label='Training recall')\n",
        "plt.plot(val_recall, label='Validation recall')\n",
        "plt.legend(loc='upper left')\n",
        "plt.ylabel('Recall')\n",
        "plt.ylim([0,1.2])\n",
        "plt.title('Training and Validation Recall')\n",
        "plt.xlabel('epoch')\n",
        "plt.show()"
      ]
    },
    {
      "cell_type": "code",
      "execution_count": null,
      "metadata": {
        "colab": {
          "base_uri": "https://localhost:8080/",
          "height": 495
        },
        "id": "ihwkQLwlS9cf",
        "outputId": "5c04ef0b-b765-4c6b-d932-aecc1064cb0a"
      },
      "outputs": [
        {
          "data": {
            "image/png": "[encoded data removed]",
            "text/plain": [
              "<Figure size 576x1152 with 1 Axes>"
            ]
          },
          "metadata": {
            "needs_background": "light"
          },
          "output_type": "display_data"
        }
      ],
      "source": [
        "precision = history_dense_1_augv5.history['precision_4'] + history_dense_1_augv6.history['precision_4']\n",
        "val_precision = history_dense_1_augv5.history['val_precision_4'] + history_dense_1_augv6.history['val_precision_4']\n",
        "\n",
        "\n",
        "\n",
        "plt.figure(figsize=(8, 16))\n",
        "plt.subplot(2, 1, 2)\n",
        "plt.plot(precision, label='Training Precision')\n",
        "plt.plot(val_precision, label='Validation Precision')\n",
        "plt.legend(loc='upper left')\n",
        "plt.ylabel('Precision')\n",
        "plt.ylim([0,1.20])\n",
        "plt.title('Training and Validation Precision')\n",
        "plt.xlabel('epoch')\n",
        "#plt.show()\n",
        "plt.savefig('val_precision.png')"
      ]
    },
    {
      "cell_type": "markdown",
      "metadata": {},
      "source": [
        "#### Metrics"
      ]
    },
    {
      "cell_type": "code",
      "execution_count": null,
      "metadata": {
        "colab": {
          "base_uri": "https://localhost:8080/"
        },
        "id": "yLuJrNKjPHn2",
        "outputId": "1a0c31b3-be50-431c-b35f-2a8f9c7d8616"
      },
      "outputs": [
        {
          "name": "stdout",
          "output_type": "stream",
          "text": [
            "11/11 [==============================] - 5s 209ms/step - loss: 0.1007 - binary_accuracy: 0.9659 - recall_4: 0.1000 - precision_4: 0.0625\n"
          ]
        },
        {
          "data": {
            "text/plain": [
              "[0.10072550177574158, 0.9659090638160706, 0.10000000149011612, 0.0625]"
            ]
          },
          "execution_count": 191,
          "metadata": {},
          "output_type": "execute_result"
        }
      ],
      "source": [
        "full_model.evaluate(normalized_test_ds_des)"
      ]
    },
    {
      "cell_type": "code",
      "execution_count": null,
      "metadata": {
        "id": "pqYiQiRTWWfV"
      },
      "outputs": [],
      "source": [
        "y_actual = np.concatenate([y for x, y in normalized_val_ds_des], axis=0)"
      ]
    },
    {
      "cell_type": "code",
      "execution_count": null,
      "metadata": {
        "colab": {
          "base_uri": "https://localhost:8080/"
        },
        "id": "kt8eswtOWWfV",
        "outputId": "7732b4b6-e6e1-414c-a9a7-e0627273c7bd"
      },
      "outputs": [
        {
          "data": {
            "text/plain": [
              "(708,)"
            ]
          },
          "execution_count": 196,
          "metadata": {},
          "output_type": "execute_result"
        }
      ],
      "source": [
        "y_actual.shape"
      ]
    },
    {
      "cell_type": "code",
      "execution_count": null,
      "metadata": {
        "colab": {
          "base_uri": "https://localhost:8080/"
        },
        "id": "xIuoTUwFWWfV",
        "outputId": "f5507a21-e822-4d62-c218-f17af32fc6e8"
      },
      "outputs": [
        {
          "data": {
            "text/plain": [
              "array([0, 1], dtype=int32)"
            ]
          },
          "execution_count": 197,
          "metadata": {},
          "output_type": "execute_result"
        }
      ],
      "source": [
        "np.unique(y_actual)"
      ]
    },
    {
      "cell_type": "code",
      "execution_count": null,
      "metadata": {
        "colab": {
          "base_uri": "https://localhost:8080/"
        },
        "id": "tC9izo9IWWfV",
        "outputId": "8d59554e-6457-47d4-bca8-77fa74f7a623"
      },
      "outputs": [
        {
          "name": "stdout",
          "output_type": "stream",
          "text": [
            "12/12 [==============================] - 4s 175ms/step\n"
          ]
        }
      ],
      "source": [
        "y_prob=full_model.predict(normalized_val_ds_des)"
      ]
    },
    {
      "cell_type": "code",
      "execution_count": null,
      "metadata": {
        "colab": {
          "base_uri": "https://localhost:8080/"
        },
        "id": "Jj3CJJxYWWfW",
        "outputId": "e3c5bd7a-0e12-4c23-b318-3fb1ab807803"
      },
      "outputs": [
        {
          "data": {
            "text/plain": [
              "array([[7.24760070e-02],\n",
              "       [2.04623360e-02],\n",
              "       [2.59217974e-02],\n",
              "       [6.19622460e-03],\n",
              "       [4.48114760e-02],\n",
              "       [2.66356692e-02],\n",
              "       [2.62931529e-02],\n",
              "       [2.68943131e-01],\n",
              "       [6.88369945e-03],\n",
              "       [2.78870631e-02],\n",
              "       [6.79918751e-02],\n",
              "       [1.31691182e-02],\n",
              "       [7.31720626e-02],\n",
              "       [1.40721388e-02],\n",
              "       [5.75783215e-02],\n",
              "       [2.30090823e-02],\n",
              "       [1.86770782e-02],\n",
              "       [4.28175628e-02],\n",
              "       [1.56681135e-03],\n",
              "       [1.23838648e-01],\n",
              "       [1.28049422e-02],\n",
              "       [3.47279222e-03],\n",
              "       [6.95439428e-03],\n",
              "       [1.67868659e-01],\n",
              "       [7.83311799e-02],\n",
              "       [6.36163592e-01],\n",
              "       [3.98497749e-03],\n",
              "       [3.24705504e-02],\n",
              "       [8.28490183e-02],\n",
              "       [5.65421287e-05],\n",
              "       [2.82545630e-02],\n",
              "       [4.78025147e-04],\n",
              "       [1.92305213e-03],\n",
              "       [4.31810990e-02],\n",
              "       [1.25017678e-02],\n",
              "       [1.12806022e-01],\n",
              "       [6.78847870e-03],\n",
              "       [1.12195238e-07],\n",
              "       [1.85278952e-02],\n",
              "       [2.64498666e-02],\n",
              "       [6.30908161e-02],\n",
              "       [1.78644195e-01],\n",
              "       [8.22788775e-02],\n",
              "       [1.01700220e-02],\n",
              "       [9.02302191e-02],\n",
              "       [1.88508295e-02],\n",
              "       [6.39549270e-02],\n",
              "       [6.80524949e-03],\n",
              "       [9.83170941e-02],\n",
              "       [2.31177509e-02],\n",
              "       [6.88131014e-03],\n",
              "       [3.99698913e-02],\n",
              "       [4.30963747e-02],\n",
              "       [3.56617942e-02],\n",
              "       [4.14892007e-03],\n",
              "       [9.30697024e-02],\n",
              "       [1.58327259e-02],\n",
              "       [7.84486905e-03],\n",
              "       [3.77212137e-01],\n",
              "       [2.90361289e-02],\n",
              "       [6.28794485e-04],\n",
              "       [2.71981396e-02],\n",
              "       [1.90534052e-02],\n",
              "       [8.89293849e-02],\n",
              "       [1.03907464e-02],\n",
              "       [1.60908207e-01],\n",
              "       [6.91423655e-01],\n",
              "       [2.04162430e-02],\n",
              "       [6.61147952e-01],\n",
              "       [4.66187410e-02],\n",
              "       [9.26261116e-03],\n",
              "       [1.59583203e-02],\n",
              "       [5.38069643e-02],\n",
              "       [9.05574933e-02],\n",
              "       [1.81811228e-02],\n",
              "       [2.06465460e-03],\n",
              "       [5.60949817e-02],\n",
              "       [4.23643645e-03],\n",
              "       [5.08552790e-03],\n",
              "       [4.87479307e-02],\n",
              "       [2.70834789e-02],\n",
              "       [1.19297225e-02],\n",
              "       [2.47591753e-02],\n",
              "       [3.36654820e-02],\n",
              "       [1.42090479e-02],\n",
              "       [2.32102931e-03],\n",
              "       [2.23894864e-01],\n",
              "       [2.58968771e-01],\n",
              "       [6.12369785e-03],\n",
              "       [1.32215947e-01],\n",
              "       [1.18890591e-01],\n",
              "       [5.17072260e-01],\n",
              "       [5.04170835e-04],\n",
              "       [2.67938226e-02],\n",
              "       [1.40311681e-02],\n",
              "       [8.96171108e-03],\n",
              "       [1.48027353e-02],\n",
              "       [4.41402569e-02],\n",
              "       [4.22966689e-01],\n",
              "       [2.35134922e-02],\n",
              "       [8.28336808e-04],\n",
              "       [3.92500646e-02],\n",
              "       [3.24548706e-02],\n",
              "       [8.87337513e-03],\n",
              "       [3.62813696e-02],\n",
              "       [5.26144803e-02],\n",
              "       [3.22555080e-02],\n",
              "       [9.04827788e-02],\n",
              "       [2.35348009e-04],\n",
              "       [3.01693520e-03],\n",
              "       [9.62752923e-02],\n",
              "       [4.62546386e-03],\n",
              "       [8.56387243e-02],\n",
              "       [5.20196073e-02],\n",
              "       [1.77548791e-03],\n",
              "       [9.03370325e-03],\n",
              "       [2.24201335e-03],\n",
              "       [2.51027085e-02],\n",
              "       [5.64507954e-02],\n",
              "       [5.11769243e-02],\n",
              "       [3.25632729e-02],\n",
              "       [8.30325335e-02],\n",
              "       [1.38023729e-02],\n",
              "       [5.61663182e-03],\n",
              "       [4.78533715e-01],\n",
              "       [5.97914681e-02],\n",
              "       [1.64472815e-02],\n",
              "       [2.96162702e-02],\n",
              "       [2.99599208e-03],\n",
              "       [1.00226700e-02],\n",
              "       [2.76076570e-02],\n",
              "       [1.94980249e-01],\n",
              "       [2.65758961e-01],\n",
              "       [7.64961764e-02],\n",
              "       [2.29952469e-01],\n",
              "       [5.19504026e-02],\n",
              "       [7.41069376e-01],\n",
              "       [1.25627026e-01],\n",
              "       [1.81980021e-02],\n",
              "       [5.44219390e-02],\n",
              "       [6.30345047e-01],\n",
              "       [6.03203801e-03],\n",
              "       [1.83164895e-01],\n",
              "       [5.17820641e-02],\n",
              "       [9.98446532e-03],\n",
              "       [4.07993674e-01],\n",
              "       [5.00539690e-03],\n",
              "       [1.20619506e-01],\n",
              "       [3.55312079e-02],\n",
              "       [3.33522186e-02],\n",
              "       [6.01148885e-03],\n",
              "       [1.39617156e-02],\n",
              "       [9.01280495e-04],\n",
              "       [7.87160266e-03],\n",
              "       [8.31522793e-03],\n",
              "       [1.05164304e-01],\n",
              "       [9.92884859e-02],\n",
              "       [1.70037039e-02],\n",
              "       [1.99613832e-02],\n",
              "       [4.99188416e-02],\n",
              "       [2.04872489e-02],\n",
              "       [1.72209088e-02],\n",
              "       [2.17017364e-02],\n",
              "       [2.61027869e-02],\n",
              "       [2.84921867e-03],\n",
              "       [3.27921063e-02],\n",
              "       [1.64552122e-01],\n",
              "       [2.39242148e-02],\n",
              "       [1.92177519e-02],\n",
              "       [2.71361098e-02],\n",
              "       [8.28060284e-02],\n",
              "       [1.10896066e-01],\n",
              "       [7.58551881e-02],\n",
              "       [1.40792998e-02],\n",
              "       [1.35331536e-02],\n",
              "       [2.28404757e-02],\n",
              "       [9.37444810e-03],\n",
              "       [6.29215385e-04],\n",
              "       [1.18744131e-02],\n",
              "       [4.94423993e-02],\n",
              "       [6.27056435e-02],\n",
              "       [2.65161749e-02],\n",
              "       [5.64319501e-03],\n",
              "       [5.81551110e-03],\n",
              "       [1.00638578e-02],\n",
              "       [1.02969622e-02],\n",
              "       [3.74972727e-03],\n",
              "       [3.53210084e-02],\n",
              "       [1.86147485e-02],\n",
              "       [4.30972934e-01],\n",
              "       [1.50578478e-02],\n",
              "       [6.43060077e-03],\n",
              "       [2.65246909e-02],\n",
              "       [4.69104052e-02],\n",
              "       [2.70860419e-02],\n",
              "       [3.04554570e-02],\n",
              "       [5.41564135e-04],\n",
              "       [3.50068845e-02],\n",
              "       [5.99339954e-04],\n",
              "       [7.07097631e-03],\n",
              "       [4.87173349e-03],\n",
              "       [5.96466148e-03],\n",
              "       [1.97034013e-02],\n",
              "       [1.98580921e-01],\n",
              "       [2.82894224e-01],\n",
              "       [1.01160863e-02],\n",
              "       [4.53163721e-02],\n",
              "       [5.65526262e-03],\n",
              "       [1.94617048e-01],\n",
              "       [2.71688006e-03],\n",
              "       [7.09442981e-03],\n",
              "       [1.03463106e-01],\n",
              "       [4.75603677e-02],\n",
              "       [2.11198159e-04],\n",
              "       [2.06176024e-02],\n",
              "       [6.71208557e-03],\n",
              "       [1.49543151e-01],\n",
              "       [6.18884936e-02],\n",
              "       [3.32592428e-02],\n",
              "       [8.72113556e-03],\n",
              "       [4.33130637e-02],\n",
              "       [6.99320761e-03],\n",
              "       [4.99238521e-02],\n",
              "       [1.57598555e-01],\n",
              "       [9.12068877e-03],\n",
              "       [1.04128635e-02],\n",
              "       [3.89133551e-04],\n",
              "       [8.15391541e-03],\n",
              "       [3.45034301e-01],\n",
              "       [7.52599817e-03],\n",
              "       [2.87948688e-03],\n",
              "       [4.44197915e-02],\n",
              "       [6.07715905e-01],\n",
              "       [4.90456540e-03],\n",
              "       [9.68056619e-02],\n",
              "       [1.11516453e-02],\n",
              "       [1.22970954e-01],\n",
              "       [1.11635983e-01],\n",
              "       [6.70369864e-01],\n",
              "       [4.29284386e-02],\n",
              "       [5.18385656e-02],\n",
              "       [3.52805741e-02],\n",
              "       [1.12508006e-01],\n",
              "       [7.19570927e-03],\n",
              "       [3.34676877e-02],\n",
              "       [3.03353686e-02],\n",
              "       [1.64160002e-02],\n",
              "       [1.79899298e-02],\n",
              "       [2.38355226e-03],\n",
              "       [2.60778749e-03],\n",
              "       [3.32306236e-01],\n",
              "       [4.75116931e-02],\n",
              "       [9.69158858e-03],\n",
              "       [2.78925174e-04],\n",
              "       [8.92343652e-03],\n",
              "       [7.77165443e-02],\n",
              "       [1.92464516e-02],\n",
              "       [3.25319171e-02],\n",
              "       [9.16104019e-02],\n",
              "       [3.56794447e-02],\n",
              "       [9.89746209e-03],\n",
              "       [7.74459122e-03],\n",
              "       [1.11144427e-02],\n",
              "       [5.39944682e-04],\n",
              "       [7.39910156e-02],\n",
              "       [5.62455738e-03],\n",
              "       [7.83143844e-03],\n",
              "       [1.43229902e-01],\n",
              "       [1.17479172e-02],\n",
              "       [3.18057910e-02],\n",
              "       [1.14177905e-01],\n",
              "       [1.24259973e-02],\n",
              "       [9.04827788e-02],\n",
              "       [9.73821655e-02],\n",
              "       [5.17738938e-01],\n",
              "       [7.02569354e-03],\n",
              "       [8.70624278e-03],\n",
              "       [1.13314642e-02],\n",
              "       [6.63878908e-03],\n",
              "       [6.76398491e-03],\n",
              "       [5.94920330e-02],\n",
              "       [2.48882070e-01],\n",
              "       [5.50184678e-03],\n",
              "       [1.38652444e-01],\n",
              "       [4.54067998e-02],\n",
              "       [3.02883357e-01],\n",
              "       [1.52483135e-02],\n",
              "       [4.18580603e-03],\n",
              "       [5.81223657e-03],\n",
              "       [1.52490333e-01],\n",
              "       [6.08066889e-03],\n",
              "       [7.21961353e-03],\n",
              "       [1.94365215e-02],\n",
              "       [1.87673736e-02],\n",
              "       [7.90983886e-02],\n",
              "       [8.90240446e-03],\n",
              "       [1.19585516e-02],\n",
              "       [4.42728261e-03],\n",
              "       [3.88018554e-03],\n",
              "       [4.39155363e-02],\n",
              "       [1.31637380e-01],\n",
              "       [1.15848772e-01],\n",
              "       [3.07586100e-02],\n",
              "       [1.22600086e-01],\n",
              "       [3.75004439e-03],\n",
              "       [3.99649501e-01],\n",
              "       [9.01028156e-01],\n",
              "       [7.28116408e-02],\n",
              "       [6.56569190e-03],\n",
              "       [1.81596540e-02],\n",
              "       [3.93848121e-02],\n",
              "       [2.75992937e-02],\n",
              "       [1.10878125e-01],\n",
              "       [3.38385925e-02],\n",
              "       [9.46819875e-03],\n",
              "       [8.76686815e-03],\n",
              "       [9.04856548e-02],\n",
              "       [1.41154174e-02],\n",
              "       [1.02530248e-01],\n",
              "       [5.46255056e-03],\n",
              "       [2.54538924e-01],\n",
              "       [2.93225143e-03],\n",
              "       [9.67469718e-03],\n",
              "       [6.05445988e-02],\n",
              "       [8.20087269e-03],\n",
              "       [1.52953696e-02],\n",
              "       [7.02876747e-02],\n",
              "       [2.65890397e-02],\n",
              "       [2.06154582e-05],\n",
              "       [2.51019858e-02],\n",
              "       [1.33876391e-02],\n",
              "       [2.64418215e-01],\n",
              "       [1.10824347e-01],\n",
              "       [6.85511157e-02],\n",
              "       [3.83350588e-02],\n",
              "       [1.49994809e-02],\n",
              "       [2.13320598e-01],\n",
              "       [1.31104700e-02],\n",
              "       [2.25288584e-03],\n",
              "       [1.42137319e-01],\n",
              "       [5.60351498e-02],\n",
              "       [2.81851143e-01],\n",
              "       [2.63771471e-02],\n",
              "       [1.42214829e-02],\n",
              "       [1.37776673e-01],\n",
              "       [2.65263915e-01],\n",
              "       [9.66192689e-03],\n",
              "       [2.12278590e-01],\n",
              "       [4.48009484e-02],\n",
              "       [6.13001585e-02],\n",
              "       [1.86425876e-02],\n",
              "       [2.18486115e-02],\n",
              "       [8.62524728e-04],\n",
              "       [2.68458910e-02],\n",
              "       [6.86220601e-02],\n",
              "       [1.68891139e-02],\n",
              "       [5.92566561e-03],\n",
              "       [4.89946492e-02],\n",
              "       [2.90024430e-02],\n",
              "       [1.16710663e-01],\n",
              "       [3.59735382e-03],\n",
              "       [9.69368443e-02],\n",
              "       [2.34159946e-01],\n",
              "       [2.16064341e-02],\n",
              "       [4.74233814e-02],\n",
              "       [1.40569648e-02],\n",
              "       [1.17458120e-01],\n",
              "       [3.39683704e-02],\n",
              "       [3.47670377e-03],\n",
              "       [9.04827788e-02],\n",
              "       [7.15011405e-03],\n",
              "       [2.26325572e-01],\n",
              "       [2.59780716e-02],\n",
              "       [1.22968398e-01],\n",
              "       [5.48073612e-02],\n",
              "       [2.36829929e-02],\n",
              "       [4.69275191e-02],\n",
              "       [2.36285955e-01],\n",
              "       [1.81297764e-01],\n",
              "       [1.55532435e-01],\n",
              "       [1.14535997e-02],\n",
              "       [3.24257910e-02],\n",
              "       [2.37985387e-01],\n",
              "       [6.86233565e-02],\n",
              "       [1.52257401e-02],\n",
              "       [8.77909642e-03],\n",
              "       [1.04798265e-01],\n",
              "       [2.45111273e-03],\n",
              "       [3.25840176e-03],\n",
              "       [2.48142973e-01],\n",
              "       [2.80390114e-01],\n",
              "       [3.80216003e-03],\n",
              "       [2.27021263e-03],\n",
              "       [2.46532795e-06],\n",
              "       [1.12029456e-01],\n",
              "       [5.64851873e-02],\n",
              "       [1.13187917e-01],\n",
              "       [3.02905124e-02],\n",
              "       [7.52720162e-02],\n",
              "       [5.96734881e-01],\n",
              "       [5.87297380e-01],\n",
              "       [4.33653267e-03],\n",
              "       [7.32738435e-01],\n",
              "       [9.68364626e-02],\n",
              "       [3.54183372e-03],\n",
              "       [3.12927142e-02],\n",
              "       [7.12869689e-02],\n",
              "       [5.63116036e-02],\n",
              "       [7.10091144e-02],\n",
              "       [6.55403733e-02],\n",
              "       [7.36400159e-03],\n",
              "       [2.16028318e-02],\n",
              "       [6.45922661e-01],\n",
              "       [1.45983044e-02],\n",
              "       [9.62847546e-02],\n",
              "       [4.24341299e-02],\n",
              "       [1.35980286e-02],\n",
              "       [4.56369156e-03],\n",
              "       [1.38170104e-02],\n",
              "       [2.46571526e-02],\n",
              "       [4.60453182e-02],\n",
              "       [3.76045518e-03],\n",
              "       [7.51685398e-03],\n",
              "       [2.28977278e-02],\n",
              "       [2.28331983e-02],\n",
              "       [2.00598431e-03],\n",
              "       [1.40503570e-02],\n",
              "       [8.67184177e-02],\n",
              "       [1.67287737e-02],\n",
              "       [2.19443440e-02],\n",
              "       [1.63989551e-02],\n",
              "       [5.12459921e-03],\n",
              "       [8.39381013e-03],\n",
              "       [1.55972438e-02],\n",
              "       [1.01458970e-02],\n",
              "       [1.38048217e-01],\n",
              "       [3.33375633e-02],\n",
              "       [2.46544167e-01],\n",
              "       [3.48181307e-01],\n",
              "       [1.85532868e-02],\n",
              "       [7.95363784e-02],\n",
              "       [2.58911923e-02],\n",
              "       [9.00511816e-02],\n",
              "       [9.38937441e-03],\n",
              "       [1.27292927e-02],\n",
              "       [6.14592619e-02],\n",
              "       [1.37692653e-02],\n",
              "       [2.37992723e-02],\n",
              "       [5.59794623e-03],\n",
              "       [4.07888554e-03],\n",
              "       [1.97334569e-02],\n",
              "       [1.30160917e-02],\n",
              "       [2.50841491e-02],\n",
              "       [3.97838801e-01],\n",
              "       [8.03235844e-02],\n",
              "       [4.25320165e-03],\n",
              "       [1.76083848e-01],\n",
              "       [1.15526151e-02],\n",
              "       [4.78238845e-03],\n",
              "       [9.78037789e-02],\n",
              "       [2.81093895e-01],\n",
              "       [2.48121191e-02],\n",
              "       [7.32726010e-04],\n",
              "       [4.83960621e-02],\n",
              "       [1.08966529e-02],\n",
              "       [9.89969238e-04],\n",
              "       [2.18689933e-01],\n",
              "       [1.48370434e-02],\n",
              "       [2.32594516e-02],\n",
              "       [1.78490058e-02],\n",
              "       [9.64453459e-01],\n",
              "       [7.35516772e-02],\n",
              "       [9.90761146e-02],\n",
              "       [8.63598473e-03],\n",
              "       [7.27280322e-03],\n",
              "       [6.90522138e-03],\n",
              "       [1.24768615e-02],\n",
              "       [3.16662461e-01],\n",
              "       [1.28900884e-02],\n",
              "       [5.95932342e-02],\n",
              "       [1.12401033e-02],\n",
              "       [1.40147908e-02],\n",
              "       [1.61112729e-03],\n",
              "       [7.85596669e-03],\n",
              "       [6.40740851e-03],\n",
              "       [2.66424753e-02],\n",
              "       [6.83257263e-03],\n",
              "       [1.03224656e-02],\n",
              "       [2.07865071e-02],\n",
              "       [4.00960818e-02],\n",
              "       [2.33055856e-02],\n",
              "       [7.68625503e-03],\n",
              "       [2.44224723e-02],\n",
              "       [4.12344113e-02],\n",
              "       [8.93126801e-02],\n",
              "       [6.09941501e-03],\n",
              "       [5.53402454e-02],\n",
              "       [2.56107330e-01],\n",
              "       [2.98780762e-02],\n",
              "       [3.09053324e-02],\n",
              "       [1.08715296e-02],\n",
              "       [5.71447872e-02],\n",
              "       [4.20346893e-02],\n",
              "       [2.55872458e-02],\n",
              "       [1.08410843e-01],\n",
              "       [1.66534752e-04],\n",
              "       [3.94378603e-02],\n",
              "       [1.85301788e-02],\n",
              "       [3.54677960e-02],\n",
              "       [6.89477194e-04],\n",
              "       [8.88704509e-02],\n",
              "       [4.71882410e-02],\n",
              "       [2.31883265e-02],\n",
              "       [1.63503718e-02],\n",
              "       [1.91843882e-01],\n",
              "       [4.83594052e-02],\n",
              "       [8.87129381e-02],\n",
              "       [5.06863408e-02],\n",
              "       [2.23186053e-02],\n",
              "       [7.32538998e-02],\n",
              "       [5.59181813e-03],\n",
              "       [6.05783751e-03],\n",
              "       [2.31931657e-01],\n",
              "       [4.35671723e-03],\n",
              "       [2.20255628e-02],\n",
              "       [1.06832713e-01],\n",
              "       [5.65120159e-03],\n",
              "       [4.20351662e-02],\n",
              "       [6.65070564e-02],\n",
              "       [9.04700980e-02],\n",
              "       [3.73311564e-02],\n",
              "       [2.63322555e-02],\n",
              "       [2.99128219e-02],\n",
              "       [2.01976329e-01],\n",
              "       [2.15195250e-02],\n",
              "       [1.37667386e-02],\n",
              "       [1.89710688e-02],\n",
              "       [1.40944496e-01],\n",
              "       [1.95587214e-04],\n",
              "       [3.33155952e-02],\n",
              "       [1.00627750e-01],\n",
              "       [3.17251571e-02],\n",
              "       [5.45809045e-02],\n",
              "       [1.97327256e-01],\n",
              "       [2.45171860e-02],\n",
              "       [9.00909770e-03],\n",
              "       [4.31634560e-02],\n",
              "       [1.97957885e-02],\n",
              "       [8.51136371e-02],\n",
              "       [6.27375999e-03],\n",
              "       [2.83227675e-02],\n",
              "       [2.85582803e-02],\n",
              "       [5.48767932e-02],\n",
              "       [9.13377479e-02],\n",
              "       [2.19674502e-02],\n",
              "       [1.74185075e-03],\n",
              "       [9.04112030e-03],\n",
              "       [1.19229509e-02],\n",
              "       [8.62894859e-03],\n",
              "       [9.55947209e-03],\n",
              "       [2.02997942e-02],\n",
              "       [9.73012578e-03],\n",
              "       [3.95332836e-02],\n",
              "       [1.42625729e-02],\n",
              "       [2.34232340e-02],\n",
              "       [1.20020062e-02],\n",
              "       [7.43422471e-03],\n",
              "       [8.35395325e-03],\n",
              "       [1.13917049e-02],\n",
              "       [6.64273724e-02],\n",
              "       [1.26395449e-01],\n",
              "       [5.61756529e-02],\n",
              "       [1.34987207e-02],\n",
              "       [2.68037524e-02],\n",
              "       [3.21482979e-02],\n",
              "       [1.44061884e-02],\n",
              "       [5.85476048e-02],\n",
              "       [2.79133990e-02],\n",
              "       [5.87089080e-03],\n",
              "       [2.71627724e-01],\n",
              "       [3.79663184e-02],\n",
              "       [3.37761827e-02],\n",
              "       [7.72925233e-03],\n",
              "       [2.20551834e-01],\n",
              "       [9.13450215e-03],\n",
              "       [6.85361493e-03],\n",
              "       [1.52986690e-01],\n",
              "       [1.93254296e-02],\n",
              "       [4.46163267e-02],\n",
              "       [1.12287989e-02],\n",
              "       [3.04048229e-02],\n",
              "       [1.64281484e-02],\n",
              "       [2.24812012e-02],\n",
              "       [3.03015346e-03],\n",
              "       [2.13424135e-02],\n",
              "       [1.47459716e-01],\n",
              "       [6.87798709e-02],\n",
              "       [2.81227738e-01],\n",
              "       [1.14374295e-01],\n",
              "       [1.78836714e-02],\n",
              "       [6.03478625e-02],\n",
              "       [9.57664400e-02],\n",
              "       [3.10650524e-02],\n",
              "       [8.58503357e-02],\n",
              "       [7.93493390e-02],\n",
              "       [3.00401390e-01],\n",
              "       [1.20006995e-02],\n",
              "       [1.29434010e-02],\n",
              "       [2.23171227e-02],\n",
              "       [6.98749267e-04],\n",
              "       [7.51815066e-02],\n",
              "       [1.57296453e-02],\n",
              "       [1.23275220e-02],\n",
              "       [7.03358203e-02],\n",
              "       [2.11118963e-02],\n",
              "       [2.46631324e-01],\n",
              "       [2.75760912e-03],\n",
              "       [9.17378888e-02],\n",
              "       [2.20833179e-02],\n",
              "       [3.48429143e-01],\n",
              "       [2.61752605e-01],\n",
              "       [1.33300312e-02],\n",
              "       [3.00380662e-02],\n",
              "       [7.66050443e-03],\n",
              "       [4.92610876e-03],\n",
              "       [2.56816223e-02],\n",
              "       [1.45544991e-01],\n",
              "       [2.76330370e-03],\n",
              "       [1.35056227e-01],\n",
              "       [4.51160409e-02],\n",
              "       [5.67962090e-03],\n",
              "       [2.26007421e-02],\n",
              "       [2.13396493e-02],\n",
              "       [1.72986854e-02],\n",
              "       [9.77649167e-03],\n",
              "       [3.30042951e-02],\n",
              "       [3.46947163e-02],\n",
              "       [1.85874328e-01],\n",
              "       [1.60620272e-01],\n",
              "       [1.36891663e-01],\n",
              "       [7.08224438e-03],\n",
              "       [1.42203802e-02],\n",
              "       [1.78743876e-03],\n",
              "       [7.19710533e-03],\n",
              "       [1.42918779e-02],\n",
              "       [2.30734590e-02],\n",
              "       [3.19864750e-02],\n",
              "       [3.19667882e-03],\n",
              "       [1.92622002e-02],\n",
              "       [1.60916448e-02],\n",
              "       [1.83591042e-02],\n",
              "       [1.57851838e-02],\n",
              "       [9.75892723e-01],\n",
              "       [1.65174454e-02],\n",
              "       [2.27052160e-03],\n",
              "       [4.16616686e-02],\n",
              "       [2.32723411e-02],\n",
              "       [1.52174622e-01],\n",
              "       [1.07913837e-01],\n",
              "       [1.00326249e-02],\n",
              "       [5.18682320e-03],\n",
              "       [1.25877291e-01],\n",
              "       [1.76232100e-01],\n",
              "       [9.26767811e-02],\n",
              "       [3.23500633e-02],\n",
              "       [1.11521040e-04],\n",
              "       [2.29037907e-02],\n",
              "       [3.97281721e-02],\n",
              "       [7.00652376e-02],\n",
              "       [1.34961745e-02],\n",
              "       [3.02481018e-02],\n",
              "       [1.24315452e-02],\n",
              "       [7.08488375e-02],\n",
              "       [1.84195731e-02],\n",
              "       [4.22996050e-03],\n",
              "       [1.14370789e-02],\n",
              "       [5.62942088e-01],\n",
              "       [5.14036417e-02],\n",
              "       [4.19078046e-04],\n",
              "       [2.78590657e-02],\n",
              "       [1.80807859e-02],\n",
              "       [5.08141296e-04],\n",
              "       [8.84744246e-03],\n",
              "       [7.13708624e-03],\n",
              "       [1.12681035e-02],\n",
              "       [2.33637735e-01],\n",
              "       [4.84335646e-02],\n",
              "       [4.83637713e-02],\n",
              "       [4.31581074e-03],\n",
              "       [1.60612408e-02],\n",
              "       [5.81155065e-03],\n",
              "       [6.63515925e-02],\n",
              "       [1.55307027e-02],\n",
              "       [4.29966534e-03],\n",
              "       [9.84349102e-02],\n",
              "       [3.77925709e-02],\n",
              "       [2.63660438e-02],\n",
              "       [1.06430787e-04],\n",
              "       [7.51671568e-02],\n",
              "       [1.61931608e-02],\n",
              "       [1.75262503e-02],\n",
              "       [2.09251776e-01],\n",
              "       [1.13798931e-01],\n",
              "       [1.92065593e-02],\n",
              "       [1.21158309e-01],\n",
              "       [2.83732396e-02],\n",
              "       [2.73613399e-03],\n",
              "       [1.90379024e-01]], dtype=float32)"
            ]
          },
          "execution_count": 200,
          "metadata": {},
          "output_type": "execute_result"
        }
      ],
      "source": [
        "y_prob"
      ]
    },
    {
      "cell_type": "code",
      "execution_count": null,
      "metadata": {
        "colab": {
          "base_uri": "https://localhost:8080/"
        },
        "id": "_M6xLiBgWWfW",
        "outputId": "0b444927-f2ef-4683-c256-9db478869e51"
      },
      "outputs": [
        {
          "data": {
            "text/plain": [
              "(708, 1)"
            ]
          },
          "execution_count": 201,
          "metadata": {},
          "output_type": "execute_result"
        }
      ],
      "source": [
        "y_prob.shape"
      ]
    },
    {
      "cell_type": "code",
      "execution_count": null,
      "metadata": {
        "colab": {
          "base_uri": "https://localhost:8080/"
        },
        "id": "ODO-ogccWWfW",
        "outputId": "244789fe-fc40-416b-a7f9-889e6728fe18"
      },
      "outputs": [
        {
          "data": {
            "text/plain": [
              "TensorShape([708, 1])"
            ]
          },
          "execution_count": 202,
          "metadata": {},
          "output_type": "execute_result"
        }
      ],
      "source": [
        "y_predict = tf.greater(y_prob, .5) #pick threshold for the probability \n",
        "y_predict.shape"
      ]
    },
    {
      "cell_type": "code",
      "execution_count": null,
      "metadata": {
        "colab": {
          "base_uri": "https://localhost:8080/"
        },
        "id": "qQ4Gso6qWWfW",
        "outputId": "29a560c2-5e9d-4811-8525-13d7ea7ffd77"
      },
      "outputs": [
        {
          "data": {
            "text/plain": [
              "array([False,  True])"
            ]
          },
          "execution_count": 203,
          "metadata": {},
          "output_type": "execute_result"
        }
      ],
      "source": [
        "np.unique(y_predict) "
      ]
    },
    {
      "cell_type": "code",
      "execution_count": null,
      "metadata": {
        "colab": {
          "base_uri": "https://localhost:8080/",
          "height": 295
        },
        "id": "zuwgRdhWWWfW",
        "outputId": "9281dd59-5f28-49cb-d5b2-22729ac4bfee"
      },
      "outputs": [
        {
          "data": {
            "image/png": "[encoded data removed]",
            "text/plain": [
              "<Figure size 432x288 with 2 Axes>"
            ]
          },
          "metadata": {
            "needs_background": "light"
          },
          "output_type": "display_data"
        }
      ],
      "source": [
        "from sklearn.metrics import confusion_matrix, ConfusionMatrixDisplay, plot_confusion_matrix\n",
        "#class_names = val_ds.class_names\n",
        "#plt.rcParams.update({'font.size': 16})\n",
        "con_matrix = confusion_matrix(y_actual, y_predict)\n",
        "disp = ConfusionMatrixDisplay.from_predictions(y_actual,y_predict,\n",
        "                               #display_labels=class_names, xticks_rotation = 'vertical'\n",
        "                               )\n"
      ]
    },
    {
      "cell_type": "code",
      "execution_count": null,
      "metadata": {
        "colab": {
          "base_uri": "https://localhost:8080/",
          "height": 290
        },
        "id": "Zajq6FR1YPsM",
        "outputId": "288ef2e0-3f13-4b7f-f217-75c5413f9d59"
      },
      "outputs": [
        {
          "data": {
            "text/plain": [
              "<matplotlib.axes._subplots.AxesSubplot at 0x7fadfcd7b5b0>"
            ]
          },
          "execution_count": 205,
          "metadata": {},
          "output_type": "execute_result"
        },
        {
          "data": {
            "image/png": "[encoded data removed]",
            "text/plain": [
              "<Figure size 432x288 with 2 Axes>"
            ]
          },
          "metadata": {
            "needs_background": "light"
          },
          "output_type": "display_data"
        }
      ],
      "source": [
        "import seaborn as sns\n",
        "cm_normalized = con_matrix.astype('float') / con_matrix.sum(axis=1)[:, np.newaxis]\n",
        "sns.heatmap(cm_normalized, annot=True, linewidths = 0.01)"
      ]
    },
    {
      "cell_type": "markdown",
      "metadata": {
        "id": "KTlFJe23fGfQ"
      },
      "source": [
        "#### Reducing parameters in added layers"
      ]
    },
    {
      "cell_type": "code",
      "execution_count": null,
      "metadata": {
        "colab": {
          "base_uri": "https://localhost:8080/"
        },
        "id": "_Hv2SknecnjU",
        "outputId": "5fe0028f-656b-4eb7-e5d4-ebfcc5ecdd36"
      },
      "outputs": [
        {
          "name": "stdout",
          "output_type": "stream",
          "text": [
            "Downloading data from https://storage.googleapis.com/tensorflow/keras-applications/densenet/densenet121_weights_tf_dim_ordering_tf_kernels_notop.h5\n",
            "29084464/29084464 [==============================] - 0s 0us/step\n"
          ]
        }
      ],
      "source": [
        "densenet_model= tf.keras.applications.DenseNet121(\n",
        "    include_top=False,\n",
        "    weights=\"imagenet\",\n",
        "    input_shape=(224,224,3))\n",
        "\n",
        "for layer in densenet_model.layers: \n",
        "    layer.trainable = False"
      ]
    },
    {
      "cell_type": "code",
      "execution_count": null,
      "metadata": {
        "id": "A_Mb00Y3cnjV"
      },
      "outputs": [],
      "source": [
        "full_model = Sequential()\n",
        "full_model.add(densenet_model)\n",
        "full_model.add(GlobalAveragePooling2D())\n",
        "full_model.add(Dense(32, activation='relu'))\n",
        "full_model.add(Dropout(0.3))\n",
        "full_model.add(Dense(1,activation='sigmoid'))"
      ]
    },
    {
      "cell_type": "code",
      "execution_count": null,
      "metadata": {
        "colab": {
          "base_uri": "https://localhost:8080/"
        },
        "id": "FA9hwSdGcnjV",
        "outputId": "70a78d22-3f74-4bb6-c7db-9a58e97785e4"
      },
      "outputs": [
        {
          "name": "stdout",
          "output_type": "stream",
          "text": [
            "Model: \"sequential_9\"\n",
            "_________________________________________________________________\n",
            " Layer (type)                Output Shape              Param #   \n",
            "=================================================================\n",
            " densenet121 (Functional)    (None, 7, 7, 1024)        7037504   \n",
            "                                                                 \n",
            " global_average_pooling2d_2   (None, 1024)             0         \n",
            " (GlobalAveragePooling2D)                                        \n",
            "                                                                 \n",
            " dense_16 (Dense)            (None, 32)                32800     \n",
            "                                                                 \n",
            " dropout_4 (Dropout)         (None, 32)                0         \n",
            "                                                                 \n",
            " dense_17 (Dense)            (None, 1)                 33        \n",
            "                                                                 \n",
            "=================================================================\n",
            "Total params: 7,070,337\n",
            "Trainable params: 32,833\n",
            "Non-trainable params: 7,037,504\n",
            "_________________________________________________________________\n"
          ]
        }
      ],
      "source": [
        "full_model.summary()"
      ]
    },
    {
      "cell_type": "code",
      "execution_count": null,
      "metadata": {
        "id": "ZD4D0Xx-cnjV"
      },
      "outputs": [],
      "source": [
        "full_model.compile(keras.optimizers.Adam(learning_rate=0.01), loss='binary_crossentropy', metrics = [keras.metrics.BinaryAccuracy(),keras.metrics.Recall(), keras.metrics.Precision()])"
      ]
    },
    {
      "cell_type": "code",
      "execution_count": null,
      "metadata": {
        "id": "YLFBnbElcnjV"
      },
      "outputs": [],
      "source": [
        "es7 = EarlyStopping(monitor='val_recall_2', mode='max', verbose=1, patience=6, restore_best_weights=True)"
      ]
    },
    {
      "cell_type": "code",
      "execution_count": null,
      "metadata": {
        "colab": {
          "base_uri": "https://localhost:8080/"
        },
        "id": "dU98G_VbcnjV",
        "outputId": "d8dc52f0-0902-4c3f-9236-ba660f8d2ae0"
      },
      "outputs": [
        {
          "name": "stdout",
          "output_type": "stream",
          "text": [
            "Epoch 1/10\n",
            "123/123 [==============================] - ETA: 0s - loss: 0.5701 - binary_accuracy: 0.7050 - recall_3: 0.0026 - precision_3: 1.0000"
          ]
        },
        {
          "name": "stderr",
          "output_type": "stream",
          "text": [
            "WARNING:tensorflow:Early stopping conditioned on metric `val_recall_2` which is not available. Available metrics are: loss,binary_accuracy,recall_3,precision_3,val_loss,val_binary_accuracy,val_recall_3,val_precision_3\n"
          ]
        },
        {
          "name": "stdout",
          "output_type": "stream",
          "text": [
            "\b\b\b\b\b\b\b\b\b\b\b\b\b\b\b\b\b\b\b\b\b\b\b\b\b\b\b\b\b\b\b\b\b\b\b\b\b\b\b\b\b\b\b\b\b\b\b\b\b\b\b\b\b\b\b\b\b\b\b\b\b\b\b\b\b\b\b\b\b\b\b\b\b\b\b\b\b\b\b\b\b\b\b\b\b\b\b\b\b\b\b\b\b\b\b\b\b\b\b\b\b\b\b\b\b\b\b\b\b\b\b\b\b\b\b\b\b\b\b\b\b\b\b\b\b\b\b\b\b\b\b\b\r123/123 [==============================] - 32s 215ms/step - loss: 0.5701 - binary_accuracy: 0.7050 - recall_3: 0.0026 - precision_3: 1.0000 - val_loss: 0.2956 - val_binary_accuracy: 0.9788 - val_recall_3: 0.0000e+00 - val_precision_3: 0.0000e+00\n",
            "Epoch 2/10\n",
            "123/123 [==============================] - ETA: 0s - loss: 0.5343 - binary_accuracy: 0.7108 - recall_3: 0.0707 - precision_3: 0.5921"
          ]
        },
        {
          "name": "stderr",
          "output_type": "stream",
          "text": [
            "WARNING:tensorflow:Early stopping conditioned on metric `val_recall_2` which is not available. Available metrics are: loss,binary_accuracy,recall_3,precision_3,val_loss,val_binary_accuracy,val_recall_3,val_precision_3\n"
          ]
        },
        {
          "name": "stdout",
          "output_type": "stream",
          "text": [
            "\b\b\b\b\b\b\b\b\b\b\b\b\b\b\b\b\b\b\b\b\b\b\b\b\b\b\b\b\b\b\b\b\b\b\b\b\b\b\b\b\b\b\b\b\b\b\b\b\b\b\b\b\b\b\b\b\b\b\b\b\b\b\b\b\b\b\b\b\b\b\b\b\b\b\b\b\b\b\b\b\b\b\b\b\b\b\b\b\b\b\b\b\b\b\b\b\b\b\b\b\b\b\b\b\b\b\b\b\b\b\b\b\b\b\b\b\b\b\b\b\b\b\b\b\b\b\b\b\b\b\b\b\r123/123 [==============================] - 25s 204ms/step - loss: 0.5343 - binary_accuracy: 0.7108 - recall_3: 0.0707 - precision_3: 0.5921 - val_loss: 0.3586 - val_binary_accuracy: 0.9732 - val_recall_3: 0.2000 - val_precision_3: 0.3000\n",
            "Epoch 3/10\n",
            "123/123 [==============================] - ETA: 0s - loss: 0.5200 - binary_accuracy: 0.7317 - recall_3: 0.3444 - precision_3: 0.5777"
          ]
        },
        {
          "name": "stderr",
          "output_type": "stream",
          "text": [
            "WARNING:tensorflow:Early stopping conditioned on metric `val_recall_2` which is not available. Available metrics are: loss,binary_accuracy,recall_3,precision_3,val_loss,val_binary_accuracy,val_recall_3,val_precision_3\n"
          ]
        },
        {
          "name": "stdout",
          "output_type": "stream",
          "text": [
            "\b\b\b\b\b\b\b\b\b\b\b\b\b\b\b\b\b\b\b\b\b\b\b\b\b\b\b\b\b\b\b\b\b\b\b\b\b\b\b\b\b\b\b\b\b\b\b\b\b\b\b\b\b\b\b\b\b\b\b\b\b\b\b\b\b\b\b\b\b\b\b\b\b\b\b\b\b\b\b\b\b\b\b\b\b\b\b\b\b\b\b\b\b\b\b\b\b\b\b\b\b\b\b\b\b\b\b\b\b\b\b\b\b\b\b\b\b\b\b\b\b\b\b\b\b\b\b\b\b\b\b\b\r123/123 [==============================] - 26s 209ms/step - loss: 0.5200 - binary_accuracy: 0.7317 - recall_3: 0.3444 - precision_3: 0.5777 - val_loss: 0.4639 - val_binary_accuracy: 0.7740 - val_recall_3: 0.6667 - val_precision_3: 0.0606\n",
            "Epoch 4/10\n",
            "123/123 [==============================] - ETA: 0s - loss: 0.4918 - binary_accuracy: 0.7604 - recall_3: 0.4767 - precision_3: 0.6242"
          ]
        },
        {
          "name": "stderr",
          "output_type": "stream",
          "text": [
            "WARNING:tensorflow:Early stopping conditioned on metric `val_recall_2` which is not available. Available metrics are: loss,binary_accuracy,recall_3,precision_3,val_loss,val_binary_accuracy,val_recall_3,val_precision_3\n"
          ]
        },
        {
          "name": "stdout",
          "output_type": "stream",
          "text": [
            "\b\b\b\b\b\b\b\b\b\b\b\b\b\b\b\b\b\b\b\b\b\b\b\b\b\b\b\b\b\b\b\b\b\b\b\b\b\b\b\b\b\b\b\b\b\b\b\b\b\b\b\b\b\b\b\b\b\b\b\b\b\b\b\b\b\b\b\b\b\b\b\b\b\b\b\b\b\b\b\b\b\b\b\b\b\b\b\b\b\b\b\b\b\b\b\b\b\b\b\b\b\b\b\b\b\b\b\b\b\b\b\b\b\b\b\b\b\b\b\b\b\b\b\b\b\b\b\b\b\b\b\b\r123/123 [==============================] - 25s 207ms/step - loss: 0.4918 - binary_accuracy: 0.7604 - recall_3: 0.4767 - precision_3: 0.6242 - val_loss: 0.3775 - val_binary_accuracy: 0.8842 - val_recall_3: 0.7333 - val_precision_3: 0.1236\n",
            "Epoch 5/10\n",
            "123/123 [==============================] - ETA: 0s - loss: 0.4612 - binary_accuracy: 0.7814 - recall_3: 0.5634 - precision_3: 0.6506"
          ]
        },
        {
          "name": "stderr",
          "output_type": "stream",
          "text": [
            "WARNING:tensorflow:Early stopping conditioned on metric `val_recall_2` which is not available. Available metrics are: loss,binary_accuracy,recall_3,precision_3,val_loss,val_binary_accuracy,val_recall_3,val_precision_3\n"
          ]
        },
        {
          "name": "stdout",
          "output_type": "stream",
          "text": [
            "\b\b\b\b\b\b\b\b\b\b\b\b\b\b\b\b\b\b\b\b\b\b\b\b\b\b\b\b\b\b\b\b\b\b\b\b\b\b\b\b\b\b\b\b\b\b\b\b\b\b\b\b\b\b\b\b\b\b\b\b\b\b\b\b\b\b\b\b\b\b\b\b\b\b\b\b\b\b\b\b\b\b\b\b\b\b\b\b\b\b\b\b\b\b\b\b\b\b\b\b\b\b\b\b\b\b\b\b\b\b\b\b\b\b\b\b\b\b\b\b\b\b\b\b\b\b\b\b\b\b\b\b\r123/123 [==============================] - 25s 206ms/step - loss: 0.4612 - binary_accuracy: 0.7814 - recall_3: 0.5634 - precision_3: 0.6506 - val_loss: 0.2508 - val_binary_accuracy: 0.9336 - val_recall_3: 0.6000 - val_precision_3: 0.1800\n",
            "Epoch 6/10\n",
            "123/123 [==============================] - ETA: 0s - loss: 0.4613 - binary_accuracy: 0.7830 - recall_3: 0.6129 - precision_3: 0.6388"
          ]
        },
        {
          "name": "stderr",
          "output_type": "stream",
          "text": [
            "WARNING:tensorflow:Early stopping conditioned on metric `val_recall_2` which is not available. Available metrics are: loss,binary_accuracy,recall_3,precision_3,val_loss,val_binary_accuracy,val_recall_3,val_precision_3\n"
          ]
        },
        {
          "name": "stdout",
          "output_type": "stream",
          "text": [
            "\b\b\b\b\b\b\b\b\b\b\b\b\b\b\b\b\b\b\b\b\b\b\b\b\b\b\b\b\b\b\b\b\b\b\b\b\b\b\b\b\b\b\b\b\b\b\b\b\b\b\b\b\b\b\b\b\b\b\b\b\b\b\b\b\b\b\b\b\b\b\b\b\b\b\b\b\b\b\b\b\b\b\b\b\b\b\b\b\b\b\b\b\b\b\b\b\b\b\b\b\b\b\b\b\b\b\b\b\b\b\b\b\b\b\b\b\b\b\b\b\b\b\b\b\b\b\b\b\b\b\b\b\r123/123 [==============================] - 26s 212ms/step - loss: 0.4613 - binary_accuracy: 0.7830 - recall_3: 0.6129 - precision_3: 0.6388 - val_loss: 0.2836 - val_binary_accuracy: 0.9449 - val_recall_3: 0.6667 - val_precision_3: 0.2273\n",
            "Epoch 7/10\n",
            "123/123 [==============================] - ETA: 0s - loss: 0.4431 - binary_accuracy: 0.7899 - recall_3: 0.6349 - precision_3: 0.6478"
          ]
        },
        {
          "name": "stderr",
          "output_type": "stream",
          "text": [
            "WARNING:tensorflow:Early stopping conditioned on metric `val_recall_2` which is not available. Available metrics are: loss,binary_accuracy,recall_3,precision_3,val_loss,val_binary_accuracy,val_recall_3,val_precision_3\n"
          ]
        },
        {
          "name": "stdout",
          "output_type": "stream",
          "text": [
            "\b\b\b\b\b\b\b\b\b\b\b\b\b\b\b\b\b\b\b\b\b\b\b\b\b\b\b\b\b\b\b\b\b\b\b\b\b\b\b\b\b\b\b\b\b\b\b\b\b\b\b\b\b\b\b\b\b\b\b\b\b\b\b\b\b\b\b\b\b\b\b\b\b\b\b\b\b\b\b\b\b\b\b\b\b\b\b\b\b\b\b\b\b\b\b\b\b\b\b\b\b\b\b\b\b\b\b\b\b\b\b\b\b\b\b\b\b\b\b\b\b\b\b\b\b\b\b\b\b\b\b\b\r123/123 [==============================] - 26s 207ms/step - loss: 0.4431 - binary_accuracy: 0.7899 - recall_3: 0.6349 - precision_3: 0.6478 - val_loss: 0.2879 - val_binary_accuracy: 0.8729 - val_recall_3: 0.7333 - val_precision_3: 0.1134\n",
            "Epoch 8/10\n",
            "123/123 [==============================] - ETA: 0s - loss: 0.4546 - binary_accuracy: 0.7755 - recall_3: 0.6789 - precision_3: 0.6079"
          ]
        },
        {
          "name": "stderr",
          "output_type": "stream",
          "text": [
            "WARNING:tensorflow:Early stopping conditioned on metric `val_recall_2` which is not available. Available metrics are: loss,binary_accuracy,recall_3,precision_3,val_loss,val_binary_accuracy,val_recall_3,val_precision_3\n"
          ]
        },
        {
          "name": "stdout",
          "output_type": "stream",
          "text": [
            "\b\b\b\b\b\b\b\b\b\b\b\b\b\b\b\b\b\b\b\b\b\b\b\b\b\b\b\b\b\b\b\b\b\b\b\b\b\b\b\b\b\b\b\b\b\b\b\b\b\b\b\b\b\b\b\b\b\b\b\b\b\b\b\b\b\b\b\b\b\b\b\b\b\b\b\b\b\b\b\b\b\b\b\b\b\b\b\b\b\b\b\b\b\b\b\b\b\b\b\b\b\b\b\b\b\b\b\b\b\b\b\b\b\b\b\b\b\b\b\b\b\b\b\b\b\b\b\b\b\b\b\b\r123/123 [==============================] - 25s 204ms/step - loss: 0.4546 - binary_accuracy: 0.7755 - recall_3: 0.6789 - precision_3: 0.6079 - val_loss: 0.2923 - val_binary_accuracy: 0.9294 - val_recall_3: 0.6000 - val_precision_3: 0.1698\n",
            "Epoch 9/10\n",
            "123/123 [==============================] - ETA: 0s - loss: 0.4735 - binary_accuracy: 0.7431 - recall_3: 0.6405 - precision_3: 0.5572"
          ]
        },
        {
          "name": "stderr",
          "output_type": "stream",
          "text": [
            "WARNING:tensorflow:Early stopping conditioned on metric `val_recall_2` which is not available. Available metrics are: loss,binary_accuracy,recall_3,precision_3,val_loss,val_binary_accuracy,val_recall_3,val_precision_3\n"
          ]
        },
        {
          "name": "stdout",
          "output_type": "stream",
          "text": [
            "\b\b\b\b\b\b\b\b\b\b\b\b\b\b\b\b\b\b\b\b\b\b\b\b\b\b\b\b\b\b\b\b\b\b\b\b\b\b\b\b\b\b\b\b\b\b\b\b\b\b\b\b\b\b\b\b\b\b\b\b\b\b\b\b\b\b\b\b\b\b\b\b\b\b\b\b\b\b\b\b\b\b\b\b\b\b\b\b\b\b\b\b\b\b\b\b\b\b\b\b\b\b\b\b\b\b\b\b\b\b\b\b\b\b\b\b\b\b\b\b\b\b\b\b\b\b\b\b\b\b\b\b\r123/123 [==============================] - 26s 208ms/step - loss: 0.4735 - binary_accuracy: 0.7431 - recall_3: 0.6405 - precision_3: 0.5572 - val_loss: 0.2494 - val_binary_accuracy: 0.9379 - val_recall_3: 0.6000 - val_precision_3: 0.1915\n",
            "Epoch 10/10\n",
            "123/123 [==============================] - ETA: 0s - loss: 0.4585 - binary_accuracy: 0.7489 - recall_3: 0.6897 - precision_3: 0.5614"
          ]
        },
        {
          "name": "stderr",
          "output_type": "stream",
          "text": [
            "WARNING:tensorflow:Early stopping conditioned on metric `val_recall_2` which is not available. Available metrics are: loss,binary_accuracy,recall_3,precision_3,val_loss,val_binary_accuracy,val_recall_3,val_precision_3\n"
          ]
        },
        {
          "name": "stdout",
          "output_type": "stream",
          "text": [
            "\b\b\b\b\b\b\b\b\b\b\b\b\b\b\b\b\b\b\b\b\b\b\b\b\b\b\b\b\b\b\b\b\b\b\b\b\b\b\b\b\b\b\b\b\b\b\b\b\b\b\b\b\b\b\b\b\b\b\b\b\b\b\b\b\b\b\b\b\b\b\b\b\b\b\b\b\b\b\b\b\b\b\b\b\b\b\b\b\b\b\b\b\b\b\b\b\b\b\b\b\b\b\b\b\b\b\b\b\b\b\b\b\b\b\b\b\b\b\b\b\b\b\b\b\b\b\b\b\b\b\b\b\r123/123 [==============================] - 26s 208ms/step - loss: 0.4585 - binary_accuracy: 0.7489 - recall_3: 0.6897 - precision_3: 0.5614 - val_loss: 0.2195 - val_binary_accuracy: 0.9407 - val_recall_3: 0.5333 - val_precision_3: 0.1860\n"
          ]
        }
      ],
      "source": [
        "history_dense_pool = full_model.fit(normalized_train_ds_des_aug_v2,\n",
        "                    epochs=10, \n",
        "                    validation_data=normalized_val_ds_des, callbacks=[es7]) \n",
        "#accuracy is really low here even for test set, seems to be underfitting overall w/the pooling method"
      ]
    },
    {
      "cell_type": "code",
      "execution_count": null,
      "metadata": {
        "id": "HO1CcMbDoEs_"
      },
      "outputs": [],
      "source": []
    },
    {
      "cell_type": "code",
      "execution_count": null,
      "metadata": {
        "id": "YtBvtcTGcnjW"
      },
      "outputs": [],
      "source": [
        "data_augmentation_adam = keras.Sequential(\n",
        "    [keras.layers.RandomFlip(\"horizontal\"), keras.layers.RandomRotation(0.1), keras.layers.RandomContrast(0.1)]\n",
        ")"
      ]
    },
    {
      "cell_type": "code",
      "execution_count": null,
      "metadata": {
        "id": "dQg4xMJPcnjW"
      },
      "outputs": [],
      "source": [
        "desnet_train_ds_aug_adam = train_ds_prefetch_f.map(lambda x, y: (data_augmentation_adam(x), y))\n"
      ]
    },
    {
      "cell_type": "code",
      "execution_count": null,
      "metadata": {
        "id": "9pU80Li4cnjW"
      },
      "outputs": [],
      "source": [
        "desnet_train_ds_aug_adam = desnet_train_ds_aug_adam.map(lambda x, y: (desnet_preproc_layer(x), y))\n",
        "normalized_train_ds_des_aug_adam = desnet_train_ds_aug_adam.map(lambda x, y: (normalization_layer(x), y))"
      ]
    },
    {
      "cell_type": "code",
      "execution_count": null,
      "metadata": {
        "colab": {
          "base_uri": "https://localhost:8080/"
        },
        "id": "ZYFgjR7RcnjW",
        "outputId": "a195654f-a172-4fd6-b803-646a6a13d409"
      },
      "outputs": [
        {
          "name": "stdout",
          "output_type": "stream",
          "text": [
            "Epoch 1/30\n",
            "123/123 [==============================] - 28s 226ms/step - loss: 0.1685 - binary_accuracy: 0.9485 - recall: 0.8970 - precision: 0.9265 - val_loss: 0.0940 - val_binary_accuracy: 0.9760 - val_recall: 0.4000 - val_precision: 0.4286\n",
            "Epoch 2/30\n",
            "123/123 [==============================] - 27s 219ms/step - loss: 0.1540 - binary_accuracy: 0.9584 - recall: 0.9216 - precision: 0.9369 - val_loss: 0.0922 - val_binary_accuracy: 0.9746 - val_recall: 0.4000 - val_precision: 0.4000\n",
            "Epoch 3/30\n",
            "123/123 [==============================] - 27s 221ms/step - loss: 0.1394 - binary_accuracy: 0.9649 - recall: 0.9405 - precision: 0.9409 - val_loss: 0.0882 - val_binary_accuracy: 0.9760 - val_recall: 0.4000 - val_precision: 0.4286\n",
            "Epoch 4/30\n",
            "123/123 [==============================] - 27s 220ms/step - loss: 0.1283 - binary_accuracy: 0.9703 - recall: 0.9534 - precision: 0.9465 - val_loss: 0.0844 - val_binary_accuracy: 0.9774 - val_recall: 0.4000 - val_precision: 0.4615\n",
            "Epoch 5/30\n",
            "123/123 [==============================] - 27s 217ms/step - loss: 0.1197 - binary_accuracy: 0.9744 - recall: 0.9629 - precision: 0.9510 - val_loss: 0.0824 - val_binary_accuracy: 0.9774 - val_recall: 0.4000 - val_precision: 0.4615\n",
            "Epoch 6/30\n",
            "123/123 [==============================] - 27s 220ms/step - loss: 0.1126 - binary_accuracy: 0.9755 - recall: 0.9642 - precision: 0.9535 - val_loss: 0.0829 - val_binary_accuracy: 0.9774 - val_recall: 0.4000 - val_precision: 0.4615\n",
            "Epoch 7/30\n",
            "123/123 [==============================] - ETA: 0s - loss: 0.1055 - binary_accuracy: 0.9767 - recall: 0.9655 - precision: 0.9560Restoring model weights from the end of the best epoch: 1.\n",
            "123/123 [==============================] - 27s 217ms/step - loss: 0.1055 - binary_accuracy: 0.9767 - recall: 0.9655 - precision: 0.9560 - val_loss: 0.0860 - val_binary_accuracy: 0.9760 - val_recall: 0.4000 - val_precision: 0.4286\n",
            "Epoch 7: early stopping\n"
          ]
        }
      ],
      "source": [
        "history_dense_1_aug = full_model.fit(normalized_train_ds_des_aug_adam,\n",
        "                    epochs=30, \n",
        "                    validation_data=normalized_val_ds_des, callbacks=[es3]) #if I included the callbacks here then I could've saed one of the versions w/recall + precision for val set?"
      ]
    },
    {
      "cell_type": "markdown",
      "metadata": {
        "id": "1VOsfcJd6yUT"
      },
      "source": [
        "## Trying even larger proportion of Random Oversampling of minority class"
      ]
    },
    {
      "cell_type": "code",
      "execution_count": null,
      "metadata": {
        "id": "kkWGmTKn7EFD"
      },
      "outputs": [],
      "source": [
        "source = '/content/OGNetDevelopmentData-2/train_images/class_1'\n",
        "dest = './OGNetDevelopmentData-2/train_ROS/class_1'\n",
        "#files = os.listdir(source)\n",
        "\n",
        "filenames = random.choices(os.listdir(source), k=3840) #4640 was too much\n",
        "\n",
        "#https://stackoverflow.com/questions/67308631/is-it-possible-to-make-multiple-copies-of-a-file-using-shutil-copy - this is not working perfectly\n",
        "\n",
        "i = 0\n",
        "for file_name in filenames:\n",
        "    shutil.copy(os.path.join(source,file_name), os.path.join(dest, f\"{i}_1.png\"))\n",
        "    i += 1\n"
      ]
    },
    {
      "cell_type": "code",
      "execution_count": null,
      "metadata": {
        "id": "4xaIz6GB7EFD"
      },
      "outputs": [],
      "source": [
        " # Source path with original set of images\n",
        "source = \"/content/OGNetDevelopmentData-2/train_images/class_0/*_0.png\"\n",
        "  \n",
        "# Destination path for \n",
        "destination = \"/content/OGNetDevelopmentData-2/train_ROS/class_0\"\n",
        "files = glob.glob(source)\n",
        "\n",
        "# Copy normal images to destination folder\n",
        "\n",
        "for f in files:\n",
        "  shutil.copy(f, destination)"
      ]
    },
    {
      "cell_type": "code",
      "execution_count": null,
      "metadata": {
        "colab": {
          "base_uri": "https://localhost:8080/"
        },
        "id": "k5_8kmwG7EFD",
        "outputId": "ab8b0e04-ed23-43f3-d647-ad22a3a14758"
      },
      "outputs": [
        {
          "data": {
            "text/plain": [
              "3840"
            ]
          },
          "execution_count": 61,
          "metadata": {},
          "output_type": "execute_result"
        }
      ],
      "source": [
        "len(filenames)"
      ]
    },
    {
      "cell_type": "code",
      "execution_count": null,
      "metadata": {
        "colab": {
          "base_uri": "https://localhost:8080/"
        },
        "id": "JbACpOdq7EFE",
        "outputId": "99d2bbe3-788f-4cbd-e14d-99147fe02fcf"
      },
      "outputs": [
        {
          "name": "stdout",
          "output_type": "stream",
          "text": [
            "3840\n"
          ]
        }
      ],
      "source": [
        "!ls /content/OGNetDevelopmentData-2/train_ROS/class_1 | wc -l "
      ]
    },
    {
      "cell_type": "code",
      "execution_count": null,
      "metadata": {
        "id": "J8p1eOVI7EFE"
      },
      "outputs": [],
      "source": [
        "batch_size = 64  #increased batch size as well\n",
        "img_height = 500\n",
        "img_width = 500"
      ]
    },
    {
      "cell_type": "code",
      "execution_count": null,
      "metadata": {
        "colab": {
          "base_uri": "https://localhost:8080/"
        },
        "id": "WHuBenaU7EFE",
        "outputId": "68ac8084-3c81-425b-af93-1f8869eaca69"
      },
      "outputs": [
        {
          "name": "stdout",
          "output_type": "stream",
          "text": [
            "Found 9365 files belonging to 2 classes.\n"
          ]
        }
      ],
      "source": [
        "#https://www.tensorflow.org/tutorials/images/classification\n",
        "train_ds_f = tf.keras.utils.image_dataset_from_directory(\n",
        "  '/content/OGNetDevelopmentData-2/train_ROS',\n",
        "  #validation_split=0.2,\n",
        "  #subset=\"training\",\n",
        "  seed=123,\n",
        "  image_size=(img_height, img_width),\n",
        "  batch_size=batch_size)"
      ]
    },
    {
      "cell_type": "code",
      "execution_count": null,
      "metadata": {
        "colab": {
          "base_uri": "https://localhost:8080/"
        },
        "id": "xpMkBVH37EFE",
        "outputId": "ff671d67-087d-49c1-efa6-4f6d6141b8e9"
      },
      "outputs": [
        {
          "name": "stdout",
          "output_type": "stream",
          "text": [
            "Found 708 files belonging to 2 classes.\n"
          ]
        }
      ],
      "source": [
        "#https://www.tensorflow.org/tutorials/images/classification\n",
        "val_ds_f = tf.keras.utils.image_dataset_from_directory(\n",
        "  '/content/OGNetDevelopmentData-2/val_images',\n",
        "  #validation_split=0.2,\n",
        "  #subset=\"training\",\n",
        "  seed=123,\n",
        "  image_size=(img_height, img_width),\n",
        "  batch_size=batch_size)"
      ]
    },
    {
      "cell_type": "code",
      "execution_count": null,
      "metadata": {
        "colab": {
          "base_uri": "https://localhost:8080/"
        },
        "id": "r1A9NJG_7EFE",
        "outputId": "4530e07d-f471-4949-a216-bcc5b143759e"
      },
      "outputs": [
        {
          "name": "stdout",
          "output_type": "stream",
          "text": [
            "Found 704 files belonging to 2 classes.\n"
          ]
        }
      ],
      "source": [
        "#https://www.tensorflow.org/tutorials/images/classification\n",
        "test_ds_f = tf.keras.utils.image_dataset_from_directory(\n",
        "  '/content/OGNetDevelopmentData-2/test_images',\n",
        "  #validation_split=0.2,\n",
        "  #subset=\"training\",\n",
        "  seed=123,\n",
        "  image_size=(img_height, img_width),\n",
        "  batch_size=batch_size)"
      ]
    },
    {
      "cell_type": "code",
      "execution_count": null,
      "metadata": {
        "id": "7tpRt1Tx7EFE"
      },
      "outputs": [],
      "source": [
        "size=(224,224)"
      ]
    },
    {
      "cell_type": "code",
      "execution_count": null,
      "metadata": {
        "id": "WfkMDn5t7EFE"
      },
      "outputs": [],
      "source": [
        "#from tensorflow\n",
        "from tensorflow.image import resize\n",
        "train_ds_f = train_ds_f.map(lambda x, y: (tf.image.resize(x, size), y))\n",
        "val_ds_f = val_ds_f.map(lambda x, y: (tf.image.resize(x, size), y))\n",
        "test_ds_f = test_ds_f.map(lambda x, y: (tf.image.resize(x, size), y))\n"
      ]
    },
    {
      "cell_type": "code",
      "execution_count": null,
      "metadata": {
        "id": "lTJw3CHY7EFF"
      },
      "outputs": [],
      "source": [
        "#https://www.tensorflow.org/tutorials/images/classification\n",
        "AUTOTUNE = tf.data.AUTOTUNE\n",
        "\n",
        "train_ds_prefetch_f = train_ds_f.cache().prefetch(buffer_size=AUTOTUNE)\n",
        "val_ds_prefetch_f = val_ds_f.cache().prefetch(buffer_size=AUTOTUNE)\n",
        "test_ds_prefetch_f = test_ds_f.cache().prefetch(buffer_size=AUTOTUNE)"
      ]
    },
    {
      "cell_type": "markdown",
      "metadata": {
        "id": "kpGC876HEzCZ"
      },
      "source": [
        "#### ResNets"
      ]
    },
    {
      "cell_type": "code",
      "execution_count": null,
      "metadata": {
        "id": "N7BMGe8-7EFF"
      },
      "outputs": [],
      "source": [
        "resnet_preproc_layer = tf.keras.applications.resnet50.preprocess_input\n",
        "resnet_train_ds_f = train_ds_prefetch_f.map(lambda x, y: (resnet_preproc_layer(x), y))\n",
        "resnet_val_ds_f =val_ds_prefetch_f.map(lambda x, y: (resnet_preproc_layer(x), y))\n",
        "resnet_test_ds_f = test_ds_prefetch_f.map(lambda x, y: (resnet_preproc_layer(x), y))"
      ]
    },
    {
      "cell_type": "code",
      "execution_count": null,
      "metadata": {
        "id": "smTBIXdL7EFF"
      },
      "outputs": [],
      "source": [
        "normalization_layer = layers.Rescaling(1./224)\n",
        "normalized_train_ds_f = resnet_train_ds_f.map(lambda x, y: (normalization_layer(x), y))\n",
        "normalized_val_ds_f =resnet_val_ds_f.map(lambda x, y: (normalization_layer(x), y))\n",
        "normalized_test_ds_f = resnet_test_ds_f.map(lambda x, y: (normalization_layer(x), y))"
      ]
    },
    {
      "cell_type": "code",
      "execution_count": null,
      "metadata": {
        "id": "1SNfWWeh7EFF"
      },
      "outputs": [],
      "source": [
        "data_augmentation_adam = keras.Sequential(\n",
        "    [keras.layers.RandomFlip(\"horizontal\"), keras.layers.RandomRotation(0.1),]\n",
        ")"
      ]
    },
    {
      "cell_type": "code",
      "execution_count": null,
      "metadata": {
        "id": "vM9zjbGn7EFF"
      },
      "outputs": [],
      "source": [
        "resnet_train_ds_f_aug_adam = train_ds_prefetch_f.map(lambda x, y: (data_augmentation_adam(x), y))\n"
      ]
    },
    {
      "cell_type": "code",
      "execution_count": null,
      "metadata": {
        "id": "eKBbUAVK7EFF"
      },
      "outputs": [],
      "source": [
        "resnet_train_ds_f_aug_adam = resnet_train_ds_f_aug_adam.map(lambda x, y: (resnet_preproc_layer(x), y))\n",
        "normalized_train_ds_f_aug_adam = resnet_train_ds_f_aug_adam.map(lambda x, y: (normalization_layer(x), y))"
      ]
    },
    {
      "cell_type": "code",
      "execution_count": null,
      "metadata": {
        "id": "1C0Ro_W-7EFF"
      },
      "outputs": [],
      "source": [
        "restnet = ResNet50(include_top=False, weights='imagenet', input_shape=(224,224,3))\n",
        "\n",
        "output = restnet.layers[-1].output #how does layer work if output isn't defined yet?\n",
        "output = keras.layers.Flatten()(output)\n",
        "restnet = Model(restnet.input, output)\n",
        "\n",
        "for layer in restnet.layers:\n",
        "    layer.trainable = False"
      ]
    },
    {
      "cell_type": "code",
      "execution_count": null,
      "metadata": {
        "id": "VlHa4iGC7EFF"
      },
      "outputs": [],
      "source": [
        "model = Sequential()\n",
        "model.add(restnet)\n",
        "model.add(Dense(1, activation='sigmoid'))"
      ]
    },
    {
      "cell_type": "code",
      "execution_count": null,
      "metadata": {
        "id": "V7p7X6aC7EFF"
      },
      "outputs": [],
      "source": [
        "model.compile(loss='binary_crossentropy',\n",
        "              optimizer=keras.optimizers.Adam(),\n",
        "              metrics=[keras.metrics.BinaryAccuracy(), keras.metrics.Recall(), keras.metrics.Precision()])"
      ]
    },
    {
      "cell_type": "code",
      "execution_count": null,
      "metadata": {
        "id": "IUBdVum99Tri"
      },
      "outputs": [],
      "source": [
        "es5 = EarlyStopping(monitor='val_recall_3', mode='max', verbose=1, patience=6, restore_best_weights= True)"
      ]
    },
    {
      "cell_type": "code",
      "execution_count": null,
      "metadata": {
        "colab": {
          "base_uri": "https://localhost:8080/",
          "height": 623
        },
        "id": "fCBNDVG97EFG",
        "outputId": "402ce4d1-388d-4aa8-bec3-061bc2383ca7"
      },
      "outputs": [
        {
          "name": "stdout",
          "output_type": "stream",
          "text": [
            "Epoch 1/30\n",
            "318/318 [==============================] - ETA: 0s - loss: 0.5809 - binary_accuracy: 0.7484 - recall_1: 0.6901 - precision_1: 0.7409"
          ]
        },
        {
          "name": "stderr",
          "output_type": "stream",
          "text": [
            "WARNING:tensorflow:Early stopping conditioned on metric `val_recall_3` which is not available. Available metrics are: loss,binary_accuracy,recall_1,precision_1,val_loss,val_binary_accuracy,val_recall_1,val_precision_1\n"
          ]
        },
        {
          "name": "stdout",
          "output_type": "stream",
          "text": [
            "\b\b\b\b\b\b\b\b\b\b\b\b\b\b\b\b\b\b\b\b\b\b\b\b\b\b\b\b\b\b\b\b\b\b\b\b\b\b\b\b\b\b\b\b\b\b\b\b\b\b\b\b\b\b\b\b\b\b\b\b\b\b\b\b\b\b\b\b\b\b\b\b\b\b\b\b\b\b\b\b\b\b\b\b\b\b\b\b\b\b\b\b\b\b\b\b\b\b\b\b\b\b\b\b\b\b\b\b\b\b\b\b\b\b\b\b\b\b\b\b\b\b\b\b\b\b\b\b\b\b\b\b\r318/318 [==============================] - 160s 452ms/step - loss: 0.5809 - binary_accuracy: 0.7484 - recall_1: 0.6901 - precision_1: 0.7409 - val_loss: 0.7982 - val_binary_accuracy: 0.5424 - val_recall_1: 0.9333 - val_precision_1: 0.0415\n",
            "Epoch 2/30\n",
            "318/318 [==============================] - ETA: 0s - loss: 0.3438 - binary_accuracy: 0.8533 - recall_1: 0.8282 - precision_1: 0.8470"
          ]
        },
        {
          "name": "stderr",
          "output_type": "stream",
          "text": [
            "WARNING:tensorflow:Early stopping conditioned on metric `val_recall_3` which is not available. Available metrics are: loss,binary_accuracy,recall_1,precision_1,val_loss,val_binary_accuracy,val_recall_1,val_precision_1\n"
          ]
        },
        {
          "name": "stdout",
          "output_type": "stream",
          "text": [
            "\b\b\b\b\b\b\b\b\b\b\b\b\b\b\b\b\b\b\b\b\b\b\b\b\b\b\b\b\b\b\b\b\b\b\b\b\b\b\b\b\b\b\b\b\b\b\b\b\b\b\b\b\b\b\b\b\b\b\b\b\b\b\b\b\b\b\b\b\b\b\b\b\b\b\b\b\b\b\b\b\b\b\b\b\b\b\b\b\b\b\b\b\b\b\b\b\b\b\b\b\b\b\b\b\b\b\b\b\b\b\b\b\b\b\b\b\b\b\b\b\b\b\b\b\b\b\b\b\b\b\b\b\r318/318 [==============================] - 35s 110ms/step - loss: 0.3438 - binary_accuracy: 0.8533 - recall_1: 0.8282 - precision_1: 0.8470 - val_loss: 0.7002 - val_binary_accuracy: 0.6370 - val_recall_1: 0.7333 - val_precision_1: 0.0417\n",
            "Epoch 3/30\n",
            "318/318 [==============================] - ETA: 0s - loss: 0.2797 - binary_accuracy: 0.8925 - recall_1: 0.8808 - precision_1: 0.8833"
          ]
        },
        {
          "name": "stderr",
          "output_type": "stream",
          "text": [
            "WARNING:tensorflow:Early stopping conditioned on metric `val_recall_3` which is not available. Available metrics are: loss,binary_accuracy,recall_1,precision_1,val_loss,val_binary_accuracy,val_recall_1,val_precision_1\n"
          ]
        },
        {
          "name": "stdout",
          "output_type": "stream",
          "text": [
            "\b\b\b\b\b\b\b\b\b\b\b\b\b\b\b\b\b\b\b\b\b\b\b\b\b\b\b\b\b\b\b\b\b\b\b\b\b\b\b\b\b\b\b\b\b\b\b\b\b\b\b\b\b\b\b\b\b\b\b\b\b\b\b\b\b\b\b\b\b\b\b\b\b\b\b\b\b\b\b\b\b\b\b\b\b\b\b\b\b\b\b\b\b\b\b\b\b\b\b\b\b\b\b\b\b\b\b\b\b\b\b\b\b\b\b\b\b\b\b\b\b\b\b\b\b\b\b\b\b\b\b\b\r318/318 [==============================] - 35s 109ms/step - loss: 0.2797 - binary_accuracy: 0.8925 - recall_1: 0.8808 - precision_1: 0.8833 - val_loss: 0.5683 - val_binary_accuracy: 0.7458 - val_recall_1: 0.7333 - val_precision_1: 0.0588\n",
            "Epoch 4/30\n",
            "318/318 [==============================] - ETA: 0s - loss: 0.2371 - binary_accuracy: 0.9149 - recall_1: 0.9091 - precision_1: 0.9050"
          ]
        },
        {
          "name": "stderr",
          "output_type": "stream",
          "text": [
            "WARNING:tensorflow:Early stopping conditioned on metric `val_recall_3` which is not available. Available metrics are: loss,binary_accuracy,recall_1,precision_1,val_loss,val_binary_accuracy,val_recall_1,val_precision_1\n"
          ]
        },
        {
          "name": "stdout",
          "output_type": "stream",
          "text": [
            "\b\b\b\b\b\b\b\b\b\b\b\b\b\b\b\b\b\b\b\b\b\b\b\b\b\b\b\b\b\b\b\b\b\b\b\b\b\b\b\b\b\b\b\b\b\b\b\b\b\b\b\b\b\b\b\b\b\b\b\b\b\b\b\b\b\b\b\b\b\b\b\b\b\b\b\b\b\b\b\b\b\b\b\b\b\b\b\b\b\b\b\b\b\b\b\b\b\b\b\b\b\b\b\b\b\b\b\b\b\b\b\b\b\b\b\b\b\b\b\b\b\b\b\b\b\b\b\b\b\b\b\b\r318/318 [==============================] - 35s 110ms/step - loss: 0.2371 - binary_accuracy: 0.9149 - recall_1: 0.9091 - precision_1: 0.9050 - val_loss: 0.4379 - val_binary_accuracy: 0.8023 - val_recall_1: 0.5333 - val_precision_1: 0.0567\n",
            "Epoch 5/30\n",
            "286/318 [=========================>....] - ETA: 3s - loss: 0.2056 - binary_accuracy: 0.9321 - recall_1: 0.9324 - precision_1: 0.9203"
          ]
        },
        {
          "ename": "KeyboardInterrupt",
          "evalue": "ignored",
          "output_type": "error",
          "traceback": [
            "\u001b[0;31m---------------------------------------------------------------------------\u001b[0m",
            "\u001b[0;31mKeyboardInterrupt\u001b[0m                         Traceback (most recent call last)",
            "\u001b[0;32m<ipython-input-41-499e83f6076c>\u001b[0m in \u001b[0;36m<module>\u001b[0;34m\u001b[0m\n\u001b[0;32m----> 1\u001b[0;31m history_3=model.fit(normalized_train_ds_f_aug_adam,\n\u001b[0m\u001b[1;32m      2\u001b[0m                     \u001b[0mepochs\u001b[0m\u001b[0;34m=\u001b[0m\u001b[0;36m30\u001b[0m\u001b[0;34m,\u001b[0m\u001b[0;34m\u001b[0m\u001b[0;34m\u001b[0m\u001b[0m\n\u001b[1;32m      3\u001b[0m                     validation_data=normalized_val_ds_f, callbacks=[es5])\n",
            "\u001b[0;32m/usr/local/lib/python3.8/dist-packages/keras/utils/traceback_utils.py\u001b[0m in \u001b[0;36merror_handler\u001b[0;34m(*args, **kwargs)\u001b[0m\n\u001b[1;32m     62\u001b[0m     \u001b[0mfiltered_tb\u001b[0m \u001b[0;34m=\u001b[0m \u001b[0;32mNone\u001b[0m\u001b[0;34m\u001b[0m\u001b[0;34m\u001b[0m\u001b[0m\n\u001b[1;32m     63\u001b[0m     \u001b[0;32mtry\u001b[0m\u001b[0;34m:\u001b[0m\u001b[0;34m\u001b[0m\u001b[0;34m\u001b[0m\u001b[0m\n\u001b[0;32m---> 64\u001b[0;31m       \u001b[0;32mreturn\u001b[0m \u001b[0mfn\u001b[0m\u001b[0;34m(\u001b[0m\u001b[0;34m*\u001b[0m\u001b[0margs\u001b[0m\u001b[0;34m,\u001b[0m \u001b[0;34m**\u001b[0m\u001b[0mkwargs\u001b[0m\u001b[0;34m)\u001b[0m\u001b[0;34m\u001b[0m\u001b[0;34m\u001b[0m\u001b[0m\n\u001b[0m\u001b[1;32m     65\u001b[0m     \u001b[0;32mexcept\u001b[0m \u001b[0mException\u001b[0m \u001b[0;32mas\u001b[0m \u001b[0me\u001b[0m\u001b[0;34m:\u001b[0m  \u001b[0;31m# pylint: disable=broad-except\u001b[0m\u001b[0;34m\u001b[0m\u001b[0;34m\u001b[0m\u001b[0m\n\u001b[1;32m     66\u001b[0m       \u001b[0mfiltered_tb\u001b[0m \u001b[0;34m=\u001b[0m \u001b[0m_process_traceback_frames\u001b[0m\u001b[0;34m(\u001b[0m\u001b[0me\u001b[0m\u001b[0;34m.\u001b[0m\u001b[0m__traceback__\u001b[0m\u001b[0;34m)\u001b[0m\u001b[0;34m\u001b[0m\u001b[0;34m\u001b[0m\u001b[0m\n",
            "\u001b[0;32m/usr/local/lib/python3.8/dist-packages/keras/engine/training.py\u001b[0m in \u001b[0;36mfit\u001b[0;34m(self, x, y, batch_size, epochs, verbose, callbacks, validation_split, validation_data, shuffle, class_weight, sample_weight, initial_epoch, steps_per_epoch, validation_steps, validation_batch_size, validation_freq, max_queue_size, workers, use_multiprocessing)\u001b[0m\n\u001b[1;32m   1407\u001b[0m                 _r=1):\n\u001b[1;32m   1408\u001b[0m               \u001b[0mcallbacks\u001b[0m\u001b[0;34m.\u001b[0m\u001b[0mon_train_batch_begin\u001b[0m\u001b[0;34m(\u001b[0m\u001b[0mstep\u001b[0m\u001b[0;34m)\u001b[0m\u001b[0;34m\u001b[0m\u001b[0;34m\u001b[0m\u001b[0m\n\u001b[0;32m-> 1409\u001b[0;31m               \u001b[0mtmp_logs\u001b[0m \u001b[0;34m=\u001b[0m \u001b[0mself\u001b[0m\u001b[0;34m.\u001b[0m\u001b[0mtrain_function\u001b[0m\u001b[0;34m(\u001b[0m\u001b[0miterator\u001b[0m\u001b[0;34m)\u001b[0m\u001b[0;34m\u001b[0m\u001b[0;34m\u001b[0m\u001b[0m\n\u001b[0m\u001b[1;32m   1410\u001b[0m               \u001b[0;32mif\u001b[0m \u001b[0mdata_handler\u001b[0m\u001b[0;34m.\u001b[0m\u001b[0mshould_sync\u001b[0m\u001b[0;34m:\u001b[0m\u001b[0;34m\u001b[0m\u001b[0;34m\u001b[0m\u001b[0m\n\u001b[1;32m   1411\u001b[0m                 \u001b[0mcontext\u001b[0m\u001b[0;34m.\u001b[0m\u001b[0masync_wait\u001b[0m\u001b[0;34m(\u001b[0m\u001b[0;34m)\u001b[0m\u001b[0;34m\u001b[0m\u001b[0;34m\u001b[0m\u001b[0m\n",
            "\u001b[0;32m/usr/local/lib/python3.8/dist-packages/tensorflow/python/util/traceback_utils.py\u001b[0m in \u001b[0;36merror_handler\u001b[0;34m(*args, **kwargs)\u001b[0m\n\u001b[1;32m    148\u001b[0m     \u001b[0mfiltered_tb\u001b[0m \u001b[0;34m=\u001b[0m \u001b[0;32mNone\u001b[0m\u001b[0;34m\u001b[0m\u001b[0;34m\u001b[0m\u001b[0m\n\u001b[1;32m    149\u001b[0m     \u001b[0;32mtry\u001b[0m\u001b[0;34m:\u001b[0m\u001b[0;34m\u001b[0m\u001b[0;34m\u001b[0m\u001b[0m\n\u001b[0;32m--> 150\u001b[0;31m       \u001b[0;32mreturn\u001b[0m \u001b[0mfn\u001b[0m\u001b[0;34m(\u001b[0m\u001b[0;34m*\u001b[0m\u001b[0margs\u001b[0m\u001b[0;34m,\u001b[0m \u001b[0;34m**\u001b[0m\u001b[0mkwargs\u001b[0m\u001b[0;34m)\u001b[0m\u001b[0;34m\u001b[0m\u001b[0;34m\u001b[0m\u001b[0m\n\u001b[0m\u001b[1;32m    151\u001b[0m     \u001b[0;32mexcept\u001b[0m \u001b[0mException\u001b[0m \u001b[0;32mas\u001b[0m \u001b[0me\u001b[0m\u001b[0;34m:\u001b[0m\u001b[0;34m\u001b[0m\u001b[0;34m\u001b[0m\u001b[0m\n\u001b[1;32m    152\u001b[0m       \u001b[0mfiltered_tb\u001b[0m \u001b[0;34m=\u001b[0m \u001b[0m_process_traceback_frames\u001b[0m\u001b[0;34m(\u001b[0m\u001b[0me\u001b[0m\u001b[0;34m.\u001b[0m\u001b[0m__traceback__\u001b[0m\u001b[0;34m)\u001b[0m\u001b[0;34m\u001b[0m\u001b[0;34m\u001b[0m\u001b[0m\n",
            "\u001b[0;32m/usr/local/lib/python3.8/dist-packages/tensorflow/python/eager/def_function.py\u001b[0m in \u001b[0;36m__call__\u001b[0;34m(self, *args, **kwds)\u001b[0m\n\u001b[1;32m    913\u001b[0m \u001b[0;34m\u001b[0m\u001b[0m\n\u001b[1;32m    914\u001b[0m       \u001b[0;32mwith\u001b[0m \u001b[0mOptionalXlaContext\u001b[0m\u001b[0;34m(\u001b[0m\u001b[0mself\u001b[0m\u001b[0;34m.\u001b[0m\u001b[0m_jit_compile\u001b[0m\u001b[0;34m)\u001b[0m\u001b[0;34m:\u001b[0m\u001b[0;34m\u001b[0m\u001b[0;34m\u001b[0m\u001b[0m\n\u001b[0;32m--> 915\u001b[0;31m         \u001b[0mresult\u001b[0m \u001b[0;34m=\u001b[0m \u001b[0mself\u001b[0m\u001b[0;34m.\u001b[0m\u001b[0m_call\u001b[0m\u001b[0;34m(\u001b[0m\u001b[0;34m*\u001b[0m\u001b[0margs\u001b[0m\u001b[0;34m,\u001b[0m \u001b[0;34m**\u001b[0m\u001b[0mkwds\u001b[0m\u001b[0;34m)\u001b[0m\u001b[0;34m\u001b[0m\u001b[0;34m\u001b[0m\u001b[0m\n\u001b[0m\u001b[1;32m    916\u001b[0m \u001b[0;34m\u001b[0m\u001b[0m\n\u001b[1;32m    917\u001b[0m       \u001b[0mnew_tracing_count\u001b[0m \u001b[0;34m=\u001b[0m \u001b[0mself\u001b[0m\u001b[0;34m.\u001b[0m\u001b[0mexperimental_get_tracing_count\u001b[0m\u001b[0;34m(\u001b[0m\u001b[0;34m)\u001b[0m\u001b[0;34m\u001b[0m\u001b[0;34m\u001b[0m\u001b[0m\n",
            "\u001b[0;32m/usr/local/lib/python3.8/dist-packages/tensorflow/python/eager/def_function.py\u001b[0m in \u001b[0;36m_call\u001b[0;34m(self, *args, **kwds)\u001b[0m\n\u001b[1;32m    945\u001b[0m       \u001b[0;31m# In this case we have created variables on the first call, so we run the\u001b[0m\u001b[0;34m\u001b[0m\u001b[0;34m\u001b[0m\u001b[0;34m\u001b[0m\u001b[0m\n\u001b[1;32m    946\u001b[0m       \u001b[0;31m# defunned version which is guaranteed to never create variables.\u001b[0m\u001b[0;34m\u001b[0m\u001b[0;34m\u001b[0m\u001b[0;34m\u001b[0m\u001b[0m\n\u001b[0;32m--> 947\u001b[0;31m       \u001b[0;32mreturn\u001b[0m \u001b[0mself\u001b[0m\u001b[0;34m.\u001b[0m\u001b[0m_stateless_fn\u001b[0m\u001b[0;34m(\u001b[0m\u001b[0;34m*\u001b[0m\u001b[0margs\u001b[0m\u001b[0;34m,\u001b[0m \u001b[0;34m**\u001b[0m\u001b[0mkwds\u001b[0m\u001b[0;34m)\u001b[0m  \u001b[0;31m# pylint: disable=not-callable\u001b[0m\u001b[0;34m\u001b[0m\u001b[0;34m\u001b[0m\u001b[0m\n\u001b[0m\u001b[1;32m    948\u001b[0m     \u001b[0;32melif\u001b[0m \u001b[0mself\u001b[0m\u001b[0;34m.\u001b[0m\u001b[0m_stateful_fn\u001b[0m \u001b[0;32mis\u001b[0m \u001b[0;32mnot\u001b[0m \u001b[0;32mNone\u001b[0m\u001b[0;34m:\u001b[0m\u001b[0;34m\u001b[0m\u001b[0;34m\u001b[0m\u001b[0m\n\u001b[1;32m    949\u001b[0m       \u001b[0;31m# Release the lock early so that multiple threads can perform the call\u001b[0m\u001b[0;34m\u001b[0m\u001b[0;34m\u001b[0m\u001b[0;34m\u001b[0m\u001b[0m\n",
            "\u001b[0;32m/usr/local/lib/python3.8/dist-packages/tensorflow/python/eager/function.py\u001b[0m in \u001b[0;36m__call__\u001b[0;34m(self, *args, **kwargs)\u001b[0m\n\u001b[1;32m   2451\u001b[0m       (graph_function,\n\u001b[1;32m   2452\u001b[0m        filtered_flat_args) = self._maybe_define_function(args, kwargs)\n\u001b[0;32m-> 2453\u001b[0;31m     return graph_function._call_flat(\n\u001b[0m\u001b[1;32m   2454\u001b[0m         filtered_flat_args, captured_inputs=graph_function.captured_inputs)  # pylint: disable=protected-access\n\u001b[1;32m   2455\u001b[0m \u001b[0;34m\u001b[0m\u001b[0m\n",
            "\u001b[0;32m/usr/local/lib/python3.8/dist-packages/tensorflow/python/eager/function.py\u001b[0m in \u001b[0;36m_call_flat\u001b[0;34m(self, args, captured_inputs, cancellation_manager)\u001b[0m\n\u001b[1;32m   1858\u001b[0m         and executing_eagerly):\n\u001b[1;32m   1859\u001b[0m       \u001b[0;31m# No tape is watching; skip to running the function.\u001b[0m\u001b[0;34m\u001b[0m\u001b[0;34m\u001b[0m\u001b[0;34m\u001b[0m\u001b[0m\n\u001b[0;32m-> 1860\u001b[0;31m       return self._build_call_outputs(self._inference_function.call(\n\u001b[0m\u001b[1;32m   1861\u001b[0m           ctx, args, cancellation_manager=cancellation_manager))\n\u001b[1;32m   1862\u001b[0m     forward_backward = self._select_forward_and_backward_functions(\n",
            "\u001b[0;32m/usr/local/lib/python3.8/dist-packages/tensorflow/python/eager/function.py\u001b[0m in \u001b[0;36mcall\u001b[0;34m(self, ctx, args, cancellation_manager)\u001b[0m\n\u001b[1;32m    495\u001b[0m       \u001b[0;32mwith\u001b[0m \u001b[0m_InterpolateFunctionError\u001b[0m\u001b[0;34m(\u001b[0m\u001b[0mself\u001b[0m\u001b[0;34m)\u001b[0m\u001b[0;34m:\u001b[0m\u001b[0;34m\u001b[0m\u001b[0;34m\u001b[0m\u001b[0m\n\u001b[1;32m    496\u001b[0m         \u001b[0;32mif\u001b[0m \u001b[0mcancellation_manager\u001b[0m \u001b[0;32mis\u001b[0m \u001b[0;32mNone\u001b[0m\u001b[0;34m:\u001b[0m\u001b[0;34m\u001b[0m\u001b[0;34m\u001b[0m\u001b[0m\n\u001b[0;32m--> 497\u001b[0;31m           outputs = execute.execute(\n\u001b[0m\u001b[1;32m    498\u001b[0m               \u001b[0mstr\u001b[0m\u001b[0;34m(\u001b[0m\u001b[0mself\u001b[0m\u001b[0;34m.\u001b[0m\u001b[0msignature\u001b[0m\u001b[0;34m.\u001b[0m\u001b[0mname\u001b[0m\u001b[0;34m)\u001b[0m\u001b[0;34m,\u001b[0m\u001b[0;34m\u001b[0m\u001b[0;34m\u001b[0m\u001b[0m\n\u001b[1;32m    499\u001b[0m               \u001b[0mnum_outputs\u001b[0m\u001b[0;34m=\u001b[0m\u001b[0mself\u001b[0m\u001b[0;34m.\u001b[0m\u001b[0m_num_outputs\u001b[0m\u001b[0;34m,\u001b[0m\u001b[0;34m\u001b[0m\u001b[0;34m\u001b[0m\u001b[0m\n",
            "\u001b[0;32m/usr/local/lib/python3.8/dist-packages/tensorflow/python/eager/execute.py\u001b[0m in \u001b[0;36mquick_execute\u001b[0;34m(op_name, num_outputs, inputs, attrs, ctx, name)\u001b[0m\n\u001b[1;32m     52\u001b[0m   \u001b[0;32mtry\u001b[0m\u001b[0;34m:\u001b[0m\u001b[0;34m\u001b[0m\u001b[0;34m\u001b[0m\u001b[0m\n\u001b[1;32m     53\u001b[0m     \u001b[0mctx\u001b[0m\u001b[0;34m.\u001b[0m\u001b[0mensure_initialized\u001b[0m\u001b[0;34m(\u001b[0m\u001b[0;34m)\u001b[0m\u001b[0;34m\u001b[0m\u001b[0;34m\u001b[0m\u001b[0m\n\u001b[0;32m---> 54\u001b[0;31m     tensors = pywrap_tfe.TFE_Py_Execute(ctx._handle, device_name, op_name,\n\u001b[0m\u001b[1;32m     55\u001b[0m                                         inputs, attrs, num_outputs)\n\u001b[1;32m     56\u001b[0m   \u001b[0;32mexcept\u001b[0m \u001b[0mcore\u001b[0m\u001b[0;34m.\u001b[0m\u001b[0m_NotOkStatusException\u001b[0m \u001b[0;32mas\u001b[0m \u001b[0me\u001b[0m\u001b[0;34m:\u001b[0m\u001b[0;34m\u001b[0m\u001b[0;34m\u001b[0m\u001b[0m\n",
            "\u001b[0;31mKeyboardInterrupt\u001b[0m: "
          ]
        }
      ],
      "source": [
        "history_3=model.fit(normalized_train_ds_f_aug_adam,\n",
        "                    epochs=30, \n",
        "                    validation_data=normalized_val_ds_f, callbacks=[es5]) # this recall is great but it's basically selecting everything as a 1 b/c precision is so low\n",
        "#does that mean it's underfitting?"
      ]
    },
    {
      "cell_type": "code",
      "execution_count": null,
      "metadata": {
        "id": "CP3wTB5lBxaQ"
      },
      "outputs": [],
      "source": [
        "#changing the model to add more parameters\n",
        "model = Sequential()\n",
        "model.add(restnet)\n",
        "model.add(Dense(64, activation='relu'))\n",
        "model.add(Dropout(0.3))\n",
        "model.add(Dense(1, activation='sigmoid'))"
      ]
    },
    {
      "cell_type": "code",
      "execution_count": null,
      "metadata": {
        "id": "rlIuY_ZNB5oQ"
      },
      "outputs": [],
      "source": [
        "model.compile(loss='binary_crossentropy',\n",
        "              optimizer=keras.optimizers.Adam(),\n",
        "              metrics=[keras.metrics.BinaryAccuracy(), keras.metrics.Recall(), keras.metrics.Precision()])"
      ]
    },
    {
      "cell_type": "code",
      "execution_count": null,
      "metadata": {
        "id": "krvHODbAB7SE"
      },
      "outputs": [],
      "source": [
        "es5 = EarlyStopping(monitor='val_recall_2', mode='max', verbose=1, patience=6, restore_best_weights= True)"
      ]
    },
    {
      "cell_type": "code",
      "execution_count": null,
      "metadata": {
        "colab": {
          "base_uri": "https://localhost:8080/",
          "height": 981
        },
        "id": "Xy3tDGDtB7SE",
        "outputId": "91f3c993-d14c-41d2-df9f-0ad6c581a9ef"
      },
      "outputs": [
        {
          "name": "stdout",
          "output_type": "stream",
          "text": [
            "Epoch 1/30\n",
            "318/318 [==============================] - ETA: 0s - loss: 0.7724 - binary_accuracy: 0.6112 - recall_3: 0.6129 - precision_3: 0.5688"
          ]
        },
        {
          "name": "stderr",
          "output_type": "stream",
          "text": [
            "WARNING:tensorflow:Early stopping conditioned on metric `val_recall_2` which is not available. Available metrics are: loss,binary_accuracy,recall_3,precision_3,val_loss,val_binary_accuracy,val_recall_3,val_precision_3\n"
          ]
        },
        {
          "name": "stdout",
          "output_type": "stream",
          "text": [
            "\b\b\b\b\b\b\b\b\b\b\b\b\b\b\b\b\b\b\b\b\b\b\b\b\b\b\b\b\b\b\b\b\b\b\b\b\b\b\b\b\b\b\b\b\b\b\b\b\b\b\b\b\b\b\b\b\b\b\b\b\b\b\b\b\b\b\b\b\b\b\b\b\b\b\b\b\b\b\b\b\b\b\b\b\b\b\b\b\b\b\b\b\b\b\b\b\b\b\b\b\b\b\b\b\b\b\b\b\b\b\b\b\b\b\b\b\b\b\b\b\b\b\b\b\b\b\b\b\b\b\b\b\r318/318 [==============================] - 40s 115ms/step - loss: 0.7724 - binary_accuracy: 0.6112 - recall_3: 0.6129 - precision_3: 0.5688 - val_loss: 0.4340 - val_binary_accuracy: 0.7514 - val_recall_3: 0.6000 - val_precision_3: 0.0503\n",
            "Epoch 2/30\n",
            "318/318 [==============================] - ETA: 0s - loss: 0.6257 - binary_accuracy: 0.6574 - recall_3: 0.5078 - precision_3: 0.6627"
          ]
        },
        {
          "name": "stderr",
          "output_type": "stream",
          "text": [
            "WARNING:tensorflow:Early stopping conditioned on metric `val_recall_2` which is not available. Available metrics are: loss,binary_accuracy,recall_3,precision_3,val_loss,val_binary_accuracy,val_recall_3,val_precision_3\n"
          ]
        },
        {
          "name": "stdout",
          "output_type": "stream",
          "text": [
            "\b\b\b\b\b\b\b\b\b\b\b\b\b\b\b\b\b\b\b\b\b\b\b\b\b\b\b\b\b\b\b\b\b\b\b\b\b\b\b\b\b\b\b\b\b\b\b\b\b\b\b\b\b\b\b\b\b\b\b\b\b\b\b\b\b\b\b\b\b\b\b\b\b\b\b\b\b\b\b\b\b\b\b\b\b\b\b\b\b\b\b\b\b\b\b\b\b\b\b\b\b\b\b\b\b\b\b\b\b\b\b\b\b\b\b\b\b\b\b\b\b\b\b\b\b\b\b\b\b\b\b\b\r318/318 [==============================] - 35s 110ms/step - loss: 0.6257 - binary_accuracy: 0.6574 - recall_3: 0.5078 - precision_3: 0.6627 - val_loss: 0.6249 - val_binary_accuracy: 0.9506 - val_recall_3: 0.1333 - val_precision_3: 0.0833\n",
            "Epoch 3/30\n",
            "318/318 [==============================] - ETA: 0s - loss: 0.5975 - binary_accuracy: 0.6984 - recall_3: 0.5099 - precision_3: 0.7492"
          ]
        },
        {
          "name": "stderr",
          "output_type": "stream",
          "text": [
            "WARNING:tensorflow:Early stopping conditioned on metric `val_recall_2` which is not available. Available metrics are: loss,binary_accuracy,recall_3,precision_3,val_loss,val_binary_accuracy,val_recall_3,val_precision_3\n"
          ]
        },
        {
          "name": "stdout",
          "output_type": "stream",
          "text": [
            "\b\b\b\b\b\b\b\b\b\b\b\b\b\b\b\b\b\b\b\b\b\b\b\b\b\b\b\b\b\b\b\b\b\b\b\b\b\b\b\b\b\b\b\b\b\b\b\b\b\b\b\b\b\b\b\b\b\b\b\b\b\b\b\b\b\b\b\b\b\b\b\b\b\b\b\b\b\b\b\b\b\b\b\b\b\b\b\b\b\b\b\b\b\b\b\b\b\b\b\b\b\b\b\b\b\b\b\b\b\b\b\b\b\b\b\b\b\b\b\b\b\b\b\b\b\b\b\b\b\b\b\b\r318/318 [==============================] - 35s 109ms/step - loss: 0.5975 - binary_accuracy: 0.6984 - recall_3: 0.5099 - precision_3: 0.7492 - val_loss: 0.5332 - val_binary_accuracy: 0.9732 - val_recall_3: 0.0667 - val_precision_3: 0.1667\n",
            "Epoch 4/30\n",
            "318/318 [==============================] - ETA: 0s - loss: 0.5647 - binary_accuracy: 0.7182 - recall_3: 0.5177 - precision_3: 0.7933"
          ]
        },
        {
          "name": "stderr",
          "output_type": "stream",
          "text": [
            "WARNING:tensorflow:Early stopping conditioned on metric `val_recall_2` which is not available. Available metrics are: loss,binary_accuracy,recall_3,precision_3,val_loss,val_binary_accuracy,val_recall_3,val_precision_3\n"
          ]
        },
        {
          "name": "stdout",
          "output_type": "stream",
          "text": [
            "\b\b\b\b\b\b\b\b\b\b\b\b\b\b\b\b\b\b\b\b\b\b\b\b\b\b\b\b\b\b\b\b\b\b\b\b\b\b\b\b\b\b\b\b\b\b\b\b\b\b\b\b\b\b\b\b\b\b\b\b\b\b\b\b\b\b\b\b\b\b\b\b\b\b\b\b\b\b\b\b\b\b\b\b\b\b\b\b\b\b\b\b\b\b\b\b\b\b\b\b\b\b\b\b\b\b\b\b\b\b\b\b\b\b\b\b\b\b\b\b\b\b\b\b\b\b\b\b\b\b\b\b\r318/318 [==============================] - 35s 109ms/step - loss: 0.5647 - binary_accuracy: 0.7182 - recall_3: 0.5177 - precision_3: 0.7933 - val_loss: 0.5094 - val_binary_accuracy: 0.9181 - val_recall_3: 0.3333 - val_precision_3: 0.0943\n",
            "Epoch 5/30\n",
            "318/318 [==============================] - ETA: 0s - loss: 0.5395 - binary_accuracy: 0.7393 - recall_3: 0.5394 - precision_3: 0.8299"
          ]
        },
        {
          "name": "stderr",
          "output_type": "stream",
          "text": [
            "WARNING:tensorflow:Early stopping conditioned on metric `val_recall_2` which is not available. Available metrics are: loss,binary_accuracy,recall_3,precision_3,val_loss,val_binary_accuracy,val_recall_3,val_precision_3\n"
          ]
        },
        {
          "name": "stdout",
          "output_type": "stream",
          "text": [
            "\b\b\b\b\b\b\b\b\b\b\b\b\b\b\b\b\b\b\b\b\b\b\b\b\b\b\b\b\b\b\b\b\b\b\b\b\b\b\b\b\b\b\b\b\b\b\b\b\b\b\b\b\b\b\b\b\b\b\b\b\b\b\b\b\b\b\b\b\b\b\b\b\b\b\b\b\b\b\b\b\b\b\b\b\b\b\b\b\b\b\b\b\b\b\b\b\b\b\b\b\b\b\b\b\b\b\b\b\b\b\b\b\b\b\b\b\b\b\b\b\b\b\b\b\b\b\b\b\b\b\b\b\r318/318 [==============================] - 35s 111ms/step - loss: 0.5395 - binary_accuracy: 0.7393 - recall_3: 0.5394 - precision_3: 0.8299 - val_loss: 0.5047 - val_binary_accuracy: 0.8870 - val_recall_3: 0.4000 - val_precision_3: 0.0779\n",
            "Epoch 6/30\n",
            "318/318 [==============================] - ETA: 0s - loss: 0.5104 - binary_accuracy: 0.7620 - recall_3: 0.5675 - precision_3: 0.8647"
          ]
        },
        {
          "name": "stderr",
          "output_type": "stream",
          "text": [
            "WARNING:tensorflow:Early stopping conditioned on metric `val_recall_2` which is not available. Available metrics are: loss,binary_accuracy,recall_3,precision_3,val_loss,val_binary_accuracy,val_recall_3,val_precision_3\n"
          ]
        },
        {
          "name": "stdout",
          "output_type": "stream",
          "text": [
            "\b\b\b\b\b\b\b\b\b\b\b\b\b\b\b\b\b\b\b\b\b\b\b\b\b\b\b\b\b\b\b\b\b\b\b\b\b\b\b\b\b\b\b\b\b\b\b\b\b\b\b\b\b\b\b\b\b\b\b\b\b\b\b\b\b\b\b\b\b\b\b\b\b\b\b\b\b\b\b\b\b\b\b\b\b\b\b\b\b\b\b\b\b\b\b\b\b\b\b\b\b\b\b\b\b\b\b\b\b\b\b\b\b\b\b\b\b\b\b\b\b\b\b\b\b\b\b\b\b\b\b\b\r318/318 [==============================] - 37s 116ms/step - loss: 0.5104 - binary_accuracy: 0.7620 - recall_3: 0.5675 - precision_3: 0.8647 - val_loss: 0.3969 - val_binary_accuracy: 0.9788 - val_recall_3: 0.1333 - val_precision_3: 0.5000\n",
            "Epoch 7/30\n",
            "318/318 [==============================] - ETA: 0s - loss: 0.4980 - binary_accuracy: 0.7694 - recall_3: 0.5741 - precision_3: 0.8786"
          ]
        },
        {
          "name": "stderr",
          "output_type": "stream",
          "text": [
            "WARNING:tensorflow:Early stopping conditioned on metric `val_recall_2` which is not available. Available metrics are: loss,binary_accuracy,recall_3,precision_3,val_loss,val_binary_accuracy,val_recall_3,val_precision_3\n"
          ]
        },
        {
          "name": "stdout",
          "output_type": "stream",
          "text": [
            "\b\b\b\b\b\b\b\b\b\b\b\b\b\b\b\b\b\b\b\b\b\b\b\b\b\b\b\b\b\b\b\b\b\b\b\b\b\b\b\b\b\b\b\b\b\b\b\b\b\b\b\b\b\b\b\b\b\b\b\b\b\b\b\b\b\b\b\b\b\b\b\b\b\b\b\b\b\b\b\b\b\b\b\b\b\b\b\b\b\b\b\b\b\b\b\b\b\b\b\b\b\b\b\b\b\b\b\b\b\b\b\b\b\b\b\b\b\b\b\b\b\b\b\b\b\b\b\b\b\b\b\b\r318/318 [==============================] - 35s 109ms/step - loss: 0.4980 - binary_accuracy: 0.7694 - recall_3: 0.5741 - precision_3: 0.8786 - val_loss: 0.4302 - val_binary_accuracy: 0.9181 - val_recall_3: 0.3333 - val_precision_3: 0.0943\n",
            "Epoch 8/30\n",
            "318/318 [==============================] - ETA: 0s - loss: 0.4743 - binary_accuracy: 0.7870 - recall_3: 0.6030 - precision_3: 0.8965"
          ]
        },
        {
          "name": "stderr",
          "output_type": "stream",
          "text": [
            "WARNING:tensorflow:Early stopping conditioned on metric `val_recall_2` which is not available. Available metrics are: loss,binary_accuracy,recall_3,precision_3,val_loss,val_binary_accuracy,val_recall_3,val_precision_3\n"
          ]
        },
        {
          "name": "stdout",
          "output_type": "stream",
          "text": [
            "\b\b\b\b\b\b\b\b\b\b\b\b\b\b\b\b\b\b\b\b\b\b\b\b\b\b\b\b\b\b\b\b\b\b\b\b\b\b\b\b\b\b\b\b\b\b\b\b\b\b\b\b\b\b\b\b\b\b\b\b\b\b\b\b\b\b\b\b\b\b\b\b\b\b\b\b\b\b\b\b\b\b\b\b\b\b\b\b\b\b\b\b\b\b\b\b\b\b\b\b\b\b\b\b\b\b\b\b\b\b\b\b\b\b\b\b\b\b\b\b\b\b\b\b\b\b\b\b\b\b\b\b\r318/318 [==============================] - 35s 109ms/step - loss: 0.4743 - binary_accuracy: 0.7870 - recall_3: 0.6030 - precision_3: 0.8965 - val_loss: 0.4139 - val_binary_accuracy: 0.9195 - val_recall_3: 0.3333 - val_precision_3: 0.0962\n",
            "Epoch 9/30\n",
            "318/318 [==============================] - ETA: 0s - loss: 0.4601 - binary_accuracy: 0.7969 - recall_3: 0.6116 - precision_3: 0.9152"
          ]
        },
        {
          "name": "stderr",
          "output_type": "stream",
          "text": [
            "WARNING:tensorflow:Early stopping conditioned on metric `val_recall_2` which is not available. Available metrics are: loss,binary_accuracy,recall_3,precision_3,val_loss,val_binary_accuracy,val_recall_3,val_precision_3\n"
          ]
        },
        {
          "name": "stdout",
          "output_type": "stream",
          "text": [
            "\b\b\b\b\b\b\b\b\b\b\b\b\b\b\b\b\b\b\b\b\b\b\b\b\b\b\b\b\b\b\b\b\b\b\b\b\b\b\b\b\b\b\b\b\b\b\b\b\b\b\b\b\b\b\b\b\b\b\b\b\b\b\b\b\b\b\b\b\b\b\b\b\b\b\b\b\b\b\b\b\b\b\b\b\b\b\b\b\b\b\b\b\b\b\b\b\b\b\b\b\b\b\b\b\b\b\b\b\b\b\b\b\b\b\b\b\b\b\b\b\b\b\b\b\b\b\b\b\b\b\b\b\r318/318 [==============================] - 35s 110ms/step - loss: 0.4601 - binary_accuracy: 0.7969 - recall_3: 0.6116 - precision_3: 0.9152 - val_loss: 0.4031 - val_binary_accuracy: 0.9209 - val_recall_3: 0.3333 - val_precision_3: 0.0980\n",
            "Epoch 10/30\n",
            "318/318 [==============================] - ETA: 0s - loss: 0.4516 - binary_accuracy: 0.8015 - recall_3: 0.6211 - precision_3: 0.9173"
          ]
        },
        {
          "name": "stderr",
          "output_type": "stream",
          "text": [
            "WARNING:tensorflow:Early stopping conditioned on metric `val_recall_2` which is not available. Available metrics are: loss,binary_accuracy,recall_3,precision_3,val_loss,val_binary_accuracy,val_recall_3,val_precision_3\n"
          ]
        },
        {
          "name": "stdout",
          "output_type": "stream",
          "text": [
            "\b\b\b\b\b\b\b\b\b\b\b\b\b\b\b\b\b\b\b\b\b\b\b\b\b\b\b\b\b\b\b\b\b\b\b\b\b\b\b\b\b\b\b\b\b\b\b\b\b\b\b\b\b\b\b\b\b\b\b\b\b\b\b\b\b\b\b\b\b\b\b\b\b\b\b\b\b\b\b\b\b\b\b\b\b\b\b\b\b\b\b\b\b\b\b\b\b\b\b\b\b\b\b\b\b\b\b\b\b\b\b\b\b\b\b\b\b\b\b\b\b\b\b\b\b\b\b\b\b\b\b\b\r318/318 [==============================] - 35s 109ms/step - loss: 0.4516 - binary_accuracy: 0.8015 - recall_3: 0.6211 - precision_3: 0.9173 - val_loss: 0.5171 - val_binary_accuracy: 0.8277 - val_recall_3: 0.5333 - val_precision_3: 0.0650\n",
            "Epoch 11/30\n",
            "318/318 [==============================] - ETA: 0s - loss: 0.4449 - binary_accuracy: 0.8033 - recall_3: 0.6228 - precision_3: 0.9207"
          ]
        },
        {
          "ename": "KeyboardInterrupt",
          "evalue": "ignored",
          "output_type": "error",
          "traceback": [
            "\u001b[0;31m---------------------------------------------------------------------------\u001b[0m",
            "\u001b[0;31mKeyboardInterrupt\u001b[0m                         Traceback (most recent call last)",
            "\u001b[0;32m<ipython-input-53-ab038aaf0403>\u001b[0m in \u001b[0;36m<module>\u001b[0;34m\u001b[0m\n\u001b[0;32m----> 1\u001b[0;31m history_4=model.fit(normalized_train_ds_f_aug_adam,\n\u001b[0m\u001b[1;32m      2\u001b[0m                     \u001b[0mepochs\u001b[0m\u001b[0;34m=\u001b[0m\u001b[0;36m30\u001b[0m\u001b[0;34m,\u001b[0m\u001b[0;34m\u001b[0m\u001b[0;34m\u001b[0m\u001b[0m\n\u001b[1;32m      3\u001b[0m                     validation_data=normalized_val_ds_f, callbacks=[es5]) # this recall is great but it's basically selecting everything as a 1 b/c precision is so low\n\u001b[1;32m      4\u001b[0m \u001b[0;31m#does that mean it's underfitting?\u001b[0m\u001b[0;34m\u001b[0m\u001b[0;34m\u001b[0m\u001b[0;34m\u001b[0m\u001b[0m\n",
            "\u001b[0;32m/usr/local/lib/python3.8/dist-packages/keras/utils/traceback_utils.py\u001b[0m in \u001b[0;36merror_handler\u001b[0;34m(*args, **kwargs)\u001b[0m\n\u001b[1;32m     62\u001b[0m     \u001b[0mfiltered_tb\u001b[0m \u001b[0;34m=\u001b[0m \u001b[0;32mNone\u001b[0m\u001b[0;34m\u001b[0m\u001b[0;34m\u001b[0m\u001b[0m\n\u001b[1;32m     63\u001b[0m     \u001b[0;32mtry\u001b[0m\u001b[0;34m:\u001b[0m\u001b[0;34m\u001b[0m\u001b[0;34m\u001b[0m\u001b[0m\n\u001b[0;32m---> 64\u001b[0;31m       \u001b[0;32mreturn\u001b[0m \u001b[0mfn\u001b[0m\u001b[0;34m(\u001b[0m\u001b[0;34m*\u001b[0m\u001b[0margs\u001b[0m\u001b[0;34m,\u001b[0m \u001b[0;34m**\u001b[0m\u001b[0mkwargs\u001b[0m\u001b[0;34m)\u001b[0m\u001b[0;34m\u001b[0m\u001b[0;34m\u001b[0m\u001b[0m\n\u001b[0m\u001b[1;32m     65\u001b[0m     \u001b[0;32mexcept\u001b[0m \u001b[0mException\u001b[0m \u001b[0;32mas\u001b[0m \u001b[0me\u001b[0m\u001b[0;34m:\u001b[0m  \u001b[0;31m# pylint: disable=broad-except\u001b[0m\u001b[0;34m\u001b[0m\u001b[0;34m\u001b[0m\u001b[0m\n\u001b[1;32m     66\u001b[0m       \u001b[0mfiltered_tb\u001b[0m \u001b[0;34m=\u001b[0m \u001b[0m_process_traceback_frames\u001b[0m\u001b[0;34m(\u001b[0m\u001b[0me\u001b[0m\u001b[0;34m.\u001b[0m\u001b[0m__traceback__\u001b[0m\u001b[0;34m)\u001b[0m\u001b[0;34m\u001b[0m\u001b[0;34m\u001b[0m\u001b[0m\n",
            "\u001b[0;32m/usr/local/lib/python3.8/dist-packages/keras/engine/training.py\u001b[0m in \u001b[0;36mfit\u001b[0;34m(self, x, y, batch_size, epochs, verbose, callbacks, validation_split, validation_data, shuffle, class_weight, sample_weight, initial_epoch, steps_per_epoch, validation_steps, validation_batch_size, validation_freq, max_queue_size, workers, use_multiprocessing)\u001b[0m\n\u001b[1;32m   1443\u001b[0m                 \u001b[0mmodel\u001b[0m\u001b[0;34m=\u001b[0m\u001b[0mself\u001b[0m\u001b[0;34m,\u001b[0m\u001b[0;34m\u001b[0m\u001b[0;34m\u001b[0m\u001b[0m\n\u001b[1;32m   1444\u001b[0m                 steps_per_execution=self._steps_per_execution)\n\u001b[0;32m-> 1445\u001b[0;31m           val_logs = self.evaluate(\n\u001b[0m\u001b[1;32m   1446\u001b[0m               \u001b[0mx\u001b[0m\u001b[0;34m=\u001b[0m\u001b[0mval_x\u001b[0m\u001b[0;34m,\u001b[0m\u001b[0;34m\u001b[0m\u001b[0;34m\u001b[0m\u001b[0m\n\u001b[1;32m   1447\u001b[0m               \u001b[0my\u001b[0m\u001b[0;34m=\u001b[0m\u001b[0mval_y\u001b[0m\u001b[0;34m,\u001b[0m\u001b[0;34m\u001b[0m\u001b[0;34m\u001b[0m\u001b[0m\n",
            "\u001b[0;32m/usr/local/lib/python3.8/dist-packages/keras/utils/traceback_utils.py\u001b[0m in \u001b[0;36merror_handler\u001b[0;34m(*args, **kwargs)\u001b[0m\n\u001b[1;32m     62\u001b[0m     \u001b[0mfiltered_tb\u001b[0m \u001b[0;34m=\u001b[0m \u001b[0;32mNone\u001b[0m\u001b[0;34m\u001b[0m\u001b[0;34m\u001b[0m\u001b[0m\n\u001b[1;32m     63\u001b[0m     \u001b[0;32mtry\u001b[0m\u001b[0;34m:\u001b[0m\u001b[0;34m\u001b[0m\u001b[0;34m\u001b[0m\u001b[0m\n\u001b[0;32m---> 64\u001b[0;31m       \u001b[0;32mreturn\u001b[0m \u001b[0mfn\u001b[0m\u001b[0;34m(\u001b[0m\u001b[0;34m*\u001b[0m\u001b[0margs\u001b[0m\u001b[0;34m,\u001b[0m \u001b[0;34m**\u001b[0m\u001b[0mkwargs\u001b[0m\u001b[0;34m)\u001b[0m\u001b[0;34m\u001b[0m\u001b[0;34m\u001b[0m\u001b[0m\n\u001b[0m\u001b[1;32m     65\u001b[0m     \u001b[0;32mexcept\u001b[0m \u001b[0mException\u001b[0m \u001b[0;32mas\u001b[0m \u001b[0me\u001b[0m\u001b[0;34m:\u001b[0m  \u001b[0;31m# pylint: disable=broad-except\u001b[0m\u001b[0;34m\u001b[0m\u001b[0;34m\u001b[0m\u001b[0m\n\u001b[1;32m     66\u001b[0m       \u001b[0mfiltered_tb\u001b[0m \u001b[0;34m=\u001b[0m \u001b[0m_process_traceback_frames\u001b[0m\u001b[0;34m(\u001b[0m\u001b[0me\u001b[0m\u001b[0;34m.\u001b[0m\u001b[0m__traceback__\u001b[0m\u001b[0;34m)\u001b[0m\u001b[0;34m\u001b[0m\u001b[0;34m\u001b[0m\u001b[0m\n",
            "\u001b[0;32m/usr/local/lib/python3.8/dist-packages/keras/engine/training.py\u001b[0m in \u001b[0;36mevaluate\u001b[0;34m(self, x, y, batch_size, verbose, sample_weight, steps, callbacks, max_queue_size, workers, use_multiprocessing, return_dict, **kwargs)\u001b[0m\n\u001b[1;32m   1754\u001b[0m             \u001b[0;32mwith\u001b[0m \u001b[0mtf\u001b[0m\u001b[0;34m.\u001b[0m\u001b[0mprofiler\u001b[0m\u001b[0;34m.\u001b[0m\u001b[0mexperimental\u001b[0m\u001b[0;34m.\u001b[0m\u001b[0mTrace\u001b[0m\u001b[0;34m(\u001b[0m\u001b[0;34m'test'\u001b[0m\u001b[0;34m,\u001b[0m \u001b[0mstep_num\u001b[0m\u001b[0;34m=\u001b[0m\u001b[0mstep\u001b[0m\u001b[0;34m,\u001b[0m \u001b[0m_r\u001b[0m\u001b[0;34m=\u001b[0m\u001b[0;36m1\u001b[0m\u001b[0;34m)\u001b[0m\u001b[0;34m:\u001b[0m\u001b[0;34m\u001b[0m\u001b[0;34m\u001b[0m\u001b[0m\n\u001b[1;32m   1755\u001b[0m               \u001b[0mcallbacks\u001b[0m\u001b[0;34m.\u001b[0m\u001b[0mon_test_batch_begin\u001b[0m\u001b[0;34m(\u001b[0m\u001b[0mstep\u001b[0m\u001b[0;34m)\u001b[0m\u001b[0;34m\u001b[0m\u001b[0;34m\u001b[0m\u001b[0m\n\u001b[0;32m-> 1756\u001b[0;31m               \u001b[0mtmp_logs\u001b[0m \u001b[0;34m=\u001b[0m \u001b[0mself\u001b[0m\u001b[0;34m.\u001b[0m\u001b[0mtest_function\u001b[0m\u001b[0;34m(\u001b[0m\u001b[0miterator\u001b[0m\u001b[0;34m)\u001b[0m\u001b[0;34m\u001b[0m\u001b[0;34m\u001b[0m\u001b[0m\n\u001b[0m\u001b[1;32m   1757\u001b[0m               \u001b[0;32mif\u001b[0m \u001b[0mdata_handler\u001b[0m\u001b[0;34m.\u001b[0m\u001b[0mshould_sync\u001b[0m\u001b[0;34m:\u001b[0m\u001b[0;34m\u001b[0m\u001b[0;34m\u001b[0m\u001b[0m\n\u001b[1;32m   1758\u001b[0m                 \u001b[0mcontext\u001b[0m\u001b[0;34m.\u001b[0m\u001b[0masync_wait\u001b[0m\u001b[0;34m(\u001b[0m\u001b[0;34m)\u001b[0m\u001b[0;34m\u001b[0m\u001b[0;34m\u001b[0m\u001b[0m\n",
            "\u001b[0;32m/usr/local/lib/python3.8/dist-packages/tensorflow/python/util/traceback_utils.py\u001b[0m in \u001b[0;36merror_handler\u001b[0;34m(*args, **kwargs)\u001b[0m\n\u001b[1;32m    148\u001b[0m     \u001b[0mfiltered_tb\u001b[0m \u001b[0;34m=\u001b[0m \u001b[0;32mNone\u001b[0m\u001b[0;34m\u001b[0m\u001b[0;34m\u001b[0m\u001b[0m\n\u001b[1;32m    149\u001b[0m     \u001b[0;32mtry\u001b[0m\u001b[0;34m:\u001b[0m\u001b[0;34m\u001b[0m\u001b[0;34m\u001b[0m\u001b[0m\n\u001b[0;32m--> 150\u001b[0;31m       \u001b[0;32mreturn\u001b[0m \u001b[0mfn\u001b[0m\u001b[0;34m(\u001b[0m\u001b[0;34m*\u001b[0m\u001b[0margs\u001b[0m\u001b[0;34m,\u001b[0m \u001b[0;34m**\u001b[0m\u001b[0mkwargs\u001b[0m\u001b[0;34m)\u001b[0m\u001b[0;34m\u001b[0m\u001b[0;34m\u001b[0m\u001b[0m\n\u001b[0m\u001b[1;32m    151\u001b[0m     \u001b[0;32mexcept\u001b[0m \u001b[0mException\u001b[0m \u001b[0;32mas\u001b[0m \u001b[0me\u001b[0m\u001b[0;34m:\u001b[0m\u001b[0;34m\u001b[0m\u001b[0;34m\u001b[0m\u001b[0m\n\u001b[1;32m    152\u001b[0m       \u001b[0mfiltered_tb\u001b[0m \u001b[0;34m=\u001b[0m \u001b[0m_process_traceback_frames\u001b[0m\u001b[0;34m(\u001b[0m\u001b[0me\u001b[0m\u001b[0;34m.\u001b[0m\u001b[0m__traceback__\u001b[0m\u001b[0;34m)\u001b[0m\u001b[0;34m\u001b[0m\u001b[0;34m\u001b[0m\u001b[0m\n",
            "\u001b[0;32m/usr/local/lib/python3.8/dist-packages/tensorflow/python/eager/def_function.py\u001b[0m in \u001b[0;36m__call__\u001b[0;34m(self, *args, **kwds)\u001b[0m\n\u001b[1;32m    913\u001b[0m \u001b[0;34m\u001b[0m\u001b[0m\n\u001b[1;32m    914\u001b[0m       \u001b[0;32mwith\u001b[0m \u001b[0mOptionalXlaContext\u001b[0m\u001b[0;34m(\u001b[0m\u001b[0mself\u001b[0m\u001b[0;34m.\u001b[0m\u001b[0m_jit_compile\u001b[0m\u001b[0;34m)\u001b[0m\u001b[0;34m:\u001b[0m\u001b[0;34m\u001b[0m\u001b[0;34m\u001b[0m\u001b[0m\n\u001b[0;32m--> 915\u001b[0;31m         \u001b[0mresult\u001b[0m \u001b[0;34m=\u001b[0m \u001b[0mself\u001b[0m\u001b[0;34m.\u001b[0m\u001b[0m_call\u001b[0m\u001b[0;34m(\u001b[0m\u001b[0;34m*\u001b[0m\u001b[0margs\u001b[0m\u001b[0;34m,\u001b[0m \u001b[0;34m**\u001b[0m\u001b[0mkwds\u001b[0m\u001b[0;34m)\u001b[0m\u001b[0;34m\u001b[0m\u001b[0;34m\u001b[0m\u001b[0m\n\u001b[0m\u001b[1;32m    916\u001b[0m \u001b[0;34m\u001b[0m\u001b[0m\n\u001b[1;32m    917\u001b[0m       \u001b[0mnew_tracing_count\u001b[0m \u001b[0;34m=\u001b[0m \u001b[0mself\u001b[0m\u001b[0;34m.\u001b[0m\u001b[0mexperimental_get_tracing_count\u001b[0m\u001b[0;34m(\u001b[0m\u001b[0;34m)\u001b[0m\u001b[0;34m\u001b[0m\u001b[0;34m\u001b[0m\u001b[0m\n",
            "\u001b[0;32m/usr/local/lib/python3.8/dist-packages/tensorflow/python/eager/def_function.py\u001b[0m in \u001b[0;36m_call\u001b[0;34m(self, *args, **kwds)\u001b[0m\n\u001b[1;32m    952\u001b[0m       \u001b[0;31m# In this case we have not created variables on the first call. So we can\u001b[0m\u001b[0;34m\u001b[0m\u001b[0;34m\u001b[0m\u001b[0;34m\u001b[0m\u001b[0m\n\u001b[1;32m    953\u001b[0m       \u001b[0;31m# run the first trace but we should fail if variables are created.\u001b[0m\u001b[0;34m\u001b[0m\u001b[0;34m\u001b[0m\u001b[0;34m\u001b[0m\u001b[0m\n\u001b[0;32m--> 954\u001b[0;31m       \u001b[0mresults\u001b[0m \u001b[0;34m=\u001b[0m \u001b[0mself\u001b[0m\u001b[0;34m.\u001b[0m\u001b[0m_stateful_fn\u001b[0m\u001b[0;34m(\u001b[0m\u001b[0;34m*\u001b[0m\u001b[0margs\u001b[0m\u001b[0;34m,\u001b[0m \u001b[0;34m**\u001b[0m\u001b[0mkwds\u001b[0m\u001b[0;34m)\u001b[0m\u001b[0;34m\u001b[0m\u001b[0;34m\u001b[0m\u001b[0m\n\u001b[0m\u001b[1;32m    955\u001b[0m       \u001b[0;32mif\u001b[0m \u001b[0mself\u001b[0m\u001b[0;34m.\u001b[0m\u001b[0m_created_variables\u001b[0m \u001b[0;32mand\u001b[0m \u001b[0;32mnot\u001b[0m \u001b[0mALLOW_DYNAMIC_VARIABLE_CREATION\u001b[0m\u001b[0;34m:\u001b[0m\u001b[0;34m\u001b[0m\u001b[0;34m\u001b[0m\u001b[0m\n\u001b[1;32m    956\u001b[0m         raise ValueError(\"Creating variables on a non-first call to a function\"\n",
            "\u001b[0;32m/usr/local/lib/python3.8/dist-packages/tensorflow/python/eager/function.py\u001b[0m in \u001b[0;36m__call__\u001b[0;34m(self, *args, **kwargs)\u001b[0m\n\u001b[1;32m   2451\u001b[0m       (graph_function,\n\u001b[1;32m   2452\u001b[0m        filtered_flat_args) = self._maybe_define_function(args, kwargs)\n\u001b[0;32m-> 2453\u001b[0;31m     return graph_function._call_flat(\n\u001b[0m\u001b[1;32m   2454\u001b[0m         filtered_flat_args, captured_inputs=graph_function.captured_inputs)  # pylint: disable=protected-access\n\u001b[1;32m   2455\u001b[0m \u001b[0;34m\u001b[0m\u001b[0m\n",
            "\u001b[0;32m/usr/local/lib/python3.8/dist-packages/tensorflow/python/eager/function.py\u001b[0m in \u001b[0;36m_call_flat\u001b[0;34m(self, args, captured_inputs, cancellation_manager)\u001b[0m\n\u001b[1;32m   1858\u001b[0m         and executing_eagerly):\n\u001b[1;32m   1859\u001b[0m       \u001b[0;31m# No tape is watching; skip to running the function.\u001b[0m\u001b[0;34m\u001b[0m\u001b[0;34m\u001b[0m\u001b[0;34m\u001b[0m\u001b[0m\n\u001b[0;32m-> 1860\u001b[0;31m       return self._build_call_outputs(self._inference_function.call(\n\u001b[0m\u001b[1;32m   1861\u001b[0m           ctx, args, cancellation_manager=cancellation_manager))\n\u001b[1;32m   1862\u001b[0m     forward_backward = self._select_forward_and_backward_functions(\n",
            "\u001b[0;32m/usr/local/lib/python3.8/dist-packages/tensorflow/python/eager/function.py\u001b[0m in \u001b[0;36mcall\u001b[0;34m(self, ctx, args, cancellation_manager)\u001b[0m\n\u001b[1;32m    495\u001b[0m       \u001b[0;32mwith\u001b[0m \u001b[0m_InterpolateFunctionError\u001b[0m\u001b[0;34m(\u001b[0m\u001b[0mself\u001b[0m\u001b[0;34m)\u001b[0m\u001b[0;34m:\u001b[0m\u001b[0;34m\u001b[0m\u001b[0;34m\u001b[0m\u001b[0m\n\u001b[1;32m    496\u001b[0m         \u001b[0;32mif\u001b[0m \u001b[0mcancellation_manager\u001b[0m \u001b[0;32mis\u001b[0m \u001b[0;32mNone\u001b[0m\u001b[0;34m:\u001b[0m\u001b[0;34m\u001b[0m\u001b[0;34m\u001b[0m\u001b[0m\n\u001b[0;32m--> 497\u001b[0;31m           outputs = execute.execute(\n\u001b[0m\u001b[1;32m    498\u001b[0m               \u001b[0mstr\u001b[0m\u001b[0;34m(\u001b[0m\u001b[0mself\u001b[0m\u001b[0;34m.\u001b[0m\u001b[0msignature\u001b[0m\u001b[0;34m.\u001b[0m\u001b[0mname\u001b[0m\u001b[0;34m)\u001b[0m\u001b[0;34m,\u001b[0m\u001b[0;34m\u001b[0m\u001b[0;34m\u001b[0m\u001b[0m\n\u001b[1;32m    499\u001b[0m               \u001b[0mnum_outputs\u001b[0m\u001b[0;34m=\u001b[0m\u001b[0mself\u001b[0m\u001b[0;34m.\u001b[0m\u001b[0m_num_outputs\u001b[0m\u001b[0;34m,\u001b[0m\u001b[0;34m\u001b[0m\u001b[0;34m\u001b[0m\u001b[0m\n",
            "\u001b[0;32m/usr/local/lib/python3.8/dist-packages/tensorflow/python/eager/execute.py\u001b[0m in \u001b[0;36mquick_execute\u001b[0;34m(op_name, num_outputs, inputs, attrs, ctx, name)\u001b[0m\n\u001b[1;32m     52\u001b[0m   \u001b[0;32mtry\u001b[0m\u001b[0;34m:\u001b[0m\u001b[0;34m\u001b[0m\u001b[0;34m\u001b[0m\u001b[0m\n\u001b[1;32m     53\u001b[0m     \u001b[0mctx\u001b[0m\u001b[0;34m.\u001b[0m\u001b[0mensure_initialized\u001b[0m\u001b[0;34m(\u001b[0m\u001b[0;34m)\u001b[0m\u001b[0;34m\u001b[0m\u001b[0;34m\u001b[0m\u001b[0m\n\u001b[0;32m---> 54\u001b[0;31m     tensors = pywrap_tfe.TFE_Py_Execute(ctx._handle, device_name, op_name,\n\u001b[0m\u001b[1;32m     55\u001b[0m                                         inputs, attrs, num_outputs)\n\u001b[1;32m     56\u001b[0m   \u001b[0;32mexcept\u001b[0m \u001b[0mcore\u001b[0m\u001b[0;34m.\u001b[0m\u001b[0m_NotOkStatusException\u001b[0m \u001b[0;32mas\u001b[0m \u001b[0me\u001b[0m\u001b[0;34m:\u001b[0m\u001b[0;34m\u001b[0m\u001b[0;34m\u001b[0m\u001b[0m\n",
            "\u001b[0;31mKeyboardInterrupt\u001b[0m: "
          ]
        }
      ],
      "source": [
        "history_4=model.fit(normalized_train_ds_f_aug_adam,\n",
        "                    epochs=30, \n",
        "                    validation_data=normalized_val_ds_f, callbacks=[es5]) #seems to be bouncing around quite a bit more "
      ]
    },
    {
      "cell_type": "markdown",
      "metadata": {
        "id": "q2QjIipzE_6e"
      },
      "source": [
        "#### DenseNets"
      ]
    },
    {
      "cell_type": "code",
      "execution_count": null,
      "metadata": {
        "id": "w7MfDbyoE9hG"
      },
      "outputs": [],
      "source": [
        "desnet_preproc_layer = tf.keras.applications.densenet.preprocess_input\n",
        "desnet_train_ds = train_ds_prefetch_f.map(lambda x, y: (desnet_preproc_layer(x), y))\n",
        "desnet_val_ds =val_ds_prefetch_f.map(lambda x, y: (desnet_preproc_layer(x), y))\n",
        "desnet_test_ds = test_ds_prefetch_f.map(lambda x, y: (desnet_preproc_layer(x), y))"
      ]
    },
    {
      "cell_type": "code",
      "execution_count": null,
      "metadata": {
        "id": "BC1K8O-nE9hG"
      },
      "outputs": [],
      "source": [
        "normalization_layer = layers.Rescaling(1./224, offset=-1)\n",
        "normalized_train_ds_des = desnet_train_ds.map(lambda x, y: (normalization_layer(x), y))\n",
        "normalized_val_ds_des =desnet_val_ds.map(lambda x, y: (normalization_layer(x), y))\n",
        "normalized_test_ds_des = desnet_test_ds.map(lambda x, y: (normalization_layer(x), y))"
      ]
    },
    {
      "cell_type": "code",
      "execution_count": null,
      "metadata": {
        "colab": {
          "base_uri": "https://localhost:8080/"
        },
        "id": "0f6DlCIdE9hG",
        "outputId": "2062e52e-82bd-4c59-9ed2-0ae0b794516c"
      },
      "outputs": [
        {
          "name": "stdout",
          "output_type": "stream",
          "text": [
            "Downloading data from https://storage.googleapis.com/tensorflow/keras-applications/densenet/densenet121_weights_tf_dim_ordering_tf_kernels_notop.h5\n",
            "29084464/29084464 [==============================] - 0s 0us/step\n"
          ]
        }
      ],
      "source": [
        "densenet_model= tf.keras.applications.DenseNet121(\n",
        "    include_top=False,\n",
        "    weights=\"imagenet\",\n",
        "    input_shape=(224,224,3))\n",
        "\n",
        "for layer in densenet_model.layers: \n",
        "    layer.trainable = False"
      ]
    },
    {
      "cell_type": "code",
      "execution_count": null,
      "metadata": {
        "id": "PotHIN9HE9hG"
      },
      "outputs": [],
      "source": [
        "full_model = Sequential()\n",
        "full_model.add(densenet_model)\n",
        "full_model.add(Flatten())\n",
        "full_model.add(Dense(1,activation='sigmoid'))"
      ]
    },
    {
      "cell_type": "code",
      "execution_count": null,
      "metadata": {
        "colab": {
          "base_uri": "https://localhost:8080/"
        },
        "id": "l6fVubVzE9hG",
        "outputId": "cdca6cbb-d061-4e6b-80e1-6a66462f6dbd"
      },
      "outputs": [
        {
          "name": "stdout",
          "output_type": "stream",
          "text": [
            "Model: \"sequential\"\n",
            "_________________________________________________________________\n",
            " Layer (type)                Output Shape              Param #   \n",
            "=================================================================\n",
            " densenet121 (Functional)    (None, 7, 7, 1024)        7037504   \n",
            "                                                                 \n",
            " flatten (Flatten)           (None, 50176)             0         \n",
            "                                                                 \n",
            " dense (Dense)               (None, 1)                 50177     \n",
            "                                                                 \n",
            "=================================================================\n",
            "Total params: 7,087,681\n",
            "Trainable params: 50,177\n",
            "Non-trainable params: 7,037,504\n",
            "_________________________________________________________________\n"
          ]
        }
      ],
      "source": [
        "full_model.summary()"
      ]
    },
    {
      "cell_type": "code",
      "execution_count": null,
      "metadata": {
        "id": "Y7p0gA9pE9hG"
      },
      "outputs": [],
      "source": [
        "full_model.compile(optimizer='Adam', loss='binary_crossentropy', metrics = [keras.metrics.BinaryAccuracy(),keras.metrics.Recall(), keras.metrics.Precision()])"
      ]
    },
    {
      "cell_type": "code",
      "execution_count": null,
      "metadata": {
        "id": "VhwhVPxmE9hH"
      },
      "outputs": [],
      "source": [
        "es6 = EarlyStopping(monitor='val_recall', mode='max', verbose=1, patience=10, restore_best_weights=True)"
      ]
    },
    {
      "cell_type": "code",
      "execution_count": null,
      "metadata": {
        "id": "1OCyAiJGE9hH"
      },
      "outputs": [],
      "source": [
        "data_augmentation_v2 = keras.Sequential(\n",
        "    [keras.layers.RandomFlip(\"horizontal_and_vertical\"), keras.layers.RandomRotation(0.2), keras.layers.RandomContrast(0.2)]\n",
        ")"
      ]
    },
    {
      "cell_type": "code",
      "execution_count": null,
      "metadata": {
        "id": "rIQRKWg-E9hH"
      },
      "outputs": [],
      "source": [
        "desnet_train_ds_aug_v2 = train_ds_prefetch_f.map(lambda x, y: (data_augmentation_v2(x), y))\n"
      ]
    },
    {
      "cell_type": "code",
      "execution_count": null,
      "metadata": {
        "id": "hZ7uV6YTE9hH"
      },
      "outputs": [],
      "source": [
        "desnet_train_ds_aug_v2 = desnet_train_ds_aug_v2.map(lambda x, y: (desnet_preproc_layer(x), y))\n",
        "normalized_train_ds_des_aug_v2 = desnet_train_ds_aug_v2.map(lambda x, y: (normalization_layer(x), y))"
      ]
    },
    {
      "cell_type": "code",
      "execution_count": null,
      "metadata": {
        "colab": {
          "base_uri": "https://localhost:8080/"
        },
        "id": "rt1gq-ygE9hH",
        "outputId": "a60e7e95-8541-465d-85f2-4650516931c0"
      },
      "outputs": [
        {
          "name": "stdout",
          "output_type": "stream",
          "text": [
            "Epoch 1/30\n",
            "147/147 [==============================] - 122s 709ms/step - loss: 0.5232 - binary_accuracy: 0.7434 - recall: 0.6250 - precision: 0.7136 - val_loss: 0.4426 - val_binary_accuracy: 0.8079 - val_recall: 0.8000 - val_precision: 0.0828\n",
            "Epoch 2/30\n",
            "147/147 [==============================] - 31s 212ms/step - loss: 0.3597 - binary_accuracy: 0.8511 - recall: 0.7724 - precision: 0.8508 - val_loss: 0.4046 - val_binary_accuracy: 0.8305 - val_recall: 0.8000 - val_precision: 0.0930\n",
            "Epoch 3/30\n",
            "147/147 [==============================] - 30s 205ms/step - loss: 0.2967 - binary_accuracy: 0.8869 - recall: 0.8352 - precision: 0.8827 - val_loss: 0.3823 - val_binary_accuracy: 0.8376 - val_recall: 0.7333 - val_precision: 0.0902\n",
            "Epoch 4/30\n",
            "147/147 [==============================] - 30s 201ms/step - loss: 0.2574 - binary_accuracy: 0.9059 - recall: 0.8727 - precision: 0.8953 - val_loss: 0.3327 - val_binary_accuracy: 0.8644 - val_recall: 0.6667 - val_precision: 0.0990\n",
            "Epoch 5/30\n",
            "147/147 [==============================] - 31s 208ms/step - loss: 0.2274 - binary_accuracy: 0.9217 - recall: 0.8992 - precision: 0.9089 - val_loss: 0.2725 - val_binary_accuracy: 0.8941 - val_recall: 0.6667 - val_precision: 0.1250\n",
            "Epoch 6/30\n",
            "147/147 [==============================] - 30s 204ms/step - loss: 0.2029 - binary_accuracy: 0.9359 - recall: 0.9224 - precision: 0.9214 - val_loss: 0.2284 - val_binary_accuracy: 0.9153 - val_recall: 0.6667 - val_precision: 0.1538\n",
            "Epoch 7/30\n",
            "147/147 [==============================] - 30s 204ms/step - loss: 0.1826 - binary_accuracy: 0.9464 - recall: 0.9393 - precision: 0.9306 - val_loss: 0.1958 - val_binary_accuracy: 0.9266 - val_recall: 0.6667 - val_precision: 0.1754\n",
            "Epoch 8/30\n",
            "147/147 [==============================] - 30s 207ms/step - loss: 0.1654 - binary_accuracy: 0.9547 - recall: 0.9539 - precision: 0.9368 - val_loss: 0.1719 - val_binary_accuracy: 0.9477 - val_recall: 0.6000 - val_precision: 0.2250\n",
            "Epoch 9/30\n",
            "147/147 [==============================] - 30s 204ms/step - loss: 0.1507 - binary_accuracy: 0.9617 - recall: 0.9648 - precision: 0.9430 - val_loss: 0.1543 - val_binary_accuracy: 0.9548 - val_recall: 0.5333 - val_precision: 0.2424\n",
            "Epoch 10/30\n",
            "147/147 [==============================] - 30s 204ms/step - loss: 0.1382 - binary_accuracy: 0.9670 - recall: 0.9737 - precision: 0.9473 - val_loss: 0.1409 - val_binary_accuracy: 0.9590 - val_recall: 0.5333 - val_precision: 0.2667\n",
            "Epoch 11/30\n",
            "147/147 [==============================] - ETA: 0s - loss: 0.1275 - binary_accuracy: 0.9719 - recall: 0.9799 - precision: 0.9529Restoring model weights from the end of the best epoch: 1.\n",
            "147/147 [==============================] - 31s 209ms/step - loss: 0.1275 - binary_accuracy: 0.9719 - recall: 0.9799 - precision: 0.9529 - val_loss: 0.1301 - val_binary_accuracy: 0.9633 - val_recall: 0.5333 - val_precision: 0.2963\n",
            "Epoch 11: early stopping\n"
          ]
        }
      ],
      "source": [
        "history_dense_1_augv5 = full_model.fit(normalized_train_ds_des_aug_v2,\n",
        "                    epochs=30, \n",
        "                    validation_data=normalized_val_ds_des, callbacks=[es6]) #recall improvement but precision sacrificed"
      ]
    }
  ],
  "metadata": {
    "accelerator": "GPU",
    "colab": {
      "collapsed_sections": [
        "pFUK1OoSA7Ah",
        "F1r6PnnCNbzV",
        "3nCD5WumDCxt",
        "cNVNy9ktST_B"
      ],
      "machine_shape": "hm",
      "provenance": [],
      "toc_visible": true
    },
    "gpuClass": "standard",
    "kernelspec": {
      "display_name": "Python 3.8.13 ('classification')",
      "language": "python",
      "name": "python3"
    },
    "language_info": {
      "codemirror_mode": {
        "name": "ipython",
        "version": 3
      },
      "file_extension": ".py",
      "mimetype": "text/x-python",
      "name": "python",
      "nbconvert_exporter": "python",
      "pygments_lexer": "ipython3",
      "version": "3.8.13"
    },
    "vscode": {
      "interpreter": {
        "hash": "b161b1c3207380de6396d2091c7e58ae16163ea816ef25fea719df5fe370bcac"
      }
    }
  },
  "nbformat": 4,
  "nbformat_minor": 0
}
