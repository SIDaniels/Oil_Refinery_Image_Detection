{
  "cells": [
    {
      "cell_type": "code",
      "execution_count": 1,
      "metadata": {
        "id": "MGFdhtFSHMop"
      },
      "outputs": [],
      "source": [
        "import tensorflow as tf\n",
        "from tensorflow import keras\n",
        "from tensorflow.keras import layers\n",
        "from tensorflow.keras.applications import resnet\n",
        "from tensorflow.keras.applications.resnet50 import preprocess_input\n",
        "\n",
        "import glob\n",
        "\n",
        "#need to get \n",
        "import os\n",
        "import shutil\n",
        "\n",
        "from tensorflow.keras.applications.resnet import preprocess_input\n",
        "from tensorflow.keras.applications.resnet import ResNet152\n",
        "\n",
        "from keras.applications.resnet import ResNet50\n",
        "from keras.models import Model\n",
        "import keras\n",
        "\n",
        "import tensorflow.keras.applications.densenet as Densenet\n",
        "from tensorflow.keras.applications.densenet import preprocess_input\n",
        "\n",
        "from keras.layers import Activation, Dropout, Flatten, Dense, GlobalMaxPooling2D, GlobalAveragePooling2D\n",
        "from keras.models import Sequential,Model,load_model\n",
        "\n",
        "from keras.layers import Conv2D, MaxPooling2D, Flatten, Dense, Dropout, InputLayer\n",
        "from keras.models import Sequential\n",
        "from keras import optimizers\n",
        "\n",
        "import numpy as np\n",
        "import pandas as pd \n",
        "\n",
        "import matplotlib.pyplot as plt\n",
        "from keras.callbacks import EarlyStopping"
      ]
    },
    {
      "cell_type": "code",
      "execution_count": 5,
      "metadata": {
        "colab": {
          "base_uri": "https://localhost:8080/"
        },
        "id": "YS_9P3Dbp8Uz",
        "outputId": "51b6bbb8-2fd7-467c-8b29-bd571087a204"
      },
      "outputs": [
        {
          "name": "stdout",
          "output_type": "stream",
          "text": [
            "Wed Dec  7 22:47:48 2022       \n",
            "+-----------------------------------------------------------------------------+\n",
            "| NVIDIA-SMI 460.32.03    Driver Version: 460.32.03    CUDA Version: 11.2     |\n",
            "|-------------------------------+----------------------+----------------------+\n",
            "| GPU  Name        Persistence-M| Bus-Id        Disp.A | Volatile Uncorr. ECC |\n",
            "| Fan  Temp  Perf  Pwr:Usage/Cap|         Memory-Usage | GPU-Util  Compute M. |\n",
            "|                               |                      |               MIG M. |\n",
            "|===============================+======================+======================|\n",
            "|   0  Tesla T4            Off  | 00000000:00:04.0 Off |                    0 |\n",
            "| N/A   39C    P0    26W /  70W |      0MiB / 15109MiB |      0%      Default |\n",
            "|                               |                      |                  N/A |\n",
            "+-------------------------------+----------------------+----------------------+\n",
            "                                                                               \n",
            "+-----------------------------------------------------------------------------+\n",
            "| Processes:                                                                  |\n",
            "|  GPU   GI   CI        PID   Type   Process name                  GPU Memory |\n",
            "|        ID   ID                                                   Usage      |\n",
            "|=============================================================================|\n",
            "|  No running processes found                                                 |\n",
            "+-----------------------------------------------------------------------------+\n"
          ]
        }
      ],
      "source": [
        "gpu_info = !nvidia-smi\n",
        "gpu_info = '\\n'.join(gpu_info)\n",
        "if gpu_info.find('failed') >= 0:\n",
        "  print('Not connected to a GPU')\n",
        "else:\n",
        "  print(gpu_info)"
      ]
    },
    {
      "cell_type": "markdown",
      "metadata": {
        "id": "laBPyRsnj9Sq"
      },
      "source": [
        "## Trying random undersampling"
      ]
    },
    {
      "cell_type": "markdown",
      "metadata": {},
      "source": [
        "### Make new directory"
      ]
    },
    {
      "cell_type": "code",
      "execution_count": 54,
      "metadata": {
        "id": "_GzCBv4mc0Op"
      },
      "outputs": [],
      "source": [
        "!mkdir ./OGNetDevelopmentData-2/train_RUS"
      ]
    },
    {
      "cell_type": "code",
      "execution_count": 55,
      "metadata": {
        "id": "qq6PRsmJf7iG"
      },
      "outputs": [],
      "source": [
        "!mkdir ./OGNetDevelopmentData-2/train_RUS/class_0\n",
        "!mkdir ./OGNetDevelopmentData-2/train_RUS/class_1"
      ]
    },
    {
      "cell_type": "code",
      "execution_count": 56,
      "metadata": {
        "id": "PP1l306caBiA"
      },
      "outputs": [],
      "source": [
        "#https://stackoverflow.com/questions/11372054/randomly-choose-100-documents-under-a-directory\n",
        "import shutil, random, os\n",
        "dirpath = '/content/OGNetDevelopmentData-2/train_images/class_0'\n",
        "destDirectory = '/content/OGNetDevelopmentData-2/train_RUS'\n",
        "\n",
        "#randomly select subset from negative group\n",
        "filenames = random.sample(os.listdir(dirpath), 986)\n",
        "for fname in filenames:\n",
        "    srcpath = os.path.join(dirpath, fname)\n",
        "    shutil.copy(srcpath, destDirectory)"
      ]
    },
    {
      "cell_type": "code",
      "execution_count": 57,
      "metadata": {
        "colab": {
          "base_uri": "https://localhost:8080/"
        },
        "id": "p6M9Ky0MdgpX",
        "outputId": "008e38a6-772a-40b2-b2dd-5b96c4d4e101"
      },
      "outputs": [
        {
          "name": "stdout",
          "output_type": "stream",
          "text": [
            "988\n"
          ]
        }
      ],
      "source": [
        "!ls /content/OGNetDevelopmentData-2/train_RUS | wc -l"
      ]
    },
    {
      "cell_type": "code",
      "execution_count": 58,
      "metadata": {
        "id": "Mnsspymdf3pA"
      },
      "outputs": [],
      "source": [
        "path = \"/content/OGNetDevelopmentData-2/train_RUS/*_0.png\"\n",
        "destination = \"/content/OGNetDevelopmentData-2/train_RUS/class_0\"\n",
        "files = glob.glob(path)\n",
        "\n",
        "for f in files:\n",
        "    shutil.move(f, destination)"
      ]
    },
    {
      "cell_type": "code",
      "execution_count": 59,
      "metadata": {
        "id": "BGzUiWjrhlnu"
      },
      "outputs": [],
      "source": [
        " # Source path with original set of images\n",
        "source = \"/content/OGNetDevelopmentData-2/train_images/class_1/*_1.png\"\n",
        "  \n",
        "# Destination path for \n",
        "destination = \"/content/OGNetDevelopmentData-2/train_RUS/class_1\"\n",
        "files = glob.glob(source)\n",
        "\n",
        "# Copy normal images to destination folder\n",
        "\n",
        "for f in files:\n",
        "  shutil.copy(f, destination)"
      ]
    },
    {
      "cell_type": "code",
      "execution_count": 60,
      "metadata": {
        "colab": {
          "base_uri": "https://localhost:8080/"
        },
        "id": "3TR0z43rgofb",
        "outputId": "841adf82-f0d2-40ef-dbfa-2ca5a1a138b8"
      },
      "outputs": [
        {
          "name": "stdout",
          "output_type": "stream",
          "text": [
            "986\n"
          ]
        }
      ],
      "source": [
        "!ls /content/OGNetDevelopmentData-2/train_RUS/class_0 | wc -l"
      ]
    },
    {
      "cell_type": "code",
      "execution_count": 61,
      "metadata": {
        "colab": {
          "base_uri": "https://localhost:8080/"
        },
        "id": "pOZYrJvvgqu7",
        "outputId": "354d7e27-13c1-4035-de9a-34ad541e2348"
      },
      "outputs": [
        {
          "name": "stdout",
          "output_type": "stream",
          "text": [
            "116\n"
          ]
        }
      ],
      "source": [
        "!ls /content/OGNetDevelopmentData-2/train_RUS/class_1 | wc -l"
      ]
    },
    {
      "cell_type": "markdown",
      "metadata": {
        "id": "0ho_2FuBURwF"
      },
      "source": [
        "### Loading in images"
      ]
    },
    {
      "cell_type": "code",
      "execution_count": 62,
      "metadata": {
        "id": "aIQM3zzEkjzL"
      },
      "outputs": [],
      "source": [
        "batch_size = 32\n",
        "img_height = 500\n",
        "img_width = 500"
      ]
    },
    {
      "cell_type": "code",
      "execution_count": 63,
      "metadata": {
        "colab": {
          "base_uri": "https://localhost:8080/"
        },
        "id": "bQhhTMCzkjzL",
        "outputId": "98c251b5-16b5-4371-d6a3-07142a26af6d"
      },
      "outputs": [
        {
          "name": "stdout",
          "output_type": "stream",
          "text": [
            "Found 1102 files belonging to 2 classes.\n"
          ]
        }
      ],
      "source": [
        "#training\n",
        "#this is not a dataframe, it's some sort of an object that points to where the data lives (behaving more like generator)\n",
        "#https://www.tensorflow.org/tutorials/images/classification\n",
        "train_ds = tf.keras.utils.image_dataset_from_directory(\n",
        "  '/content/OGNetDevelopmentData-2/train_RUS',\n",
        "  #validation_split=0.2,\n",
        "  #subset=\"training\",\n",
        "  seed=123,\n",
        "  image_size=(img_height, img_width),\n",
        "  batch_size=batch_size)"
      ]
    },
    {
      "cell_type": "code",
      "execution_count": 64,
      "metadata": {
        "colab": {
          "base_uri": "https://localhost:8080/"
        },
        "id": "AwzOtdXxkjzM",
        "outputId": "a3c64cda-581e-4186-8591-9d59c5418d0a"
      },
      "outputs": [
        {
          "name": "stdout",
          "output_type": "stream",
          "text": [
            "Found 708 files belonging to 2 classes.\n"
          ]
        }
      ],
      "source": [
        "#validation\n",
        "#https://www.tensorflow.org/tutorials/images/classification\n",
        "val_ds = tf.keras.utils.image_dataset_from_directory(\n",
        "  '/content/OGNetDevelopmentData-2/val_images',\n",
        "  #validation_split=0.2,\n",
        "  #subset=\"training\",\n",
        "  seed=123,\n",
        "  image_size=(img_height, img_width),\n",
        "  batch_size=batch_size)"
      ]
    },
    {
      "cell_type": "code",
      "execution_count": 65,
      "metadata": {
        "colab": {
          "base_uri": "https://localhost:8080/"
        },
        "id": "t76iVj99kjzM",
        "outputId": "3ee90bac-512d-4812-f1a3-1118d2312cde"
      },
      "outputs": [
        {
          "name": "stdout",
          "output_type": "stream",
          "text": [
            "Found 704 files belonging to 2 classes.\n"
          ]
        }
      ],
      "source": [
        "#testing\n",
        "#https://www.tensorflow.org/tutorials/images/classification\n",
        "test_ds = tf.keras.utils.image_dataset_from_directory(\n",
        "  '/content/OGNetDevelopmentData-2/test_images',\n",
        "  #validation_split=0.2,\n",
        "  #subset=\"training\",\n",
        "  seed=123,\n",
        "  image_size=(img_height, img_width),\n",
        "  batch_size=batch_size)"
      ]
    },
    {
      "cell_type": "code",
      "execution_count": 66,
      "metadata": {
        "id": "t7-qUNQcl2yI"
      },
      "outputs": [],
      "source": [
        "size=(224,224)"
      ]
    },
    {
      "cell_type": "code",
      "execution_count": 67,
      "metadata": {
        "id": "RiuRuiPQl2yI"
      },
      "outputs": [],
      "source": [
        "#from tensorflow\n",
        "from tensorflow.image import resize\n",
        "train_ds = train_ds.map(lambda x, y: (tf.image.resize(x, size), y))\n",
        "val_ds = val_ds.map(lambda x, y: (tf.image.resize(x, size), y))\n",
        "test_ds = test_ds.map(lambda x, y: (tf.image.resize(x, size), y))\n"
      ]
    },
    {
      "cell_type": "markdown",
      "metadata": {
        "id": "E2_AbnDV7oDo"
      },
      "source": [
        "### ResNet50 (Random undersampling)"
      ]
    },
    {
      "cell_type": "code",
      "execution_count": 68,
      "metadata": {
        "id": "m6tOI3dMl2yJ"
      },
      "outputs": [],
      "source": [
        "#https://www.tensorflow.org/tutorials/images/classification\n",
        "AUTOTUNE = tf.data.AUTOTUNE\n",
        "\n",
        "train_ds_prefetch = train_ds.cache().prefetch(buffer_size=AUTOTUNE)\n",
        "val_ds_prefetch = val_ds.cache().prefetch(buffer_size=AUTOTUNE)\n",
        "test_ds_prefetch = test_ds.cache().prefetch(buffer_size=AUTOTUNE)"
      ]
    },
    {
      "cell_type": "code",
      "execution_count": 69,
      "metadata": {
        "id": "ushYOJwUl2yJ"
      },
      "outputs": [],
      "source": [
        "#Resnet50 preprocessing (The images are converted from RGB to BGR, then each color channel is zero-centered with respect to the ImageNet dataset, without scaling.)\n",
        "resnet_preproc_layer = tf.keras.applications.resnet50.preprocess_input\n",
        "resnet_train_ds = train_ds_prefetch.map(lambda x, y: (resnet_preproc_layer(x), y))\n",
        "resnet_val_ds =val_ds_prefetch.map(lambda x, y: (resnet_preproc_layer(x), y))\n",
        "resnet_test_ds = test_ds_prefetch.map(lambda x, y: (resnet_preproc_layer(x), y))"
      ]
    },
    {
      "cell_type": "code",
      "execution_count": 70,
      "metadata": {
        "id": "mdvA_pAol2yJ"
      },
      "outputs": [],
      "source": [
        "normalization_layer = layers.Rescaling(1./224)\n",
        "normalized_train_ds = resnet_train_ds.map(lambda x, y: (normalization_layer(x), y))\n",
        "normalized_val_ds =resnet_val_ds.map(lambda x, y: (normalization_layer(x), y))\n",
        "normalized_test_ds = resnet_test_ds.map(lambda x, y: (normalization_layer(x), y))"
      ]
    },
    {
      "cell_type": "code",
      "execution_count": 71,
      "metadata": {
        "colab": {
          "base_uri": "https://localhost:8080/"
        },
        "id": "L9vqs0hjmFZv",
        "outputId": "f08882de-1830-4508-9464-26cd6523a231"
      },
      "outputs": [
        {
          "name": "stdout",
          "output_type": "stream",
          "text": [
            "Downloading data from https://storage.googleapis.com/tensorflow/keras-applications/resnet/resnet50_weights_tf_dim_ordering_tf_kernels_notop.h5\n",
            "94765736/94765736 [==============================] - 1s 0us/step\n"
          ]
        }
      ],
      "source": [
        "#setup ResNet50\n",
        "restnet = ResNet50(include_top=False, weights='imagenet', input_shape=(224,224,3))\n",
        "\n",
        "output = restnet.layers[-1].output #how does layer work if output isn't defined yet?\n",
        "output = keras.layers.Flatten()(output)\n",
        "restnet = Model(restnet.input, output)\n",
        "\n",
        "for layer in restnet.layers:\n",
        "    layer.trainable = False"
      ]
    },
    {
      "cell_type": "code",
      "execution_count": 72,
      "metadata": {
        "id": "fDw_VzWtmFZw"
      },
      "outputs": [],
      "source": [
        "model = Sequential()\n",
        "model.add(restnet)\n",
        "model.add(Dense(1, activation='sigmoid'))"
      ]
    },
    {
      "cell_type": "code",
      "execution_count": 73,
      "metadata": {
        "id": "wg4syuKemTUe"
      },
      "outputs": [],
      "source": [
        "#minimal data augmentation\n",
        "data_augmentation_adam = keras.Sequential(\n",
        "    [keras.layers.RandomFlip(\"horizontal\"), keras.layers.RandomRotation(0.1),]\n",
        ")"
      ]
    },
    {
      "cell_type": "code",
      "execution_count": 74,
      "metadata": {
        "id": "_7zVy3g2mTUe"
      },
      "outputs": [],
      "source": [
        "resnet_train_ds_aug_adam = train_ds_prefetch.map(lambda x, y: (data_augmentation_adam(x), y))\n"
      ]
    },
    {
      "cell_type": "code",
      "execution_count": 75,
      "metadata": {
        "id": "Vcn7D6RUmTUe"
      },
      "outputs": [],
      "source": [
        "resnet_train_ds_aug_adam = resnet_train_ds_aug_adam.map(lambda x, y: (resnet_preproc_layer(x), y))\n",
        "normalized_train_ds_aug_adam = resnet_train_ds_aug_adam.map(lambda x, y: (normalization_layer(x), y))"
      ]
    },
    {
      "cell_type": "code",
      "execution_count": 76,
      "metadata": {
        "id": "Uc-I80dqm3Bi"
      },
      "outputs": [],
      "source": [
        "#method of calculating loss, optimization (optimization algorithm that provides more efficient neural network weights by running repeated cycles of ADAM-  “adaptive moment estimation.”), determining metrics\n",
        "model.compile(loss='binary_crossentropy',\n",
        "              optimizer=keras.optimizers.Adam(),\n",
        "              metrics=[keras.metrics.BinaryAccuracy(), keras.metrics.Recall(), keras.metrics.Precision()])"
      ]
    },
    {
      "cell_type": "code",
      "execution_count": 77,
      "metadata": {
        "colab": {
          "base_uri": "https://localhost:8080/"
        },
        "id": "GQTUEUaUxodw",
        "outputId": "e68e28f6-0d52-40a9-e0a6-2a365f6be562"
      },
      "outputs": [
        {
          "name": "stdout",
          "output_type": "stream",
          "text": [
            "Epoch 1/5\n",
            "35/35 [==============================] - 22s 291ms/step - loss: 0.9852 - binary_accuracy: 0.8403 - recall: 0.1121 - precision: 0.1512 - val_loss: 0.1777 - val_binary_accuracy: 0.9718 - val_recall: 0.0000e+00 - val_precision: 0.0000e+00\n",
            "Epoch 2/5\n",
            "35/35 [==============================] - 5s 152ms/step - loss: 0.3214 - binary_accuracy: 0.8993 - recall: 0.0776 - precision: 0.6923 - val_loss: 0.1653 - val_binary_accuracy: 0.9732 - val_recall: 0.0667 - val_precision: 0.1667\n",
            "Epoch 3/5\n",
            "35/35 [==============================] - 5s 152ms/step - loss: 0.2932 - binary_accuracy: 0.9056 - recall: 0.1466 - precision: 0.7727 - val_loss: 0.2245 - val_binary_accuracy: 0.9689 - val_recall: 0.0667 - val_precision: 0.1111\n",
            "Epoch 4/5\n",
            "35/35 [==============================] - 5s 151ms/step - loss: 0.2957 - binary_accuracy: 0.9020 - recall: 0.1552 - precision: 0.6429 - val_loss: 0.2497 - val_binary_accuracy: 0.9534 - val_recall: 0.3333 - val_precision: 0.1786\n",
            "Epoch 5/5\n",
            "35/35 [==============================] - 5s 151ms/step - loss: 0.2845 - binary_accuracy: 0.9038 - recall: 0.1983 - precision: 0.6389 - val_loss: 0.2410 - val_binary_accuracy: 0.9492 - val_recall: 0.3333 - val_precision: 0.1613\n"
          ]
        }
      ],
      "source": [
        "#subpar results here\n",
        "repeat_history_plain = model.fit(normalized_train_ds,\n",
        "                    epochs=5, \n",
        "                    validation_data=normalized_val_ds) \n",
        "                    "
      ]
    },
    {
      "cell_type": "code",
      "execution_count": null,
      "metadata": {
        "id": "KILLqw5_ZWWw"
      },
      "outputs": [],
      "source": [
        "model.save('/content/gdrive/MyDrive/RUS_resnet_correct')\n",
        "model.save('/content/gdrive/MyDrive/RUS_resnet_correct.h5')"
      ]
    },
    {
      "cell_type": "code",
      "execution_count": null,
      "metadata": {
        "id": "-zaVBoQ5ZiBr"
      },
      "outputs": [],
      "source": [
        "model_RUS=load_model('/content/gdrive/MyDrive/RUS_resnet_correct')"
      ]
    },
    {
      "cell_type": "code",
      "execution_count": null,
      "metadata": {
        "id": "Jt9tFVuI99JJ"
      },
      "outputs": [],
      "source": [
        "#trying early stopping with patience of 5 cycles\n",
        "es2 = EarlyStopping(monitor='val_recall', mode='min', verbose=1, patience=5)"
      ]
    },
    {
      "cell_type": "code",
      "execution_count": null,
      "metadata": {
        "id": "K0EIUL4vgTA8"
      },
      "outputs": [],
      "source": [
        "model.compile(loss='binary_crossentropy',\n",
        "              optimizer=keras.optimizers.Adam(),\n",
        "              metrics=[keras.metrics.BinaryAccuracy(), keras.metrics.Recall(), keras.metrics.Precision()])"
      ]
    },
    {
      "cell_type": "code",
      "execution_count": null,
      "metadata": {
        "id": "JslH_jqhZrM8"
      },
      "outputs": [],
      "source": [
        "more_epochs=model_RUS.fit(normalized_train_ds,\n",
        "                    epochs=30, \n",
        "                    validation_data=normalized_val_ds) #why does the training drop after 11 epochs? "
      ]
    },
    {
      "cell_type": "code",
      "execution_count": 78,
      "metadata": {
        "id": "Sj-N04ZimHrq"
      },
      "outputs": [],
      "source": [
        "data_augmentation_2 = keras.Sequential(\n",
        "    [keras.layers.RandomFlip(\"horizontal\"), keras.layers.RandomRotation(0.2),\n",
        "     keras.layers.RandomContrast((0.1,0.1))]\n",
        ")"
      ]
    },
    {
      "cell_type": "code",
      "execution_count": 79,
      "metadata": {
        "id": "Bf8S-vQBr2JM"
      },
      "outputs": [],
      "source": [
        "#using new data augmentation from above \n",
        "resnet_train_ds_aug2 = train_ds_prefetch.map(lambda x, y: (data_augmentation_2(x), y))\n"
      ]
    },
    {
      "cell_type": "code",
      "execution_count": 80,
      "metadata": {
        "id": "PgeuA3xbr2JN"
      },
      "outputs": [],
      "source": [
        "resnet_train_ds_aug2 = resnet_train_ds_aug2.map(lambda x, y: (resnet_preproc_layer(x), y))\n",
        "normalized_train_ds_aug2 = resnet_train_ds_aug2.map(lambda x, y: (normalization_layer(x), y))"
      ]
    },
    {
      "cell_type": "code",
      "execution_count": 81,
      "metadata": {
        "colab": {
          "base_uri": "https://localhost:8080/"
        },
        "id": "5Rkdxx_FsBQu",
        "outputId": "e58cea64-2732-4676-998e-a98acdee931d"
      },
      "outputs": [
        {
          "name": "stdout",
          "output_type": "stream",
          "text": [
            "Epoch 1/5\n",
            "35/35 [==============================] - 6s 159ms/step - loss: 0.2736 - binary_accuracy: 0.9065 - recall: 0.2155 - precision: 0.6757 - val_loss: 0.2330 - val_binary_accuracy: 0.9449 - val_recall: 0.3333 - val_precision: 0.1471\n",
            "Epoch 2/5\n",
            "35/35 [==============================] - 5s 152ms/step - loss: 0.2644 - binary_accuracy: 0.9083 - recall: 0.2328 - precision: 0.6923 - val_loss: 0.2268 - val_binary_accuracy: 0.9449 - val_recall: 0.3333 - val_precision: 0.1471\n",
            "Epoch 3/5\n",
            "35/35 [==============================] - 5s 152ms/step - loss: 0.2559 - binary_accuracy: 0.9138 - recall: 0.2672 - precision: 0.7561 - val_loss: 0.2188 - val_binary_accuracy: 0.9492 - val_recall: 0.3333 - val_precision: 0.1613\n",
            "Epoch 4/5\n",
            "35/35 [==============================] - 6s 158ms/step - loss: 0.2472 - binary_accuracy: 0.9183 - recall: 0.3017 - precision: 0.7955 - val_loss: 0.2081 - val_binary_accuracy: 0.9492 - val_recall: 0.2667 - val_precision: 0.1379\n",
            "Epoch 5/5\n",
            "35/35 [==============================] - 5s 154ms/step - loss: 0.2384 - binary_accuracy: 0.9211 - recall: 0.3103 - precision: 0.8372 - val_loss: 0.1964 - val_binary_accuracy: 0.9506 - val_recall: 0.2667 - val_precision: 0.1429\n"
          ]
        }
      ],
      "source": [
        "repeat_history2 = model.fit(normalized_train_ds_aug2, #it's getting stuck now at recall=0.2 or 0.13 with greater (0.5, 0.3) vs. less RandomRotation and contrast (0.2, 0.1)\n",
        "                    epochs=5, \n",
        "                    validation_data=normalized_val_ds) \n",
        "#I guess that means it's overfitting?"
      ]
    },
    {
      "cell_type": "code",
      "execution_count": null,
      "metadata": {
        "id": "pi2QJXgmwcTH"
      },
      "outputs": [],
      "source": [
        "\n",
        "restnet = ResNet50(include_top=False, weights='imagenet', input_shape=(224,224,3))\n",
        "\n",
        "#output = restnet.layers[-1].output #how does layer work if output isn't defined yet?\n",
        "#output = keras.layers.Flatten()(output)\n",
        "#restnet = Model(restnet.input, output)\n",
        "\n",
        "for layer in restnet.layers:\n",
        "    layer.trainable = False"
      ]
    },
    {
      "cell_type": "code",
      "execution_count": null,
      "metadata": {
        "id": "SmfxFWI7wcTH"
      },
      "outputs": [],
      "source": [
        "model = Sequential()\n",
        "model.add(restnet)\n",
        "model.add(GlobalAveragePooling2D())\n",
        "#model.add(Dense(512, activation='relu', input_dim=(None, 100352)))\n",
        "#model.add(Dropout(0.3))\n",
        "model.add(Dense(32, activation='relu'))\n",
        "model.add(Dropout(0.3))\n",
        "model.add(Dense(1, activation='sigmoid'))"
      ]
    },
    {
      "cell_type": "code",
      "execution_count": null,
      "metadata": {
        "id": "eb0RpCbtv_aI"
      },
      "outputs": [],
      "source": [
        "model.summary()"
      ]
    },
    {
      "cell_type": "code",
      "execution_count": null,
      "metadata": {
        "id": "bW1MIXD5w5BV"
      },
      "outputs": [],
      "source": [
        "model.compile(loss='binary_crossentropy',\n",
        "              optimizer=keras.optimizers.Adam(),\n",
        "              metrics=[keras.metrics.BinaryAccuracy(), keras.metrics.Recall(), keras.metrics.Precision()])"
      ]
    },
    {
      "cell_type": "code",
      "execution_count": null,
      "metadata": {
        "id": "qGFs4nsbwzSM"
      },
      "outputs": [],
      "source": [
        "repeat_history3 = model.fit(normalized_train_ds_aug_adam, #global average pooling cause total miss of recall/precision\n",
        "                    epochs=10, \n",
        "                    validation_data=normalized_val_ds) "
      ]
    },
    {
      "cell_type": "markdown",
      "metadata": {
        "id": "OMDPoj5o7hmt"
      },
      "source": [
        "### ResNet152 (w/Random undersampling)"
      ]
    },
    {
      "cell_type": "code",
      "execution_count": 82,
      "metadata": {
        "colab": {
          "base_uri": "https://localhost:8080/"
        },
        "id": "5VNi0OHyzNza",
        "outputId": "da443cb7-f820-47e2-fb2e-ae7d46ca5e9b"
      },
      "outputs": [
        {
          "name": "stdout",
          "output_type": "stream",
          "text": [
            "Downloading data from https://storage.googleapis.com/tensorflow/keras-applications/resnet/resnet152_weights_tf_dim_ordering_tf_kernels_notop.h5\n",
            "234698864/234698864 [==============================] - 2s 0us/step\n"
          ]
        }
      ],
      "source": [
        "restnet = ResNet152(include_top=False, weights='imagenet', input_shape=(224,224,3))\n",
        "\n",
        "output = restnet.layers[-1].output #the output is a method of resnet.layers (also called output which is confusing)\n",
        "output = keras.layers.Flatten()(output)\n",
        "restnet = Model(restnet.input, output)\n",
        "\n",
        "for layer in restnet.layers:\n",
        "    layer.trainable = False"
      ]
    },
    {
      "cell_type": "code",
      "execution_count": 83,
      "metadata": {
        "id": "Lc9ZKkMOzNza"
      },
      "outputs": [],
      "source": [
        "model = Sequential()\n",
        "model.add(restnet)\n",
        "model.add(Dense(1, activation='sigmoid'))"
      ]
    },
    {
      "cell_type": "code",
      "execution_count": 84,
      "metadata": {
        "id": "3SG9NbzlzNzb"
      },
      "outputs": [],
      "source": [
        "model.compile(loss='binary_crossentropy',\n",
        "              optimizer=keras.optimizers.Adam(),\n",
        "              metrics=[keras.metrics.BinaryAccuracy(), keras.metrics.Recall(), keras.metrics.Precision()])"
      ]
    },
    {
      "cell_type": "code",
      "execution_count": 85,
      "metadata": {
        "colab": {
          "base_uri": "https://localhost:8080/"
        },
        "id": "R5UJchiSy0te",
        "outputId": "f0357dfe-6744-4332-b792-f9488968f53f"
      },
      "outputs": [
        {
          "name": "stdout",
          "output_type": "stream",
          "text": [
            "Epoch 1/5\n",
            "35/35 [==============================] - 22s 421ms/step - loss: 0.8197 - binary_accuracy: 0.8376 - recall_1: 0.0603 - precision_1: 0.0909 - val_loss: 0.2932 - val_binary_accuracy: 0.9350 - val_recall_1: 0.1333 - val_precision_1: 0.0571\n",
            "Epoch 2/5\n",
            "35/35 [==============================] - 12s 350ms/step - loss: 0.3144 - binary_accuracy: 0.8920 - recall_1: 0.0431 - precision_1: 0.3846 - val_loss: 0.1548 - val_binary_accuracy: 0.9760 - val_recall_1: 0.0000e+00 - val_precision_1: 0.0000e+00\n",
            "Epoch 3/5\n",
            "35/35 [==============================] - 12s 353ms/step - loss: 0.2905 - binary_accuracy: 0.8929 - recall_1: 0.0345 - precision_1: 0.4000 - val_loss: 0.1937 - val_binary_accuracy: 0.9732 - val_recall_1: 0.1333 - val_precision_1: 0.2500\n",
            "Epoch 4/5\n",
            "35/35 [==============================] - 12s 353ms/step - loss: 0.2806 - binary_accuracy: 0.8966 - recall_1: 0.0690 - precision_1: 0.5714 - val_loss: 0.2337 - val_binary_accuracy: 0.9605 - val_recall_1: 0.1333 - val_precision_1: 0.1176\n",
            "Epoch 5/5\n",
            "35/35 [==============================] - 12s 355ms/step - loss: 0.2761 - binary_accuracy: 0.8993 - recall_1: 0.1121 - precision_1: 0.6190 - val_loss: 0.2563 - val_binary_accuracy: 0.9393 - val_recall_1: 0.1333 - val_precision_1: 0.0625\n"
          ]
        }
      ],
      "source": [
        "repeat_history3 = model.fit(normalized_train_ds_aug2, #it's getting stuck now at recall=0.2 or 0.13 with greater (0.5, 0.3) vs. less RandomRotation and brightness (0.2, 0.1)\n",
        "                    epochs=5, \n",
        "                    validation_data=normalized_val_ds) "
      ]
    },
    {
      "cell_type": "markdown",
      "metadata": {
        "id": "TUsWmjXm7XAD"
      },
      "source": [
        "### Xception (w/Random undersampling)"
      ]
    },
    {
      "cell_type": "code",
      "execution_count": 86,
      "metadata": {
        "colab": {
          "base_uri": "https://localhost:8080/"
        },
        "id": "7FYFUIll31bc",
        "outputId": "0a194160-0ee3-4cd5-8c5b-00c6fefa4fc0"
      },
      "outputs": [
        {
          "name": "stdout",
          "output_type": "stream",
          "text": [
            "Downloading data from https://storage.googleapis.com/tensorflow/keras-applications/xception/xception_weights_tf_dim_ordering_tf_kernels_notop.h5\n",
            "83683744/83683744 [==============================] - 0s 0us/step\n"
          ]
        }
      ],
      "source": [
        "base_model = keras.applications.Xception(include_top=False,\n",
        "    weights=\"imagenet\",\n",
        "    input_shape=(224,224,3))\n",
        "\n",
        "for layer in base_model.layers: \n",
        "    layer.trainable = False"
      ]
    },
    {
      "cell_type": "code",
      "execution_count": 87,
      "metadata": {
        "id": "i6kBhD9f31bd"
      },
      "outputs": [],
      "source": [
        "full_model = Sequential()\n",
        "full_model.add(base_model)\n",
        "full_model.add(Flatten())\n",
        "#full_model.add(Dense(512, activation='relu'))\n",
        "#full_model.add(Dropout(0.3))\n",
        "#full_model.add(Dense(512, activation='relu'))\n",
        "#full_model.add(Dropout(0.3))\n",
        "full_model.add(Dense(1, activation='sigmoid'))"
      ]
    },
    {
      "cell_type": "code",
      "execution_count": 88,
      "metadata": {
        "id": "IorNX8U031bd"
      },
      "outputs": [],
      "source": [
        "full_model.compile(optimizer=keras.optimizers.Adam(), loss='binary_crossentropy', metrics = [keras.metrics.BinaryAccuracy(),keras.metrics.Recall(), keras.metrics.Precision()])"
      ]
    },
    {
      "cell_type": "code",
      "execution_count": 89,
      "metadata": {
        "id": "MeVXOIR131be"
      },
      "outputs": [],
      "source": [
        "xcept_preproc_layer = tf.keras.applications.xception.preprocess_input\n",
        "xcept_train_ds = train_ds_prefetch.map(lambda x, y: (xcept_preproc_layer(x), y))\n",
        "xcept_val_ds =val_ds_prefetch.map(lambda x, y: (xcept_preproc_layer(x), y))\n",
        "xcept_test_ds = test_ds_prefetch.map(lambda x, y: (xcept_preproc_layer(x), y))"
      ]
    },
    {
      "cell_type": "code",
      "execution_count": 90,
      "metadata": {
        "id": "6IK432Rt31be"
      },
      "outputs": [],
      "source": [
        "normalization_layer = layers.Rescaling(1./224, offset=-1)\n",
        "normalized_train_ds_xc = xcept_train_ds.map(lambda x, y: (normalization_layer(x), y))\n",
        "normalized_val_ds_xc =xcept_val_ds.map(lambda x, y: (normalization_layer(x), y))\n",
        "normalized_test_ds_xc = xcept_test_ds.map(lambda x, y: (normalization_layer(x), y))"
      ]
    },
    {
      "cell_type": "code",
      "execution_count": 91,
      "metadata": {
        "colab": {
          "base_uri": "https://localhost:8080/",
          "height": 713
        },
        "id": "JCXGGk4L31bf",
        "outputId": "037beece-3911-4655-bba8-b512c4c5737e"
      },
      "outputs": [
        {
          "name": "stdout",
          "output_type": "stream",
          "text": [
            "Epoch 1/10\n",
            "35/35 [==============================] - 12s 255ms/step - loss: 0.3776 - binary_accuracy: 0.8711 - recall_2: 0.0259 - precision_2: 0.0938 - val_loss: 0.1716 - val_binary_accuracy: 0.9788 - val_recall_2: 0.0000e+00 - val_precision_2: 0.0000e+00\n",
            "Epoch 2/10\n",
            "35/35 [==============================] - 7s 196ms/step - loss: 0.3293 - binary_accuracy: 0.8947 - recall_2: 0.0000e+00 - precision_2: 0.0000e+00 - val_loss: 0.1682 - val_binary_accuracy: 0.9788 - val_recall_2: 0.0000e+00 - val_precision_2: 0.0000e+00\n",
            "Epoch 3/10\n",
            "35/35 [==============================] - 7s 197ms/step - loss: 0.3194 - binary_accuracy: 0.8947 - recall_2: 0.0000e+00 - precision_2: 0.0000e+00 - val_loss: 0.1858 - val_binary_accuracy: 0.9788 - val_recall_2: 0.0000e+00 - val_precision_2: 0.0000e+00\n",
            "Epoch 4/10\n",
            "35/35 [==============================] - 7s 198ms/step - loss: 0.3126 - binary_accuracy: 0.8956 - recall_2: 0.0086 - precision_2: 1.0000 - val_loss: 0.1868 - val_binary_accuracy: 0.9788 - val_recall_2: 0.0000e+00 - val_precision_2: 0.0000e+00\n",
            "Epoch 5/10\n",
            "35/35 [==============================] - 7s 199ms/step - loss: 0.3072 - binary_accuracy: 0.8975 - recall_2: 0.0259 - precision_2: 1.0000 - val_loss: 0.1877 - val_binary_accuracy: 0.9774 - val_recall_2: 0.0000e+00 - val_precision_2: 0.0000e+00\n",
            "Epoch 6/10\n",
            "35/35 [==============================] - 7s 199ms/step - loss: 0.3022 - binary_accuracy: 0.8975 - recall_2: 0.0259 - precision_2: 1.0000 - val_loss: 0.1875 - val_binary_accuracy: 0.9774 - val_recall_2: 0.0000e+00 - val_precision_2: 0.0000e+00\n",
            "Epoch 7/10\n",
            "35/35 [==============================] - 7s 200ms/step - loss: 0.2975 - binary_accuracy: 0.8993 - recall_2: 0.0431 - precision_2: 1.0000 - val_loss: 0.1864 - val_binary_accuracy: 0.9774 - val_recall_2: 0.0000e+00 - val_precision_2: 0.0000e+00\n",
            "Epoch 8/10\n",
            "35/35 [==============================] - 7s 203ms/step - loss: 0.2930 - binary_accuracy: 0.8984 - recall_2: 0.0431 - precision_2: 0.8333 - val_loss: 0.1850 - val_binary_accuracy: 0.9774 - val_recall_2: 0.0000e+00 - val_precision_2: 0.0000e+00\n",
            "Epoch 9/10\n",
            "35/35 [==============================] - 7s 204ms/step - loss: 0.2887 - binary_accuracy: 0.8993 - recall_2: 0.0517 - precision_2: 0.8571 - val_loss: 0.1832 - val_binary_accuracy: 0.9774 - val_recall_2: 0.0000e+00 - val_precision_2: 0.0000e+00\n",
            "Epoch 10/10\n",
            "35/35 [==============================] - ETA: 0s - loss: 0.2846 - binary_accuracy: 0.8993 - recall_2: 0.0517 - precision_2: 0.8571"
          ]
        },
        {
          "ename": "KeyboardInterrupt",
          "evalue": "ignored",
          "output_type": "error",
          "traceback": [
            "\u001b[0;31m---------------------------------------------------------------------------\u001b[0m",
            "\u001b[0;31mKeyboardInterrupt\u001b[0m                         Traceback (most recent call last)",
            "\u001b[0;32m<ipython-input-91-47c5ec73db5d>\u001b[0m in \u001b[0;36m<module>\u001b[0;34m\u001b[0m\n\u001b[0;32m----> 1\u001b[0;31m history_xcept_1 = full_model.fit(normalized_train_ds_xc, \n\u001b[0m\u001b[1;32m      2\u001b[0m                     \u001b[0mepochs\u001b[0m\u001b[0;34m=\u001b[0m\u001b[0;36m10\u001b[0m\u001b[0;34m,\u001b[0m\u001b[0;34m\u001b[0m\u001b[0;34m\u001b[0m\u001b[0m\n\u001b[1;32m      3\u001b[0m                     validation_data=normalized_val_ds_xc) \n",
            "\u001b[0;32m/usr/local/lib/python3.8/dist-packages/keras/utils/traceback_utils.py\u001b[0m in \u001b[0;36merror_handler\u001b[0;34m(*args, **kwargs)\u001b[0m\n\u001b[1;32m     62\u001b[0m     \u001b[0mfiltered_tb\u001b[0m \u001b[0;34m=\u001b[0m \u001b[0;32mNone\u001b[0m\u001b[0;34m\u001b[0m\u001b[0;34m\u001b[0m\u001b[0m\n\u001b[1;32m     63\u001b[0m     \u001b[0;32mtry\u001b[0m\u001b[0;34m:\u001b[0m\u001b[0;34m\u001b[0m\u001b[0;34m\u001b[0m\u001b[0m\n\u001b[0;32m---> 64\u001b[0;31m       \u001b[0;32mreturn\u001b[0m \u001b[0mfn\u001b[0m\u001b[0;34m(\u001b[0m\u001b[0;34m*\u001b[0m\u001b[0margs\u001b[0m\u001b[0;34m,\u001b[0m \u001b[0;34m**\u001b[0m\u001b[0mkwargs\u001b[0m\u001b[0;34m)\u001b[0m\u001b[0;34m\u001b[0m\u001b[0;34m\u001b[0m\u001b[0m\n\u001b[0m\u001b[1;32m     65\u001b[0m     \u001b[0;32mexcept\u001b[0m \u001b[0mException\u001b[0m \u001b[0;32mas\u001b[0m \u001b[0me\u001b[0m\u001b[0;34m:\u001b[0m  \u001b[0;31m# pylint: disable=broad-except\u001b[0m\u001b[0;34m\u001b[0m\u001b[0;34m\u001b[0m\u001b[0m\n\u001b[1;32m     66\u001b[0m       \u001b[0mfiltered_tb\u001b[0m \u001b[0;34m=\u001b[0m \u001b[0m_process_traceback_frames\u001b[0m\u001b[0;34m(\u001b[0m\u001b[0me\u001b[0m\u001b[0;34m.\u001b[0m\u001b[0m__traceback__\u001b[0m\u001b[0;34m)\u001b[0m\u001b[0;34m\u001b[0m\u001b[0;34m\u001b[0m\u001b[0m\n",
            "\u001b[0;32m/usr/local/lib/python3.8/dist-packages/keras/engine/training.py\u001b[0m in \u001b[0;36mfit\u001b[0;34m(self, x, y, batch_size, epochs, verbose, callbacks, validation_split, validation_data, shuffle, class_weight, sample_weight, initial_epoch, steps_per_epoch, validation_steps, validation_batch_size, validation_freq, max_queue_size, workers, use_multiprocessing)\u001b[0m\n\u001b[1;32m   1443\u001b[0m                 \u001b[0mmodel\u001b[0m\u001b[0;34m=\u001b[0m\u001b[0mself\u001b[0m\u001b[0;34m,\u001b[0m\u001b[0;34m\u001b[0m\u001b[0;34m\u001b[0m\u001b[0m\n\u001b[1;32m   1444\u001b[0m                 steps_per_execution=self._steps_per_execution)\n\u001b[0;32m-> 1445\u001b[0;31m           val_logs = self.evaluate(\n\u001b[0m\u001b[1;32m   1446\u001b[0m               \u001b[0mx\u001b[0m\u001b[0;34m=\u001b[0m\u001b[0mval_x\u001b[0m\u001b[0;34m,\u001b[0m\u001b[0;34m\u001b[0m\u001b[0;34m\u001b[0m\u001b[0m\n\u001b[1;32m   1447\u001b[0m               \u001b[0my\u001b[0m\u001b[0;34m=\u001b[0m\u001b[0mval_y\u001b[0m\u001b[0;34m,\u001b[0m\u001b[0;34m\u001b[0m\u001b[0;34m\u001b[0m\u001b[0m\n",
            "\u001b[0;32m/usr/local/lib/python3.8/dist-packages/keras/utils/traceback_utils.py\u001b[0m in \u001b[0;36merror_handler\u001b[0;34m(*args, **kwargs)\u001b[0m\n\u001b[1;32m     62\u001b[0m     \u001b[0mfiltered_tb\u001b[0m \u001b[0;34m=\u001b[0m \u001b[0;32mNone\u001b[0m\u001b[0;34m\u001b[0m\u001b[0;34m\u001b[0m\u001b[0m\n\u001b[1;32m     63\u001b[0m     \u001b[0;32mtry\u001b[0m\u001b[0;34m:\u001b[0m\u001b[0;34m\u001b[0m\u001b[0;34m\u001b[0m\u001b[0m\n\u001b[0;32m---> 64\u001b[0;31m       \u001b[0;32mreturn\u001b[0m \u001b[0mfn\u001b[0m\u001b[0;34m(\u001b[0m\u001b[0;34m*\u001b[0m\u001b[0margs\u001b[0m\u001b[0;34m,\u001b[0m \u001b[0;34m**\u001b[0m\u001b[0mkwargs\u001b[0m\u001b[0;34m)\u001b[0m\u001b[0;34m\u001b[0m\u001b[0;34m\u001b[0m\u001b[0m\n\u001b[0m\u001b[1;32m     65\u001b[0m     \u001b[0;32mexcept\u001b[0m \u001b[0mException\u001b[0m \u001b[0;32mas\u001b[0m \u001b[0me\u001b[0m\u001b[0;34m:\u001b[0m  \u001b[0;31m# pylint: disable=broad-except\u001b[0m\u001b[0;34m\u001b[0m\u001b[0;34m\u001b[0m\u001b[0m\n\u001b[1;32m     66\u001b[0m       \u001b[0mfiltered_tb\u001b[0m \u001b[0;34m=\u001b[0m \u001b[0m_process_traceback_frames\u001b[0m\u001b[0;34m(\u001b[0m\u001b[0me\u001b[0m\u001b[0;34m.\u001b[0m\u001b[0m__traceback__\u001b[0m\u001b[0;34m)\u001b[0m\u001b[0;34m\u001b[0m\u001b[0;34m\u001b[0m\u001b[0m\n",
            "\u001b[0;32m/usr/local/lib/python3.8/dist-packages/keras/engine/training.py\u001b[0m in \u001b[0;36mevaluate\u001b[0;34m(self, x, y, batch_size, verbose, sample_weight, steps, callbacks, max_queue_size, workers, use_multiprocessing, return_dict, **kwargs)\u001b[0m\n\u001b[1;32m   1754\u001b[0m             \u001b[0;32mwith\u001b[0m \u001b[0mtf\u001b[0m\u001b[0;34m.\u001b[0m\u001b[0mprofiler\u001b[0m\u001b[0;34m.\u001b[0m\u001b[0mexperimental\u001b[0m\u001b[0;34m.\u001b[0m\u001b[0mTrace\u001b[0m\u001b[0;34m(\u001b[0m\u001b[0;34m'test'\u001b[0m\u001b[0;34m,\u001b[0m \u001b[0mstep_num\u001b[0m\u001b[0;34m=\u001b[0m\u001b[0mstep\u001b[0m\u001b[0;34m,\u001b[0m \u001b[0m_r\u001b[0m\u001b[0;34m=\u001b[0m\u001b[0;36m1\u001b[0m\u001b[0;34m)\u001b[0m\u001b[0;34m:\u001b[0m\u001b[0;34m\u001b[0m\u001b[0;34m\u001b[0m\u001b[0m\n\u001b[1;32m   1755\u001b[0m               \u001b[0mcallbacks\u001b[0m\u001b[0;34m.\u001b[0m\u001b[0mon_test_batch_begin\u001b[0m\u001b[0;34m(\u001b[0m\u001b[0mstep\u001b[0m\u001b[0;34m)\u001b[0m\u001b[0;34m\u001b[0m\u001b[0;34m\u001b[0m\u001b[0m\n\u001b[0;32m-> 1756\u001b[0;31m               \u001b[0mtmp_logs\u001b[0m \u001b[0;34m=\u001b[0m \u001b[0mself\u001b[0m\u001b[0;34m.\u001b[0m\u001b[0mtest_function\u001b[0m\u001b[0;34m(\u001b[0m\u001b[0miterator\u001b[0m\u001b[0;34m)\u001b[0m\u001b[0;34m\u001b[0m\u001b[0;34m\u001b[0m\u001b[0m\n\u001b[0m\u001b[1;32m   1757\u001b[0m               \u001b[0;32mif\u001b[0m \u001b[0mdata_handler\u001b[0m\u001b[0;34m.\u001b[0m\u001b[0mshould_sync\u001b[0m\u001b[0;34m:\u001b[0m\u001b[0;34m\u001b[0m\u001b[0;34m\u001b[0m\u001b[0m\n\u001b[1;32m   1758\u001b[0m                 \u001b[0mcontext\u001b[0m\u001b[0;34m.\u001b[0m\u001b[0masync_wait\u001b[0m\u001b[0;34m(\u001b[0m\u001b[0;34m)\u001b[0m\u001b[0;34m\u001b[0m\u001b[0;34m\u001b[0m\u001b[0m\n",
            "\u001b[0;32m/usr/local/lib/python3.8/dist-packages/tensorflow/python/util/traceback_utils.py\u001b[0m in \u001b[0;36merror_handler\u001b[0;34m(*args, **kwargs)\u001b[0m\n\u001b[1;32m    148\u001b[0m     \u001b[0mfiltered_tb\u001b[0m \u001b[0;34m=\u001b[0m \u001b[0;32mNone\u001b[0m\u001b[0;34m\u001b[0m\u001b[0;34m\u001b[0m\u001b[0m\n\u001b[1;32m    149\u001b[0m     \u001b[0;32mtry\u001b[0m\u001b[0;34m:\u001b[0m\u001b[0;34m\u001b[0m\u001b[0;34m\u001b[0m\u001b[0m\n\u001b[0;32m--> 150\u001b[0;31m       \u001b[0;32mreturn\u001b[0m \u001b[0mfn\u001b[0m\u001b[0;34m(\u001b[0m\u001b[0;34m*\u001b[0m\u001b[0margs\u001b[0m\u001b[0;34m,\u001b[0m \u001b[0;34m**\u001b[0m\u001b[0mkwargs\u001b[0m\u001b[0;34m)\u001b[0m\u001b[0;34m\u001b[0m\u001b[0;34m\u001b[0m\u001b[0m\n\u001b[0m\u001b[1;32m    151\u001b[0m     \u001b[0;32mexcept\u001b[0m \u001b[0mException\u001b[0m \u001b[0;32mas\u001b[0m \u001b[0me\u001b[0m\u001b[0;34m:\u001b[0m\u001b[0;34m\u001b[0m\u001b[0;34m\u001b[0m\u001b[0m\n\u001b[1;32m    152\u001b[0m       \u001b[0mfiltered_tb\u001b[0m \u001b[0;34m=\u001b[0m \u001b[0m_process_traceback_frames\u001b[0m\u001b[0;34m(\u001b[0m\u001b[0me\u001b[0m\u001b[0;34m.\u001b[0m\u001b[0m__traceback__\u001b[0m\u001b[0;34m)\u001b[0m\u001b[0;34m\u001b[0m\u001b[0;34m\u001b[0m\u001b[0m\n",
            "\u001b[0;32m/usr/local/lib/python3.8/dist-packages/tensorflow/python/eager/def_function.py\u001b[0m in \u001b[0;36m__call__\u001b[0;34m(self, *args, **kwds)\u001b[0m\n\u001b[1;32m    913\u001b[0m \u001b[0;34m\u001b[0m\u001b[0m\n\u001b[1;32m    914\u001b[0m       \u001b[0;32mwith\u001b[0m \u001b[0mOptionalXlaContext\u001b[0m\u001b[0;34m(\u001b[0m\u001b[0mself\u001b[0m\u001b[0;34m.\u001b[0m\u001b[0m_jit_compile\u001b[0m\u001b[0;34m)\u001b[0m\u001b[0;34m:\u001b[0m\u001b[0;34m\u001b[0m\u001b[0;34m\u001b[0m\u001b[0m\n\u001b[0;32m--> 915\u001b[0;31m         \u001b[0mresult\u001b[0m \u001b[0;34m=\u001b[0m \u001b[0mself\u001b[0m\u001b[0;34m.\u001b[0m\u001b[0m_call\u001b[0m\u001b[0;34m(\u001b[0m\u001b[0;34m*\u001b[0m\u001b[0margs\u001b[0m\u001b[0;34m,\u001b[0m \u001b[0;34m**\u001b[0m\u001b[0mkwds\u001b[0m\u001b[0;34m)\u001b[0m\u001b[0;34m\u001b[0m\u001b[0;34m\u001b[0m\u001b[0m\n\u001b[0m\u001b[1;32m    916\u001b[0m \u001b[0;34m\u001b[0m\u001b[0m\n\u001b[1;32m    917\u001b[0m       \u001b[0mnew_tracing_count\u001b[0m \u001b[0;34m=\u001b[0m \u001b[0mself\u001b[0m\u001b[0;34m.\u001b[0m\u001b[0mexperimental_get_tracing_count\u001b[0m\u001b[0;34m(\u001b[0m\u001b[0;34m)\u001b[0m\u001b[0;34m\u001b[0m\u001b[0;34m\u001b[0m\u001b[0m\n",
            "\u001b[0;32m/usr/local/lib/python3.8/dist-packages/tensorflow/python/eager/def_function.py\u001b[0m in \u001b[0;36m_call\u001b[0;34m(self, *args, **kwds)\u001b[0m\n\u001b[1;32m    952\u001b[0m       \u001b[0;31m# In this case we have not created variables on the first call. So we can\u001b[0m\u001b[0;34m\u001b[0m\u001b[0;34m\u001b[0m\u001b[0;34m\u001b[0m\u001b[0m\n\u001b[1;32m    953\u001b[0m       \u001b[0;31m# run the first trace but we should fail if variables are created.\u001b[0m\u001b[0;34m\u001b[0m\u001b[0;34m\u001b[0m\u001b[0;34m\u001b[0m\u001b[0m\n\u001b[0;32m--> 954\u001b[0;31m       \u001b[0mresults\u001b[0m \u001b[0;34m=\u001b[0m \u001b[0mself\u001b[0m\u001b[0;34m.\u001b[0m\u001b[0m_stateful_fn\u001b[0m\u001b[0;34m(\u001b[0m\u001b[0;34m*\u001b[0m\u001b[0margs\u001b[0m\u001b[0;34m,\u001b[0m \u001b[0;34m**\u001b[0m\u001b[0mkwds\u001b[0m\u001b[0;34m)\u001b[0m\u001b[0;34m\u001b[0m\u001b[0;34m\u001b[0m\u001b[0m\n\u001b[0m\u001b[1;32m    955\u001b[0m       \u001b[0;32mif\u001b[0m \u001b[0mself\u001b[0m\u001b[0;34m.\u001b[0m\u001b[0m_created_variables\u001b[0m \u001b[0;32mand\u001b[0m \u001b[0;32mnot\u001b[0m \u001b[0mALLOW_DYNAMIC_VARIABLE_CREATION\u001b[0m\u001b[0;34m:\u001b[0m\u001b[0;34m\u001b[0m\u001b[0;34m\u001b[0m\u001b[0m\n\u001b[1;32m    956\u001b[0m         raise ValueError(\"Creating variables on a non-first call to a function\"\n",
            "\u001b[0;32m/usr/local/lib/python3.8/dist-packages/tensorflow/python/eager/function.py\u001b[0m in \u001b[0;36m__call__\u001b[0;34m(self, *args, **kwargs)\u001b[0m\n\u001b[1;32m   2451\u001b[0m       (graph_function,\n\u001b[1;32m   2452\u001b[0m        filtered_flat_args) = self._maybe_define_function(args, kwargs)\n\u001b[0;32m-> 2453\u001b[0;31m     return graph_function._call_flat(\n\u001b[0m\u001b[1;32m   2454\u001b[0m         filtered_flat_args, captured_inputs=graph_function.captured_inputs)  # pylint: disable=protected-access\n\u001b[1;32m   2455\u001b[0m \u001b[0;34m\u001b[0m\u001b[0m\n",
            "\u001b[0;32m/usr/local/lib/python3.8/dist-packages/tensorflow/python/eager/function.py\u001b[0m in \u001b[0;36m_call_flat\u001b[0;34m(self, args, captured_inputs, cancellation_manager)\u001b[0m\n\u001b[1;32m   1858\u001b[0m         and executing_eagerly):\n\u001b[1;32m   1859\u001b[0m       \u001b[0;31m# No tape is watching; skip to running the function.\u001b[0m\u001b[0;34m\u001b[0m\u001b[0;34m\u001b[0m\u001b[0;34m\u001b[0m\u001b[0m\n\u001b[0;32m-> 1860\u001b[0;31m       return self._build_call_outputs(self._inference_function.call(\n\u001b[0m\u001b[1;32m   1861\u001b[0m           ctx, args, cancellation_manager=cancellation_manager))\n\u001b[1;32m   1862\u001b[0m     forward_backward = self._select_forward_and_backward_functions(\n",
            "\u001b[0;32m/usr/local/lib/python3.8/dist-packages/tensorflow/python/eager/function.py\u001b[0m in \u001b[0;36mcall\u001b[0;34m(self, ctx, args, cancellation_manager)\u001b[0m\n\u001b[1;32m    495\u001b[0m       \u001b[0;32mwith\u001b[0m \u001b[0m_InterpolateFunctionError\u001b[0m\u001b[0;34m(\u001b[0m\u001b[0mself\u001b[0m\u001b[0;34m)\u001b[0m\u001b[0;34m:\u001b[0m\u001b[0;34m\u001b[0m\u001b[0;34m\u001b[0m\u001b[0m\n\u001b[1;32m    496\u001b[0m         \u001b[0;32mif\u001b[0m \u001b[0mcancellation_manager\u001b[0m \u001b[0;32mis\u001b[0m \u001b[0;32mNone\u001b[0m\u001b[0;34m:\u001b[0m\u001b[0;34m\u001b[0m\u001b[0;34m\u001b[0m\u001b[0m\n\u001b[0;32m--> 497\u001b[0;31m           outputs = execute.execute(\n\u001b[0m\u001b[1;32m    498\u001b[0m               \u001b[0mstr\u001b[0m\u001b[0;34m(\u001b[0m\u001b[0mself\u001b[0m\u001b[0;34m.\u001b[0m\u001b[0msignature\u001b[0m\u001b[0;34m.\u001b[0m\u001b[0mname\u001b[0m\u001b[0;34m)\u001b[0m\u001b[0;34m,\u001b[0m\u001b[0;34m\u001b[0m\u001b[0;34m\u001b[0m\u001b[0m\n\u001b[1;32m    499\u001b[0m               \u001b[0mnum_outputs\u001b[0m\u001b[0;34m=\u001b[0m\u001b[0mself\u001b[0m\u001b[0;34m.\u001b[0m\u001b[0m_num_outputs\u001b[0m\u001b[0;34m,\u001b[0m\u001b[0;34m\u001b[0m\u001b[0;34m\u001b[0m\u001b[0m\n",
            "\u001b[0;32m/usr/local/lib/python3.8/dist-packages/tensorflow/python/eager/execute.py\u001b[0m in \u001b[0;36mquick_execute\u001b[0;34m(op_name, num_outputs, inputs, attrs, ctx, name)\u001b[0m\n\u001b[1;32m     52\u001b[0m   \u001b[0;32mtry\u001b[0m\u001b[0;34m:\u001b[0m\u001b[0;34m\u001b[0m\u001b[0;34m\u001b[0m\u001b[0m\n\u001b[1;32m     53\u001b[0m     \u001b[0mctx\u001b[0m\u001b[0;34m.\u001b[0m\u001b[0mensure_initialized\u001b[0m\u001b[0;34m(\u001b[0m\u001b[0;34m)\u001b[0m\u001b[0;34m\u001b[0m\u001b[0;34m\u001b[0m\u001b[0m\n\u001b[0;32m---> 54\u001b[0;31m     tensors = pywrap_tfe.TFE_Py_Execute(ctx._handle, device_name, op_name,\n\u001b[0m\u001b[1;32m     55\u001b[0m                                         inputs, attrs, num_outputs)\n\u001b[1;32m     56\u001b[0m   \u001b[0;32mexcept\u001b[0m \u001b[0mcore\u001b[0m\u001b[0;34m.\u001b[0m\u001b[0m_NotOkStatusException\u001b[0m \u001b[0;32mas\u001b[0m \u001b[0me\u001b[0m\u001b[0;34m:\u001b[0m\u001b[0;34m\u001b[0m\u001b[0;34m\u001b[0m\u001b[0m\n",
            "\u001b[0;31mKeyboardInterrupt\u001b[0m: "
          ]
        }
      ],
      "source": [
        "history_xcept_1 = full_model.fit(normalized_train_ds_xc, \n",
        "                    epochs=10, \n",
        "                    validation_data=normalized_val_ds_xc) "
      ]
    },
    {
      "cell_type": "code",
      "execution_count": 108,
      "metadata": {
        "id": "v5VavYsc31bf"
      },
      "outputs": [],
      "source": [
        "data_augmentation_adam = keras.Sequential(\n",
        "    [keras.layers.RandomFlip(\"horizontal\"), keras.layers.RandomRotation(0.1),]\n",
        ")"
      ]
    },
    {
      "cell_type": "code",
      "execution_count": 109,
      "metadata": {
        "id": "JPz03Ukn31bf"
      },
      "outputs": [],
      "source": [
        "xcept_train_ds_aug_adam = train_ds_prefetch.map(lambda x, y: (data_augmentation_adam(x), y))\n"
      ]
    },
    {
      "cell_type": "code",
      "execution_count": 110,
      "metadata": {
        "id": "le_jJFqh31bg"
      },
      "outputs": [],
      "source": [
        "xcept_train_ds_aug_adam = resnet_train_ds_aug_adam.map(lambda x, y: (xcept_preproc_layer(x), y))\n",
        "normalized_train_ds_xc_aug_adam = xcept_train_ds_aug_adam.map(lambda x, y: (normalization_layer(x), y))"
      ]
    },
    {
      "cell_type": "code",
      "execution_count": 111,
      "metadata": {
        "colab": {
          "base_uri": "https://localhost:8080/",
          "height": 609
        },
        "id": "p3MuyxVz31bg",
        "outputId": "f2ea1056-9a04-4fe4-ade5-fcf84718a4fb"
      },
      "outputs": [
        {
          "name": "stdout",
          "output_type": "stream",
          "text": [
            "Epoch 1/10\n",
            "35/35 [==============================] - 5s 151ms/step - loss: 0.3378 - binary_accuracy: 0.8875 - recall_3: 0.0000e+00 - precision_3: 0.0000e+00 - val_loss: 0.1751 - val_binary_accuracy: 0.9774 - val_recall_3: 0.0667 - val_precision_3: 0.3333\n",
            "Epoch 2/10\n",
            "35/35 [==============================] - 5s 149ms/step - loss: 0.2956 - binary_accuracy: 0.8966 - recall_3: 0.1034 - precision_3: 0.5455 - val_loss: 0.1279 - val_binary_accuracy: 0.9774 - val_recall_3: 0.0667 - val_precision_3: 0.3333\n",
            "Epoch 3/10\n",
            "35/35 [==============================] - 5s 149ms/step - loss: 0.2933 - binary_accuracy: 0.8966 - recall_3: 0.0862 - precision_3: 0.5556 - val_loss: 0.1271 - val_binary_accuracy: 0.9774 - val_recall_3: 0.0667 - val_precision_3: 0.3333\n",
            "Epoch 4/10\n",
            "35/35 [==============================] - 5s 150ms/step - loss: 0.2902 - binary_accuracy: 0.8984 - recall_3: 0.1034 - precision_3: 0.6000 - val_loss: 0.1211 - val_binary_accuracy: 0.9760 - val_recall_3: 0.0000e+00 - val_precision_3: 0.0000e+00\n",
            "Epoch 5/10\n",
            "35/35 [==============================] - 5s 152ms/step - loss: 0.2883 - binary_accuracy: 0.8984 - recall_3: 0.1034 - precision_3: 0.6000 - val_loss: 0.1153 - val_binary_accuracy: 0.9760 - val_recall_3: 0.0000e+00 - val_precision_3: 0.0000e+00\n",
            "Epoch 6/10\n",
            "35/35 [==============================] - 6s 151ms/step - loss: 0.2868 - binary_accuracy: 0.9002 - recall_3: 0.1207 - precision_3: 0.6364 - val_loss: 0.1100 - val_binary_accuracy: 0.9760 - val_recall_3: 0.0000e+00 - val_precision_3: 0.0000e+00\n",
            "Epoch 7/10\n",
            "19/35 [===============>..............] - ETA: 1s - loss: 0.2543 - binary_accuracy: 0.9145 - recall_3: 0.1475 - precision_3: 1.0000"
          ]
        },
        {
          "ename": "KeyboardInterrupt",
          "evalue": "ignored",
          "output_type": "error",
          "traceback": [
            "\u001b[0;31m---------------------------------------------------------------------------\u001b[0m",
            "\u001b[0;31mKeyboardInterrupt\u001b[0m                         Traceback (most recent call last)",
            "\u001b[0;32m<ipython-input-111-ebfa1c48852d>\u001b[0m in \u001b[0;36m<module>\u001b[0;34m\u001b[0m\n\u001b[0;32m----> 1\u001b[0;31m history_xcept_1_aug = full_model.fit(normalized_train_ds_xc_aug_adam, \n\u001b[0m\u001b[1;32m      2\u001b[0m                     \u001b[0mepochs\u001b[0m\u001b[0;34m=\u001b[0m\u001b[0;36m10\u001b[0m\u001b[0;34m,\u001b[0m\u001b[0;34m\u001b[0m\u001b[0;34m\u001b[0m\u001b[0m\n\u001b[1;32m      3\u001b[0m                     validation_data=normalized_val_ds_xc) \n",
            "\u001b[0;32m/usr/local/lib/python3.8/dist-packages/keras/utils/traceback_utils.py\u001b[0m in \u001b[0;36merror_handler\u001b[0;34m(*args, **kwargs)\u001b[0m\n\u001b[1;32m     62\u001b[0m     \u001b[0mfiltered_tb\u001b[0m \u001b[0;34m=\u001b[0m \u001b[0;32mNone\u001b[0m\u001b[0;34m\u001b[0m\u001b[0;34m\u001b[0m\u001b[0m\n\u001b[1;32m     63\u001b[0m     \u001b[0;32mtry\u001b[0m\u001b[0;34m:\u001b[0m\u001b[0;34m\u001b[0m\u001b[0;34m\u001b[0m\u001b[0m\n\u001b[0;32m---> 64\u001b[0;31m       \u001b[0;32mreturn\u001b[0m \u001b[0mfn\u001b[0m\u001b[0;34m(\u001b[0m\u001b[0;34m*\u001b[0m\u001b[0margs\u001b[0m\u001b[0;34m,\u001b[0m \u001b[0;34m**\u001b[0m\u001b[0mkwargs\u001b[0m\u001b[0;34m)\u001b[0m\u001b[0;34m\u001b[0m\u001b[0;34m\u001b[0m\u001b[0m\n\u001b[0m\u001b[1;32m     65\u001b[0m     \u001b[0;32mexcept\u001b[0m \u001b[0mException\u001b[0m \u001b[0;32mas\u001b[0m \u001b[0me\u001b[0m\u001b[0;34m:\u001b[0m  \u001b[0;31m# pylint: disable=broad-except\u001b[0m\u001b[0;34m\u001b[0m\u001b[0;34m\u001b[0m\u001b[0m\n\u001b[1;32m     66\u001b[0m       \u001b[0mfiltered_tb\u001b[0m \u001b[0;34m=\u001b[0m \u001b[0m_process_traceback_frames\u001b[0m\u001b[0;34m(\u001b[0m\u001b[0me\u001b[0m\u001b[0;34m.\u001b[0m\u001b[0m__traceback__\u001b[0m\u001b[0;34m)\u001b[0m\u001b[0;34m\u001b[0m\u001b[0;34m\u001b[0m\u001b[0m\n",
            "\u001b[0;32m/usr/local/lib/python3.8/dist-packages/keras/engine/training.py\u001b[0m in \u001b[0;36mfit\u001b[0;34m(self, x, y, batch_size, epochs, verbose, callbacks, validation_split, validation_data, shuffle, class_weight, sample_weight, initial_epoch, steps_per_epoch, validation_steps, validation_batch_size, validation_freq, max_queue_size, workers, use_multiprocessing)\u001b[0m\n\u001b[1;32m   1412\u001b[0m               \u001b[0mlogs\u001b[0m \u001b[0;34m=\u001b[0m \u001b[0mtmp_logs\u001b[0m  \u001b[0;31m# No error, now safe to assign to logs.\u001b[0m\u001b[0;34m\u001b[0m\u001b[0;34m\u001b[0m\u001b[0m\n\u001b[1;32m   1413\u001b[0m               \u001b[0mend_step\u001b[0m \u001b[0;34m=\u001b[0m \u001b[0mstep\u001b[0m \u001b[0;34m+\u001b[0m \u001b[0mdata_handler\u001b[0m\u001b[0;34m.\u001b[0m\u001b[0mstep_increment\u001b[0m\u001b[0;34m\u001b[0m\u001b[0;34m\u001b[0m\u001b[0m\n\u001b[0;32m-> 1414\u001b[0;31m               \u001b[0mcallbacks\u001b[0m\u001b[0;34m.\u001b[0m\u001b[0mon_train_batch_end\u001b[0m\u001b[0;34m(\u001b[0m\u001b[0mend_step\u001b[0m\u001b[0;34m,\u001b[0m \u001b[0mlogs\u001b[0m\u001b[0;34m)\u001b[0m\u001b[0;34m\u001b[0m\u001b[0;34m\u001b[0m\u001b[0m\n\u001b[0m\u001b[1;32m   1415\u001b[0m               \u001b[0;32mif\u001b[0m \u001b[0mself\u001b[0m\u001b[0;34m.\u001b[0m\u001b[0mstop_training\u001b[0m\u001b[0;34m:\u001b[0m\u001b[0;34m\u001b[0m\u001b[0;34m\u001b[0m\u001b[0m\n\u001b[1;32m   1416\u001b[0m                 \u001b[0;32mbreak\u001b[0m\u001b[0;34m\u001b[0m\u001b[0;34m\u001b[0m\u001b[0m\n",
            "\u001b[0;32m/usr/local/lib/python3.8/dist-packages/keras/callbacks.py\u001b[0m in \u001b[0;36mon_train_batch_end\u001b[0;34m(self, batch, logs)\u001b[0m\n\u001b[1;32m    436\u001b[0m     \"\"\"\n\u001b[1;32m    437\u001b[0m     \u001b[0;32mif\u001b[0m \u001b[0mself\u001b[0m\u001b[0;34m.\u001b[0m\u001b[0m_should_call_train_batch_hooks\u001b[0m\u001b[0;34m:\u001b[0m\u001b[0;34m\u001b[0m\u001b[0;34m\u001b[0m\u001b[0m\n\u001b[0;32m--> 438\u001b[0;31m       \u001b[0mself\u001b[0m\u001b[0;34m.\u001b[0m\u001b[0m_call_batch_hook\u001b[0m\u001b[0;34m(\u001b[0m\u001b[0mModeKeys\u001b[0m\u001b[0;34m.\u001b[0m\u001b[0mTRAIN\u001b[0m\u001b[0;34m,\u001b[0m \u001b[0;34m'end'\u001b[0m\u001b[0;34m,\u001b[0m \u001b[0mbatch\u001b[0m\u001b[0;34m,\u001b[0m \u001b[0mlogs\u001b[0m\u001b[0;34m=\u001b[0m\u001b[0mlogs\u001b[0m\u001b[0;34m)\u001b[0m\u001b[0;34m\u001b[0m\u001b[0;34m\u001b[0m\u001b[0m\n\u001b[0m\u001b[1;32m    439\u001b[0m \u001b[0;34m\u001b[0m\u001b[0m\n\u001b[1;32m    440\u001b[0m   \u001b[0;32mdef\u001b[0m \u001b[0mon_test_batch_begin\u001b[0m\u001b[0;34m(\u001b[0m\u001b[0mself\u001b[0m\u001b[0;34m,\u001b[0m \u001b[0mbatch\u001b[0m\u001b[0;34m,\u001b[0m \u001b[0mlogs\u001b[0m\u001b[0;34m=\u001b[0m\u001b[0;32mNone\u001b[0m\u001b[0;34m)\u001b[0m\u001b[0;34m:\u001b[0m\u001b[0;34m\u001b[0m\u001b[0;34m\u001b[0m\u001b[0m\n",
            "\u001b[0;32m/usr/local/lib/python3.8/dist-packages/keras/callbacks.py\u001b[0m in \u001b[0;36m_call_batch_hook\u001b[0;34m(self, mode, hook, batch, logs)\u001b[0m\n\u001b[1;32m    295\u001b[0m       \u001b[0mself\u001b[0m\u001b[0;34m.\u001b[0m\u001b[0m_call_batch_begin_hook\u001b[0m\u001b[0;34m(\u001b[0m\u001b[0mmode\u001b[0m\u001b[0;34m,\u001b[0m \u001b[0mbatch\u001b[0m\u001b[0;34m,\u001b[0m \u001b[0mlogs\u001b[0m\u001b[0;34m)\u001b[0m\u001b[0;34m\u001b[0m\u001b[0;34m\u001b[0m\u001b[0m\n\u001b[1;32m    296\u001b[0m     \u001b[0;32melif\u001b[0m \u001b[0mhook\u001b[0m \u001b[0;34m==\u001b[0m \u001b[0;34m'end'\u001b[0m\u001b[0;34m:\u001b[0m\u001b[0;34m\u001b[0m\u001b[0;34m\u001b[0m\u001b[0m\n\u001b[0;32m--> 297\u001b[0;31m       \u001b[0mself\u001b[0m\u001b[0;34m.\u001b[0m\u001b[0m_call_batch_end_hook\u001b[0m\u001b[0;34m(\u001b[0m\u001b[0mmode\u001b[0m\u001b[0;34m,\u001b[0m \u001b[0mbatch\u001b[0m\u001b[0;34m,\u001b[0m \u001b[0mlogs\u001b[0m\u001b[0;34m)\u001b[0m\u001b[0;34m\u001b[0m\u001b[0;34m\u001b[0m\u001b[0m\n\u001b[0m\u001b[1;32m    298\u001b[0m     \u001b[0;32melse\u001b[0m\u001b[0;34m:\u001b[0m\u001b[0;34m\u001b[0m\u001b[0;34m\u001b[0m\u001b[0m\n\u001b[1;32m    299\u001b[0m       raise ValueError(\n",
            "\u001b[0;32m/usr/local/lib/python3.8/dist-packages/keras/callbacks.py\u001b[0m in \u001b[0;36m_call_batch_end_hook\u001b[0;34m(self, mode, batch, logs)\u001b[0m\n\u001b[1;32m    316\u001b[0m       \u001b[0mself\u001b[0m\u001b[0;34m.\u001b[0m\u001b[0m_batch_times\u001b[0m\u001b[0;34m.\u001b[0m\u001b[0mappend\u001b[0m\u001b[0;34m(\u001b[0m\u001b[0mbatch_time\u001b[0m\u001b[0;34m)\u001b[0m\u001b[0;34m\u001b[0m\u001b[0;34m\u001b[0m\u001b[0m\n\u001b[1;32m    317\u001b[0m \u001b[0;34m\u001b[0m\u001b[0m\n\u001b[0;32m--> 318\u001b[0;31m     \u001b[0mself\u001b[0m\u001b[0;34m.\u001b[0m\u001b[0m_call_batch_hook_helper\u001b[0m\u001b[0;34m(\u001b[0m\u001b[0mhook_name\u001b[0m\u001b[0;34m,\u001b[0m \u001b[0mbatch\u001b[0m\u001b[0;34m,\u001b[0m \u001b[0mlogs\u001b[0m\u001b[0;34m)\u001b[0m\u001b[0;34m\u001b[0m\u001b[0;34m\u001b[0m\u001b[0m\n\u001b[0m\u001b[1;32m    319\u001b[0m \u001b[0;34m\u001b[0m\u001b[0m\n\u001b[1;32m    320\u001b[0m     \u001b[0;32mif\u001b[0m \u001b[0mlen\u001b[0m\u001b[0;34m(\u001b[0m\u001b[0mself\u001b[0m\u001b[0;34m.\u001b[0m\u001b[0m_batch_times\u001b[0m\u001b[0;34m)\u001b[0m \u001b[0;34m>=\u001b[0m \u001b[0mself\u001b[0m\u001b[0;34m.\u001b[0m\u001b[0m_num_batches_for_timing_check\u001b[0m\u001b[0;34m:\u001b[0m\u001b[0;34m\u001b[0m\u001b[0;34m\u001b[0m\u001b[0m\n",
            "\u001b[0;32m/usr/local/lib/python3.8/dist-packages/keras/callbacks.py\u001b[0m in \u001b[0;36m_call_batch_hook_helper\u001b[0;34m(self, hook_name, batch, logs)\u001b[0m\n\u001b[1;32m    354\u001b[0m     \u001b[0;32mfor\u001b[0m \u001b[0mcallback\u001b[0m \u001b[0;32min\u001b[0m \u001b[0mself\u001b[0m\u001b[0;34m.\u001b[0m\u001b[0mcallbacks\u001b[0m\u001b[0;34m:\u001b[0m\u001b[0;34m\u001b[0m\u001b[0;34m\u001b[0m\u001b[0m\n\u001b[1;32m    355\u001b[0m       \u001b[0mhook\u001b[0m \u001b[0;34m=\u001b[0m \u001b[0mgetattr\u001b[0m\u001b[0;34m(\u001b[0m\u001b[0mcallback\u001b[0m\u001b[0;34m,\u001b[0m \u001b[0mhook_name\u001b[0m\u001b[0;34m)\u001b[0m\u001b[0;34m\u001b[0m\u001b[0;34m\u001b[0m\u001b[0m\n\u001b[0;32m--> 356\u001b[0;31m       \u001b[0mhook\u001b[0m\u001b[0;34m(\u001b[0m\u001b[0mbatch\u001b[0m\u001b[0;34m,\u001b[0m \u001b[0mlogs\u001b[0m\u001b[0;34m)\u001b[0m\u001b[0;34m\u001b[0m\u001b[0;34m\u001b[0m\u001b[0m\n\u001b[0m\u001b[1;32m    357\u001b[0m \u001b[0;34m\u001b[0m\u001b[0m\n\u001b[1;32m    358\u001b[0m     \u001b[0;32mif\u001b[0m \u001b[0mself\u001b[0m\u001b[0;34m.\u001b[0m\u001b[0m_check_timing\u001b[0m\u001b[0;34m:\u001b[0m\u001b[0;34m\u001b[0m\u001b[0;34m\u001b[0m\u001b[0m\n",
            "\u001b[0;32m/usr/local/lib/python3.8/dist-packages/keras/callbacks.py\u001b[0m in \u001b[0;36mon_train_batch_end\u001b[0;34m(self, batch, logs)\u001b[0m\n\u001b[1;32m   1032\u001b[0m \u001b[0;34m\u001b[0m\u001b[0m\n\u001b[1;32m   1033\u001b[0m   \u001b[0;32mdef\u001b[0m \u001b[0mon_train_batch_end\u001b[0m\u001b[0;34m(\u001b[0m\u001b[0mself\u001b[0m\u001b[0;34m,\u001b[0m \u001b[0mbatch\u001b[0m\u001b[0;34m,\u001b[0m \u001b[0mlogs\u001b[0m\u001b[0;34m=\u001b[0m\u001b[0;32mNone\u001b[0m\u001b[0;34m)\u001b[0m\u001b[0;34m:\u001b[0m\u001b[0;34m\u001b[0m\u001b[0;34m\u001b[0m\u001b[0m\n\u001b[0;32m-> 1034\u001b[0;31m     \u001b[0mself\u001b[0m\u001b[0;34m.\u001b[0m\u001b[0m_batch_update_progbar\u001b[0m\u001b[0;34m(\u001b[0m\u001b[0mbatch\u001b[0m\u001b[0;34m,\u001b[0m \u001b[0mlogs\u001b[0m\u001b[0;34m)\u001b[0m\u001b[0;34m\u001b[0m\u001b[0;34m\u001b[0m\u001b[0m\n\u001b[0m\u001b[1;32m   1035\u001b[0m \u001b[0;34m\u001b[0m\u001b[0m\n\u001b[1;32m   1036\u001b[0m   \u001b[0;32mdef\u001b[0m \u001b[0mon_test_batch_end\u001b[0m\u001b[0;34m(\u001b[0m\u001b[0mself\u001b[0m\u001b[0;34m,\u001b[0m \u001b[0mbatch\u001b[0m\u001b[0;34m,\u001b[0m \u001b[0mlogs\u001b[0m\u001b[0;34m=\u001b[0m\u001b[0;32mNone\u001b[0m\u001b[0;34m)\u001b[0m\u001b[0;34m:\u001b[0m\u001b[0;34m\u001b[0m\u001b[0;34m\u001b[0m\u001b[0m\n",
            "\u001b[0;32m/usr/local/lib/python3.8/dist-packages/keras/callbacks.py\u001b[0m in \u001b[0;36m_batch_update_progbar\u001b[0;34m(self, batch, logs)\u001b[0m\n\u001b[1;32m   1090\u001b[0m     \u001b[0;34m\"\"\"Updates the progbar.\"\"\"\u001b[0m\u001b[0;34m\u001b[0m\u001b[0;34m\u001b[0m\u001b[0m\n\u001b[1;32m   1091\u001b[0m     \u001b[0mlogs\u001b[0m \u001b[0;34m=\u001b[0m \u001b[0mlogs\u001b[0m \u001b[0;32mor\u001b[0m \u001b[0;34m{\u001b[0m\u001b[0;34m}\u001b[0m\u001b[0;34m\u001b[0m\u001b[0;34m\u001b[0m\u001b[0m\n\u001b[0;32m-> 1092\u001b[0;31m     \u001b[0mself\u001b[0m\u001b[0;34m.\u001b[0m\u001b[0m_maybe_init_progbar\u001b[0m\u001b[0;34m(\u001b[0m\u001b[0;34m)\u001b[0m\u001b[0;34m\u001b[0m\u001b[0;34m\u001b[0m\u001b[0m\n\u001b[0m\u001b[1;32m   1093\u001b[0m     \u001b[0;32mif\u001b[0m \u001b[0mself\u001b[0m\u001b[0;34m.\u001b[0m\u001b[0muse_steps\u001b[0m\u001b[0;34m:\u001b[0m\u001b[0;34m\u001b[0m\u001b[0;34m\u001b[0m\u001b[0m\n\u001b[1;32m   1094\u001b[0m       \u001b[0mself\u001b[0m\u001b[0;34m.\u001b[0m\u001b[0mseen\u001b[0m \u001b[0;34m=\u001b[0m \u001b[0mbatch\u001b[0m \u001b[0;34m+\u001b[0m \u001b[0;36m1\u001b[0m  \u001b[0;31m# One-indexed.\u001b[0m\u001b[0;34m\u001b[0m\u001b[0;34m\u001b[0m\u001b[0m\n",
            "\u001b[0;32m/usr/local/lib/python3.8/dist-packages/keras/callbacks.py\u001b[0m in \u001b[0;36m_maybe_init_progbar\u001b[0;34m(self)\u001b[0m\n\u001b[1;32m   1067\u001b[0m       \u001b[0;31m# step.\u001b[0m\u001b[0;34m\u001b[0m\u001b[0;34m\u001b[0m\u001b[0;34m\u001b[0m\u001b[0m\n\u001b[1;32m   1068\u001b[0m       self.stateful_metrics = self.stateful_metrics.union(\n\u001b[0;32m-> 1069\u001b[0;31m           set(m.name for m in self.model.metrics))\n\u001b[0m\u001b[1;32m   1070\u001b[0m \u001b[0;34m\u001b[0m\u001b[0m\n\u001b[1;32m   1071\u001b[0m     \u001b[0;32mif\u001b[0m \u001b[0mself\u001b[0m\u001b[0;34m.\u001b[0m\u001b[0mprogbar\u001b[0m \u001b[0;32mis\u001b[0m \u001b[0;32mNone\u001b[0m\u001b[0;34m:\u001b[0m\u001b[0;34m\u001b[0m\u001b[0;34m\u001b[0m\u001b[0m\n",
            "\u001b[0;32m/usr/local/lib/python3.8/dist-packages/keras/engine/training.py\u001b[0m in \u001b[0;36mmetrics\u001b[0;34m(self)\u001b[0m\n\u001b[1;32m    743\u001b[0m         \u001b[0mmetrics\u001b[0m \u001b[0;34m+=\u001b[0m \u001b[0mself\u001b[0m\u001b[0;34m.\u001b[0m\u001b[0mcompiled_metrics\u001b[0m\u001b[0;34m.\u001b[0m\u001b[0mmetrics\u001b[0m\u001b[0;34m\u001b[0m\u001b[0;34m\u001b[0m\u001b[0m\n\u001b[1;32m    744\u001b[0m \u001b[0;34m\u001b[0m\u001b[0m\n\u001b[0;32m--> 745\u001b[0;31m     \u001b[0;32mfor\u001b[0m \u001b[0ml\u001b[0m \u001b[0;32min\u001b[0m \u001b[0mself\u001b[0m\u001b[0;34m.\u001b[0m\u001b[0m_flatten_layers\u001b[0m\u001b[0;34m(\u001b[0m\u001b[0;34m)\u001b[0m\u001b[0;34m:\u001b[0m\u001b[0;34m\u001b[0m\u001b[0;34m\u001b[0m\u001b[0m\n\u001b[0m\u001b[1;32m    746\u001b[0m       \u001b[0mmetrics\u001b[0m\u001b[0;34m.\u001b[0m\u001b[0mextend\u001b[0m\u001b[0;34m(\u001b[0m\u001b[0ml\u001b[0m\u001b[0;34m.\u001b[0m\u001b[0m_metrics\u001b[0m\u001b[0;34m)\u001b[0m  \u001b[0;31m# pylint: disable=protected-access\u001b[0m\u001b[0;34m\u001b[0m\u001b[0;34m\u001b[0m\u001b[0m\n\u001b[1;32m    747\u001b[0m     \u001b[0;32mreturn\u001b[0m \u001b[0mmetrics\u001b[0m\u001b[0;34m\u001b[0m\u001b[0;34m\u001b[0m\u001b[0m\n",
            "\u001b[0;32m/usr/local/lib/python3.8/dist-packages/keras/engine/base_layer.py\u001b[0m in \u001b[0;36m_flatten_layers\u001b[0;34m(self, recursive, include_self)\u001b[0m\n\u001b[1;32m   2942\u001b[0m \u001b[0;34m\u001b[0m\u001b[0m\n\u001b[1;32m   2943\u001b[0m   \u001b[0;32mdef\u001b[0m \u001b[0m_flatten_layers\u001b[0m\u001b[0;34m(\u001b[0m\u001b[0mself\u001b[0m\u001b[0;34m,\u001b[0m \u001b[0mrecursive\u001b[0m\u001b[0;34m=\u001b[0m\u001b[0;32mTrue\u001b[0m\u001b[0;34m,\u001b[0m \u001b[0minclude_self\u001b[0m\u001b[0;34m=\u001b[0m\u001b[0;32mTrue\u001b[0m\u001b[0;34m)\u001b[0m\u001b[0;34m:\u001b[0m\u001b[0;34m\u001b[0m\u001b[0;34m\u001b[0m\u001b[0m\n\u001b[0;32m-> 2944\u001b[0;31m     for m in self._flatten_modules(\n\u001b[0m\u001b[1;32m   2945\u001b[0m         recursive=recursive, include_self=include_self):\n\u001b[1;32m   2946\u001b[0m       \u001b[0;32mif\u001b[0m \u001b[0misinstance\u001b[0m\u001b[0;34m(\u001b[0m\u001b[0mm\u001b[0m\u001b[0;34m,\u001b[0m \u001b[0mLayer\u001b[0m\u001b[0;34m)\u001b[0m\u001b[0;34m:\u001b[0m\u001b[0;34m\u001b[0m\u001b[0;34m\u001b[0m\u001b[0m\n",
            "\u001b[0;32m/usr/local/lib/python3.8/dist-packages/keras/engine/base_layer.py\u001b[0m in \u001b[0;36m_flatten_modules\u001b[0;34m(self, recursive, include_self)\u001b[0m\n\u001b[1;32m   2966\u001b[0m       \u001b[0mdeque\u001b[0m \u001b[0;34m=\u001b[0m \u001b[0mcollections\u001b[0m\u001b[0;34m.\u001b[0m\u001b[0mdeque\u001b[0m\u001b[0;34m(\u001b[0m\u001b[0mtrackables\u001b[0m\u001b[0;34m)\u001b[0m\u001b[0;34m\u001b[0m\u001b[0;34m\u001b[0m\u001b[0m\n\u001b[1;32m   2967\u001b[0m       \u001b[0;32mwhile\u001b[0m \u001b[0mdeque\u001b[0m\u001b[0;34m:\u001b[0m\u001b[0;34m\u001b[0m\u001b[0;34m\u001b[0m\u001b[0m\n\u001b[0;32m-> 2968\u001b[0;31m         \u001b[0mtrackable_obj\u001b[0m \u001b[0;34m=\u001b[0m \u001b[0mdeque\u001b[0m\u001b[0;34m.\u001b[0m\u001b[0mpopleft\u001b[0m\u001b[0;34m(\u001b[0m\u001b[0;34m)\u001b[0m\u001b[0;34m\u001b[0m\u001b[0;34m\u001b[0m\u001b[0m\n\u001b[0m\u001b[1;32m   2969\u001b[0m         \u001b[0mtrackable_id\u001b[0m \u001b[0;34m=\u001b[0m \u001b[0mid\u001b[0m\u001b[0;34m(\u001b[0m\u001b[0mtrackable_obj\u001b[0m\u001b[0;34m)\u001b[0m\u001b[0;34m\u001b[0m\u001b[0;34m\u001b[0m\u001b[0m\n\u001b[1;32m   2970\u001b[0m         \u001b[0;32mif\u001b[0m \u001b[0mtrackable_id\u001b[0m \u001b[0;32min\u001b[0m \u001b[0mseen_object_ids\u001b[0m\u001b[0;34m:\u001b[0m\u001b[0;34m\u001b[0m\u001b[0;34m\u001b[0m\u001b[0m\n",
            "\u001b[0;31mKeyboardInterrupt\u001b[0m: "
          ]
        }
      ],
      "source": [
        "history_xcept_1_aug = full_model.fit(normalized_train_ds_xc_aug_adam, \n",
        "                    epochs=10, \n",
        "                    validation_data=normalized_val_ds_xc) "
      ]
    },
    {
      "cell_type": "markdown",
      "metadata": {
        "id": "gocVo_B-7QmK"
      },
      "source": [
        "### Densenets (w/Random undersampling)"
      ]
    },
    {
      "cell_type": "code",
      "execution_count": 93,
      "metadata": {
        "id": "asOaUnWJ4fLB"
      },
      "outputs": [],
      "source": [
        "desnet_preproc_layer = tf.keras.applications.densenet.preprocess_input\n",
        "desnet_train_ds = train_ds_prefetch.map(lambda x, y: (desnet_preproc_layer(x), y))\n",
        "desnet_val_ds =val_ds_prefetch.map(lambda x, y: (desnet_preproc_layer(x), y))\n",
        "desnet_test_ds = test_ds_prefetch.map(lambda x, y: (desnet_preproc_layer(x), y))"
      ]
    },
    {
      "cell_type": "code",
      "execution_count": 94,
      "metadata": {
        "id": "8i3-eeT_4fLB"
      },
      "outputs": [],
      "source": [
        "normalization_layer = layers.Rescaling(1./224, offset=-1)\n",
        "normalized_train_ds_des = desnet_train_ds.map(lambda x, y: (normalization_layer(x), y))\n",
        "normalized_val_ds_des =desnet_val_ds.map(lambda x, y: (normalization_layer(x), y))\n",
        "normalized_test_ds_des = desnet_test_ds.map(lambda x, y: (normalization_layer(x), y))"
      ]
    },
    {
      "cell_type": "code",
      "execution_count": 95,
      "metadata": {
        "colab": {
          "base_uri": "https://localhost:8080/"
        },
        "id": "61r-LQCA4fLB",
        "outputId": "0a487b22-4bf6-4141-ce7b-53252f32d2f8"
      },
      "outputs": [
        {
          "name": "stdout",
          "output_type": "stream",
          "text": [
            "Downloading data from https://storage.googleapis.com/tensorflow/keras-applications/densenet/densenet121_weights_tf_dim_ordering_tf_kernels_notop.h5\n",
            "29084464/29084464 [==============================] - 0s 0us/step\n"
          ]
        }
      ],
      "source": [
        "densenet_model= tf.keras.applications.DenseNet121(\n",
        "    include_top=False,\n",
        "    weights=\"imagenet\",\n",
        "    input_shape=(224,224,3))\n",
        "\n",
        "for layer in densenet_model.layers: \n",
        "    layer.trainable = False"
      ]
    },
    {
      "cell_type": "code",
      "execution_count": 96,
      "metadata": {
        "id": "W4Y0ld4y4fLC"
      },
      "outputs": [],
      "source": [
        "full_model = Sequential()\n",
        "full_model.add(densenet_model)\n",
        "full_model.add(Flatten())\n",
        "full_model.add(Dense(1,activation='sigmoid'))"
      ]
    },
    {
      "cell_type": "code",
      "execution_count": null,
      "metadata": {
        "colab": {
          "base_uri": "https://localhost:8080/"
        },
        "id": "K04pejJ94fLC",
        "outputId": "cdca6cbb-d061-4e6b-80e1-6a66462f6dbd"
      },
      "outputs": [
        {
          "name": "stdout",
          "output_type": "stream",
          "text": [
            "Model: \"sequential\"\n",
            "_________________________________________________________________\n",
            " Layer (type)                Output Shape              Param #   \n",
            "=================================================================\n",
            " densenet121 (Functional)    (None, 7, 7, 1024)        7037504   \n",
            "                                                                 \n",
            " flatten (Flatten)           (None, 50176)             0         \n",
            "                                                                 \n",
            " dense (Dense)               (None, 1)                 50177     \n",
            "                                                                 \n",
            "=================================================================\n",
            "Total params: 7,087,681\n",
            "Trainable params: 50,177\n",
            "Non-trainable params: 7,037,504\n",
            "_________________________________________________________________\n"
          ]
        }
      ],
      "source": [
        "full_model.summary()"
      ]
    },
    {
      "cell_type": "code",
      "execution_count": 97,
      "metadata": {
        "id": "HYmayOeM4fLC"
      },
      "outputs": [],
      "source": [
        "full_model.compile(optimizer='Adam', loss='binary_crossentropy', metrics = [keras.metrics.BinaryAccuracy(),keras.metrics.Recall(), keras.metrics.Precision()])"
      ]
    },
    {
      "cell_type": "code",
      "execution_count": 98,
      "metadata": {
        "id": "4aBFmAMZ4fLC"
      },
      "outputs": [],
      "source": [
        "data_augmentation_v2 = keras.Sequential(\n",
        "    [keras.layers.RandomFlip(\"horizontal_and_vertical\"), keras.layers.RandomRotation(0.2), keras.layers.RandomContrast(0.2)]\n",
        ")"
      ]
    },
    {
      "cell_type": "code",
      "execution_count": 101,
      "metadata": {
        "id": "UldbUoR74fLC"
      },
      "outputs": [],
      "source": [
        "desnet_train_ds_aug_v2 = train_ds_prefetch.map(lambda x, y: (data_augmentation_v2(x), y))\n"
      ]
    },
    {
      "cell_type": "code",
      "execution_count": 102,
      "metadata": {
        "id": "uA7qe7Lm4fLC"
      },
      "outputs": [],
      "source": [
        "desnet_train_ds_aug_v2 = desnet_train_ds_aug_v2.map(lambda x, y: (desnet_preproc_layer(x), y))\n",
        "normalized_train_ds_des_aug_v2 = desnet_train_ds_aug_v2.map(lambda x, y: (normalization_layer(x), y))"
      ]
    },
    {
      "cell_type": "code",
      "execution_count": 105,
      "metadata": {
        "colab": {
          "base_uri": "https://localhost:8080/"
        },
        "id": "15s8gyof4fLC",
        "outputId": "c0cbea6e-6aaa-433d-8fab-4d2ce196b925"
      },
      "outputs": [
        {
          "name": "stdout",
          "output_type": "stream",
          "text": [
            "Epoch 1/5\n",
            "35/35 [==============================] - 5s 152ms/step - loss: 0.2309 - binary_accuracy: 0.9192 - recall_3: 0.2586 - precision_3: 0.9091 - val_loss: 0.0885 - val_binary_accuracy: 0.9760 - val_recall_3: 0.0000e+00 - val_precision_3: 0.0000e+00\n",
            "Epoch 2/5\n",
            "35/35 [==============================] - 5s 151ms/step - loss: 0.2200 - binary_accuracy: 0.9265 - recall_3: 0.3276 - precision_3: 0.9268 - val_loss: 0.0884 - val_binary_accuracy: 0.9774 - val_recall_3: 0.0667 - val_precision_3: 0.3333\n",
            "Epoch 3/5\n",
            "35/35 [==============================] - 5s 150ms/step - loss: 0.2105 - binary_accuracy: 0.9292 - recall_3: 0.3534 - precision_3: 0.9318 - val_loss: 0.0888 - val_binary_accuracy: 0.9774 - val_recall_3: 0.0667 - val_precision_3: 0.3333\n",
            "Epoch 4/5\n",
            "35/35 [==============================] - 5s 151ms/step - loss: 0.2018 - binary_accuracy: 0.9328 - recall_3: 0.3879 - precision_3: 0.9375 - val_loss: 0.0894 - val_binary_accuracy: 0.9788 - val_recall_3: 0.1333 - val_precision_3: 0.5000\n",
            "Epoch 5/5\n",
            "35/35 [==============================] - 5s 151ms/step - loss: 0.1938 - binary_accuracy: 0.9347 - recall_3: 0.4052 - precision_3: 0.9400 - val_loss: 0.0900 - val_binary_accuracy: 0.9788 - val_recall_3: 0.1333 - val_precision_3: 0.5000\n"
          ]
        }
      ],
      "source": [
        "history_dense_1_augv1 = full_model.fit(normalized_train_ds_des_aug_v2,\n",
        "                    epochs=5, \n",
        "                    validation_data=normalized_val_ds_des) #still not much improvement"
      ]
    }
  ],
  "metadata": {
    "accelerator": "GPU",
    "colab": {
      "collapsed_sections": [
        "pFUK1OoSA7Ah",
        "F1r6PnnCNbzV",
        "3nCD5WumDCxt",
        "cNVNy9ktST_B"
      ],
      "machine_shape": "hm",
      "provenance": [],
      "toc_visible": true
    },
    "gpuClass": "standard",
    "kernelspec": {
      "display_name": "Python 3.8.13 ('classification')",
      "language": "python",
      "name": "python3"
    },
    "language_info": {
      "codemirror_mode": {
        "name": "ipython",
        "version": 3
      },
      "file_extension": ".py",
      "mimetype": "text/x-python",
      "name": "python",
      "nbconvert_exporter": "python",
      "pygments_lexer": "ipython3",
      "version": "3.8.13"
    },
    "vscode": {
      "interpreter": {
        "hash": "b161b1c3207380de6396d2091c7e58ae16163ea816ef25fea719df5fe370bcac"
      }
    }
  },
  "nbformat": 4,
  "nbformat_minor": 0
}
